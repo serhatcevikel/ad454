{
 "cells": [
  {
   "cell_type": "code",
   "execution_count": null,
   "id": "68a6b76f-3e2c-4e88-a669-9e48db181ae6",
   "metadata": {},
   "outputs": [],
   "source": [
    "library(tidyverse)\n",
    "library(data.table)\n",
    "library(plotly) # for interactive ploting\n",
    "library(DT) # for interactive tabulation\n",
    "library(broom) # for tidy statistical summaries\n",
    "library(caret) # for regression performance measures\n",
    "library(magrittr)"
   ]
  },
  {
   "cell_type": "code",
   "execution_count": null,
   "id": "39504752-9d43-4354-b1d8-246679891228",
   "metadata": {},
   "outputs": [],
   "source": [
    "options(repr.matrix.max.rows=20, repr.matrix.max.cols=15) # for limiting the number of top and bottom rows of tables printed "
   ]
  },
  {
   "cell_type": "code",
   "execution_count": null,
   "id": "b88914fd-5fb0-430f-bf80-0dc5ab6ee6bd",
   "metadata": {},
   "outputs": [],
   "source": [
    "datapath <- \"~/data_ad454\""
   ]
  },
  {
   "cell_type": "markdown",
   "id": "9ff714f6-ad23-4ffa-a20d-6e492ed55900",
   "metadata": {},
   "source": [
    "# Logistic Regression on IMF WEO Dataset"
   ]
  },
  {
   "cell_type": "markdown",
   "id": "0701bbfb-4eaa-41f5-8858-2b246a295457",
   "metadata": {},
   "source": [
    "Suppose you are a chief economist at a supranational economic agency.\n",
    "The main mission of the agency is to predict economic crises in national economies and advice remedies to prevent or lessen the effects of those crises along with financial support.\n",
    "\"Crisis\" is defined as negative real economic growth.\n",
    "Note that total counts of crises and growths are unbalanced towards growths. So crises are relatively rare. \n",
    "Although crises are relatively rare, the cost of ignoring an upcoming crisis is too high given the mission of the agency (false negatives).\n",
    "And it is not feasible to grant support to too many countries that are predicted to have a crisis but do not have at the end given the limited resources of the agency and given the higher chance of having a growth (false positives)."
   ]
  },
  {
   "cell_type": "markdown",
   "id": "aa04657a-4acf-4d2b-b124-ba20654574a2",
   "metadata": {},
   "source": [
    "## Preliminary data preparation"
   ]
  },
  {
   "cell_type": "markdown",
   "id": "00fd598e-7bf5-4db7-8471-0b66145d62ae",
   "metadata": {},
   "source": [
    "Let's first import the objects for the WEO dataset: "
   ]
  },
  {
   "cell_type": "code",
   "execution_count": null,
   "id": "be0f43d0-e7b9-40af-adfa-0b05486e0e73",
   "metadata": {},
   "outputs": [],
   "source": [
    "# wide data with features in the columns and countries/years in the rows\n",
    "weo_wide2 <- readRDS(sprintf(\"%s/rds/01_01_weo_wide2.rds\", datapath))"
   ]
  },
  {
   "cell_type": "code",
   "execution_count": null,
   "id": "533987d1-7eb6-45db-8e3c-f906abd318f0",
   "metadata": {},
   "outputs": [],
   "source": [
    "weo_countries <- readRDS(sprintf(\"%s/rds/01_01_weo_countries.rds\", datapath))\n",
    "weo_subject <- readRDS(sprintf(\"%s/rds/01_01_weo_subject.rds\", datapath))"
   ]
  },
  {
   "cell_type": "markdown",
   "id": "7aec70e2-8e08-4a45-a35a-5731dd479613",
   "metadata": {},
   "source": [
    "Select some of the variables:"
   ]
  },
  {
   "cell_type": "code",
   "execution_count": null,
   "id": "76dcbf6b-4e0f-45a2-8348-d9f023408c13",
   "metadata": {},
   "outputs": [],
   "source": [
    "vars2 <- c(\"NGDP_RPCH\",\"NID_NGDP\", \"LUR\", \"GGXONLB_NGDP\", \"BCA_NGDPD\")\n",
    "vars <- c(\"ISO\", \"year\", vars2)"
   ]
  },
  {
   "cell_type": "markdown",
   "id": "c3b0f039-b980-41e7-a464-fd9121149779",
   "metadata": {},
   "source": [
    "Now we wrangle the data so that we have only the data for selected years and the data is reshaped so that different years' data for a variable are in separate columns:"
   ]
  },
  {
   "cell_type": "code",
   "execution_count": null,
   "id": "243e4012-3abf-425d-b953-685ef3cfb73b",
   "metadata": {},
   "outputs": [],
   "source": [
    "weo_wide3 <- weo_wide2 %>% filter(year %in% c(2016, 2018, 2019)) %>%\n",
    "select(all_of(vars)) %>%\n",
    "gather(\"key\", \"value\", -ISO, -year) %>%\n",
    "as.data.table %>%\n",
    "filter(key == \"NGDP_RPCH\" | year %in% 2016:2018) %>%\n",
    "dcast(ISO ~ key + year, value.var = \"value\")"
   ]
  },
  {
   "cell_type": "code",
   "execution_count": null,
   "id": "bdb00fbd-4522-4540-b8be-5067f8643b81",
   "metadata": {},
   "outputs": [],
   "source": [
    "weo_wide3"
   ]
  },
  {
   "cell_type": "markdown",
   "id": "51018ece-4cb4-4953-b985-80e7840a7961",
   "metadata": {},
   "source": [
    "See what those selected variables are:"
   ]
  },
  {
   "cell_type": "code",
   "execution_count": null,
   "id": "662f7a1d-2cdf-45c9-8a44-ecb4242a20e8",
   "metadata": {},
   "outputs": [],
   "source": [
    "weo_subject[WEO_Subject_Code %in% vars2]"
   ]
  },
  {
   "cell_type": "markdown",
   "id": "41af7d35-1451-4cfd-af64-eee525d9a141",
   "metadata": {},
   "source": [
    "## Task definition"
   ]
  },
  {
   "cell_type": "markdown",
   "id": "4e58f3aa-293e-432a-b841-6c0c3658f20c",
   "metadata": {},
   "source": [
    "Your task is to devise a logistic regression model to predict crises ahead using past economic data as such:\n",
    "- The independent variables will be calculated as the difference between the 2018 and 2016 values of the selected subjects. So for example for total investment it will be NID_NGDP_2018 - NID_NGDP_2016 columns. You can calculate them separately in subsequent lines inside a pipe or do it at once using the data.table notation. Go for the easiest approach that you can do.\n",
    "- The dependent variable will be calculated from NGDP_RPCH_2019 as a binary column. Crisis (NGDP_RPCH_2019 < 0) is taken as the positive case (just as detection of a disease is billed as \"positive\") with a value of 1.\n",
    "- Omit rows with NA values\n",
    "- Partition the data. You better use an arbitrary seed for reproducibility.\n",
    "- You may try different model specifications (selection of variables, higher degree polinomial terms, discretizations, interaction terms, exclusion of intercept, etc), different cutting points for classes or different ratios for train and test partitions. But you may opt for a simpler model at the end.\n",
    "- You may check the collinearity of the variables included in the model\n",
    "- Compare and interpret the NULL and residual deviances\n",
    "- Calculate and interpret confusion matrices and ROC curves\n",
    "- Positive prediction rate (TP / (TP + FN)) for both the train and the test sets should be no less than 0.8\n",
    "- Negative prediction rate (TN / (TN + FP)) for both the train and the test sets should be no less than 0.5"
   ]
  },
  {
   "cell_type": "markdown",
   "id": "666e66b8-07b0-450a-86dc-42bcecb11210",
   "metadata": {},
   "source": [
    "## Solution"
   ]
  },
  {
   "cell_type": "markdown",
   "id": "8df9ff99-3489-4334-b97a-064bd8d95316",
   "metadata": {},
   "source": [
    "### Data wrangling"
   ]
  },
  {
   "cell_type": "code",
   "execution_count": null,
   "id": "5f6f0687-2e9b-4ce1-9c3c-d5a46c9ca7d7",
   "metadata": {},
   "outputs": [],
   "source": [
    "weo_wide3[, (vars2) := lapply(vars2, function(x) get(paste(x, 2018, sep = \"_\")) - get(paste(x, 2016, sep = \"_\")))]"
   ]
  },
  {
   "cell_type": "code",
   "execution_count": null,
   "id": "6c369128-8962-4647-a0c6-174b58cf4ac3",
   "metadata": {},
   "outputs": [],
   "source": [
    "weo_wide4 <- weo_wide3 %>% select(all_of(c(vars2, \"NGDP_RPCH_2019\"))) %>%\n",
    "mutate(crisis = as.integer(NGDP_RPCH_2019 < 0)) %>%\n",
    "select(-NGDP_RPCH_2019) %>%\n",
    "na.omit"
   ]
  },
  {
   "cell_type": "code",
   "execution_count": null,
   "id": "cb34ebc2-e60c-4935-8b89-391f8621e19c",
   "metadata": {},
   "outputs": [],
   "source": [
    "weo_wide4"
   ]
  },
  {
   "cell_type": "code",
   "execution_count": null,
   "id": "e3a60526-5a79-49e7-8cfd-2a85a741b8d2",
   "metadata": {},
   "outputs": [],
   "source": [
    "cor(weo_wide4)"
   ]
  },
  {
   "cell_type": "markdown",
   "id": "7dc0293c-fb63-4204-99db-7dbdba15041e",
   "metadata": {},
   "source": [
    "BCA_NGDPD (currenc account balance / GDP) is strongly negatively correlated with investment/GDP. We can omit it."
   ]
  },
  {
   "cell_type": "code",
   "execution_count": null,
   "id": "44aaa6fd-ac3f-42cf-8b60-327b8fe6e2da",
   "metadata": {},
   "outputs": [],
   "source": [
    "weo_wide4 %<>% select(-BCA_NGDPD)"
   ]
  },
  {
   "cell_type": "markdown",
   "id": "7dba3810-1f5e-4bba-b578-3039e3296dd6",
   "metadata": {},
   "source": [
    "### Partition the dataset"
   ]
  },
  {
   "cell_type": "markdown",
   "id": "b1ba2f6c-2ee8-407f-bd8e-a3d2b10f382d",
   "metadata": {},
   "source": [
    "We may take 60% as train and 40% as test set: "
   ]
  },
  {
   "cell_type": "code",
   "execution_count": null,
   "id": "76cf9750-adee-4c2e-b150-f89d5363e254",
   "metadata": {},
   "outputs": [],
   "source": [
    "#partition data\n",
    "set.seed(1000)\n",
    "train <- weo_wide4[,sample(.I, .N * 0.6)]"
   ]
  },
  {
   "cell_type": "code",
   "execution_count": null,
   "id": "2d57b5c7-2554-408c-b60b-c476e030891c",
   "metadata": {},
   "outputs": [],
   "source": [
    "weo_train <- weo_wide4[train]\n",
    "weo_test <- weo_wide4[-train]"
   ]
  },
  {
   "cell_type": "markdown",
   "id": "121193e0-f420-4543-9204-e8277680ef3f",
   "metadata": {},
   "source": [
    "### Build and train a model"
   ]
  },
  {
   "cell_type": "markdown",
   "id": "09f807ad-99dd-4685-acd4-ab219aa90b1a",
   "metadata": {},
   "source": [
    "Build a logistic regression model: "
   ]
  },
  {
   "cell_type": "code",
   "execution_count": null,
   "id": "fea6458e-ef5e-469d-b14d-0cc809e40dae",
   "metadata": {},
   "outputs": [],
   "source": [
    "# an alternative model\n",
    "# logit_reg <- glm(crisis ~ . + NGDP_RPCH:. -1, data = weo_train, family = \"binomial\")"
   ]
  },
  {
   "cell_type": "code",
   "execution_count": null,
   "id": "e0d57fa9-1f9a-46bc-bba0-64015cb41abb",
   "metadata": {},
   "outputs": [],
   "source": [
    "logit_reg <- glm(crisis ~ . -1, data = weo_train, family = \"binomial\")"
   ]
  },
  {
   "cell_type": "code",
   "execution_count": null,
   "id": "aaad6bb1-9631-459e-a663-b0b220b69ca8",
   "metadata": {},
   "outputs": [],
   "source": [
    "summary(logit_reg)"
   ]
  },
  {
   "cell_type": "markdown",
   "id": "2cd54642-e0d8-4bbc-ae69-8c808b7dec5c",
   "metadata": {},
   "source": [
    "Residual deviance is much below the null deviance. The model is better than an intercept only model"
   ]
  },
  {
   "cell_type": "markdown",
   "id": "2d5fc6cd-f92a-4bd6-b3b7-175d688e8717",
   "metadata": {},
   "source": [
    "### Get fitted values and create confusion matrix"
   ]
  },
  {
   "cell_type": "code",
   "execution_count": null,
   "id": "ab8c0c28-dba6-48fb-b39e-6fc24b324a80",
   "metadata": {},
   "outputs": [],
   "source": [
    "pred_train <- predict(logit_reg, weo_train, type = \"response\")"
   ]
  },
  {
   "cell_type": "markdown",
   "id": "6089a8b5-531e-44cb-a31b-345627e9ffaf",
   "metadata": {},
   "source": [
    "0.4 is taken as the cutting point:"
   ]
  },
  {
   "cell_type": "code",
   "execution_count": null,
   "id": "69e236e9-883e-46ce-81de-e1cbff67b597",
   "metadata": {},
   "outputs": [],
   "source": [
    "train_class <- as.integer(pred_train > 0.4)"
   ]
  },
  {
   "cell_type": "code",
   "execution_count": null,
   "id": "d60d12a9-3431-4437-9d54-0cd82efcedea",
   "metadata": {},
   "outputs": [],
   "source": [
    "table(actual = weo_train$crisis, fitted = train_class) %>% caret::confusionMatrix(positive = \"1\")"
   ]
  },
  {
   "cell_type": "markdown",
   "id": "04d690fc-4959-4ac1-840e-5a77d5407e50",
   "metadata": {},
   "source": [
    "Positive prediction rate is 0.8, and negative prediction rate is 0.75 > 0.5.\n",
    "The model satisfies are criteria on the train set"
   ]
  },
  {
   "cell_type": "markdown",
   "id": "8c4b82a7-5cd3-43fd-ac38-331822ac7353",
   "metadata": {},
   "source": [
    "### Create ROC and calculate AUC"
   ]
  },
  {
   "cell_type": "code",
   "execution_count": null,
   "id": "46879a92-c7a3-45e9-8a23-ec0213f110c7",
   "metadata": {},
   "outputs": [],
   "source": [
    "p1 <- data.table(D = weo_train[,crisis], M = pred_train) %>%\n",
    "ggplot(aes(m = M, d = D)) +\n",
    "    plotROC::geom_roc() +\n",
    "    plotROC::style_roc(theme = theme_grey)\n",
    "\n",
    "plotROC::export_interactive_roc(p1) %>% IRdisplay::display_html()"
   ]
  },
  {
   "cell_type": "code",
   "execution_count": null,
   "id": "cdbf5d38-d92b-4471-869f-b04b91340e45",
   "metadata": {},
   "outputs": [],
   "source": [
    "pROC::auc(weo_train[,crisis], pred_train)"
   ]
  },
  {
   "cell_type": "markdown",
   "id": "33fa080f-d2ce-4a53-a0ff-937243a64d7b",
   "metadata": {},
   "source": [
    "AUC is sufficiently high"
   ]
  },
  {
   "cell_type": "markdown",
   "id": "4caa5756-947e-438a-8495-0ade1de6da66",
   "metadata": {},
   "source": [
    "### Get predictions on test set and create a confusion matrix"
   ]
  },
  {
   "cell_type": "code",
   "execution_count": null,
   "id": "9670b93f-7f5d-40c4-8847-4db5162985d0",
   "metadata": {},
   "outputs": [],
   "source": [
    "pred_test <- predict(logit_reg, weo_test, type = \"response\")"
   ]
  },
  {
   "cell_type": "markdown",
   "id": "47c22040-8492-4914-9753-09e5c05a6f2c",
   "metadata": {},
   "source": [
    "The same cutting point for the test set:"
   ]
  },
  {
   "cell_type": "code",
   "execution_count": null,
   "id": "4077ce24-3afb-4f28-a912-c769de09a923",
   "metadata": {},
   "outputs": [],
   "source": [
    "test_class <- as.integer(pred_test > 0.4)"
   ]
  },
  {
   "cell_type": "code",
   "execution_count": null,
   "id": "c79d5223-f8d5-4f12-b36f-87da08b55484",
   "metadata": {},
   "outputs": [],
   "source": [
    "table(actual = weo_test$crisis, prediction = test_class) %>% caret::confusionMatrix(positive = \"1\")"
   ]
  },
  {
   "cell_type": "markdown",
   "id": "96818f1d-d6dd-4e54-b9db-27e23d96ec30",
   "metadata": {},
   "source": [
    "Positive prediction rate is 0.8.\n",
    "Negative prediction rate is 0.6 > 0.5.\n",
    "The model predicts sufficiently on the test set to fulfill our criteria"
   ]
  },
  {
   "cell_type": "code",
   "execution_count": null,
   "id": "588181d3-862f-464c-b59c-7f2393c7aa3b",
   "metadata": {},
   "outputs": [],
   "source": []
  }
 ],
 "metadata": {
  "kernelspec": {
   "display_name": "R",
   "language": "R",
   "name": "ir"
  },
  "language_info": {
   "codemirror_mode": "r",
   "file_extension": ".r",
   "mimetype": "text/x-r-source",
   "name": "R",
   "pygments_lexer": "r",
   "version": "4.1.0"
  },
  "toc-autonumbering": true
 },
 "nbformat": 4,
 "nbformat_minor": 5
}
