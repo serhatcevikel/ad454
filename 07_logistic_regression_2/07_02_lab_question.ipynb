{
 "cells": [
  {
   "cell_type": "code",
   "execution_count": null,
   "id": "68a6b76f-3e2c-4e88-a669-9e48db181ae6",
   "metadata": {},
   "outputs": [],
   "source": [
    "library(tidyverse)\n",
    "library(data.table)\n",
    "library(plotly) # for interactive ploting\n",
    "library(DT) # for interactive tabulation\n",
    "library(broom) # for tidy statistical summaries\n",
    "library(caret) # for regression performance measures\n",
    "library(magrittr)"
   ]
  },
  {
   "cell_type": "code",
   "execution_count": null,
   "id": "39504752-9d43-4354-b1d8-246679891228",
   "metadata": {},
   "outputs": [],
   "source": [
    "options(repr.matrix.max.rows=20, repr.matrix.max.cols=15) # for limiting the number of top and bottom rows of tables printed "
   ]
  },
  {
   "cell_type": "code",
   "execution_count": null,
   "id": "b88914fd-5fb0-430f-bf80-0dc5ab6ee6bd",
   "metadata": {},
   "outputs": [],
   "source": [
    "datapath <- \"~/data_ad454\""
   ]
  },
  {
   "cell_type": "markdown",
   "id": "9ff714f6-ad23-4ffa-a20d-6e492ed55900",
   "metadata": {},
   "source": [
    "# Logistic Regression on IMF WEO Dataset"
   ]
  },
  {
   "cell_type": "markdown",
   "id": "0701bbfb-4eaa-41f5-8858-2b246a295457",
   "metadata": {},
   "source": [
    "Suppose you are a chief economist at a supranational economic agency.\n",
    "The main mission of the agency is to predict economic crises in national economies and advice remedies to prevent or lessen the effects of those crises along with financial support.\n",
    "\"Crisis\" is defined as negative real economic growth.\n",
    "Note that total counts of crises and growths are unbalanced towards growths. So crises are relatively rare. \n",
    "Although crises are relatively rare, the cost of ignoring an upcoming crisis is too high given the mission of the agency (false negatives).\n",
    "And it is not feasible to grant support to too many countries that are predicted to have a crisis but do not have at the end given the limited resources of the agency and given the higher chance of having a growth (false positives)."
   ]
  },
  {
   "cell_type": "markdown",
   "id": "aa04657a-4acf-4d2b-b124-ba20654574a2",
   "metadata": {},
   "source": [
    "## Preliminary data preparation"
   ]
  },
  {
   "cell_type": "markdown",
   "id": "00fd598e-7bf5-4db7-8471-0b66145d62ae",
   "metadata": {},
   "source": [
    "Let's first import the objects for the WEO dataset: "
   ]
  },
  {
   "cell_type": "code",
   "execution_count": null,
   "id": "be0f43d0-e7b9-40af-adfa-0b05486e0e73",
   "metadata": {},
   "outputs": [],
   "source": [
    "# wide data with features in the columns and countries/years in the rows\n",
    "weo_wide2 <- readRDS(sprintf(\"%s/rds/01_01_weo_wide2.rds\", datapath))"
   ]
  },
  {
   "cell_type": "code",
   "execution_count": null,
   "id": "533987d1-7eb6-45db-8e3c-f906abd318f0",
   "metadata": {},
   "outputs": [],
   "source": [
    "weo_countries <- readRDS(sprintf(\"%s/rds/01_01_weo_countries.rds\", datapath))\n",
    "weo_subject <- readRDS(sprintf(\"%s/rds/01_01_weo_subject.rds\", datapath))"
   ]
  },
  {
   "cell_type": "markdown",
   "id": "7aec70e2-8e08-4a45-a35a-5731dd479613",
   "metadata": {},
   "source": [
    "Select some of the variables:"
   ]
  },
  {
   "cell_type": "code",
   "execution_count": null,
   "id": "76dcbf6b-4e0f-45a2-8348-d9f023408c13",
   "metadata": {},
   "outputs": [],
   "source": [
    "vars2 <- c(\"NGDP_RPCH\",\"NID_NGDP\", \"LUR\", \"GGXONLB_NGDP\", \"BCA_NGDPD\")\n",
    "vars <- c(\"ISO\", \"year\", vars2)"
   ]
  },
  {
   "cell_type": "markdown",
   "id": "c3b0f039-b980-41e7-a464-fd9121149779",
   "metadata": {},
   "source": [
    "Now we wrangle the data so that we have only the data for selected years and the data is reshaped so that different years' data for a variable are in separate columns:"
   ]
  },
  {
   "cell_type": "code",
   "execution_count": null,
   "id": "243e4012-3abf-425d-b953-685ef3cfb73b",
   "metadata": {},
   "outputs": [],
   "source": [
    "weo_wide3 <- weo_wide2 %>% filter(year %in% c(2016, 2018, 2019)) %>%\n",
    "select(all_of(vars)) %>%\n",
    "gather(\"key\", \"value\", -ISO, -year) %>%\n",
    "as.data.table %>%\n",
    "filter(key == \"NGDP_RPCH\" | year %in% 2016:2018) %>%\n",
    "dcast(ISO ~ key + year, value.var = \"value\")"
   ]
  },
  {
   "cell_type": "code",
   "execution_count": null,
   "id": "bdb00fbd-4522-4540-b8be-5067f8643b81",
   "metadata": {},
   "outputs": [],
   "source": [
    "weo_wide3"
   ]
  },
  {
   "cell_type": "markdown",
   "id": "51018ece-4cb4-4953-b985-80e7840a7961",
   "metadata": {},
   "source": [
    "See what those selected variables are:"
   ]
  },
  {
   "cell_type": "code",
   "execution_count": null,
   "id": "662f7a1d-2cdf-45c9-8a44-ecb4242a20e8",
   "metadata": {},
   "outputs": [],
   "source": [
    "weo_subject[WEO_Subject_Code %in% vars2]"
   ]
  },
  {
   "cell_type": "markdown",
   "id": "41af7d35-1451-4cfd-af64-eee525d9a141",
   "metadata": {},
   "source": [
    "## Task definition"
   ]
  },
  {
   "cell_type": "markdown",
   "id": "4e58f3aa-293e-432a-b841-6c0c3658f20c",
   "metadata": {},
   "source": [
    "Your task is to devise a logistic regression model to predict crises ahead using past economic data as such:\n",
    "- The independent variables will be calculated as the difference between the 2018 and 2016 values of the selected subjects. So for example for total investment it will be NID_NGDP_2018 - NID_NGDP_2016 columns. You can calculate them separately in subsequent lines inside a pipe or do it at once using the data.table notation. Go for the easiest approach that you can do.\n",
    "- The dependent variable will be calculated from NGDP_RPCH_2019 as a binary column. Crisis (NGDP_RPCH_2019 < 0) is taken as the positive case (just as detection of a disease is billed as \"positive\") with a value of 1.\n",
    "- Omit rows with NA values\n",
    "- Partition the data. You better use an arbitrary seed for reproducibility.\n",
    "- You may try different model specifications (selection of variables, higher degree polinomial terms, discretizations, interaction terms, exclusion of intercept, etc), different cutting points for classes or different ratios for train and test partitions. But you may opt for a simpler model at the end.\n",
    "- You may check the collinearity of the variables included in the model\n",
    "- Compare and interpret the NULL and residual deviances\n",
    "- Calculate and interpret confusion matrices and ROC curves\n",
    "- Positive prediction rate (TP / (TP + FN)) for both the train and the test sets should be no less than 0.8\n",
    "- Negative prediction rate (TN / (TN + FP)) for both the train and the test sets should be no less than 0.5"
   ]
  },
  {
   "cell_type": "markdown",
   "id": "666e66b8-07b0-450a-86dc-42bcecb11210",
   "metadata": {},
   "source": [
    "## Solution"
   ]
  }
 ],
 "metadata": {
  "kernelspec": {
   "display_name": "R",
   "language": "R",
   "name": "ir"
  },
  "language_info": {
   "codemirror_mode": "r",
   "file_extension": ".r",
   "mimetype": "text/x-r-source",
   "name": "R",
   "pygments_lexer": "r",
   "version": "4.0.5"
  },
  "toc-autonumbering": true
 },
 "nbformat": 4,
 "nbformat_minor": 5
}
