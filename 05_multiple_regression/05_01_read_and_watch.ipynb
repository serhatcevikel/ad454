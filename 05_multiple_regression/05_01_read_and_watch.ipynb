{
 "cells": [
  {
   "cell_type": "markdown",
   "id": "accomplished-monte",
   "metadata": {},
   "source": [
    "# Model formula syntax "
   ]
  },
  {
   "cell_type": "markdown",
   "id": "afraid-quantity",
   "metadata": {},
   "source": [
    "Check the details of formulae language from built-in help:"
   ]
  },
  {
   "cell_type": "code",
   "execution_count": null,
   "id": "proof-auckland",
   "metadata": {},
   "outputs": [],
   "source": [
    "?formula"
   ]
  }
 ],
 "metadata": {
  "kernelspec": {
   "display_name": "R",
   "language": "R",
   "name": "ir"
  },
  "language_info": {
   "codemirror_mode": "r",
   "file_extension": ".r",
   "mimetype": "text/x-r-source",
   "name": "R",
   "pygments_lexer": "r",
   "version": "4.0.5"
  },
  "widgets": {
   "application/vnd.jupyter.widget-state+json": {
    "state": {},
    "version_major": 2,
    "version_minor": 0
   }
  }
 },
 "nbformat": 4,
 "nbformat_minor": 5
}
