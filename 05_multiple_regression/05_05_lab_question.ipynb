{
 "cells": [
  {
   "cell_type": "code",
   "execution_count": null,
   "id": "84ec5d36-b07b-4308-8fde-fa1e35c15d29",
   "metadata": {},
   "outputs": [],
   "source": [
    "library(tidyverse)\n",
    "library(data.table)\n",
    "library(plotly) # for interactive ploting\n",
    "library(DT) # for interactive tabulation\n",
    "library(broom) # for tidy statistical summaries\n",
    "library(caret) # for regression performance measures\n",
    "library(psych) # for pairwise comparisons\n",
    "library(GGally) # for pairwise comparisons\n",
    "library(magrittr) # for two-way pipes\n",
    "library(lindia) # for qqplots"
   ]
  },
  {
   "cell_type": "code",
   "execution_count": null,
   "id": "c20a139d-9020-4968-831d-5786d5462a8b",
   "metadata": {},
   "outputs": [],
   "source": [
    "options(repr.matrix.max.rows=20, repr.matrix.max.cols=15) # for limiting the number of top and bottom rows of tables printed "
   ]
  },
  {
   "cell_type": "code",
   "execution_count": null,
   "id": "1ea9cc7f-c90b-437a-84e1-73acf20e0139",
   "metadata": {},
   "outputs": [],
   "source": [
    "datapath <- \"~/data_ad454\""
   ]
  },
  {
   "cell_type": "markdown",
   "id": "54d30d93-1e1b-468c-be43-e5b6508bcd77",
   "metadata": {},
   "source": [
    "# Estimating covid total cases"
   ]
  },
  {
   "cell_type": "code",
   "execution_count": null,
   "id": "82eec879-e751-42bf-abe6-272ab585380f",
   "metadata": {},
   "outputs": [],
   "source": [
    "covid <- readRDS(sprintf(\"%s/rds/05_01_covid5.rds\", datapath))"
   ]
  },
  {
   "cell_type": "markdown",
   "id": "94966fbc-e2f9-4055-b4ad-bfc4d0b5b1ce",
   "metadata": {},
   "source": [
    "covid dataset is created for this course from different sources:"
   ]
  },
  {
   "cell_type": "code",
   "execution_count": null,
   "id": "7d840a47-d259-4616-bd6c-d8cdae9c81ae",
   "metadata": {
    "tags": []
   },
   "outputs": [],
   "source": [
    "covid %>% str"
   ]
  },
  {
   "cell_type": "code",
   "execution_count": null,
   "id": "b6d07a7b-0fc6-4d4b-8bc8-7f2aab467cb0",
   "metadata": {},
   "outputs": [],
   "source": [
    "covid"
   ]
  },
  {
   "cell_type": "markdown",
   "id": "c9c48976-fcec-43ac-9a74-04744c9d4a8f",
   "metadata": {
    "tags": []
   },
   "source": [
    "The definition of variables are as follows:\n",
    "\n",
    "- max_tc: Cumulative number of cases until April 2020\n",
    "- intl_flights: Total number of international flights that the country recevied between January-April 2020\n",
    "- LP: Total population in million\n",
    "- dom_flights: Total number of domestic flights that the country had between January-April 2020\n",
    "- sq_km: Land area of country in square kilometers\n",
    "- household_size: Size of households in person"
   ]
  },
  {
   "cell_type": "markdown",
   "id": "ad563937-14f6-412b-b6e3-56296866e672",
   "metadata": {},
   "source": [
    "See the number of missing values for each column:"
   ]
  },
  {
   "cell_type": "code",
   "execution_count": null,
   "id": "4784dbf3-0e9d-4356-9dae-e7359135371f",
   "metadata": {
    "tags": []
   },
   "outputs": [],
   "source": [
    "covid[, sapply(.SD, function(x) sum(is.na(x)))]"
   ]
  },
  {
   "cell_type": "markdown",
   "id": "32d556a8-817d-42e5-9b00-3bce6c555ca4",
   "metadata": {},
   "source": [
    "Your tasks are as follows:\n",
    "\n",
    "- Impute the NA values of intl_flights and dom_flights columns with 0, the reason that no values exist for those columns should be the fact that no flights occurred. You may use any method, but I suggest combining mutate_at with either nafill or ifelse and is.na\n",
    "- Exclude household_size column with too many missing values. It is better not to impute that column\n",
    "- Now leave only those rows with no missing values, you may use complete.cases of na.omit. The remaining data should be as follows:\n",
    "\n",
    "<pre>Classes ‘data.table’ and 'data.frame':\t155 obs. of  8 variables:\n",
    " $ iso3c       : chr  \"USA\" \"ESP\" \"ITA\" \"FRA\" ...\n",
    " $ title       : chr  \"USA\" \"Spain\" \"Italy\" \"France\" ...\n",
    " $ max_tc      : int  963379 226629 197675 162220 157495 152840 110130 90481 83909 80949 ...\n",
    " $ intl_flights: int  76790 19752 22432 35146 67399 53362 2168 0 1428 16667 ...\n",
    " $ year        : int  2020 2020 2020 2020 2020 2020 2020 2020 2020 2020 ...\n",
    " $ LP          : num  330 46.5 60.3 65 83.2 ...\n",
    " $ dom_flights : int  1110676 4485 8721 14567 36131 9674 297 0 1780 8485 ...\n",
    " $ sq_km       : num  9831510 505935 301340 549087 357580 ...\n",
    " - attr(*, \".internal.selfref\")=&lt;externalptr&gt; \n",
    "</pre>\n",
    "\n",
    "- It is better that we scale the remaining columns with population:\n",
    "    - Create new columns by dividing max_tc, intl_flights and dom_flights with the LP column for per million population figures\n",
    "    - Create a new column by dividing LP with sq_km column for population density\n",
    "    - Leave only those newly create columns as such:\n",
    "    \n",
    "<pre>Classes ‘data.table’ and 'data.frame':\t155 obs. of  6 variables:\n",
    " $ iso3c          : chr  \"USA\" \"ESP\" \"ITA\" \"FRA\" ...\n",
    " $ title          : chr  \"USA\" \"Spain\" \"Italy\" \"France\" ...\n",
    " $ max_tcpm       : num  2919 4875 3279 2496 1894 ...\n",
    " $ intl_flights_pm: num  233 425 372 541 811 ...\n",
    " $ dom_flights_pm : num  3365.6 96.5 144.7 224.1 434.5 ...\n",
    " $ pop_density    : num  33.6 91.9 200.1 118.4 232.5 ...\n",
    " - attr(*, \".internal.selfref\")=&lt;externalptr&gt; \n",
    "</pre>\n",
    "\n",
    "\n",
    "- Now let's trim extremities, filter only those rows where all numeric columns are within their own 0.05 and 0.95 quantile values. You may use piped filters for each column or you may combine a single filter with if_all, where and is.numeric functions (you may check their help pages). The result should be:\n",
    "\n",
    "<pre>Classes ‘data.table’ and 'data.frame':\t116 obs. of  6 variables:\n",
    " $ iso3c          : chr  \"FRA\" \"GBR\" \"TUR\" \"IRN\" ...\n",
    " $ title          : chr  \"France\" \"UK\" \"Turkey\" \"Iran\" ...\n",
    " $ max_tcpm       : num  2496 2272.5 1308.4 1075.2 59.8 ...\n",
    " $ intl_flights_pm: num  540.77 793.43 25.76 0 1.02 ...\n",
    " $ dom_flights_pm : num  224.13 143.84 3.53 0 1.27 ...\n",
    " $ pop_density    : num  118.4 276.1 107.2 48.2 146.9 ...\n",
    " - attr(*, \".internal.selfref\")=&lt;externalptr&gt; \n",
    "</pre>\n",
    "\n",
    "`covid3 %>% keep(is.numeric) %>% summary`\n",
    "\n",
    "<pre>    max_tcpm        intl_flights_pm   dom_flights_pm      pop_density    \n",
    " Min.   :   1.917   Min.   :   0.00   Min.   :  0.0000   Min.   :  4.16  \n",
    " 1st Qu.:  25.700   1st Qu.:   0.00   1st Qu.:  0.0000   1st Qu.: 40.23  \n",
    " Median :  78.099   Median :   0.00   Median :  0.0000   Median : 74.27  \n",
    " Mean   : 317.184   Mean   : 101.80   Mean   : 13.5795   Mean   : 93.15  \n",
    " 3rd Qu.: 472.339   3rd Qu.:  54.59   3rd Qu.:  0.9095   3rd Qu.:110.64  \n",
    " Max.   :2495.961   Max.   :1554.66   Max.   :286.7446   Max.   :410.92  </pre>\n",
    " \n",
    "- Visualize the cross variable relationships of numeric variables. You may use any of the following functions:\n",
    "    - pairs()\n",
    "    - psych::pairs.panels()\n",
    "    - GGally::ggpairs()\n",
    "\n",
    "    You may adjust plot size with:\n",
    "`options(repr.plot.width = 15, repr.plot.height = 15)`\n",
    "\n",
    "  Are there any independent variables left that are highly correlated with each other? Are there any variables that are highly correlated with dependent variable `max_tcpm`? \n",
    "\n",
    "\n",
    "- Split the data into train and test partitions. Train set should have a ratio of 0.5 - 0.7. You may pick up an arbitrary seed value for reproducibility\n",
    "- Create a linear model to estimate max_tcpm using all other numeric variables on the train set. Assign the model result into an object.\n",
    "- Create the qqplot for the residuals, what can you say about the normality of the residuals?\n",
    "- For train and test sets calculate the fitted values (for the test set, we may call them \"predictions\")\n",
    "- Calculate model fit metrics (R2 and RMSE) for both sets. Compare the fits. What can you say about the model fit for both sets?\n",
    "- Plot residuals (difference between actual and fitted values) vs fitted values for both sets. What are some insights?\n",
    "- Now run a second model using only the independent variable(s) significant at 5% level from the first model and without an intercept (you can impose that with \"-1\" term in the formula e.g. y ~ x - 1). Repeat the steps starting from \"create a linear model ...\" \n",
    "\n",
    "Write your comments in markdown cells."
   ]
  },
  {
   "cell_type": "markdown",
   "id": "6250a40e-715f-4afb-a8a3-9fcbefd09960",
   "metadata": {},
   "source": [
    "# Answer"
   ]
  }
 ],
 "metadata": {
  "kernelspec": {
   "display_name": "R",
   "language": "R",
   "name": "ir"
  },
  "language_info": {
   "codemirror_mode": "r",
   "file_extension": ".r",
   "mimetype": "text/x-r-source",
   "name": "R",
   "pygments_lexer": "r",
   "version": "4.0.5"
  }
 },
 "nbformat": 4,
 "nbformat_minor": 5
}
