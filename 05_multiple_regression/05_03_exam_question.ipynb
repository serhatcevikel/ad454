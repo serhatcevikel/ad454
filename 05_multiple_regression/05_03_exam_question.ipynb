{
 "cells": [
  {
   "cell_type": "code",
   "execution_count": null,
   "id": "84ec5d36-b07b-4308-8fde-fa1e35c15d29",
   "metadata": {},
   "outputs": [],
   "source": [
    "library(tidyverse)\n",
    "library(data.table)\n",
    "library(plotly) # for interactive ploting\n",
    "library(DT) # for interactive tabulation\n",
    "library(broom) # for tidy statistical summaries"
   ]
  },
  {
   "cell_type": "code",
   "execution_count": null,
   "id": "c20a139d-9020-4968-831d-5786d5462a8b",
   "metadata": {},
   "outputs": [],
   "source": [
    "options(repr.matrix.max.rows=20, repr.matrix.max.cols=15) # for limiting the number of top and bottom rows of tables printed "
   ]
  },
  {
   "cell_type": "code",
   "execution_count": null,
   "id": "1ea9cc7f-c90b-437a-84e1-73acf20e0139",
   "metadata": {},
   "outputs": [],
   "source": [
    "datapath <- \"~/data_ad454\""
   ]
  },
  {
   "cell_type": "markdown",
   "id": "54d30d93-1e1b-468c-be43-e5b6508bcd77",
   "metadata": {},
   "source": [
    "# Estimating covid total cases"
   ]
  },
  {
   "cell_type": "code",
   "execution_count": null,
   "id": "82eec879-e751-42bf-abe6-272ab585380f",
   "metadata": {},
   "outputs": [],
   "source": [
    "covid <- readRDS(sprintf(\"%s/rds/05_01_covid4.rds\", datapath))"
   ]
  },
  {
   "cell_type": "markdown",
   "id": "94966fbc-e2f9-4055-b4ad-bfc4d0b5b1ce",
   "metadata": {},
   "source": [
    "covid dataset is created for this course from different sources:"
   ]
  },
  {
   "cell_type": "code",
   "execution_count": null,
   "id": "7d840a47-d259-4616-bd6c-d8cdae9c81ae",
   "metadata": {
    "tags": []
   },
   "outputs": [],
   "source": [
    "covid %>% str"
   ]
  },
  {
   "cell_type": "code",
   "execution_count": null,
   "id": "4649e4ed-c81b-4851-8bdf-d02822733f55",
   "metadata": {},
   "outputs": [],
   "source": [
    "covid %>% filter(max_tc != max(max_tc))"
   ]
  },
  {
   "cell_type": "code",
   "execution_count": null,
   "id": "877807e1-493f-4e83-a580-8ff5a069603d",
   "metadata": {},
   "outputs": [],
   "source": [
    "covid %>% datatable"
   ]
  },
  {
   "cell_type": "markdown",
   "id": "ae822bde-3c1d-4aaa-9fb7-650d7fb32771",
   "metadata": {},
   "source": [
    "- max_tc: Cumulative number of cases until April 2020\n",
    "- intl_flights: Total number of international flights that the country recevied between January-April 2020\n",
    "- LP: Total population\n",
    "- dom_flights: Total number of domestic flights that the country had between January-April 2020\n",
    "- sq_km: Land area of country in square kilometers\n",
    "- household_size: Size of households in person"
   ]
  },
  {
   "cell_type": "markdown",
   "id": "32d556a8-817d-42e5-9b00-3bce6c555ca4",
   "metadata": {},
   "source": [
    "Your tasks are as follows:\n",
    "\n",
    "- Create a linear model to estimate max_tc using all other variables. Assign the model result into an object. Note: You may exclude columns for country identities and year as we do not need them \n",
    "- Is there a relationship between the response and predictors?\n",
    "- Write the regression equation. \n",
    "- What can you say about the significance of the relationship between the response and each predictor? \n",
    "- What can you say about the model fit?\n",
    "- Calculate the fitted values for all observations. \n",
    "- Plot residuals vs fitted values. What are some insights?\n",
    "\n",
    "Write your comments in markdown cells."
   ]
  },
  {
   "cell_type": "markdown",
   "id": "6250a40e-715f-4afb-a8a3-9fcbefd09960",
   "metadata": {},
   "source": [
    "# Answer"
   ]
  }
 ],
 "metadata": {
  "kernelspec": {
   "display_name": "R",
   "language": "R",
   "name": "ir"
  },
  "language_info": {
   "codemirror_mode": "r",
   "file_extension": ".r",
   "mimetype": "text/x-r-source",
   "name": "R",
   "pygments_lexer": "r",
   "version": "4.0.5"
  }
 },
 "nbformat": 4,
 "nbformat_minor": 5
}
