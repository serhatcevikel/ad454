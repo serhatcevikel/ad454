{
 "cells": [
  {
   "cell_type": "code",
   "execution_count": null,
   "id": "84ec5d36-b07b-4308-8fde-fa1e35c15d29",
   "metadata": {},
   "outputs": [],
   "source": [
    "library(tidyverse)\n",
    "library(data.table)\n",
    "library(plotly) # for interactive ploting\n",
    "library(DT) # for interactive tabulation\n",
    "library(broom) # for tidy statistical summaries"
   ]
  },
  {
   "cell_type": "code",
   "execution_count": null,
   "id": "c20a139d-9020-4968-831d-5786d5462a8b",
   "metadata": {},
   "outputs": [],
   "source": [
    "options(repr.matrix.max.rows=20, repr.matrix.max.cols=15) # for limiting the number of top and bottom rows of tables printed "
   ]
  },
  {
   "cell_type": "code",
   "execution_count": null,
   "id": "1ea9cc7f-c90b-437a-84e1-73acf20e0139",
   "metadata": {},
   "outputs": [],
   "source": [
    "datapath <- \"~/data_ad454\""
   ]
  },
  {
   "cell_type": "markdown",
   "id": "54d30d93-1e1b-468c-be43-e5b6508bcd77",
   "metadata": {},
   "source": [
    "# Estimating covid total cases"
   ]
  },
  {
   "cell_type": "code",
   "execution_count": null,
   "id": "82eec879-e751-42bf-abe6-272ab585380f",
   "metadata": {},
   "outputs": [],
   "source": [
    "covid <- readRDS(sprintf(\"%s/rds/05_01_covid4.rds\", datapath))"
   ]
  },
  {
   "cell_type": "markdown",
   "id": "94966fbc-e2f9-4055-b4ad-bfc4d0b5b1ce",
   "metadata": {},
   "source": [
    "covid dataset is created for this course from different sources:"
   ]
  },
  {
   "cell_type": "code",
   "execution_count": null,
   "id": "7d840a47-d259-4616-bd6c-d8cdae9c81ae",
   "metadata": {
    "tags": []
   },
   "outputs": [],
   "source": [
    "covid %>% str"
   ]
  },
  {
   "cell_type": "code",
   "execution_count": null,
   "id": "4649e4ed-c81b-4851-8bdf-d02822733f55",
   "metadata": {},
   "outputs": [],
   "source": [
    "covid %>% filter(max_tc != max(max_tc))"
   ]
  },
  {
   "cell_type": "code",
   "execution_count": null,
   "id": "877807e1-493f-4e83-a580-8ff5a069603d",
   "metadata": {},
   "outputs": [],
   "source": [
    "covid %>% datatable"
   ]
  },
  {
   "cell_type": "markdown",
   "id": "ae822bde-3c1d-4aaa-9fb7-650d7fb32771",
   "metadata": {},
   "source": [
    "- max_tc: Cumulative number of cases until April 2020\n",
    "- intl_flights: Total number of international flights that the country recevied between January-April 2020\n",
    "- LP: Total population\n",
    "- dom_flights: Total number of domestic flights that the country had between January-April 2020\n",
    "- sq_km: Land area of country in square kilometers\n",
    "- household_size: Size of households in person"
   ]
  },
  {
   "cell_type": "markdown",
   "id": "32d556a8-817d-42e5-9b00-3bce6c555ca4",
   "metadata": {},
   "source": [
    "Your tasks are as follows:\n",
    "\n",
    "- Create a linear model to estimate max_tc using all other variables. Assign the model result into an object. Note: You may exclude columns for country identities and year as we do not need them \n",
    "- Is there a relationship between the response and predictors?\n",
    "- Write the regression equation. \n",
    "- What can you say about the significance of the relationship between the response and each predictor? \n",
    "- What can you say about the model fit?\n",
    "- Calculate the fitted values for all observations. \n",
    "- Plot residuals vs fitted values. What are some insights?\n",
    "\n",
    "Write your comments in markdown cells."
   ]
  },
  {
   "cell_type": "markdown",
   "id": "6250a40e-715f-4afb-a8a3-9fcbefd09960",
   "metadata": {},
   "source": [
    "# Answer"
   ]
  },
  {
   "cell_type": "code",
   "execution_count": null,
   "id": "07565c5e-2463-4bff-8b4d-8648b24667b0",
   "metadata": {},
   "outputs": [],
   "source": [
    "covid2 <- covid %>% select(-c(\"iso3c\", \"title\", \"year\"))"
   ]
  },
  {
   "cell_type": "code",
   "execution_count": null,
   "id": "10b2b076-0c0d-4503-9c72-3db4b37de598",
   "metadata": {},
   "outputs": [],
   "source": [
    "model1 <- lm(max_tc ~ ., covid2)"
   ]
  },
  {
   "cell_type": "code",
   "execution_count": null,
   "id": "42945fd8-fb3e-4f9e-9724-82df25d43805",
   "metadata": {},
   "outputs": [],
   "source": [
    "model1 %>% summary\n",
    "\n",
    "model1 %>% tidy %>% filter(p.value < 0.05)"
   ]
  },
  {
   "cell_type": "markdown",
   "id": "1ce1ef74-0392-4d27-8519-c70ddb85e337",
   "metadata": {},
   "source": [
    "- Model is significantly different than intercept only model (F's p value < 0.05)\n",
    "- intl_flights and dom flights are significantly different than 0 at 0.05 level\n",
    "- Model explains 0.9 of the total variance in max_tc"
   ]
  },
  {
   "cell_type": "code",
   "execution_count": null,
   "id": "73c8888a-f8c2-4ba4-a5dc-036b6d01b1e9",
   "metadata": {},
   "outputs": [],
   "source": [
    "predicted <- predict(model1, covid2)"
   ]
  },
  {
   "cell_type": "code",
   "execution_count": null,
   "id": "a7a74820-6db7-4acb-97f5-18e856636dae",
   "metadata": {},
   "outputs": [],
   "source": [
    "data.table(predicted = predicted, residual = covid2$max_tc - predicted) %>%\n",
    "ggplot(aes(x = predicted, y = residual)) +\n",
    "geom_point()"
   ]
  },
  {
   "cell_type": "markdown",
   "id": "2db71d21-f9ee-4648-8bcc-9db61735d766",
   "metadata": {},
   "source": [
    "- Residuals show a pattern across predicted values. The variance is not uniform across. The model specification might be reconsidered.\n",
    "- The outlier value can distort the model. The model can be run after its exclusion"
   ]
  },
  {
   "cell_type": "code",
   "execution_count": null,
   "id": "4879fd8c-ae0e-4bdc-8249-4f7010f4309c",
   "metadata": {},
   "outputs": [],
   "source": []
  }
 ],
 "metadata": {
  "kernelspec": {
   "display_name": "R",
   "language": "R",
   "name": "ir"
  },
  "language_info": {
   "codemirror_mode": "r",
   "file_extension": ".r",
   "mimetype": "text/x-r-source",
   "name": "R",
   "pygments_lexer": "r",
   "version": "4.0.5"
  }
 },
 "nbformat": 4,
 "nbformat_minor": 5
}
