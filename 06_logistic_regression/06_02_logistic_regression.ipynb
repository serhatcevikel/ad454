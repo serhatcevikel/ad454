{
 "cells": [
  {
   "cell_type": "markdown",
   "id": "bbd2a7b1-5412-4328-80e5-ff9ca21f19d5",
   "metadata": {},
   "source": [
    "# LOGISTIC REGRESSION ON BANK LOAN ACCEPTANCE DATA"
   ]
  },
  {
   "cell_type": "markdown",
   "id": "9ad4482e-bba3-4538-b80c-1149354ea9ad",
   "metadata": {},
   "source": [
    "Adapted from Shmueli (2017) Chapter 10"
   ]
  },
  {
   "cell_type": "markdown",
   "id": "030a537e-4202-4aba-92fe-863d2610fd88",
   "metadata": {},
   "source": [
    "Dataset is about acceptance of a personal loan by Universal Bank. The bank’s dataset includes data on 5000 customers.\n",
    "\n",
    "The data include the customer’s response to the last personal loan campaign (Personal Loan), as well as customer demographic information (Age, Income, etc.) and the customer’s relationship with the bank (mortgage, securities account, etc.).\n",
    "\n",
    "Among these 5000 customers, only 480 (= 9.6%) accepted the personal loan offered to them in a previous campaign.\n",
    "\n",
    "The goal is to build a model that identifies customers who are most likely to accept the loan offer in future mailings."
   ]
  },
  {
   "cell_type": "markdown",
   "id": "cd054dee-8c92-436b-94e3-fc6ca42bcf06",
   "metadata": {},
   "source": [
    "## Libraries and dataset"
   ]
  },
  {
   "cell_type": "code",
   "execution_count": null,
   "id": "42623228-f176-4ac6-85e4-36daaf3bef49",
   "metadata": {},
   "outputs": [],
   "source": [
    "library(data.table) # to handle the data in a more convenient manner\n",
    "library(tidyverse) # for a better work flow and more tools to wrangle and visualize the data\n",
    "library(pROC) # for ROC curve\n",
    "library(plotROC) # for pretty plot ROC curve\n",
    "library(IRdisplay) # for displaying interactive ROC curves\n",
    "library(caret) # for lift chart and confusion matrix"
   ]
  },
  {
   "cell_type": "code",
   "execution_count": null,
   "id": "7adc40ca-4cd9-4f06-9d8c-8b63436a31b9",
   "metadata": {},
   "outputs": [],
   "source": [
    "options(repr.matrix.max.rows=20, repr.matrix.max.cols=15) # for limiting the number of top and bottom rows of tables printed "
   ]
  },
  {
   "cell_type": "code",
   "execution_count": null,
   "id": "0d8f3c8b-b29f-4dbb-9b8d-1be4b9ffc365",
   "metadata": {},
   "outputs": [],
   "source": [
    "datapath <- \"~/data_ad454\""
   ]
  },
  {
   "cell_type": "code",
   "execution_count": null,
   "id": "fa29c8f5-3f7d-4ea7-a33a-d0e7f4e0c40c",
   "metadata": {},
   "outputs": [],
   "source": [
    "bank_dt <- fread(sprintf(\"%s/csv/06_01_universalbank.csv\", datapath), stringsAsFactors = T)"
   ]
  },
  {
   "cell_type": "markdown",
   "id": "55e9e346-21d0-4c1b-ba91-b648ce076483",
   "metadata": {},
   "source": [
    "## Explore data"
   ]
  },
  {
   "cell_type": "markdown",
   "id": "192f30ee-5e1e-47a3-9f1b-774f711e29d5",
   "metadata": {},
   "source": [
    "Delete unnecessary variables:"
   ]
  },
  {
   "cell_type": "code",
   "execution_count": null,
   "id": "0adc8df1-4573-4da4-ae9b-008c5649c117",
   "metadata": {},
   "outputs": [],
   "source": [
    "bank_dt[, c(\"ID\", \"ZIP Code\") := NULL] #to drop ID and ZIP code columns"
   ]
  },
  {
   "cell_type": "markdown",
   "id": "a09aaecb-9828-40dc-b9ab-59a68cb5ca07",
   "metadata": {},
   "source": [
    "Convert education to factor:"
   ]
  },
  {
   "cell_type": "code",
   "execution_count": null,
   "id": "3843c192-0894-4081-ace8-289cc9bd8119",
   "metadata": {},
   "outputs": [],
   "source": [
    "bank_dt[, Education := factor(Education,\n",
    "                              levels = 1:3,\n",
    "                              labels = c(\"Undergrad\",\n",
    "                                        \"Graduate\",\n",
    "                                        \"Advanced/Professional\"))]"
   ]
  },
  {
   "cell_type": "markdown",
   "id": "00a9dedc-2c88-4324-8d28-8ac9e9b24079",
   "metadata": {},
   "source": [
    "Get the structure of the data:"
   ]
  },
  {
   "cell_type": "code",
   "execution_count": null,
   "id": "e6c4b118-ce82-4b3b-8f49-7fcee8f6b097",
   "metadata": {},
   "outputs": [],
   "source": [
    "str(bank_dt)"
   ]
  },
  {
   "cell_type": "markdown",
   "id": "3dfe6153-4024-432c-974e-703af668f85a",
   "metadata": {},
   "source": [
    "\"Personal Loan\" will be our dependent variable "
   ]
  },
  {
   "cell_type": "markdown",
   "id": "4043de17-2c62-43a6-8082-e9d3aae48549",
   "metadata": {},
   "source": [
    "View data:"
   ]
  },
  {
   "cell_type": "code",
   "execution_count": null,
   "id": "696054cc-08d8-4a23-bbc0-abce59746e6a",
   "metadata": {},
   "outputs": [],
   "source": [
    "bank_dt"
   ]
  },
  {
   "cell_type": "markdown",
   "id": "004d547d-014f-4b10-bd13-9d5e92922225",
   "metadata": {},
   "source": [
    "Summarize numeric variables:"
   ]
  },
  {
   "cell_type": "code",
   "execution_count": null,
   "id": "f4e2eeaf-498b-4e24-bbbf-4c94c5950287",
   "metadata": {},
   "outputs": [],
   "source": [
    "bank_dt %>% purrr::keep(is.numeric) %>% sapply(quantile) %>% t()"
   ]
  },
  {
   "cell_type": "code",
   "execution_count": null,
   "id": "48aa6839-0b3c-4a30-8cba-7d79a18da316",
   "metadata": {},
   "outputs": [],
   "source": [
    "bank_dt[,Age:Mortgage][,!\"Education\"]"
   ]
  },
  {
   "cell_type": "markdown",
   "id": "95e3479c-5baa-45c2-8954-7679b7b2c743",
   "metadata": {},
   "source": [
    "We see that the last five variables are actually categoric ones that take values of 0 or 1 only\n",
    "\n",
    "But we will keep them as is, since they will be treated as dummy variables in the model"
   ]
  },
  {
   "cell_type": "markdown",
   "id": "974d4286-46e8-4089-9acd-ff01544f41f8",
   "metadata": {},
   "source": [
    "Let's see how numeric variables (other than the binary ones) are distributed:"
   ]
  },
  {
   "cell_type": "code",
   "execution_count": null,
   "id": "bfa24c2a-685c-4217-9b3f-464120a11a6b",
   "metadata": {},
   "outputs": [],
   "source": [
    "bank_dt[,Age:Mortgage][,!\"Education\"] %>% # select columns\n",
    "    tidyr::gather() %>% # reshape into long format in columns \"key\" and \"value\"\n",
    "    ggplot(aes(value)) + # plot value\n",
    "        facet_wrap(~ key, scale = \"free\" ) + # divide into separate plots by key\n",
    "        geom_density(fill = \"green\")  # get density plots"
   ]
  },
  {
   "cell_type": "markdown",
   "id": "1a6c86bb-1886-48b6-a2a3-10ec206ed1a4",
   "metadata": {},
   "source": [
    "Summarize factor variables:"
   ]
  },
  {
   "cell_type": "code",
   "execution_count": null,
   "id": "359e3292-dc43-4bbe-afe1-93ce268f71cd",
   "metadata": {},
   "outputs": [],
   "source": [
    "options(repr.plot.width = 10, repr.plot.height = 10)\n",
    "\n",
    "bank_dt[,Education:CreditCard][,!\"Mortgage\"] %>% # select columns\n",
    "\n",
    "    tidyr::gather() %>% # convert into long format for faceting\n",
    "    ggplot(aes(x = value)) + # plot value\n",
    "    facet_wrap(~ key, scales = \"free\") + # divide into separate plots by key\n",
    "    geom_bar()"
   ]
  },
  {
   "cell_type": "markdown",
   "id": "94e6fc1a-8200-4d11-b49b-541ee66cdf6f",
   "metadata": {},
   "source": [
    "## Partition the dataset"
   ]
  },
  {
   "cell_type": "markdown",
   "id": "71525117-ed15-45d8-bd6c-0945c7ba10d2",
   "metadata": {},
   "source": [
    "We will take 60% as train and 40% as test set: "
   ]
  },
  {
   "cell_type": "code",
   "execution_count": null,
   "id": "dd3d90e5-d928-43ce-9e1a-82cee414a2a1",
   "metadata": {},
   "outputs": [],
   "source": [
    "#partition data\n",
    "set.seed(2)\n",
    "train <- bank_dt[,sample(.I, .N * 0.6)]"
   ]
  },
  {
   "cell_type": "code",
   "execution_count": null,
   "id": "9e2f8a5c-49c2-490e-961d-53c01aefb209",
   "metadata": {},
   "outputs": [],
   "source": [
    "bank_train <- bank_dt[train]\n",
    "bank_test <- bank_dt[-train]"
   ]
  },
  {
   "cell_type": "markdown",
   "id": "1ef06e50-7f5e-4dea-97c6-1ea8af375db1",
   "metadata": {},
   "source": [
    "## Build and train a model"
   ]
  },
  {
   "cell_type": "markdown",
   "id": "1a1648a5-5955-40fa-87af-1020cfeb0aa3",
   "metadata": {},
   "source": [
    "Build a logistic regression model: "
   ]
  },
  {
   "cell_type": "code",
   "execution_count": null,
   "id": "069e2888-8c15-4df3-9be8-9c4d48759e64",
   "metadata": {},
   "outputs": [],
   "source": [
    "logit_reg <- glm(`Personal Loan` ~ ., data = bank_train, family = \"binomial\")"
   ]
  },
  {
   "cell_type": "markdown",
   "id": "160a76f9-1fd5-4b1d-83c3-b77be787d381",
   "metadata": {},
   "source": [
    "## Evaluate the model"
   ]
  },
  {
   "cell_type": "markdown",
   "id": "31d6e16b-67e0-4af7-a438-25a235dd52b1",
   "metadata": {},
   "source": [
    "Summarize the model:"
   ]
  },
  {
   "cell_type": "code",
   "execution_count": null,
   "id": "e6fe2839-cc4e-46ba-83b4-36845e120a76",
   "metadata": {},
   "outputs": [],
   "source": [
    "summary(logit_reg)"
   ]
  },
  {
   "cell_type": "markdown",
   "id": "e60b830a-9316-4824-8760-6a194228bf28",
   "metadata": {},
   "source": [
    "All variables except Age, Experience, Mortgage and \"Securities Account\" are significant at 5%\n",
    "\n",
    "Residual deviance is highly below null deviance, hence the model could explain o good portion of the total variation"
   ]
  },
  {
   "cell_type": "markdown",
   "id": "d7e77936-6491-473b-a017-5cbf7aa0d752",
   "metadata": {},
   "source": [
    "### Deviance residuals"
   ]
  },
  {
   "cell_type": "markdown",
   "id": "c414408c-83c8-434e-9d3a-0e28a2bf4835",
   "metadata": {},
   "source": [
    "Like the residual in a linear regression model, the deviance residuals are a measure of model fit.\n",
    "\n",
    "Smaller absolute values indicate better fit. This part of the output shows minimum, quantiles, and the maximum of the deviance residuals for individual sample examples used to fit the model. The maximum deviance is 4.17, with a very small median value of -0.06."
   ]
  },
  {
   "cell_type": "code",
   "execution_count": null,
   "id": "7ff1a182-f974-4e09-aec5-277387601fc4",
   "metadata": {},
   "outputs": [],
   "source": [
    "summary(logit_reg)$deviance.resid %>% summary()"
   ]
  },
  {
   "cell_type": "markdown",
   "id": "741fa5ef-7106-41d1-97b3-1d5f50ed9bc5",
   "metadata": {},
   "source": [
    "### Estimated coefficients"
   ]
  },
  {
   "cell_type": "code",
   "execution_count": null,
   "id": "a2d2b8a7-8810-4315-86de-0bde09a91bf2",
   "metadata": {},
   "outputs": [],
   "source": [
    "summary(logit_reg)$coefficients"
   ]
  },
  {
   "cell_type": "markdown",
   "id": "519bf03a-527f-4710-858c-f9c609466454",
   "metadata": {},
   "source": [
    "The estimated coefficients are shown in the next part of the output.\n",
    "\n",
    "The estimated values tell us the change in the log odds of the target variable for a one unit increase in a feature variable."
   ]
  },
  {
   "cell_type": "markdown",
   "id": "27ac9e5d-53b5-4d38-81e0-7bcb5af4e0ce",
   "metadata": {},
   "source": [
    "###  Statistical significance of coefficients"
   ]
  },
  {
   "cell_type": "code",
   "execution_count": null,
   "id": "d6e5f7af-5e88-4061-a6f6-b37a1a5e9cac",
   "metadata": {},
   "outputs": [],
   "source": [
    "confint.default(logit_reg)"
   ]
  },
  {
   "cell_type": "markdown",
   "id": "0f61c47b-e360-4399-9d12-0fdde66b9624",
   "metadata": {},
   "source": [
    "For logistic models, R reports the confidence intervals using\n",
    "the profiled log-likelihood function.\n",
    "\n",
    "To see these:"
   ]
  },
  {
   "cell_type": "code",
   "execution_count": null,
   "id": "4f995556-93d5-46e4-a1a0-0bc0c1b35c42",
   "metadata": {},
   "outputs": [],
   "source": [
    "confint(logit_reg)"
   ]
  },
  {
   "cell_type": "markdown",
   "id": "4406628f-7851-4ba6-bf3b-8d77b64a39c6",
   "metadata": {},
   "source": [
    "The variables that straddle 0 (0 is within the margins) are deemed not to be significantly different than zero."
   ]
  },
  {
   "cell_type": "markdown",
   "id": "08364167-7227-4092-b5cc-ef2dc47e22d5",
   "metadata": {},
   "source": [
    "### Null and residual deviance"
   ]
  },
  {
   "cell_type": "markdown",
   "id": "7b21aaa2-089d-458c-92c9-b7f22a477895",
   "metadata": {},
   "source": [
    "The residual deviance is analogous to the residual sum of squares of a linear regression model.\n",
    "\n",
    "Lower values indicate better fit.\n",
    "\n",
    "It takes a value of 690.83.\n",
    "\n",
    "The null deviance reports how well the target variable is predicted by a model that includes only the intercept.\n",
    "\n",
    "We would expect our model to do better than this.\n",
    "\n",
    "In this case it does, as the null deviance = 1915.10.\n",
    "\n",
    "This implies our model has reduced the deviance by to a large extent."
   ]
  },
  {
   "cell_type": "code",
   "execution_count": null,
   "id": "82cf3d02-c459-44aa-adb0-44f8a4d2cba8",
   "metadata": {},
   "outputs": [],
   "source": [
    "logit_reg$deviance\n",
    "logit_reg$null.deviance"
   ]
  },
  {
   "cell_type": "markdown",
   "id": "044a1112-362b-4578-b893-1ccac59b312a",
   "metadata": {},
   "source": [
    "## Model discrimination, ROC, and AUC"
   ]
  },
  {
   "cell_type": "markdown",
   "id": "cc37e01b-360f-4f84-bb5e-90e69c930e26",
   "metadata": {},
   "source": [
    "The discrimination of a model – that is, how well the model separates male from female crabs - can also be assessed using the area under the receiver operating characteristic curve (AUC)\n",
    "\n",
    "It uses two metrics, Specificity and Sensitivity.\n",
    "\n",
    "Specificity is a measure of how often the model predicts “female”(y = 0) when the actual observation is “female crab”"
   ]
  },
  {
   "cell_type": "markdown",
   "id": "557322ba-7f0d-4e2a-b539-11e972d94cfa",
   "metadata": {},
   "source": [
    "$${\\text{Specificity}} = \\frac{\\text{True Negatives}}{{\\text{Total Negatives}}}$$"
   ]
  },
  {
   "cell_type": "markdown",
   "id": "08825b62-6fa3-4450-9d58-2b61c472381c",
   "metadata": {},
   "source": [
    "Sensitivity or true positive rate measures when it’s actually “male”, how often does the model predict “male”\n",
    "\n",
    "$${\\text{Sensitivity}} = \\frac{\\text{True Positives}}{{\\text{Total Positives}}}$$"
   ]
  },
  {
   "cell_type": "markdown",
   "id": "72940c2d-90cb-4068-9df4-a7b6e1fa02d5",
   "metadata": {},
   "source": [
    "Specificity and Sensitivity are often combined via a Receiver Operating Characteristic Curve (ROC).\n",
    "\n",
    "The ROC visually measures how well the predictive model separates the data into positives and negatives"
   ]
  },
  {
   "cell_type": "markdown",
   "id": "ad3b23dd-b4e1-4ddd-a048-35da6bd92405",
   "metadata": {},
   "source": [
    "![ROC](https://www.researchgate.net/publication/8636163/figure/fig2/AS:202684352208899@1425335123086/Four-ROC-curves-with-different-values-of-the-area-under-the-ROC-curve-A-perfect-test-A.png)\n",
    "\n",
    "Four ROC curves with different values of the area under the ROC curve:\n",
    "- A perfect test (A) has an area under the ROC curve of 1.\n",
    "- The chance diagonal (D, the line segment from 0, 0 to 1, 1) has an area under the ROC curve of 0.5.\n",
    "- ROC curves of tests with some ability to distinguish between those subjects with and those without a disease (B, C) lie between these two extremes.\n",
    "- Test B with the higher area under the ROC curve has a better overall diagnostic performance than test C.\n",
    "\n",
    "(https://www.researchgate.net/figure/Four-ROC-curves-with-different-values-of-the-area-under-the-ROC-curve-A-perfect-test-A_fig2_8636163)"
   ]
  },
  {
   "cell_type": "markdown",
   "id": "199fe709-47f4-4212-bf6b-21595838b237",
   "metadata": {},
   "source": [
    "### Evaluate classification performance"
   ]
  },
  {
   "cell_type": "markdown",
   "id": "8b4c09d8-ec95-4637-8d43-af4d4eacdbe0",
   "metadata": {},
   "source": [
    "Get the fitted values for train set:"
   ]
  },
  {
   "cell_type": "code",
   "execution_count": null,
   "id": "a0dddc14-50fd-4ce8-9a5b-cb220dd840f1",
   "metadata": {},
   "outputs": [],
   "source": [
    "pred_train <- predict(logit_reg, bank_train[,!\"Personal Loan\"], type = \"response\")"
   ]
  },
  {
   "cell_type": "markdown",
   "id": "78c96f4a-0388-4126-b4d6-b4b2f3929b87",
   "metadata": {},
   "source": [
    "Convert them to discrete values for labels:"
   ]
  },
  {
   "cell_type": "code",
   "execution_count": null,
   "id": "0accd765-ed07-41d8-8691-4be19fc897bf",
   "metadata": {},
   "outputs": [],
   "source": [
    "train_class <- ifelse(pred_train > 0.5, 1, 0)"
   ]
  },
  {
   "cell_type": "markdown",
   "id": "dedd63a6-eec8-4f7c-8e65-7f60412079e4",
   "metadata": {},
   "source": [
    "#### A detailed look at the confusion matrix:"
   ]
  },
  {
   "cell_type": "markdown",
   "id": "1dfef08f-63fb-4814-9cc7-d0938df17eed",
   "metadata": {},
   "source": [
    "Create a confusion matrix:"
   ]
  },
  {
   "cell_type": "code",
   "execution_count": null,
   "id": "13a48231-11f6-4871-a244-a1c24abb350c",
   "metadata": {},
   "outputs": [],
   "source": [
    "table(bank_train[,`Personal Loan`], train_class) %>% caret::confusionMatrix()"
   ]
  },
  {
   "cell_type": "markdown",
   "id": "5b29ab5e-8769-4121-969a-fe94b6ae2fee",
   "metadata": {},
   "source": [
    "Now let's go into the details of a confusion matrix:\n",
    "\n",
    "![confusion matrix](https://3.bp.blogspot.com/--jLXutUe5Ss/VvPIO6ZH2tI/AAAAAAAACkU/pvVL4L-a70gnFEURcfBbL_R-GnhBR6f1Q/s1600/ConfusionMatrix.png)"
   ]
  },
  {
   "cell_type": "markdown",
   "id": "1afb3a43-c823-4eae-a878-d3a16d8d3cc8",
   "metadata": {},
   "source": [
    "According to Lantz (2015) Chapter 10:\n",
    "\n",
    "- True Positive (TP): Correctly classified as the class of interest\n",
    "- True Negative (TN): Correctly classified as not the class of interest\n",
    "- False Positive (FP): Incorrectly classified as the class of interest\n",
    "- False Negative (FN): Incorrectly classified as not the class of interest\n",
    "\n"
   ]
  },
  {
   "cell_type": "markdown",
   "id": "518ba9f2-0395-4529-9110-0ac2a1eb5cb6",
   "metadata": {},
   "source": [
    "- So accuracy is the sum of true negatives/positives over all cases\n",
    "- Error rate is \"1 - accuracy\"\n",
    "- The sensitivity of a model (also called the true positive rate) measures the proportion of positive examples that were correctly classified. Therefore, it is calculated as the number of true positives divided by the total number of positives, both correctly classified (the true positives) as well as incorrectly classified (the false negatives)\n",
    "- The specificity of a model (also called the true negative rate) measures the proportion of negative examples that were correctly classified. As with sensitivity, this is computed as the number of true negatives, divided by the total number of negatives—the true negatives plus the false positives\n",
    "- The precision (also known as the positive predictive value) is defined as the proportion of positive examples that are truly positive; in other words, when a model predicts the positive class, how often is it correct? A precise model will only predict the positive class in cases that are very likely to be positive. It will be very trustworthy.\n",
    "- On the other hand, recall is a measure of how complete the results are. This is defined as the number of true positives over the total number of positives. You may have already recognized this as the same as sensitivity. However, in this case, the interpretation differs slightly. A model with a high recall captures a large portion of the positive examples, meaning that it has wide breadth. For example, a search engine with a high recall returns a large number of documents pertinent to the search query. Similarly, the SMS spam filter has a high recall if the majority of spam messages are correctly identified."
   ]
  },
  {
   "cell_type": "markdown",
   "id": "6db7f5b8-8965-4a61-aeae-a7d7395d8cab",
   "metadata": {},
   "source": [
    "Now another important metric is the kappa statistic:\n",
    "\n",
    "The kappa statistic (labeled Kappa in the previous output) adjusts accuracy by accounting for the possibility of a correct prediction by chance alone.\n",
    "\n",
    "This is especially important for datasets with a severe class imbalance, because a classifier can obtain high accuracy simply by always guessing the most frequent class.\n",
    "\n",
    "The kappa statistic will only reward the classifier if it is correct more often than this simplistic strategy.\n",
    "\n",
    "Kappa values range from 0 to a maximum of 1, which indicates perfect agreement between the model's predictions and the true values. Values less than one indicate imperfect agreement. Depending on how a model is to be used, the interpretation of the kappa statistic might vary. One common interpretation is shown as follows:\n",
    "- Poor agreement = less than 0.20\n",
    "- Fair agreement = 0.20 to 0.40\n",
    "- Moderate agreement = 0.40 to 0.60\n",
    "- Good agreement = 0.60 to 0.80\n",
    "- Very good agreement = 0.80 to 1.00"
   ]
  },
  {
   "cell_type": "markdown",
   "id": "d02f2498-823e-4a5c-b859-010818360a57",
   "metadata": {},
   "source": [
    "### ROC curve"
   ]
  },
  {
   "cell_type": "markdown",
   "id": "b2064dc9-305c-4402-af82-d5e56bc0e8dc",
   "metadata": {},
   "source": [
    "Now let's draw the ROC curve:"
   ]
  },
  {
   "cell_type": "code",
   "execution_count": null,
   "id": "5481211e-d575-4d9e-95ff-283bd485145c",
   "metadata": {},
   "outputs": [],
   "source": [
    "p1 <- data.table(D = bank_train[,`Personal Loan`], M = pred_train) %>%\n",
    "ggplot(aes(m = M, d = D)) +\n",
    "    plotROC::geom_roc() +\n",
    "    plotROC::style_roc(theme = theme_grey)\n",
    "\n",
    "plotROC::export_interactive_roc(p1) %>% IRdisplay::display_html()"
   ]
  },
  {
   "cell_type": "markdown",
   "id": "cb02610d-b78c-4bee-80ec-d6f31f3ee801",
   "metadata": {},
   "source": [
    "Curve is quite close the a perfect classifier"
   ]
  },
  {
   "cell_type": "markdown",
   "id": "2c65c0c2-e98b-437a-b18b-b7a49ae0cf75",
   "metadata": {},
   "source": [
    "And let's calculate the area under curve (AUC)"
   ]
  },
  {
   "cell_type": "code",
   "execution_count": null,
   "id": "8aff2434-5c32-49e9-a38a-304bdef68c9e",
   "metadata": {},
   "outputs": [],
   "source": [
    "pROC::auc(bank_train[,`Personal Loan`], pred_train)"
   ]
  },
  {
   "cell_type": "markdown",
   "id": "2e24949c-2937-4f70-b329-a40aba89b7b0",
   "metadata": {},
   "source": [
    "AUC near 1 also confirms the accuracy"
   ]
  },
  {
   "cell_type": "markdown",
   "id": "9bc78f3c-bfaa-4acd-9bb4-d802db94732c",
   "metadata": {},
   "source": [
    "## Evaluate prediction performance"
   ]
  },
  {
   "cell_type": "markdown",
   "id": "500373f1-0466-44e1-b5ab-f445c07e7c42",
   "metadata": {},
   "source": [
    "Let's predict the probabilities of test set:"
   ]
  },
  {
   "cell_type": "code",
   "execution_count": null,
   "id": "7fafea01-da69-4ea4-8cde-c71ae639f694",
   "metadata": {},
   "outputs": [],
   "source": [
    "pred_test <- predict(logit_reg, bank_test[,!\"Personal Loan\"], type = \"response\")"
   ]
  },
  {
   "cell_type": "markdown",
   "id": "846a8aae-96f8-42e5-b069-91e3f837fa37",
   "metadata": {},
   "source": [
    "Convert probabilities to classes:"
   ]
  },
  {
   "cell_type": "code",
   "execution_count": null,
   "id": "5cd84e26-7db0-4cd4-b27a-0ad2d4e6c8fb",
   "metadata": {},
   "outputs": [],
   "source": [
    "test_class <- ifelse(pred_test > 0.5, 1, 0)"
   ]
  },
  {
   "cell_type": "markdown",
   "id": "e8ec54a4-109a-4a2c-8707-03107945a459",
   "metadata": {},
   "source": [
    "And create a confusion matrix:"
   ]
  },
  {
   "cell_type": "code",
   "execution_count": null,
   "id": "f185db83-d12b-4660-a689-1cc92868ff56",
   "metadata": {},
   "outputs": [],
   "source": [
    "table(bank_test[,`Personal Loan`], test_class) %>% caret::confusionMatrix()"
   ]
  },
  {
   "cell_type": "markdown",
   "id": "7cdcc08b-7b2c-40e1-befb-6ac11b6f7049",
   "metadata": {},
   "source": [
    "While kappa and accuracy on the test set is slightly lower than the values for the train set, the model still performs good"
   ]
  }
 ],
 "metadata": {
  "kernelspec": {
   "display_name": "R",
   "language": "R",
   "name": "ir"
  },
  "language_info": {
   "codemirror_mode": "r",
   "file_extension": ".r",
   "mimetype": "text/x-r-source",
   "name": "R",
   "pygments_lexer": "r",
   "version": "4.0.5"
  }
 },
 "nbformat": 4,
 "nbformat_minor": 5
}
