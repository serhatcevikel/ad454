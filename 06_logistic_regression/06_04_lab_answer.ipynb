{
 "cells": [
  {
   "cell_type": "code",
   "execution_count": null,
   "id": "5304c10a-5a44-4241-add0-4336a09c72fe",
   "metadata": {},
   "outputs": [],
   "source": [
    "library(tidyverse)\n",
    "library(data.table)\n",
    "library(plotly) # for interactive ploting\n",
    "library(DT) # for interactive tabulation\n",
    "library(broom) # for tidy statistical summaries\n",
    "library(caret) # for regression performance measures\n",
    "library(psych) # for pairwise comparisons\n",
    "library(GGally) # for pairwise comparisons\n",
    "library(magrittr) # for two-way pipes\n",
    "library(lindia) # for qqplots"
   ]
  },
  {
   "cell_type": "code",
   "execution_count": null,
   "id": "a2868568-dd1e-4d40-b384-ae570a235d59",
   "metadata": {},
   "outputs": [],
   "source": [
    "options(repr.matrix.max.rows=20, repr.matrix.max.cols=15) # for limiting the number of top and bottom rows of tables printed "
   ]
  },
  {
   "cell_type": "code",
   "execution_count": null,
   "id": "5ee254aa-56cf-4a38-b99a-3085713bf4bc",
   "metadata": {},
   "outputs": [],
   "source": [
    "datapath <- \"~/data_ad454\""
   ]
  },
  {
   "cell_type": "markdown",
   "id": "33a4e0f6-dc38-4fe9-980d-6462210c3996",
   "metadata": {},
   "source": [
    "# Logistic Regression"
   ]
  },
  {
   "cell_type": "markdown",
   "id": "070410d6-f631-4842-9b07-d176956141e9",
   "metadata": {},
   "source": [
    "We continue with the realty dataset.\n",
    "\n",
    "Remember that, we calculated the premium_neigh variable which is premium of the unit price of the property over the median unit price of the neighborhood.\n",
    "\n",
    "Now we will try to classify the properties into premium and discount"
   ]
  },
  {
   "cell_type": "markdown",
   "id": "9e219cbb-b8f3-46f9-8a4e-66d3cb725324",
   "metadata": {},
   "source": [
    "Let's first import the realty dataset:"
   ]
  },
  {
   "cell_type": "code",
   "execution_count": null,
   "id": "cc530173-645e-4f26-b73b-c367108c672b",
   "metadata": {},
   "outputs": [],
   "source": [
    "realty_data3 <- readRDS(sprintf(\"%s/rds/06_02_realty_data3.rds\", datapath))"
   ]
  },
  {
   "cell_type": "code",
   "execution_count": null,
   "id": "f89dbbff-0c4b-41a1-b74b-8e529f2a34c3",
   "metadata": {},
   "outputs": [],
   "source": [
    "realty_data3"
   ]
  },
  {
   "cell_type": "markdown",
   "id": "54ac7979-6da2-448f-8394-3007ade22cd6",
   "metadata": {},
   "source": [
    "Let's add the binary variable premium, which takes 1 when the premium is above 0, and 0 otherwise"
   ]
  },
  {
   "cell_type": "code",
   "execution_count": null,
   "id": "2e96bf8e-4fbb-47a9-b69a-b1217cdf8dfc",
   "metadata": {},
   "outputs": [],
   "source": [
    "realty_data3[, premium := as.integer(premium_neigh > 0)]"
   ]
  },
  {
   "cell_type": "markdown",
   "id": "f6d9f373-13c4-4b38-9302-03f1408a7317",
   "metadata": {},
   "source": [
    "Let's see the structure:"
   ]
  },
  {
   "cell_type": "code",
   "execution_count": null,
   "id": "2fcd80d6-feb7-4141-b068-e262070557a1",
   "metadata": {},
   "outputs": [],
   "source": [
    "realty_data3 %>% str"
   ]
  },
  {
   "cell_type": "markdown",
   "id": "d34e8a05-c361-43f4-a8c9-09c986b7f3df",
   "metadata": {},
   "source": [
    "Now, select some of the variables:"
   ]
  },
  {
   "cell_type": "code",
   "execution_count": null,
   "id": "19c9796f-8283-428a-bac2-e2160b9ddf1f",
   "metadata": {},
   "outputs": [],
   "source": [
    "vars <- c(\"premium\", \"esyali\", \"krediye_uygunluk\", \"bina_yasi\", \"kat_sayisi\", \"kat\", realty_data3 %>% keep(is.logical) %>% names)\n",
    "vars"
   ]
  },
  {
   "cell_type": "markdown",
   "id": "ddaf47e5-41d2-4a8e-9902-b5e69163f48c",
   "metadata": {},
   "source": [
    "And assign the subset:"
   ]
  },
  {
   "cell_type": "code",
   "execution_count": null,
   "id": "9fea74aa-4893-4287-ac7f-b2913c73524b",
   "metadata": {},
   "outputs": [],
   "source": [
    "realty_data4 <- realty_data3 %>% select(all_of(vars)) %>% na.omit"
   ]
  },
  {
   "cell_type": "markdown",
   "id": "00ac5e6d-c084-4f30-8a1e-0678241cb436",
   "metadata": {},
   "source": [
    "Your tasks are to:\n",
    "\n",
    "- Partition the data set into 70% train and 30% test sets\n",
    "- Create and run a logistic regression model to explain premium with all other variables **without intercept**. Note that, the median values are taken as basis for premium, so the classes are nearly equal\n",
    "- Print the summary of the model. Compare and interpret null and residual deviance values and create a table of the coefficients of the variables that are significant at 5% level\n",
    "- Calculate the fitted positive case (\"1\") probabilities from the model and also the fitted classes for the train set with a cut value of 0.5\n",
    "- Create a confusion matrix. You may use the below code template:\n",
    "\n",
    "```R\n",
    "table(actual = actual_classes, fitted = fitted_classes) %>% caret::confusionMatrix(positive = \"1\")\n",
    "```\n",
    "- What are the TP, TN, FP, FN counts? Interpret accuracy, sensitivity and specificity.\n",
    "- Interpret Kappa (what is the level of class agreement)\n",
    "- Create a ROC curve and calculate AUC. How far is the model better than pure random guessing?\n",
    "- Calculate the predicted positive case (\"1\") probabilities from the model and also the predicted classes for the test set with a cut values of 0.5\n",
    "- Create a confusion matrix for the test set similar to the one above.\n",
    "- What are the TP, TN, FP, FN counts? Interpret accuracy, sensitivity and specificity.\n",
    "- Interpret Kappa (what is the level of class agreement)\n",
    "- Compare the results from the confusion matrices of the train and test sets. "
   ]
  },
  {
   "cell_type": "markdown",
   "id": "9dd8b990-9c10-473b-a8d5-7df76417f2ec",
   "metadata": {},
   "source": [
    "# Answer"
   ]
  },
  {
   "cell_type": "markdown",
   "id": "d770cb1e-3b87-4238-a503-205d30146734",
   "metadata": {},
   "source": [
    "## Partition the dataset"
   ]
  },
  {
   "cell_type": "markdown",
   "id": "9f31b2f4-9c35-4cae-a41d-f97e6d88b7c3",
   "metadata": {},
   "source": [
    "We will take 60% as train and 40% as test set: "
   ]
  },
  {
   "cell_type": "code",
   "execution_count": null,
   "id": "d3e00ecc-84c3-41d8-a229-29fc40eca1ba",
   "metadata": {},
   "outputs": [],
   "source": [
    "#partition data\n",
    "set.seed(2)\n",
    "train <- realty_data4[,sample(.I, .N * 0.7)]"
   ]
  },
  {
   "cell_type": "code",
   "execution_count": null,
   "id": "6318e95b-1a6e-4862-b565-9b19d9e2d31e",
   "metadata": {},
   "outputs": [],
   "source": [
    "realty_train <- realty_data4[train]\n",
    "realty_test <- realty_data4[-train]"
   ]
  },
  {
   "cell_type": "markdown",
   "id": "a7614d9b-4234-44a0-95f2-8ad77e55dd39",
   "metadata": {},
   "source": [
    "## Build and train a model"
   ]
  },
  {
   "cell_type": "markdown",
   "id": "4a9eebb4-0be2-4ba9-997f-6ef7751d3112",
   "metadata": {},
   "source": [
    "Build a logistic regression model: "
   ]
  },
  {
   "cell_type": "code",
   "execution_count": null,
   "id": "c9cc1663-38fc-45da-b5da-f3b83e989237",
   "metadata": {},
   "outputs": [],
   "source": [
    "logit_reg <- glm(`premium` ~ . -1, data = realty_train, family = \"binomial\")"
   ]
  },
  {
   "cell_type": "code",
   "execution_count": null,
   "id": "ac7c5aae-e3e4-45d7-a04c-ca794bbbc9ef",
   "metadata": {},
   "outputs": [],
   "source": [
    "summary(logit_reg)"
   ]
  },
  {
   "cell_type": "code",
   "execution_count": null,
   "id": "a8432808-9e4e-4121-bfd5-37447401d9f8",
   "metadata": {},
   "outputs": [],
   "source": [
    "logit_reg %>% broom::tidy() %>% filter(p.value < 0.05)"
   ]
  },
  {
   "cell_type": "markdown",
   "id": "9050f4e1-e5da-42c5-94c8-aa9d21508d56",
   "metadata": {},
   "source": [
    "## Get fitted values and create confusion matrix"
   ]
  },
  {
   "cell_type": "code",
   "execution_count": null,
   "id": "b9c6dfd1-faa5-40e6-b87a-8eaae4d3b909",
   "metadata": {},
   "outputs": [],
   "source": [
    "pred_train <- predict(logit_reg, realty_train, type = \"response\")"
   ]
  },
  {
   "cell_type": "code",
   "execution_count": null,
   "id": "609362fc-a357-44f7-b4c0-38163895aa80",
   "metadata": {},
   "outputs": [],
   "source": [
    "train_class <- ifelse(pred_train > 0.5, 1, 0)"
   ]
  },
  {
   "cell_type": "code",
   "execution_count": null,
   "id": "9d095309-9ce5-499e-8215-7293160f4428",
   "metadata": {},
   "outputs": [],
   "source": [
    "table(actual = realty_train$premium, fitted = train_class) %>% caret::confusionMatrix(positive = \"1\")"
   ]
  },
  {
   "cell_type": "markdown",
   "id": "c66e0579-be23-4341-b5b8-bc4202634b3c",
   "metadata": {},
   "source": [
    "- TP: 101\n",
    "- TN: 96\n",
    "- FP: 46\n",
    "- FN: 38\n",
    "\n",
    "- Accuracy: 0.7 of all cases are correctly classified\n",
    "- Sensitivity: 0.68 of the fitted positive cases are actually positive\n",
    "- Specificity: 0.71 of the fitted negative cases are actually negative\n",
    "- Kappa: 0.445, moderate aggreement"
   ]
  },
  {
   "cell_type": "markdown",
   "id": "71957116-e9ca-4e84-a879-a2036a36722c",
   "metadata": {},
   "source": [
    "## Create ROC and calculate AUC"
   ]
  },
  {
   "cell_type": "code",
   "execution_count": null,
   "id": "0c7d7a6e-9950-4b26-bc46-908c19bac93b",
   "metadata": {},
   "outputs": [],
   "source": [
    "p1 <- data.table(D = realty_train[,premium], M = pred_train) %>%\n",
    "ggplot(aes(m = M, d = D)) +\n",
    "    plotROC::geom_roc() +\n",
    "    plotROC::style_roc(theme = theme_grey)\n",
    "\n",
    "plotROC::export_interactive_roc(p1) %>% IRdisplay::display_html()"
   ]
  },
  {
   "cell_type": "code",
   "execution_count": null,
   "id": "f3a48c40-3049-492d-b1ba-834e03ffbcf1",
   "metadata": {},
   "outputs": [],
   "source": [
    "pROC::auc(realty_train[,premium], pred_train)"
   ]
  },
  {
   "cell_type": "markdown",
   "id": "a567745f-9096-43c8-bde4-81e1f4e87e35",
   "metadata": {},
   "source": [
    "Pure random guessing would yield 0.5, perfect classification would yield 1. So the model performance is in between the perfect and pure random performances."
   ]
  },
  {
   "cell_type": "markdown",
   "id": "100788d2-8a37-47e8-bf1e-46a559461ec9",
   "metadata": {},
   "source": [
    "## Get predictions on test set and create a confusion matrix"
   ]
  },
  {
   "cell_type": "code",
   "execution_count": null,
   "id": "fe13a504-0f73-47d7-a2f1-76c97bfef895",
   "metadata": {},
   "outputs": [],
   "source": [
    "pred_test <- predict(logit_reg, realty_test, type = \"response\")"
   ]
  },
  {
   "cell_type": "code",
   "execution_count": null,
   "id": "ed4ee6a9-c194-4d01-b3e2-f262b514db15",
   "metadata": {},
   "outputs": [],
   "source": [
    "test_class <- ifelse(pred_test > 0.5, 1, 0)"
   ]
  },
  {
   "cell_type": "code",
   "execution_count": null,
   "id": "d8fa5dce-c919-4ae9-aa19-3224bc7c4c73",
   "metadata": {},
   "outputs": [],
   "source": [
    "table(actual = realty_test$premium, prediction = test_class) %>% caret::confusionMatrix(positive = \"1\")"
   ]
  },
  {
   "cell_type": "markdown",
   "id": "c1e7ea7f-160b-43be-ba14-b6a1661f767a",
   "metadata": {},
   "source": [
    "- TP: 40\n",
    "- TN: 36\n",
    "- FP: 25\n",
    "- FN: 20\n",
    "\n",
    "- Accuracy: 0.62 of all cases are correctly classified\n",
    "- Sensitivity: 0.62 of the fitted positive cases are actually positive\n",
    "- Specificity: 0.64 of the fitted negative cases are actually negative\n",
    "- Kappa: 0.25, fair aggreement"
   ]
  },
  {
   "cell_type": "markdown",
   "id": "d2fd220c-9d15-4a56-a3bf-44fa9db42d14",
   "metadata": {},
   "source": [
    "Although the classification performance on test set is below that on the train set, we still have a fair prediction performance."
   ]
  },
  {
   "cell_type": "code",
   "execution_count": null,
   "id": "4835b8a1-f58c-4ef9-8064-06d210a54b0c",
   "metadata": {},
   "outputs": [],
   "source": []
  }
 ],
 "metadata": {
  "kernelspec": {
   "display_name": "R",
   "language": "R",
   "name": "ir"
  },
  "language_info": {
   "codemirror_mode": "r",
   "file_extension": ".r",
   "mimetype": "text/x-r-source",
   "name": "R",
   "pygments_lexer": "r",
   "version": "4.1.0"
  }
 },
 "nbformat": 4,
 "nbformat_minor": 5
}
