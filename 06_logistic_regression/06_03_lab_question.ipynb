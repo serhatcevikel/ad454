{
 "cells": [
  {
   "cell_type": "code",
   "execution_count": null,
   "id": "5304c10a-5a44-4241-add0-4336a09c72fe",
   "metadata": {},
   "outputs": [],
   "source": [
    "library(tidyverse)\n",
    "library(data.table)\n",
    "library(plotly) # for interactive ploting\n",
    "library(DT) # for interactive tabulation\n",
    "library(broom) # for tidy statistical summaries\n",
    "library(caret) # for regression performance measures\n",
    "library(psych) # for pairwise comparisons\n",
    "library(GGally) # for pairwise comparisons\n",
    "library(magrittr) # for two-way pipes\n",
    "library(lindia) # for qqplots"
   ]
  },
  {
   "cell_type": "code",
   "execution_count": null,
   "id": "a2868568-dd1e-4d40-b384-ae570a235d59",
   "metadata": {},
   "outputs": [],
   "source": [
    "options(repr.matrix.max.rows=20, repr.matrix.max.cols=15) # for limiting the number of top and bottom rows of tables printed "
   ]
  },
  {
   "cell_type": "code",
   "execution_count": null,
   "id": "5ee254aa-56cf-4a38-b99a-3085713bf4bc",
   "metadata": {},
   "outputs": [],
   "source": [
    "datapath <- \"~/data_ad454\""
   ]
  },
  {
   "cell_type": "markdown",
   "id": "33a4e0f6-dc38-4fe9-980d-6462210c3996",
   "metadata": {},
   "source": [
    "# Logistic Regression"
   ]
  },
  {
   "cell_type": "markdown",
   "id": "070410d6-f631-4842-9b07-d176956141e9",
   "metadata": {},
   "source": [
    "We continue with the realty dataset.\n",
    "\n",
    "Remember that, we calculated the premium_neigh variable which is premium of the unit price of the property over the median unit price of the neighborhood.\n",
    "\n",
    "Now we will try to classify the properties into premium and discount"
   ]
  },
  {
   "cell_type": "markdown",
   "id": "9e219cbb-b8f3-46f9-8a4e-66d3cb725324",
   "metadata": {},
   "source": [
    "Let's first import the realty dataset:"
   ]
  },
  {
   "cell_type": "code",
   "execution_count": null,
   "id": "cc530173-645e-4f26-b73b-c367108c672b",
   "metadata": {},
   "outputs": [],
   "source": [
    "realty_data3 <- readRDS(sprintf(\"%s/rds/06_02_realty_data3.rds\", datapath))"
   ]
  },
  {
   "cell_type": "code",
   "execution_count": null,
   "id": "f89dbbff-0c4b-41a1-b74b-8e529f2a34c3",
   "metadata": {},
   "outputs": [],
   "source": [
    "realty_data3"
   ]
  },
  {
   "cell_type": "markdown",
   "id": "54ac7979-6da2-448f-8394-3007ade22cd6",
   "metadata": {},
   "source": [
    "Let's add the binary variable premium, which takes 1 when the premium is above 0, and 0 otherwise"
   ]
  },
  {
   "cell_type": "code",
   "execution_count": null,
   "id": "2e96bf8e-4fbb-47a9-b69a-b1217cdf8dfc",
   "metadata": {},
   "outputs": [],
   "source": [
    "realty_data3[, premium := as.integer(premium_neigh > 0)]"
   ]
  },
  {
   "cell_type": "markdown",
   "id": "f6d9f373-13c4-4b38-9302-03f1408a7317",
   "metadata": {},
   "source": [
    "Let's see the structure:"
   ]
  },
  {
   "cell_type": "code",
   "execution_count": null,
   "id": "2fcd80d6-feb7-4141-b068-e262070557a1",
   "metadata": {},
   "outputs": [],
   "source": [
    "realty_data3 %>% str"
   ]
  },
  {
   "cell_type": "markdown",
   "id": "d34e8a05-c361-43f4-a8c9-09c986b7f3df",
   "metadata": {},
   "source": [
    "Now, select some of the variables:"
   ]
  },
  {
   "cell_type": "code",
   "execution_count": null,
   "id": "19c9796f-8283-428a-bac2-e2160b9ddf1f",
   "metadata": {},
   "outputs": [],
   "source": [
    "vars <- c(\"premium\", \"esyali\", \"krediye_uygunluk\", \"bina_yasi\", \"kat_sayisi\", \"kat\", realty_data3 %>% keep(is.logical) %>% names)\n",
    "vars"
   ]
  },
  {
   "cell_type": "markdown",
   "id": "ddaf47e5-41d2-4a8e-9902-b5e69163f48c",
   "metadata": {},
   "source": [
    "And assign the subset:"
   ]
  },
  {
   "cell_type": "code",
   "execution_count": null,
   "id": "9fea74aa-4893-4287-ac7f-b2913c73524b",
   "metadata": {},
   "outputs": [],
   "source": [
    "realty_data4 <- realty_data3 %>% select(all_of(vars)) %>% na.omit"
   ]
  },
  {
   "cell_type": "markdown",
   "id": "00ac5e6d-c084-4f30-8a1e-0678241cb436",
   "metadata": {},
   "source": [
    "Your tasks are to:\n",
    "\n",
    "- Partition the data set into 70% train and 30% test sets\n",
    "- Create and run a logistic regression model to explain premium with all other variables **without intercept**. Note that, the median values are taken as basis for premium, so the classes are nearly equal\n",
    "- Print the summary of the model. Compare and interpret null and residual deviance values and create a table of the coefficients of the variables that are significant at 5% level\n",
    "- Calculate the fitted positive case (\"1\") probabilities from the model and also the fitted classes for the train set with a cut value of 0.5\n",
    "- Create a confusion matrix. You may use the below code template:\n",
    "\n",
    "```R\n",
    "table(actual = actual_classes, fitted = fitted_classes) %>% caret::confusionMatrix(positive = \"1\")\n",
    "```\n",
    "- What are the TP, TN, FP, FN counts? Interpret accuracy, sensitivity and specificity.\n",
    "- Interpret Kappa (what is the level of class agreement)\n",
    "- Create a ROC curve and calculate AUC. How far is the model better than pure random guessing?\n",
    "- Calculate the predicted positive case (\"1\") probabilities from the model and also the predicted classes for the test set with a cut values of 0.5\n",
    "- Create a confusion matrix for the test set similar to the one above.\n",
    "- What are the TP, TN, FP, FN counts? Interpret accuracy, sensitivity and specificity.\n",
    "- Interpret Kappa (what is the level of class agreement)\n",
    "- Compare the results from the confusion matrices of the train and test sets. "
   ]
  },
  {
   "cell_type": "markdown",
   "id": "9dd8b990-9c10-473b-a8d5-7df76417f2ec",
   "metadata": {},
   "source": [
    "# Answer"
   ]
  }
 ],
 "metadata": {
  "kernelspec": {
   "display_name": "R",
   "language": "R",
   "name": "ir"
  },
  "language_info": {
   "codemirror_mode": "r",
   "file_extension": ".r",
   "mimetype": "text/x-r-source",
   "name": "R",
   "pygments_lexer": "r",
   "version": "4.0.5"
  }
 },
 "nbformat": 4,
 "nbformat_minor": 5
}
