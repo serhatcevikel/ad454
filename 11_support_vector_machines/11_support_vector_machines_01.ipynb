{
 "cells": [
  {
   "cell_type": "markdown",
   "metadata": {},
   "source": [
    "# Support Vector Machines with Diabetes Data"
   ]
  },
  {
   "cell_type": "markdown",
   "metadata": {},
   "source": [
    "Adapted from Lesmeister (2015) Chapter 5\n",
    "\n",
    "The data that we will examine was originally collected by the National Institute of Diabetes and Digestive and Kidney Diseases (NIDDK). It consists of 532 observations and eight input features along with a binary outcome (Yes/No). The patients in this study were of Pima Indian descent from South Central Arizona. The NIDDK data shows that since the past 30 years, research has helped scientists to prove that obesity is a major risk factor in the development of diabetes. The Pima Indians were selected for the study as one-half of the adult Pima Indians have diabetes and 95 percent of those with diabetes are overweight. The analysis will focus on adult women only. Diabetes was diagnosed according to the WHO criteria and was of the type of diabetes that is known as type 2. In this type of diabetes, the pancreas is still able to function and produce insulin and it used to be referred to as non-insulin-dependent diabetes.\n",
    "\n",
    "Our task is to examine and predict those individuals that have diabetes or the risk factors that could lead to diabetes in this population."
   ]
  },
  {
   "cell_type": "markdown",
   "metadata": {},
   "source": [
    "## Load libraries and data"
   ]
  },
  {
   "cell_type": "code",
   "execution_count": 1,
   "metadata": {},
   "outputs": [
    {
     "name": "stderr",
     "output_type": "stream",
     "text": [
      "Registered S3 methods overwritten by 'ggplot2':\n",
      "  method         from \n",
      "  [.quosures     rlang\n",
      "  c.quosures     rlang\n",
      "  print.quosures rlang\n",
      "Registered S3 method overwritten by 'rvest':\n",
      "  method            from\n",
      "  read_xml.response xml2\n",
      "── \u001b[1mAttaching packages\u001b[22m ─────────────────────────────────────── tidyverse 1.2.1 ──\n",
      "\u001b[32m✔\u001b[39m \u001b[34mggplot2\u001b[39m 3.1.1     \u001b[32m✔\u001b[39m \u001b[34mpurrr  \u001b[39m 0.3.2\n",
      "\u001b[32m✔\u001b[39m \u001b[34mtibble \u001b[39m 2.1.3     \u001b[32m✔\u001b[39m \u001b[34mdplyr  \u001b[39m 0.8.3\n",
      "\u001b[32m✔\u001b[39m \u001b[34mtidyr  \u001b[39m 0.8.3     \u001b[32m✔\u001b[39m \u001b[34mstringr\u001b[39m 1.4.0\n",
      "\u001b[32m✔\u001b[39m \u001b[34mreadr  \u001b[39m 1.3.1     \u001b[32m✔\u001b[39m \u001b[34mforcats\u001b[39m 0.4.0\n",
      "── \u001b[1mConflicts\u001b[22m ────────────────────────────────────────── tidyverse_conflicts() ──\n",
      "\u001b[31m✖\u001b[39m \u001b[34mdplyr\u001b[39m::\u001b[32mbetween()\u001b[39m   masks \u001b[34mdata.table\u001b[39m::between()\n",
      "\u001b[31m✖\u001b[39m \u001b[34mdplyr\u001b[39m::\u001b[32mfilter()\u001b[39m    masks \u001b[34mstats\u001b[39m::filter()\n",
      "\u001b[31m✖\u001b[39m \u001b[34mdplyr\u001b[39m::\u001b[32mfirst()\u001b[39m     masks \u001b[34mdata.table\u001b[39m::first()\n",
      "\u001b[31m✖\u001b[39m \u001b[34mdplyr\u001b[39m::\u001b[32mlag()\u001b[39m       masks \u001b[34mstats\u001b[39m::lag()\n",
      "\u001b[31m✖\u001b[39m \u001b[34mdplyr\u001b[39m::\u001b[32mlast()\u001b[39m      masks \u001b[34mdata.table\u001b[39m::last()\n",
      "\u001b[31m✖\u001b[39m \u001b[34mpurrr\u001b[39m::\u001b[32mtranspose()\u001b[39m masks \u001b[34mdata.table\u001b[39m::transpose()\n",
      "\n",
      "Attaching package: ‘plotly’\n",
      "\n",
      "The following object is masked from ‘package:ggplot2’:\n",
      "\n",
      "    last_plot\n",
      "\n",
      "The following object is masked from ‘package:stats’:\n",
      "\n",
      "    filter\n",
      "\n",
      "The following object is masked from ‘package:graphics’:\n",
      "\n",
      "    layout\n",
      "\n",
      "Loading required package: lattice\n",
      "\n",
      "Attaching package: ‘caret’\n",
      "\n",
      "The following object is masked from ‘package:purrr’:\n",
      "\n",
      "    lift\n",
      "\n",
      "\n",
      "Attaching package: ‘MASS’\n",
      "\n",
      "The following object is masked from ‘package:plotly’:\n",
      "\n",
      "    select\n",
      "\n",
      "The following object is masked from ‘package:dplyr’:\n",
      "\n",
      "    select\n",
      "\n",
      "\n",
      "Attaching package: ‘kernlab’\n",
      "\n",
      "The following object is masked from ‘package:purrr’:\n",
      "\n",
      "    cross\n",
      "\n",
      "The following object is masked from ‘package:ggplot2’:\n",
      "\n",
      "    alpha\n",
      "\n",
      "\n",
      "Attaching package: ‘BBmisc’\n",
      "\n",
      "The following objects are masked from ‘package:dplyr’:\n",
      "\n",
      "    coalesce, collapse\n",
      "\n",
      "The following object is masked from ‘package:base’:\n",
      "\n",
      "    isFALSE\n",
      "\n",
      "corrplot 0.84 loaded\n"
     ]
    }
   ],
   "source": [
    "library(data.table) # to handle the data in a more convenient manner\n",
    "library(tidyverse) # for a better work flow and more tools to wrangle and visualize the data\n",
    "library(plotly) # for interactive visualizations\n",
    "library(e1071) # for SVM\n",
    "library(caret) # for model tuning and confusion matrix\n",
    "library(MASS) # for data\n",
    "library(kernlab) # for SVM feature selection\n",
    "library(BBmisc) # data normalization\n",
    "library(corrplot) # correlation plot"
   ]
  },
  {
   "cell_type": "code",
   "execution_count": 2,
   "metadata": {},
   "outputs": [],
   "source": [
    "data(Pima.tr, package = \"MASS\")\n",
    "data(Pima.te, package = \"MASS\")"
   ]
  },
  {
   "cell_type": "markdown",
   "metadata": {},
   "source": [
    "There are two separate dataset for train and test"
   ]
  },
  {
   "cell_type": "code",
   "execution_count": 3,
   "metadata": {},
   "outputs": [],
   "source": [
    "pima_tr_dt <- as.data.table(Pima.tr)\n",
    "pima_te_dt <- as.data.table(Pima.te)"
   ]
  },
  {
   "cell_type": "markdown",
   "metadata": {},
   "source": [
    "## Explore dataset"
   ]
  },
  {
   "cell_type": "code",
   "execution_count": 4,
   "metadata": {},
   "outputs": [
    {
     "name": "stdout",
     "output_type": "stream",
     "text": [
      "Classes ‘data.table’ and 'data.frame':\t200 obs. of  8 variables:\n",
      " $ npreg: int  5 7 5 0 0 5 3 1 3 2 ...\n",
      " $ glu  : int  86 195 77 165 107 97 83 193 142 128 ...\n",
      " $ bp   : int  68 70 82 76 60 76 58 50 80 78 ...\n",
      " $ skin : int  28 33 41 43 25 27 31 16 15 37 ...\n",
      " $ bmi  : num  30.2 25.1 35.8 47.9 26.4 35.6 34.3 25.9 32.4 43.3 ...\n",
      " $ ped  : num  0.364 0.163 0.156 0.259 0.133 ...\n",
      " $ age  : int  24 55 35 26 23 52 25 24 63 31 ...\n",
      " $ type : Factor w/ 2 levels \"No\",\"Yes\": 1 2 1 1 1 2 1 1 1 2 ...\n",
      " - attr(*, \".internal.selfref\")=<externalptr> \n"
     ]
    }
   ],
   "source": [
    "str(pima_tr_dt)"
   ]
  },
  {
   "cell_type": "code",
   "execution_count": 5,
   "metadata": {},
   "outputs": [],
   "source": [
    "?Pima.tr"
   ]
  },
  {
   "cell_type": "markdown",
   "metadata": {},
   "source": [
    "```\n",
    "These data frames contains the following columns:\n",
    "\n",
    "npreg\n",
    "number of pregnancies.\n",
    "\n",
    "glu\n",
    "plasma glucose concentration in an oral glucose tolerance test.\n",
    "\n",
    "bp\n",
    "diastolic blood pressure (mm Hg).\n",
    "\n",
    "skin\n",
    "triceps skin fold thickness (mm).\n",
    "\n",
    "bmi\n",
    "body mass index (weight in kg/(height in m)\\^2).\n",
    "\n",
    "ped\n",
    "diabetes pedigree function.\n",
    "\n",
    "age\n",
    "age in years.\n",
    "\n",
    "type\n",
    "Yes or No, for diabetic according to WHO criteria.\n",
    "```"
   ]
  },
  {
   "cell_type": "markdown",
   "metadata": {},
   "source": [
    "The datasets are contained in the R package, MASS. One data frame is named Pima.tr and the other is named Pima.te. Instead of using these as separate train and test sets, we will combine them and create our own in order to discover how to do such a task in R."
   ]
  },
  {
   "cell_type": "code",
   "execution_count": 6,
   "metadata": {},
   "outputs": [],
   "source": [
    "pima <- rbind(pima_tr_dt, pima_te_dt)"
   ]
  },
  {
   "cell_type": "code",
   "execution_count": 7,
   "metadata": {},
   "outputs": [
    {
     "name": "stdout",
     "output_type": "stream",
     "text": [
      "Classes ‘data.table’ and 'data.frame':\t532 obs. of  8 variables:\n",
      " $ npreg: int  5 7 5 0 0 5 3 1 3 2 ...\n",
      " $ glu  : int  86 195 77 165 107 97 83 193 142 128 ...\n",
      " $ bp   : int  68 70 82 76 60 76 58 50 80 78 ...\n",
      " $ skin : int  28 33 41 43 25 27 31 16 15 37 ...\n",
      " $ bmi  : num  30.2 25.1 35.8 47.9 26.4 35.6 34.3 25.9 32.4 43.3 ...\n",
      " $ ped  : num  0.364 0.163 0.156 0.259 0.133 ...\n",
      " $ age  : int  24 55 35 26 23 52 25 24 63 31 ...\n",
      " $ type : Factor w/ 2 levels \"No\",\"Yes\": 1 2 1 1 1 2 1 1 1 2 ...\n",
      " - attr(*, \".internal.selfref\")=<externalptr> \n"
     ]
    }
   ],
   "source": [
    "str(pima)"
   ]
  },
  {
   "cell_type": "code",
   "execution_count": 8,
   "metadata": {},
   "outputs": [
    {
     "name": "stdout",
     "output_type": "stream",
     "text": [
      "Observations: 532\n",
      "Variables: 8\n",
      "$ npreg \u001b[3m\u001b[38;5;246m<int>\u001b[39m\u001b[23m 5, 7, 5, 0, 0, 5, 3, 1, 3, 2, 0, 9, 1, 12, 1, 4, 1, 11, 1, 0, 2…\n",
      "$ glu   \u001b[3m\u001b[38;5;246m<int>\u001b[39m\u001b[23m 86, 195, 77, 165, 107, 97, 83, 193, 142, 128, 137, 154, 189, 92…\n",
      "$ bp    \u001b[3m\u001b[38;5;246m<int>\u001b[39m\u001b[23m 68, 70, 82, 76, 60, 76, 58, 50, 80, 78, 40, 78, 60, 62, 66, 76,…\n",
      "$ skin  \u001b[3m\u001b[38;5;246m<int>\u001b[39m\u001b[23m 28, 33, 41, 43, 25, 27, 31, 16, 15, 37, 35, 30, 23, 7, 52, 15, …\n",
      "$ bmi   \u001b[3m\u001b[38;5;246m<dbl>\u001b[39m\u001b[23m 30.2, 25.1, 35.8, 47.9, 26.4, 35.6, 34.3, 25.9, 32.4, 43.3, 43.…\n",
      "$ ped   \u001b[3m\u001b[38;5;246m<dbl>\u001b[39m\u001b[23m 0.364, 0.163, 0.156, 0.259, 0.133, 0.378, 0.336, 0.655, 0.200, …\n",
      "$ age   \u001b[3m\u001b[38;5;246m<int>\u001b[39m\u001b[23m 24, 55, 35, 26, 23, 52, 25, 24, 63, 31, 33, 45, 59, 44, 29, 21,…\n",
      "$ type  \u001b[3m\u001b[38;5;246m<fct>\u001b[39m\u001b[23m No, Yes, No, No, No, Yes, No, No, No, Yes, Yes, No, Yes, Yes, N…\n"
     ]
    }
   ],
   "source": [
    "tibble::glimpse(pima)"
   ]
  },
  {
   "cell_type": "code",
   "execution_count": 9,
   "metadata": {},
   "outputs": [
    {
     "name": "stderr",
     "output_type": "stream",
     "text": [
      "Warning message in melt.data.table(pima, id.var = \"type\"):\n",
      "“'measure.vars' [npreg, glu, bp, skin, ...] are not all of the same type. By order of hierarchy, the molten data value column will be of type 'double'. All measure variables not of type 'double' will be coerced too. Check DETAILS in ?melt.data.table for more on coercion.”"
     ]
    }
   ],
   "source": [
    "pima_melt <- melt(pima, id.var = \"type\")"
   ]
  },
  {
   "cell_type": "code",
   "execution_count": 10,
   "metadata": {},
   "outputs": [
    {
     "data": {
      "text/html": [
       "<table>\n",
       "<thead><tr><th scope=col>type</th><th scope=col>variable</th><th scope=col>value</th></tr></thead>\n",
       "<tbody>\n",
       "\t<tr><td>No   </td><td>npreg</td><td> 5   </td></tr>\n",
       "\t<tr><td>Yes  </td><td>npreg</td><td> 7   </td></tr>\n",
       "\t<tr><td>No   </td><td>npreg</td><td> 5   </td></tr>\n",
       "\t<tr><td>No   </td><td>npreg</td><td> 0   </td></tr>\n",
       "\t<tr><td>No   </td><td>npreg</td><td> 0   </td></tr>\n",
       "\t<tr><td>Yes  </td><td>npreg</td><td> 5   </td></tr>\n",
       "\t<tr><td>No   </td><td>npreg</td><td> 3   </td></tr>\n",
       "\t<tr><td>No   </td><td>npreg</td><td> 1   </td></tr>\n",
       "\t<tr><td>No   </td><td>npreg</td><td> 3   </td></tr>\n",
       "\t<tr><td>Yes  </td><td>npreg</td><td> 2   </td></tr>\n",
       "\t<tr><td>Yes  </td><td>npreg</td><td> 0   </td></tr>\n",
       "\t<tr><td>No   </td><td>npreg</td><td> 9   </td></tr>\n",
       "\t<tr><td>Yes  </td><td>npreg</td><td> 1   </td></tr>\n",
       "\t<tr><td>Yes  </td><td>npreg</td><td>12   </td></tr>\n",
       "\t<tr><td>No   </td><td>npreg</td><td> 1   </td></tr>\n",
       "\t<tr><td>No   </td><td>npreg</td><td> 4   </td></tr>\n",
       "\t<tr><td>No   </td><td>npreg</td><td> 1   </td></tr>\n",
       "\t<tr><td>Yes  </td><td>npreg</td><td>11   </td></tr>\n",
       "\t<tr><td>Yes  </td><td>npreg</td><td> 1   </td></tr>\n",
       "\t<tr><td>No   </td><td>npreg</td><td> 0   </td></tr>\n",
       "\t<tr><td>No   </td><td>npreg</td><td> 2   </td></tr>\n",
       "\t<tr><td>No   </td><td>npreg</td><td> 1   </td></tr>\n",
       "\t<tr><td>No   </td><td>npreg</td><td> 4   </td></tr>\n",
       "\t<tr><td>No   </td><td>npreg</td><td> 0   </td></tr>\n",
       "\t<tr><td>No   </td><td>npreg</td><td> 1   </td></tr>\n",
       "\t<tr><td>Yes  </td><td>npreg</td><td> 9   </td></tr>\n",
       "\t<tr><td>No   </td><td>npreg</td><td> 1   </td></tr>\n",
       "\t<tr><td>Yes  </td><td>npreg</td><td> 0   </td></tr>\n",
       "\t<tr><td>No   </td><td>npreg</td><td> 5   </td></tr>\n",
       "\t<tr><td>No   </td><td>npreg</td><td> 2   </td></tr>\n",
       "\t<tr><td>⋮</td><td>⋮</td><td>⋮</td></tr>\n",
       "\t<tr><td>Yes</td><td>age</td><td>38 </td></tr>\n",
       "\t<tr><td>No </td><td>age</td><td>21 </td></tr>\n",
       "\t<tr><td>Yes</td><td>age</td><td>34 </td></tr>\n",
       "\t<tr><td>Yes</td><td>age</td><td>31 </td></tr>\n",
       "\t<tr><td>No </td><td>age</td><td>56 </td></tr>\n",
       "\t<tr><td>No </td><td>age</td><td>24 </td></tr>\n",
       "\t<tr><td>No </td><td>age</td><td>42 </td></tr>\n",
       "\t<tr><td>No </td><td>age</td><td>25 </td></tr>\n",
       "\t<tr><td>No </td><td>age</td><td>22 </td></tr>\n",
       "\t<tr><td>Yes</td><td>age</td><td>24 </td></tr>\n",
       "\t<tr><td>No </td><td>age</td><td>22 </td></tr>\n",
       "\t<tr><td>No </td><td>age</td><td>21 </td></tr>\n",
       "\t<tr><td>No </td><td>age</td><td>42 </td></tr>\n",
       "\t<tr><td>No </td><td>age</td><td>21 </td></tr>\n",
       "\t<tr><td>Yes</td><td>age</td><td>48 </td></tr>\n",
       "\t<tr><td>No </td><td>age</td><td>26 </td></tr>\n",
       "\t<tr><td>No </td><td>age</td><td>22 </td></tr>\n",
       "\t<tr><td>No </td><td>age</td><td>39 </td></tr>\n",
       "\t<tr><td>No </td><td>age</td><td>46 </td></tr>\n",
       "\t<tr><td>Yes</td><td>age</td><td>27 </td></tr>\n",
       "\t<tr><td>Yes</td><td>age</td><td>36 </td></tr>\n",
       "\t<tr><td>No </td><td>age</td><td>28 </td></tr>\n",
       "\t<tr><td>No </td><td>age</td><td>25 </td></tr>\n",
       "\t<tr><td>Yes</td><td>age</td><td>26 </td></tr>\n",
       "\t<tr><td>Yes</td><td>age</td><td>37 </td></tr>\n",
       "\t<tr><td>No </td><td>age</td><td>22 </td></tr>\n",
       "\t<tr><td>Yes</td><td>age</td><td>43 </td></tr>\n",
       "\t<tr><td>No </td><td>age</td><td>63 </td></tr>\n",
       "\t<tr><td>No </td><td>age</td><td>30 </td></tr>\n",
       "\t<tr><td>No </td><td>age</td><td>23 </td></tr>\n",
       "</tbody>\n",
       "</table>\n"
      ],
      "text/latex": [
       "\\begin{tabular}{r|lll}\n",
       " type & variable & value\\\\\n",
       "\\hline\n",
       "\t No    & npreg &  5   \\\\\n",
       "\t Yes   & npreg &  7   \\\\\n",
       "\t No    & npreg &  5   \\\\\n",
       "\t No    & npreg &  0   \\\\\n",
       "\t No    & npreg &  0   \\\\\n",
       "\t Yes   & npreg &  5   \\\\\n",
       "\t No    & npreg &  3   \\\\\n",
       "\t No    & npreg &  1   \\\\\n",
       "\t No    & npreg &  3   \\\\\n",
       "\t Yes   & npreg &  2   \\\\\n",
       "\t Yes   & npreg &  0   \\\\\n",
       "\t No    & npreg &  9   \\\\\n",
       "\t Yes   & npreg &  1   \\\\\n",
       "\t Yes   & npreg & 12   \\\\\n",
       "\t No    & npreg &  1   \\\\\n",
       "\t No    & npreg &  4   \\\\\n",
       "\t No    & npreg &  1   \\\\\n",
       "\t Yes   & npreg & 11   \\\\\n",
       "\t Yes   & npreg &  1   \\\\\n",
       "\t No    & npreg &  0   \\\\\n",
       "\t No    & npreg &  2   \\\\\n",
       "\t No    & npreg &  1   \\\\\n",
       "\t No    & npreg &  4   \\\\\n",
       "\t No    & npreg &  0   \\\\\n",
       "\t No    & npreg &  1   \\\\\n",
       "\t Yes   & npreg &  9   \\\\\n",
       "\t No    & npreg &  1   \\\\\n",
       "\t Yes   & npreg &  0   \\\\\n",
       "\t No    & npreg &  5   \\\\\n",
       "\t No    & npreg &  2   \\\\\n",
       "\t ⋮ & ⋮ & ⋮\\\\\n",
       "\t Yes & age & 38 \\\\\n",
       "\t No  & age & 21 \\\\\n",
       "\t Yes & age & 34 \\\\\n",
       "\t Yes & age & 31 \\\\\n",
       "\t No  & age & 56 \\\\\n",
       "\t No  & age & 24 \\\\\n",
       "\t No  & age & 42 \\\\\n",
       "\t No  & age & 25 \\\\\n",
       "\t No  & age & 22 \\\\\n",
       "\t Yes & age & 24 \\\\\n",
       "\t No  & age & 22 \\\\\n",
       "\t No  & age & 21 \\\\\n",
       "\t No  & age & 42 \\\\\n",
       "\t No  & age & 21 \\\\\n",
       "\t Yes & age & 48 \\\\\n",
       "\t No  & age & 26 \\\\\n",
       "\t No  & age & 22 \\\\\n",
       "\t No  & age & 39 \\\\\n",
       "\t No  & age & 46 \\\\\n",
       "\t Yes & age & 27 \\\\\n",
       "\t Yes & age & 36 \\\\\n",
       "\t No  & age & 28 \\\\\n",
       "\t No  & age & 25 \\\\\n",
       "\t Yes & age & 26 \\\\\n",
       "\t Yes & age & 37 \\\\\n",
       "\t No  & age & 22 \\\\\n",
       "\t Yes & age & 43 \\\\\n",
       "\t No  & age & 63 \\\\\n",
       "\t No  & age & 30 \\\\\n",
       "\t No  & age & 23 \\\\\n",
       "\\end{tabular}\n"
      ],
      "text/markdown": [
       "\n",
       "| type | variable | value |\n",
       "|---|---|---|\n",
       "| No    | npreg |  5    |\n",
       "| Yes   | npreg |  7    |\n",
       "| No    | npreg |  5    |\n",
       "| No    | npreg |  0    |\n",
       "| No    | npreg |  0    |\n",
       "| Yes   | npreg |  5    |\n",
       "| No    | npreg |  3    |\n",
       "| No    | npreg |  1    |\n",
       "| No    | npreg |  3    |\n",
       "| Yes   | npreg |  2    |\n",
       "| Yes   | npreg |  0    |\n",
       "| No    | npreg |  9    |\n",
       "| Yes   | npreg |  1    |\n",
       "| Yes   | npreg | 12    |\n",
       "| No    | npreg |  1    |\n",
       "| No    | npreg |  4    |\n",
       "| No    | npreg |  1    |\n",
       "| Yes   | npreg | 11    |\n",
       "| Yes   | npreg |  1    |\n",
       "| No    | npreg |  0    |\n",
       "| No    | npreg |  2    |\n",
       "| No    | npreg |  1    |\n",
       "| No    | npreg |  4    |\n",
       "| No    | npreg |  0    |\n",
       "| No    | npreg |  1    |\n",
       "| Yes   | npreg |  9    |\n",
       "| No    | npreg |  1    |\n",
       "| Yes   | npreg |  0    |\n",
       "| No    | npreg |  5    |\n",
       "| No    | npreg |  2    |\n",
       "| ⋮ | ⋮ | ⋮ |\n",
       "| Yes | age | 38  |\n",
       "| No  | age | 21  |\n",
       "| Yes | age | 34  |\n",
       "| Yes | age | 31  |\n",
       "| No  | age | 56  |\n",
       "| No  | age | 24  |\n",
       "| No  | age | 42  |\n",
       "| No  | age | 25  |\n",
       "| No  | age | 22  |\n",
       "| Yes | age | 24  |\n",
       "| No  | age | 22  |\n",
       "| No  | age | 21  |\n",
       "| No  | age | 42  |\n",
       "| No  | age | 21  |\n",
       "| Yes | age | 48  |\n",
       "| No  | age | 26  |\n",
       "| No  | age | 22  |\n",
       "| No  | age | 39  |\n",
       "| No  | age | 46  |\n",
       "| Yes | age | 27  |\n",
       "| Yes | age | 36  |\n",
       "| No  | age | 28  |\n",
       "| No  | age | 25  |\n",
       "| Yes | age | 26  |\n",
       "| Yes | age | 37  |\n",
       "| No  | age | 22  |\n",
       "| Yes | age | 43  |\n",
       "| No  | age | 63  |\n",
       "| No  | age | 30  |\n",
       "| No  | age | 23  |\n",
       "\n"
      ],
      "text/plain": [
       "     type variable value\n",
       "1    No   npreg     5   \n",
       "2    Yes  npreg     7   \n",
       "3    No   npreg     5   \n",
       "4    No   npreg     0   \n",
       "5    No   npreg     0   \n",
       "6    Yes  npreg     5   \n",
       "7    No   npreg     3   \n",
       "8    No   npreg     1   \n",
       "9    No   npreg     3   \n",
       "10   Yes  npreg     2   \n",
       "11   Yes  npreg     0   \n",
       "12   No   npreg     9   \n",
       "13   Yes  npreg     1   \n",
       "14   Yes  npreg    12   \n",
       "15   No   npreg     1   \n",
       "16   No   npreg     4   \n",
       "17   No   npreg     1   \n",
       "18   Yes  npreg    11   \n",
       "19   Yes  npreg     1   \n",
       "20   No   npreg     0   \n",
       "21   No   npreg     2   \n",
       "22   No   npreg     1   \n",
       "23   No   npreg     4   \n",
       "24   No   npreg     0   \n",
       "25   No   npreg     1   \n",
       "26   Yes  npreg     9   \n",
       "27   No   npreg     1   \n",
       "28   Yes  npreg     0   \n",
       "29   No   npreg     5   \n",
       "30   No   npreg     2   \n",
       "⋮    ⋮    ⋮        ⋮    \n",
       "3695 Yes  age      38   \n",
       "3696 No   age      21   \n",
       "3697 Yes  age      34   \n",
       "3698 Yes  age      31   \n",
       "3699 No   age      56   \n",
       "3700 No   age      24   \n",
       "3701 No   age      42   \n",
       "3702 No   age      25   \n",
       "3703 No   age      22   \n",
       "3704 Yes  age      24   \n",
       "3705 No   age      22   \n",
       "3706 No   age      21   \n",
       "3707 No   age      42   \n",
       "3708 No   age      21   \n",
       "3709 Yes  age      48   \n",
       "3710 No   age      26   \n",
       "3711 No   age      22   \n",
       "3712 No   age      39   \n",
       "3713 No   age      46   \n",
       "3714 Yes  age      27   \n",
       "3715 Yes  age      36   \n",
       "3716 No   age      28   \n",
       "3717 No   age      25   \n",
       "3718 Yes  age      26   \n",
       "3719 Yes  age      37   \n",
       "3720 No   age      22   \n",
       "3721 Yes  age      43   \n",
       "3722 No   age      63   \n",
       "3723 No   age      30   \n",
       "3724 No   age      23   "
      ]
     },
     "metadata": {},
     "output_type": "display_data"
    }
   ],
   "source": [
    "pima_melt"
   ]
  },
  {
   "cell_type": "code",
   "execution_count": 11,
   "metadata": {},
   "outputs": [
    {
     "name": "stderr",
     "output_type": "stream",
     "text": [
      "Warning message in melt.data.table(., id.var = \"type\"):\n",
      "“'measure.vars' [npreg, glu, bp, skin, ...] are not all of the same type. By order of hierarchy, the molten data value column will be of type 'double'. All measure variables not of type 'double' will be coerced too. Check DETAILS in ?melt.data.table for more on coercion.”"
     ]
    },
    {
     "data": {
      "image/png": "[encoded data removed]",
      "text/plain": [
       "plot without title"
      ]
     },
     "metadata": {},
     "output_type": "display_data"
    }
   ],
   "source": [
    "pima %>%\n",
    "data.table::melt(id.var = \"type\") %>%\n",
    "ggplot(aes(x = type, y = value)) +\n",
    "geom_boxplot() +\n",
    "facet_wrap(~variable, ncol = 2)"
   ]
  },
  {
   "cell_type": "markdown",
   "metadata": {},
   "source": [
    "This is an interesting plot because it is difficult to discern any dramatic differences in the plots, probably with the exception of glucose (glu). As you may have suspected, the fasting glucose appears to be significantly higher in the patients currently diagnosed with diabetes. The main problem here is that the plots are all on the same y axis scale. We can fix this and produce a more meaningful plot by standardizing  the values and then re-plotting."
   ]
  },
  {
   "cell_type": "code",
   "execution_count": 12,
   "metadata": {},
   "outputs": [
    {
     "data": {
      "text/html": [
       "<table>\n",
       "<thead><tr><th scope=col>npreg</th><th scope=col>glu</th><th scope=col>bp</th><th scope=col>skin</th><th scope=col>bmi</th><th scope=col>ped</th><th scope=col>age</th><th scope=col>type</th></tr></thead>\n",
       "<tbody>\n",
       "\t<tr><td> 0.4477858 </td><td>-1.1300306 </td><td>-0.28477392</td><td>-0.11234745</td><td>-0.39095814</td><td>-0.4033309 </td><td>-0.70757816</td><td>No         </td></tr>\n",
       "\t<tr><td> 1.0516440 </td><td> 2.3861862 </td><td>-0.12230772</td><td> 0.36276259</td><td>-1.13211776</td><td>-0.9867069 </td><td> 2.17303872</td><td>Yes        </td></tr>\n",
       "\t<tr><td> 0.4477858 </td><td>-1.4203605 </td><td> 0.85248942</td><td> 1.12293866</td><td> 0.42286418</td><td>-1.0070235 </td><td> 0.31457622</td><td>No         </td></tr>\n",
       "\t<tr><td>-1.0618597 </td><td> 1.4184201 </td><td> 0.36509085</td><td> 1.31298267</td><td> 2.18130169</td><td>-0.7080796 </td><td>-0.52173191</td><td>No         </td></tr>\n",
       "\t<tr><td>-1.0618597 </td><td>-0.4525944 </td><td>-0.93463868</td><td>-0.39741347</td><td>-0.94319472</td><td>-1.0737779 </td><td>-0.80050128</td><td>No         </td></tr>\n",
       "\t<tr><td> 0.4477858 </td><td>-0.7751831 </td><td> 0.36509085</td><td>-0.20736946</td><td> 0.39379909</td><td>-0.3626978 </td><td> 1.89426934</td><td>Yes        </td></tr>\n",
       "\t<tr><td>-0.1560724 </td><td>-1.2268072 </td><td>-1.09710487</td><td> 0.17271857</td><td> 0.20487605</td><td>-0.4845972 </td><td>-0.61465503</td><td>No         </td></tr>\n",
       "\t<tr><td>-0.7599306 </td><td> 2.3216684 </td><td>-1.74696964</td><td>-1.25261155</td><td>-1.01585743</td><td> 0.4412581 </td><td>-0.70757816</td><td>No         </td></tr>\n",
       "\t<tr><td>-0.1560724 </td><td> 0.6764661 </td><td> 0.69002323</td><td>-1.34763355</td><td>-0.07124223</td><td>-0.8793193 </td><td> 2.91642372</td><td>No         </td></tr>\n",
       "\t<tr><td>-0.4580015 </td><td> 0.2248419 </td><td> 0.52755704</td><td> 0.74285062</td><td> 1.51280478</td><td> 2.0927055 </td><td>-0.05711628</td><td>Yes        </td></tr>\n",
       "\t<tr><td>-1.0618597 </td><td> 0.5151717 </td><td>-2.55930060</td><td> 0.55280661</td><td> 1.48373970</td><td> 5.1808250 </td><td> 0.12872997</td><td>Yes        </td></tr>\n",
       "\t<tr><td> 1.6555022 </td><td> 1.0635725 </td><td> 0.52755704</td><td> 0.07769657</td><td>-0.28923035</td><td>-0.9838045 </td><td> 1.24380747</td><td>No         </td></tr>\n",
       "\t<tr><td>-0.7599306 </td><td> 2.1926330 </td><td>-0.93463868</td><td>-0.58745749</td><td>-0.40549069</td><td>-0.3046504 </td><td> 2.54473122</td><td>Yes        </td></tr>\n",
       "\t<tr><td> 2.5612895 </td><td>-0.9364774 </td><td>-0.77217249</td><td>-2.10780962</td><td>-0.76880422</td><td> 1.2277998 </td><td> 1.15088434</td><td>Yes        </td></tr>\n",
       "\t<tr><td>-0.7599306 </td><td>-1.1300306 </td><td>-0.44724011</td><td> 2.16818075</td><td> 1.22215395</td><td> 1.2016785 </td><td>-0.24296253</td><td>No         </td></tr>\n",
       "\t<tr><td> 0.1458567 </td><td>-0.7106653 </td><td> 0.36509085</td><td>-1.34763355</td><td>-1.40823605</td><td>-0.8125648 </td><td>-0.98634753</td><td>No         </td></tr>\n",
       "\t<tr><td>-0.7599306 </td><td>-0.3880766 </td><td>-0.93463868</td><td>-2.01278761</td><td>-1.08852013</td><td> 1.2887496 </td><td>-0.98634753</td><td>No         </td></tr>\n",
       "\t<tr><td> 2.2593604 </td><td> 0.7087249 </td><td> 1.82728657</td><td> 0.36276259</td><td> 0.53912451</td><td>-0.7225914 </td><td> 1.80134622</td><td>Yes        </td></tr>\n",
       "\t<tr><td>-0.7599306 </td><td> 0.9022782 </td><td>-0.28477392</td><td>-0.01732544</td><td>-0.52175102</td><td>-0.4468665 </td><td> 0.96503809</td><td>Yes        </td></tr>\n",
       "\t<tr><td>-1.0618597 </td><td> 0.5796895 </td><td>-0.77217249</td><td>-1.15758954</td><td>-1.56809400</td><td>-0.8590027 </td><td>-0.98634753</td><td>No         </td></tr>\n",
       "\t<tr><td>-0.4580015 </td><td>-0.7106653 </td><td>-0.12230772</td><td>-1.25261155</td><td>-1.81514721</td><td>-0.7777364 </td><td>-0.42880878</td><td>No         </td></tr>\n",
       "\t<tr><td>-0.7599306 </td><td>-0.6784065 </td><td>-0.44724011</td><td>-0.01732544</td><td>-0.12937240</td><td>-0.1711415 </td><td> 0.96503809</td><td>No         </td></tr>\n",
       "\t<tr><td> 0.1458567 </td><td>-1.2268072 </td><td> 1.17742181</td><td>-0.96754552</td><td>-0.52175102</td><td>-0.5397422 </td><td> 0.22165309</td><td>No         </td></tr>\n",
       "\t<tr><td>-1.0618597 </td><td>-0.6461476 </td><td>-0.60970630</td><td>-1.15758954</td><td>-1.72795196</td><td>-0.7283962 </td><td>-0.98634753</td><td>No         </td></tr>\n",
       "\t<tr><td>-0.7599306 </td><td>-1.0977718 </td><td>-0.28477392</td><td> 0.45778460</td><td> 0.68444992</td><td>-0.2959433 </td><td>-0.70757816</td><td>No         </td></tr>\n",
       "\t<tr><td> 1.6555022 </td><td> 1.3861612 </td><td> 1.01495561</td><td>-0.77750151</td><td>-0.30376290</td><td> 0.9520749 </td><td> 0.03580684</td><td>Yes        </td></tr>\n",
       "\t<tr><td>-0.7599306 </td><td>-0.7106653 </td><td>-1.09710487</td><td>-1.82274360</td><td>-1.08852013</td><td> 0.1394119 </td><td>-0.98634753</td><td>No         </td></tr>\n",
       "\t<tr><td>-1.0618597 </td><td> 0.6119483 </td><td>-0.52847320</td><td>-0.30239147</td><td> 1.41107699</td><td>-0.2088723 </td><td>-0.70757816</td><td>Yes        </td></tr>\n",
       "\t<tr><td> 0.4477858 </td><td>-0.4203355 </td><td> 0.04015847</td><td> 1.31298267</td><td> 0.46646180</td><td>-0.6964701 </td><td> 0.12872997</td><td>No         </td></tr>\n",
       "\t<tr><td>-0.4580015 </td><td>-0.3558178 </td><td> 0.20262466</td><td>-0.01732544</td><td>-0.07124223</td><td> 0.5660600 </td><td>-0.42880878</td><td>No         </td></tr>\n",
       "\t<tr><td>⋮</td><td>⋮</td><td>⋮</td><td>⋮</td><td>⋮</td><td>⋮</td><td>⋮</td><td>⋮</td></tr>\n",
       "\t<tr><td> 1.9574313   </td><td> 0.2571007680</td><td>-0.77217249  </td><td> 0.64782862  </td><td> 1.207621414 </td><td>-0.17984861  </td><td> 0.59334559  </td><td>Yes          </td></tr>\n",
       "\t<tr><td>-1.0618597   </td><td> 0.4183951177</td><td>-1.09710487  </td><td>-0.87252351  </td><td>-0.943194720 </td><td>-0.43815936  </td><td>-0.98634753  </td><td>No           </td></tr>\n",
       "\t<tr><td> 1.0516440   </td><td> 2.1281152247</td><td>-1.74696964  </td><td> 0.36276259  </td><td> 0.146745888 </td><td> 0.93756305  </td><td> 0.22165309  </td><td>Yes          </td></tr>\n",
       "\t<tr><td>-0.1560724   </td><td> 1.6764910455</td><td> 0.52755704  </td><td> 0.93289464  </td><td> 0.132213347 </td><td> 1.35550404  </td><td>-0.05711628  </td><td>Yes          </td></tr>\n",
       "\t<tr><td> 1.9574313   </td><td>-0.8719596801</td><td> 0.04015847  </td><td>-1.06256753  </td><td>-1.422768587 </td><td> 0.26711605  </td><td> 2.26596184  </td><td>No           </td></tr>\n",
       "\t<tr><td>-0.7599306   </td><td>-0.4203355008</td><td>-0.93463868  </td><td> 1.59804870  </td><td> 0.379266551 </td><td>-0.25531018  </td><td>-0.70757816  </td><td>No           </td></tr>\n",
       "\t<tr><td> 0.4477858   </td><td>-0.1300056714</td><td> 1.17742181  </td><td> 0.07769657  </td><td> 0.902438043 </td><td>-0.73129852  </td><td> 0.96503809  </td><td>No           </td></tr>\n",
       "\t<tr><td>-0.7599306   </td><td>-0.1622645413</td><td> 0.52755704  </td><td>-0.01732544  </td><td> 0.466461800 </td><td>-0.02021838  </td><td>-0.61465503  </td><td>No           </td></tr>\n",
       "\t<tr><td>-1.0618597   </td><td> 0.6442072073</td><td> 1.01495561  </td><td>-0.30239147  </td><td>-0.071242233 </td><td>-0.20306756  </td><td>-0.89342441  </td><td>No           </td></tr>\n",
       "\t<tr><td>-0.4580015   </td><td> 1.7087499154</td><td> 1.33988800  </td><td> 0.74285062  </td><td> 1.687195281 </td><td> 0.41513682  </td><td>-0.70757816  </td><td>Yes          </td></tr>\n",
       "\t<tr><td>-0.4580015   </td><td>-0.4848532407</td><td>-1.25957106  </td><td>-0.20736946  </td><td>-0.565348642 </td><td>-0.22338413  </td><td>-0.89342441  </td><td>No           </td></tr>\n",
       "\t<tr><td>-1.0618597   </td><td> 0.1603241581</td><td> 1.17742181  </td><td>-0.20736946  </td><td>-0.797869305 </td><td> 0.03492662  </td><td>-0.98634753  </td><td>No           </td></tr>\n",
       "\t<tr><td> 1.3535731   </td><td>-1.8074669084</td><td> 0.04015847  </td><td>-0.58745749  </td><td>-0.129372399 </td><td> 0.28162789  </td><td> 0.96503809  </td><td>No           </td></tr>\n",
       "\t<tr><td>-0.4580015   </td><td>-0.7106653303</td><td>-0.93463868  </td><td>-1.15758954  </td><td> 0.539124507 </td><td>-0.14502020  </td><td>-0.98634753  </td><td>No           </td></tr>\n",
       "\t<tr><td> 2.2593604   </td><td>-0.0332290615</td><td> 0.69002323  </td><td> 0.74285062  </td><td> 1.367479369 </td><td> 0.81856596  </td><td> 1.52257684  </td><td>Yes          </td></tr>\n",
       "\t<tr><td>-0.1560724   </td><td>-0.6138887205</td><td>-2.23436821  </td><td>-0.87252351  </td><td>-0.303762896 </td><td>-0.29884570  </td><td>-0.52173191  </td><td>No           </td></tr>\n",
       "\t<tr><td>-0.7599306   </td><td>-0.3880766309</td><td>-1.09710487  </td><td>-1.06256753  </td><td>-0.638011349 </td><td>-0.82417430  </td><td>-0.89342441  </td><td>No           </td></tr>\n",
       "\t<tr><td> 2.8632186   </td><td> 1.0313136466</td><td> 1.33988800  </td><td> 0.74285062  </td><td> 1.120426165 </td><td> 1.94758710  </td><td> 0.68626872  </td><td>No           </td></tr>\n",
       "\t<tr><td> 2.5612895   </td><td>-0.6784064604</td><td> 1.01495561  </td><td> 0.36276259  </td><td>-0.420023228 </td><td>-0.04343732  </td><td> 1.33673059  </td><td>No           </td></tr>\n",
       "\t<tr><td>-0.7599306   </td><td> 0.8377604270</td><td> 1.82728657  </td><td> 1.12293866  </td><td> 2.384757270 </td><td>-0.42074515  </td><td>-0.42880878  </td><td>Yes          </td></tr>\n",
       "\t<tr><td>-0.1560724   </td><td> 2.1281152247</td><td>-0.12230772  </td><td>-0.68247950  </td><td> 0.510059424 </td><td>-0.27562676  </td><td> 0.40749934  </td><td>Yes          </td></tr>\n",
       "\t<tr><td>-0.7599306   </td><td>-0.0009701916</td><td> 0.52755704  </td><td> 0.93289464  </td><td> 0.887905502 </td><td>-0.70227485  </td><td>-0.33588566  </td><td>No           </td></tr>\n",
       "\t<tr><td>-0.1560724   </td><td>-0.4203355008</td><td>-0.77217249  </td><td>-0.49243548  </td><td>-1.001324885 </td><td>-0.81256483  </td><td>-0.61465503  </td><td>No           </td></tr>\n",
       "\t<tr><td>-1.0618597   </td><td> 1.9345620051</td><td> 1.33988800  </td><td> 1.40800468  </td><td> 1.512804784 </td><td>-0.81546720  </td><td>-0.52173191  </td><td>Yes          </td></tr>\n",
       "\t<tr><td>-0.7599306   </td><td> 0.2248418980</td><td> 1.33988800  </td><td> 0.93289464  </td><td> 0.524591966 </td><td> 1.60801005  </td><td> 0.50042247  </td><td>Yes          </td></tr>\n",
       "\t<tr><td>-0.4580015   </td><td>-1.0655128997</td><td>-1.09710487  </td><td>-0.30239147  </td><td>-0.652543891 </td><td> 0.76342097  </td><td>-0.89342441  </td><td>No           </td></tr>\n",
       "\t<tr><td> 1.6555022   </td><td> 1.5797144357</td><td> 0.20262466  </td><td> 0.17271857  </td><td> 1.614532574 </td><td>-0.29013860  </td><td> 1.05796122  </td><td>Yes          </td></tr>\n",
       "\t<tr><td> 1.9574313   </td><td>-0.6461475905</td><td> 0.36509085  </td><td> 1.78809271  </td><td> 0.001420474 </td><td>-0.96348796  </td><td> 2.91642372  </td><td>No           </td></tr>\n",
       "\t<tr><td> 0.4477858   </td><td>-0.0009701916</td><td> 0.04015847  </td><td>-0.58745749  </td><td>-0.972259803 </td><td>-0.74871273  </td><td>-0.15003941  </td><td>No           </td></tr>\n",
       "\t<tr><td>-0.7599306   </td><td>-0.9042185500</td><td>-0.12230772  </td><td> 0.17271857  </td><td>-0.361893062 </td><td>-0.54554698  </td><td>-0.80050128  </td><td>No           </td></tr>\n",
       "</tbody>\n",
       "</table>\n"
      ],
      "text/latex": [
       "\\begin{tabular}{r|llllllll}\n",
       " npreg & glu & bp & skin & bmi & ped & age & type\\\\\n",
       "\\hline\n",
       "\t  0.4477858  & -1.1300306  & -0.28477392 & -0.11234745 & -0.39095814 & -0.4033309  & -0.70757816 & No         \\\\\n",
       "\t  1.0516440  &  2.3861862  & -0.12230772 &  0.36276259 & -1.13211776 & -0.9867069  &  2.17303872 & Yes        \\\\\n",
       "\t  0.4477858  & -1.4203605  &  0.85248942 &  1.12293866 &  0.42286418 & -1.0070235  &  0.31457622 & No         \\\\\n",
       "\t -1.0618597  &  1.4184201  &  0.36509085 &  1.31298267 &  2.18130169 & -0.7080796  & -0.52173191 & No         \\\\\n",
       "\t -1.0618597  & -0.4525944  & -0.93463868 & -0.39741347 & -0.94319472 & -1.0737779  & -0.80050128 & No         \\\\\n",
       "\t  0.4477858  & -0.7751831  &  0.36509085 & -0.20736946 &  0.39379909 & -0.3626978  &  1.89426934 & Yes        \\\\\n",
       "\t -0.1560724  & -1.2268072  & -1.09710487 &  0.17271857 &  0.20487605 & -0.4845972  & -0.61465503 & No         \\\\\n",
       "\t -0.7599306  &  2.3216684  & -1.74696964 & -1.25261155 & -1.01585743 &  0.4412581  & -0.70757816 & No         \\\\\n",
       "\t -0.1560724  &  0.6764661  &  0.69002323 & -1.34763355 & -0.07124223 & -0.8793193  &  2.91642372 & No         \\\\\n",
       "\t -0.4580015  &  0.2248419  &  0.52755704 &  0.74285062 &  1.51280478 &  2.0927055  & -0.05711628 & Yes        \\\\\n",
       "\t -1.0618597  &  0.5151717  & -2.55930060 &  0.55280661 &  1.48373970 &  5.1808250  &  0.12872997 & Yes        \\\\\n",
       "\t  1.6555022  &  1.0635725  &  0.52755704 &  0.07769657 & -0.28923035 & -0.9838045  &  1.24380747 & No         \\\\\n",
       "\t -0.7599306  &  2.1926330  & -0.93463868 & -0.58745749 & -0.40549069 & -0.3046504  &  2.54473122 & Yes        \\\\\n",
       "\t  2.5612895  & -0.9364774  & -0.77217249 & -2.10780962 & -0.76880422 &  1.2277998  &  1.15088434 & Yes        \\\\\n",
       "\t -0.7599306  & -1.1300306  & -0.44724011 &  2.16818075 &  1.22215395 &  1.2016785  & -0.24296253 & No         \\\\\n",
       "\t  0.1458567  & -0.7106653  &  0.36509085 & -1.34763355 & -1.40823605 & -0.8125648  & -0.98634753 & No         \\\\\n",
       "\t -0.7599306  & -0.3880766  & -0.93463868 & -2.01278761 & -1.08852013 &  1.2887496  & -0.98634753 & No         \\\\\n",
       "\t  2.2593604  &  0.7087249  &  1.82728657 &  0.36276259 &  0.53912451 & -0.7225914  &  1.80134622 & Yes        \\\\\n",
       "\t -0.7599306  &  0.9022782  & -0.28477392 & -0.01732544 & -0.52175102 & -0.4468665  &  0.96503809 & Yes        \\\\\n",
       "\t -1.0618597  &  0.5796895  & -0.77217249 & -1.15758954 & -1.56809400 & -0.8590027  & -0.98634753 & No         \\\\\n",
       "\t -0.4580015  & -0.7106653  & -0.12230772 & -1.25261155 & -1.81514721 & -0.7777364  & -0.42880878 & No         \\\\\n",
       "\t -0.7599306  & -0.6784065  & -0.44724011 & -0.01732544 & -0.12937240 & -0.1711415  &  0.96503809 & No         \\\\\n",
       "\t  0.1458567  & -1.2268072  &  1.17742181 & -0.96754552 & -0.52175102 & -0.5397422  &  0.22165309 & No         \\\\\n",
       "\t -1.0618597  & -0.6461476  & -0.60970630 & -1.15758954 & -1.72795196 & -0.7283962  & -0.98634753 & No         \\\\\n",
       "\t -0.7599306  & -1.0977718  & -0.28477392 &  0.45778460 &  0.68444992 & -0.2959433  & -0.70757816 & No         \\\\\n",
       "\t  1.6555022  &  1.3861612  &  1.01495561 & -0.77750151 & -0.30376290 &  0.9520749  &  0.03580684 & Yes        \\\\\n",
       "\t -0.7599306  & -0.7106653  & -1.09710487 & -1.82274360 & -1.08852013 &  0.1394119  & -0.98634753 & No         \\\\\n",
       "\t -1.0618597  &  0.6119483  & -0.52847320 & -0.30239147 &  1.41107699 & -0.2088723  & -0.70757816 & Yes        \\\\\n",
       "\t  0.4477858  & -0.4203355  &  0.04015847 &  1.31298267 &  0.46646180 & -0.6964701  &  0.12872997 & No         \\\\\n",
       "\t -0.4580015  & -0.3558178  &  0.20262466 & -0.01732544 & -0.07124223 &  0.5660600  & -0.42880878 & No         \\\\\n",
       "\t ⋮ & ⋮ & ⋮ & ⋮ & ⋮ & ⋮ & ⋮ & ⋮\\\\\n",
       "\t  1.9574313    &  0.2571007680 & -0.77217249   &  0.64782862   &  1.207621414  & -0.17984861   &  0.59334559   & Yes          \\\\\n",
       "\t -1.0618597    &  0.4183951177 & -1.09710487   & -0.87252351   & -0.943194720  & -0.43815936   & -0.98634753   & No           \\\\\n",
       "\t  1.0516440    &  2.1281152247 & -1.74696964   &  0.36276259   &  0.146745888  &  0.93756305   &  0.22165309   & Yes          \\\\\n",
       "\t -0.1560724    &  1.6764910455 &  0.52755704   &  0.93289464   &  0.132213347  &  1.35550404   & -0.05711628   & Yes          \\\\\n",
       "\t  1.9574313    & -0.8719596801 &  0.04015847   & -1.06256753   & -1.422768587  &  0.26711605   &  2.26596184   & No           \\\\\n",
       "\t -0.7599306    & -0.4203355008 & -0.93463868   &  1.59804870   &  0.379266551  & -0.25531018   & -0.70757816   & No           \\\\\n",
       "\t  0.4477858    & -0.1300056714 &  1.17742181   &  0.07769657   &  0.902438043  & -0.73129852   &  0.96503809   & No           \\\\\n",
       "\t -0.7599306    & -0.1622645413 &  0.52755704   & -0.01732544   &  0.466461800  & -0.02021838   & -0.61465503   & No           \\\\\n",
       "\t -1.0618597    &  0.6442072073 &  1.01495561   & -0.30239147   & -0.071242233  & -0.20306756   & -0.89342441   & No           \\\\\n",
       "\t -0.4580015    &  1.7087499154 &  1.33988800   &  0.74285062   &  1.687195281  &  0.41513682   & -0.70757816   & Yes          \\\\\n",
       "\t -0.4580015    & -0.4848532407 & -1.25957106   & -0.20736946   & -0.565348642  & -0.22338413   & -0.89342441   & No           \\\\\n",
       "\t -1.0618597    &  0.1603241581 &  1.17742181   & -0.20736946   & -0.797869305  &  0.03492662   & -0.98634753   & No           \\\\\n",
       "\t  1.3535731    & -1.8074669084 &  0.04015847   & -0.58745749   & -0.129372399  &  0.28162789   &  0.96503809   & No           \\\\\n",
       "\t -0.4580015    & -0.7106653303 & -0.93463868   & -1.15758954   &  0.539124507  & -0.14502020   & -0.98634753   & No           \\\\\n",
       "\t  2.2593604    & -0.0332290615 &  0.69002323   &  0.74285062   &  1.367479369  &  0.81856596   &  1.52257684   & Yes          \\\\\n",
       "\t -0.1560724    & -0.6138887205 & -2.23436821   & -0.87252351   & -0.303762896  & -0.29884570   & -0.52173191   & No           \\\\\n",
       "\t -0.7599306    & -0.3880766309 & -1.09710487   & -1.06256753   & -0.638011349  & -0.82417430   & -0.89342441   & No           \\\\\n",
       "\t  2.8632186    &  1.0313136466 &  1.33988800   &  0.74285062   &  1.120426165  &  1.94758710   &  0.68626872   & No           \\\\\n",
       "\t  2.5612895    & -0.6784064604 &  1.01495561   &  0.36276259   & -0.420023228  & -0.04343732   &  1.33673059   & No           \\\\\n",
       "\t -0.7599306    &  0.8377604270 &  1.82728657   &  1.12293866   &  2.384757270  & -0.42074515   & -0.42880878   & Yes          \\\\\n",
       "\t -0.1560724    &  2.1281152247 & -0.12230772   & -0.68247950   &  0.510059424  & -0.27562676   &  0.40749934   & Yes          \\\\\n",
       "\t -0.7599306    & -0.0009701916 &  0.52755704   &  0.93289464   &  0.887905502  & -0.70227485   & -0.33588566   & No           \\\\\n",
       "\t -0.1560724    & -0.4203355008 & -0.77217249   & -0.49243548   & -1.001324885  & -0.81256483   & -0.61465503   & No           \\\\\n",
       "\t -1.0618597    &  1.9345620051 &  1.33988800   &  1.40800468   &  1.512804784  & -0.81546720   & -0.52173191   & Yes          \\\\\n",
       "\t -0.7599306    &  0.2248418980 &  1.33988800   &  0.93289464   &  0.524591966  &  1.60801005   &  0.50042247   & Yes          \\\\\n",
       "\t -0.4580015    & -1.0655128997 & -1.09710487   & -0.30239147   & -0.652543891  &  0.76342097   & -0.89342441   & No           \\\\\n",
       "\t  1.6555022    &  1.5797144357 &  0.20262466   &  0.17271857   &  1.614532574  & -0.29013860   &  1.05796122   & Yes          \\\\\n",
       "\t  1.9574313    & -0.6461475905 &  0.36509085   &  1.78809271   &  0.001420474  & -0.96348796   &  2.91642372   & No           \\\\\n",
       "\t  0.4477858    & -0.0009701916 &  0.04015847   & -0.58745749   & -0.972259803  & -0.74871273   & -0.15003941   & No           \\\\\n",
       "\t -0.7599306    & -0.9042185500 & -0.12230772   &  0.17271857   & -0.361893062  & -0.54554698   & -0.80050128   & No           \\\\\n",
       "\\end{tabular}\n"
      ],
      "text/markdown": [
       "\n",
       "| npreg | glu | bp | skin | bmi | ped | age | type |\n",
       "|---|---|---|---|---|---|---|---|\n",
       "|  0.4477858  | -1.1300306  | -0.28477392 | -0.11234745 | -0.39095814 | -0.4033309  | -0.70757816 | No          |\n",
       "|  1.0516440  |  2.3861862  | -0.12230772 |  0.36276259 | -1.13211776 | -0.9867069  |  2.17303872 | Yes         |\n",
       "|  0.4477858  | -1.4203605  |  0.85248942 |  1.12293866 |  0.42286418 | -1.0070235  |  0.31457622 | No          |\n",
       "| -1.0618597  |  1.4184201  |  0.36509085 |  1.31298267 |  2.18130169 | -0.7080796  | -0.52173191 | No          |\n",
       "| -1.0618597  | -0.4525944  | -0.93463868 | -0.39741347 | -0.94319472 | -1.0737779  | -0.80050128 | No          |\n",
       "|  0.4477858  | -0.7751831  |  0.36509085 | -0.20736946 |  0.39379909 | -0.3626978  |  1.89426934 | Yes         |\n",
       "| -0.1560724  | -1.2268072  | -1.09710487 |  0.17271857 |  0.20487605 | -0.4845972  | -0.61465503 | No          |\n",
       "| -0.7599306  |  2.3216684  | -1.74696964 | -1.25261155 | -1.01585743 |  0.4412581  | -0.70757816 | No          |\n",
       "| -0.1560724  |  0.6764661  |  0.69002323 | -1.34763355 | -0.07124223 | -0.8793193  |  2.91642372 | No          |\n",
       "| -0.4580015  |  0.2248419  |  0.52755704 |  0.74285062 |  1.51280478 |  2.0927055  | -0.05711628 | Yes         |\n",
       "| -1.0618597  |  0.5151717  | -2.55930060 |  0.55280661 |  1.48373970 |  5.1808250  |  0.12872997 | Yes         |\n",
       "|  1.6555022  |  1.0635725  |  0.52755704 |  0.07769657 | -0.28923035 | -0.9838045  |  1.24380747 | No          |\n",
       "| -0.7599306  |  2.1926330  | -0.93463868 | -0.58745749 | -0.40549069 | -0.3046504  |  2.54473122 | Yes         |\n",
       "|  2.5612895  | -0.9364774  | -0.77217249 | -2.10780962 | -0.76880422 |  1.2277998  |  1.15088434 | Yes         |\n",
       "| -0.7599306  | -1.1300306  | -0.44724011 |  2.16818075 |  1.22215395 |  1.2016785  | -0.24296253 | No          |\n",
       "|  0.1458567  | -0.7106653  |  0.36509085 | -1.34763355 | -1.40823605 | -0.8125648  | -0.98634753 | No          |\n",
       "| -0.7599306  | -0.3880766  | -0.93463868 | -2.01278761 | -1.08852013 |  1.2887496  | -0.98634753 | No          |\n",
       "|  2.2593604  |  0.7087249  |  1.82728657 |  0.36276259 |  0.53912451 | -0.7225914  |  1.80134622 | Yes         |\n",
       "| -0.7599306  |  0.9022782  | -0.28477392 | -0.01732544 | -0.52175102 | -0.4468665  |  0.96503809 | Yes         |\n",
       "| -1.0618597  |  0.5796895  | -0.77217249 | -1.15758954 | -1.56809400 | -0.8590027  | -0.98634753 | No          |\n",
       "| -0.4580015  | -0.7106653  | -0.12230772 | -1.25261155 | -1.81514721 | -0.7777364  | -0.42880878 | No          |\n",
       "| -0.7599306  | -0.6784065  | -0.44724011 | -0.01732544 | -0.12937240 | -0.1711415  |  0.96503809 | No          |\n",
       "|  0.1458567  | -1.2268072  |  1.17742181 | -0.96754552 | -0.52175102 | -0.5397422  |  0.22165309 | No          |\n",
       "| -1.0618597  | -0.6461476  | -0.60970630 | -1.15758954 | -1.72795196 | -0.7283962  | -0.98634753 | No          |\n",
       "| -0.7599306  | -1.0977718  | -0.28477392 |  0.45778460 |  0.68444992 | -0.2959433  | -0.70757816 | No          |\n",
       "|  1.6555022  |  1.3861612  |  1.01495561 | -0.77750151 | -0.30376290 |  0.9520749  |  0.03580684 | Yes         |\n",
       "| -0.7599306  | -0.7106653  | -1.09710487 | -1.82274360 | -1.08852013 |  0.1394119  | -0.98634753 | No          |\n",
       "| -1.0618597  |  0.6119483  | -0.52847320 | -0.30239147 |  1.41107699 | -0.2088723  | -0.70757816 | Yes         |\n",
       "|  0.4477858  | -0.4203355  |  0.04015847 |  1.31298267 |  0.46646180 | -0.6964701  |  0.12872997 | No          |\n",
       "| -0.4580015  | -0.3558178  |  0.20262466 | -0.01732544 | -0.07124223 |  0.5660600  | -0.42880878 | No          |\n",
       "| ⋮ | ⋮ | ⋮ | ⋮ | ⋮ | ⋮ | ⋮ | ⋮ |\n",
       "|  1.9574313    |  0.2571007680 | -0.77217249   |  0.64782862   |  1.207621414  | -0.17984861   |  0.59334559   | Yes           |\n",
       "| -1.0618597    |  0.4183951177 | -1.09710487   | -0.87252351   | -0.943194720  | -0.43815936   | -0.98634753   | No            |\n",
       "|  1.0516440    |  2.1281152247 | -1.74696964   |  0.36276259   |  0.146745888  |  0.93756305   |  0.22165309   | Yes           |\n",
       "| -0.1560724    |  1.6764910455 |  0.52755704   |  0.93289464   |  0.132213347  |  1.35550404   | -0.05711628   | Yes           |\n",
       "|  1.9574313    | -0.8719596801 |  0.04015847   | -1.06256753   | -1.422768587  |  0.26711605   |  2.26596184   | No            |\n",
       "| -0.7599306    | -0.4203355008 | -0.93463868   |  1.59804870   |  0.379266551  | -0.25531018   | -0.70757816   | No            |\n",
       "|  0.4477858    | -0.1300056714 |  1.17742181   |  0.07769657   |  0.902438043  | -0.73129852   |  0.96503809   | No            |\n",
       "| -0.7599306    | -0.1622645413 |  0.52755704   | -0.01732544   |  0.466461800  | -0.02021838   | -0.61465503   | No            |\n",
       "| -1.0618597    |  0.6442072073 |  1.01495561   | -0.30239147   | -0.071242233  | -0.20306756   | -0.89342441   | No            |\n",
       "| -0.4580015    |  1.7087499154 |  1.33988800   |  0.74285062   |  1.687195281  |  0.41513682   | -0.70757816   | Yes           |\n",
       "| -0.4580015    | -0.4848532407 | -1.25957106   | -0.20736946   | -0.565348642  | -0.22338413   | -0.89342441   | No            |\n",
       "| -1.0618597    |  0.1603241581 |  1.17742181   | -0.20736946   | -0.797869305  |  0.03492662   | -0.98634753   | No            |\n",
       "|  1.3535731    | -1.8074669084 |  0.04015847   | -0.58745749   | -0.129372399  |  0.28162789   |  0.96503809   | No            |\n",
       "| -0.4580015    | -0.7106653303 | -0.93463868   | -1.15758954   |  0.539124507  | -0.14502020   | -0.98634753   | No            |\n",
       "|  2.2593604    | -0.0332290615 |  0.69002323   |  0.74285062   |  1.367479369  |  0.81856596   |  1.52257684   | Yes           |\n",
       "| -0.1560724    | -0.6138887205 | -2.23436821   | -0.87252351   | -0.303762896  | -0.29884570   | -0.52173191   | No            |\n",
       "| -0.7599306    | -0.3880766309 | -1.09710487   | -1.06256753   | -0.638011349  | -0.82417430   | -0.89342441   | No            |\n",
       "|  2.8632186    |  1.0313136466 |  1.33988800   |  0.74285062   |  1.120426165  |  1.94758710   |  0.68626872   | No            |\n",
       "|  2.5612895    | -0.6784064604 |  1.01495561   |  0.36276259   | -0.420023228  | -0.04343732   |  1.33673059   | No            |\n",
       "| -0.7599306    |  0.8377604270 |  1.82728657   |  1.12293866   |  2.384757270  | -0.42074515   | -0.42880878   | Yes           |\n",
       "| -0.1560724    |  2.1281152247 | -0.12230772   | -0.68247950   |  0.510059424  | -0.27562676   |  0.40749934   | Yes           |\n",
       "| -0.7599306    | -0.0009701916 |  0.52755704   |  0.93289464   |  0.887905502  | -0.70227485   | -0.33588566   | No            |\n",
       "| -0.1560724    | -0.4203355008 | -0.77217249   | -0.49243548   | -1.001324885  | -0.81256483   | -0.61465503   | No            |\n",
       "| -1.0618597    |  1.9345620051 |  1.33988800   |  1.40800468   |  1.512804784  | -0.81546720   | -0.52173191   | Yes           |\n",
       "| -0.7599306    |  0.2248418980 |  1.33988800   |  0.93289464   |  0.524591966  |  1.60801005   |  0.50042247   | Yes           |\n",
       "| -0.4580015    | -1.0655128997 | -1.09710487   | -0.30239147   | -0.652543891  |  0.76342097   | -0.89342441   | No            |\n",
       "|  1.6555022    |  1.5797144357 |  0.20262466   |  0.17271857   |  1.614532574  | -0.29013860   |  1.05796122   | Yes           |\n",
       "|  1.9574313    | -0.6461475905 |  0.36509085   |  1.78809271   |  0.001420474  | -0.96348796   |  2.91642372   | No            |\n",
       "|  0.4477858    | -0.0009701916 |  0.04015847   | -0.58745749   | -0.972259803  | -0.74871273   | -0.15003941   | No            |\n",
       "| -0.7599306    | -0.9042185500 | -0.12230772   |  0.17271857   | -0.361893062  | -0.54554698   | -0.80050128   | No            |\n",
       "\n"
      ],
      "text/plain": [
       "    npreg      glu           bp          skin        bmi          ped        \n",
       "1    0.4477858 -1.1300306    -0.28477392 -0.11234745 -0.39095814  -0.4033309 \n",
       "2    1.0516440  2.3861862    -0.12230772  0.36276259 -1.13211776  -0.9867069 \n",
       "3    0.4477858 -1.4203605     0.85248942  1.12293866  0.42286418  -1.0070235 \n",
       "4   -1.0618597  1.4184201     0.36509085  1.31298267  2.18130169  -0.7080796 \n",
       "5   -1.0618597 -0.4525944    -0.93463868 -0.39741347 -0.94319472  -1.0737779 \n",
       "6    0.4477858 -0.7751831     0.36509085 -0.20736946  0.39379909  -0.3626978 \n",
       "7   -0.1560724 -1.2268072    -1.09710487  0.17271857  0.20487605  -0.4845972 \n",
       "8   -0.7599306  2.3216684    -1.74696964 -1.25261155 -1.01585743   0.4412581 \n",
       "9   -0.1560724  0.6764661     0.69002323 -1.34763355 -0.07124223  -0.8793193 \n",
       "10  -0.4580015  0.2248419     0.52755704  0.74285062  1.51280478   2.0927055 \n",
       "11  -1.0618597  0.5151717    -2.55930060  0.55280661  1.48373970   5.1808250 \n",
       "12   1.6555022  1.0635725     0.52755704  0.07769657 -0.28923035  -0.9838045 \n",
       "13  -0.7599306  2.1926330    -0.93463868 -0.58745749 -0.40549069  -0.3046504 \n",
       "14   2.5612895 -0.9364774    -0.77217249 -2.10780962 -0.76880422   1.2277998 \n",
       "15  -0.7599306 -1.1300306    -0.44724011  2.16818075  1.22215395   1.2016785 \n",
       "16   0.1458567 -0.7106653     0.36509085 -1.34763355 -1.40823605  -0.8125648 \n",
       "17  -0.7599306 -0.3880766    -0.93463868 -2.01278761 -1.08852013   1.2887496 \n",
       "18   2.2593604  0.7087249     1.82728657  0.36276259  0.53912451  -0.7225914 \n",
       "19  -0.7599306  0.9022782    -0.28477392 -0.01732544 -0.52175102  -0.4468665 \n",
       "20  -1.0618597  0.5796895    -0.77217249 -1.15758954 -1.56809400  -0.8590027 \n",
       "21  -0.4580015 -0.7106653    -0.12230772 -1.25261155 -1.81514721  -0.7777364 \n",
       "22  -0.7599306 -0.6784065    -0.44724011 -0.01732544 -0.12937240  -0.1711415 \n",
       "23   0.1458567 -1.2268072     1.17742181 -0.96754552 -0.52175102  -0.5397422 \n",
       "24  -1.0618597 -0.6461476    -0.60970630 -1.15758954 -1.72795196  -0.7283962 \n",
       "25  -0.7599306 -1.0977718    -0.28477392  0.45778460  0.68444992  -0.2959433 \n",
       "26   1.6555022  1.3861612     1.01495561 -0.77750151 -0.30376290   0.9520749 \n",
       "27  -0.7599306 -0.7106653    -1.09710487 -1.82274360 -1.08852013   0.1394119 \n",
       "28  -1.0618597  0.6119483    -0.52847320 -0.30239147  1.41107699  -0.2088723 \n",
       "29   0.4477858 -0.4203355     0.04015847  1.31298267  0.46646180  -0.6964701 \n",
       "30  -0.4580015 -0.3558178     0.20262466 -0.01732544 -0.07124223   0.5660600 \n",
       "⋮   ⋮          ⋮             ⋮           ⋮           ⋮            ⋮          \n",
       "503  1.9574313  0.2571007680 -0.77217249  0.64782862  1.207621414 -0.17984861\n",
       "504 -1.0618597  0.4183951177 -1.09710487 -0.87252351 -0.943194720 -0.43815936\n",
       "505  1.0516440  2.1281152247 -1.74696964  0.36276259  0.146745888  0.93756305\n",
       "506 -0.1560724  1.6764910455  0.52755704  0.93289464  0.132213347  1.35550404\n",
       "507  1.9574313 -0.8719596801  0.04015847 -1.06256753 -1.422768587  0.26711605\n",
       "508 -0.7599306 -0.4203355008 -0.93463868  1.59804870  0.379266551 -0.25531018\n",
       "509  0.4477858 -0.1300056714  1.17742181  0.07769657  0.902438043 -0.73129852\n",
       "510 -0.7599306 -0.1622645413  0.52755704 -0.01732544  0.466461800 -0.02021838\n",
       "511 -1.0618597  0.6442072073  1.01495561 -0.30239147 -0.071242233 -0.20306756\n",
       "512 -0.4580015  1.7087499154  1.33988800  0.74285062  1.687195281  0.41513682\n",
       "513 -0.4580015 -0.4848532407 -1.25957106 -0.20736946 -0.565348642 -0.22338413\n",
       "514 -1.0618597  0.1603241581  1.17742181 -0.20736946 -0.797869305  0.03492662\n",
       "515  1.3535731 -1.8074669084  0.04015847 -0.58745749 -0.129372399  0.28162789\n",
       "516 -0.4580015 -0.7106653303 -0.93463868 -1.15758954  0.539124507 -0.14502020\n",
       "517  2.2593604 -0.0332290615  0.69002323  0.74285062  1.367479369  0.81856596\n",
       "518 -0.1560724 -0.6138887205 -2.23436821 -0.87252351 -0.303762896 -0.29884570\n",
       "519 -0.7599306 -0.3880766309 -1.09710487 -1.06256753 -0.638011349 -0.82417430\n",
       "520  2.8632186  1.0313136466  1.33988800  0.74285062  1.120426165  1.94758710\n",
       "521  2.5612895 -0.6784064604  1.01495561  0.36276259 -0.420023228 -0.04343732\n",
       "522 -0.7599306  0.8377604270  1.82728657  1.12293866  2.384757270 -0.42074515\n",
       "523 -0.1560724  2.1281152247 -0.12230772 -0.68247950  0.510059424 -0.27562676\n",
       "524 -0.7599306 -0.0009701916  0.52755704  0.93289464  0.887905502 -0.70227485\n",
       "525 -0.1560724 -0.4203355008 -0.77217249 -0.49243548 -1.001324885 -0.81256483\n",
       "526 -1.0618597  1.9345620051  1.33988800  1.40800468  1.512804784 -0.81546720\n",
       "527 -0.7599306  0.2248418980  1.33988800  0.93289464  0.524591966  1.60801005\n",
       "528 -0.4580015 -1.0655128997 -1.09710487 -0.30239147 -0.652543891  0.76342097\n",
       "529  1.6555022  1.5797144357  0.20262466  0.17271857  1.614532574 -0.29013860\n",
       "530  1.9574313 -0.6461475905  0.36509085  1.78809271  0.001420474 -0.96348796\n",
       "531  0.4477858 -0.0009701916  0.04015847 -0.58745749 -0.972259803 -0.74871273\n",
       "532 -0.7599306 -0.9042185500 -0.12230772  0.17271857 -0.361893062 -0.54554698\n",
       "    age         type\n",
       "1   -0.70757816 No  \n",
       "2    2.17303872 Yes \n",
       "3    0.31457622 No  \n",
       "4   -0.52173191 No  \n",
       "5   -0.80050128 No  \n",
       "6    1.89426934 Yes \n",
       "7   -0.61465503 No  \n",
       "8   -0.70757816 No  \n",
       "9    2.91642372 No  \n",
       "10  -0.05711628 Yes \n",
       "11   0.12872997 Yes \n",
       "12   1.24380747 No  \n",
       "13   2.54473122 Yes \n",
       "14   1.15088434 Yes \n",
       "15  -0.24296253 No  \n",
       "16  -0.98634753 No  \n",
       "17  -0.98634753 No  \n",
       "18   1.80134622 Yes \n",
       "19   0.96503809 Yes \n",
       "20  -0.98634753 No  \n",
       "21  -0.42880878 No  \n",
       "22   0.96503809 No  \n",
       "23   0.22165309 No  \n",
       "24  -0.98634753 No  \n",
       "25  -0.70757816 No  \n",
       "26   0.03580684 Yes \n",
       "27  -0.98634753 No  \n",
       "28  -0.70757816 Yes \n",
       "29   0.12872997 No  \n",
       "30  -0.42880878 No  \n",
       "⋮   ⋮           ⋮   \n",
       "503  0.59334559 Yes \n",
       "504 -0.98634753 No  \n",
       "505  0.22165309 Yes \n",
       "506 -0.05711628 Yes \n",
       "507  2.26596184 No  \n",
       "508 -0.70757816 No  \n",
       "509  0.96503809 No  \n",
       "510 -0.61465503 No  \n",
       "511 -0.89342441 No  \n",
       "512 -0.70757816 Yes \n",
       "513 -0.89342441 No  \n",
       "514 -0.98634753 No  \n",
       "515  0.96503809 No  \n",
       "516 -0.98634753 No  \n",
       "517  1.52257684 Yes \n",
       "518 -0.52173191 No  \n",
       "519 -0.89342441 No  \n",
       "520  0.68626872 No  \n",
       "521  1.33673059 No  \n",
       "522 -0.42880878 Yes \n",
       "523  0.40749934 Yes \n",
       "524 -0.33588566 No  \n",
       "525 -0.61465503 No  \n",
       "526 -0.52173191 Yes \n",
       "527  0.50042247 Yes \n",
       "528 -0.89342441 No  \n",
       "529  1.05796122 Yes \n",
       "530  2.91642372 No  \n",
       "531 -0.15003941 No  \n",
       "532 -0.80050128 No  "
      ]
     },
     "metadata": {},
     "output_type": "display_data"
    }
   ],
   "source": [
    "pima_scale <- pima[,cbind(BBmisc::normalize(.SD), type), .SDcols = !\"type\"]\n",
    "pima_scale"
   ]
  },
  {
   "cell_type": "code",
   "execution_count": 13,
   "metadata": {},
   "outputs": [
    {
     "data": {
      "image/png": "[encoded data removed]",
      "text/plain": [
       "plot without title"
      ]
     },
     "metadata": {},
     "output_type": "display_data"
    }
   ],
   "source": [
    "pima_scale %>%\n",
    "data.table::melt(id.var = \"type\") %>%\n",
    "ggplot(aes(x = type, y = value)) +\n",
    "geom_boxplot() +\n",
    "facet_wrap(~variable, ncol = 2)"
   ]
  },
  {
   "cell_type": "markdown",
   "metadata": {},
   "source": [
    "With the features scaled, the plot is easier to read. In addition to glucose, it appear that the other features may differ by type, in particular, age."
   ]
  },
  {
   "cell_type": "markdown",
   "metadata": {},
   "source": [
    "Before splitting this into train and test sets, let's have a look at the correlation with the R function, cor(). This will produce a matrix instead of a plot of the Pearson correlations:"
   ]
  },
  {
   "cell_type": "code",
   "execution_count": 14,
   "metadata": {},
   "outputs": [
    {
     "data": {
      "image/png": "[encoded data removed]",
      "text/plain": [
       "Plot with title “”"
      ]
     },
     "metadata": {},
     "output_type": "display_data"
    }
   ],
   "source": [
    "cor(pima_scale[,!\"type\"]) %>%\n",
    "\n",
    "corrplot::corrplot.mixed(upper = \"ellipse\",\n",
    "                         lower = \"number\",\n",
    "                         tl.pos = \"lt\",\n",
    "                         number.cex = .5,\n",
    "                         lower.col = \"black\",\n",
    "                         tl.cex = 0.7)"
   ]
  },
  {
   "cell_type": "markdown",
   "metadata": {},
   "source": [
    "There are a couple of correlations to point out, npreg/age and skin/bmi.  \n",
    "\n",
    "Multi-collinearity is generally not a problem with these methods, assuming that they are properly trained and the hyperparameters are tuned."
   ]
  },
  {
   "cell_type": "code",
   "execution_count": 15,
   "metadata": {},
   "outputs": [
    {
     "data": {
      "text/plain": [
       "\n",
       " No Yes \n",
       "355 177 "
      ]
     },
     "metadata": {},
     "output_type": "display_data"
    }
   ],
   "source": [
    "table(pima_scale$type)"
   ]
  },
  {
   "cell_type": "markdown",
   "metadata": {},
   "source": [
    "## Partitioning the data"
   ]
  },
  {
   "cell_type": "code",
   "execution_count": 16,
   "metadata": {},
   "outputs": [],
   "source": [
    "set.seed(502)"
   ]
  },
  {
   "cell_type": "code",
   "execution_count": 17,
   "metadata": {},
   "outputs": [],
   "source": [
    "train <- pima_scale[,sample(.I, 0.7 * .N)]"
   ]
  },
  {
   "cell_type": "code",
   "execution_count": 18,
   "metadata": {},
   "outputs": [],
   "source": [
    "pima_train <- pima_scale[train]\n",
    "pima_test <- pima_scale[-train]"
   ]
  },
  {
   "cell_type": "markdown",
   "metadata": {},
   "source": [
    "## Build and train a model"
   ]
  },
  {
   "cell_type": "markdown",
   "metadata": {},
   "source": [
    "### Linear model"
   ]
  },
  {
   "cell_type": "markdown",
   "metadata": {},
   "source": [
    "We will use the e1071 package to build our SVM models. We will start with a linear support vector classifier and then move on to the nonlinear versions. The e1071 package has a nice function for SVM called tune.svm(), which assists in the selection of the tuning parameters/kernel functions.\n",
    "\n",
    "The tune.svm() function from the package uses cross-validation to optimize the tuning parameters. Let's create an object called linear.tune and call it using the summary() function, as follows:"
   ]
  },
  {
   "cell_type": "code",
   "execution_count": 19,
   "metadata": {},
   "outputs": [],
   "source": [
    "linear_tune <- e1071::tune.svm(type ~ .,\n",
    "                               data = pima_train,\n",
    "                              kernel = \"linear\",\n",
    "                              cost = c(0.001, 0.01, 0.1, 1, 5, 10))"
   ]
  },
  {
   "cell_type": "markdown",
   "metadata": {},
   "source": [
    "What is \"cost\"?\n",
    "\n",
    "\n",
    "https://www.quora.com/What-is-the-intuition-behind-the-Cost-and-Gamma-parameters-in-SVM\n",
    "> C is how much we penalize the SVM for data points within the margin (where \"within\" can also mean on the wrong side of the dividing hyperplane). Large C means penalize a lot. If your C is large, the SVM will try to find a hyperplane and margin so that there are few very points within the margin, which could mean an overly complex model with a small margin if the points aren't easily separable. A lower C gives higher error on the training set, but finds a larger margin that might be more robust.\n"
   ]
  },
  {
   "cell_type": "code",
   "execution_count": 20,
   "metadata": {
    "scrolled": true
   },
   "outputs": [
    {
     "data": {
      "text/plain": [
       "\n",
       "Parameter tuning of ‘svm’:\n",
       "\n",
       "- sampling method: 10-fold cross validation \n",
       "\n",
       "- best parameters:\n",
       " cost\n",
       " 0.01\n",
       "\n",
       "- best performance: 0.2228307 \n",
       "\n",
       "- Detailed performance results:\n",
       "   cost     error dispersion\n",
       "1 1e-03 0.3088193 0.11535153\n",
       "2 1e-02 0.2228307 0.08720006\n",
       "3 1e-01 0.2255334 0.09228348\n",
       "4 1e+00 0.2255334 0.08777595\n",
       "5 5e+00 0.2255334 0.08777595\n",
       "6 1e+01 0.2254623 0.09356431\n"
      ]
     },
     "metadata": {},
     "output_type": "display_data"
    }
   ],
   "source": [
    "summary(linear_tune)"
   ]
  },
  {
   "cell_type": "markdown",
   "metadata": {},
   "source": [
    "The optimal cost function is one for this data and leads to a misclassification error of roughly 21 percent. We can make predictions on the test data and examine that as  well using the predict() function and applying newdata=test:"
   ]
  },
  {
   "cell_type": "code",
   "execution_count": 21,
   "metadata": {},
   "outputs": [],
   "source": [
    "best_linear <- linear_tune$best.model"
   ]
  },
  {
   "cell_type": "code",
   "execution_count": 22,
   "metadata": {},
   "outputs": [],
   "source": [
    "tune_test <- predict(best_linear, newdata = pima_test)"
   ]
  },
  {
   "cell_type": "code",
   "execution_count": 23,
   "metadata": {},
   "outputs": [
    {
     "data": {
      "text/plain": [
       "Confusion Matrix and Statistics\n",
       "\n",
       "          Reference\n",
       "Prediction No Yes\n",
       "       No  91  34\n",
       "       Yes  7  28\n",
       "                                          \n",
       "               Accuracy : 0.7438          \n",
       "                 95% CI : (0.6688, 0.8094)\n",
       "    No Information Rate : 0.6125          \n",
       "    P-Value [Acc > NIR] : 0.0003224       \n",
       "                                          \n",
       "                  Kappa : 0.4132          \n",
       "                                          \n",
       " Mcnemar's Test P-Value : 4.896e-05       \n",
       "                                          \n",
       "            Sensitivity : 0.4516          \n",
       "            Specificity : 0.9286          \n",
       "         Pos Pred Value : 0.8000          \n",
       "         Neg Pred Value : 0.7280          \n",
       "             Prevalence : 0.3875          \n",
       "         Detection Rate : 0.1750          \n",
       "   Detection Prevalence : 0.2188          \n",
       "      Balanced Accuracy : 0.6901          \n",
       "                                          \n",
       "       'Positive' Class : Yes             \n",
       "                                          "
      ]
     },
     "metadata": {},
     "output_type": "display_data"
    }
   ],
   "source": [
    "caret::confusionMatrix(tune_test, pima_test$type, positive = \"Yes\")"
   ]
  },
  {
   "cell_type": "markdown",
   "metadata": {},
   "source": [
    "### Non-linear model"
   ]
  },
  {
   "cell_type": "markdown",
   "metadata": {},
   "source": [
    "We will now see if non-linear methods will improve our performance and also use cross-validation to select tuning parameters."
   ]
  },
  {
   "cell_type": "markdown",
   "metadata": {},
   "source": [
    "#### Polynomial"
   ]
  },
  {
   "cell_type": "markdown",
   "metadata": {},
   "source": [
    "The first kernel function that we will try is polynomial, and we will be tuning two parameters: a degree of polynomial (degree) and kernel coefficient (coef0). The polynomial order will be 3, 4, and 5 and the coefficient will be in increments from 0.1 to 4, as follows:"
   ]
  },
  {
   "cell_type": "code",
   "execution_count": 24,
   "metadata": {},
   "outputs": [],
   "source": [
    "set.seed(123)\n",
    "poly_tune <- e1071::tune.svm(type ~ .,\n",
    "                            data = pima_train,\n",
    "                            kernel = \"polynomial\",\n",
    "                            degree = 3:5,\n",
    "                            coef0 = c(0.1, 0.5, 1:4))"
   ]
  },
  {
   "cell_type": "code",
   "execution_count": 25,
   "metadata": {},
   "outputs": [
    {
     "data": {
      "text/plain": [
       "\n",
       "Parameter tuning of ‘svm’:\n",
       "\n",
       "- sampling method: 10-fold cross validation \n",
       "\n",
       "- best parameters:\n",
       " degree coef0\n",
       "      3     4\n",
       "\n",
       "- best performance: 0.2390469 \n",
       "\n",
       "- Detailed performance results:\n",
       "   degree coef0     error dispersion\n",
       "1       3   0.1 0.2471550 0.09110213\n",
       "2       4   0.1 0.2577525 0.08614050\n",
       "3       5   0.1 0.2630156 0.08963525\n",
       "4       3   0.5 0.2497155 0.06952563\n",
       "5       4   0.5 0.2524182 0.06368959\n",
       "6       5   0.5 0.2630868 0.08353969\n",
       "7       3   1.0 0.2524893 0.07350908\n",
       "8       4   1.0 0.2686344 0.06638899\n",
       "9       5   1.0 0.2819346 0.07159886\n",
       "10      3   2.0 0.2416785 0.06478624\n",
       "11      4   2.0 0.2874111 0.05967660\n",
       "12      5   2.0 0.2926031 0.08080276\n",
       "13      3   3.0 0.2443812 0.06664852\n",
       "14      4   3.0 0.3007824 0.06651282\n",
       "15      5   3.0 0.2764580 0.08331305\n",
       "16      3   4.0 0.2390469 0.06191213\n",
       "17      4   4.0 0.2874822 0.06651649\n",
       "18      5   4.0 0.2659317 0.05759848\n"
      ]
     },
     "metadata": {},
     "output_type": "display_data"
    }
   ],
   "source": [
    "summary(poly_tune)"
   ]
  },
  {
   "cell_type": "markdown",
   "metadata": {},
   "source": [
    "The model has selected degree of 3 for the polynomial and coefficient of 1. \n",
    "\n",
    "Just as the linear SVM, we can create predictions on the test set with these parameters, as follows:"
   ]
  },
  {
   "cell_type": "code",
   "execution_count": 26,
   "metadata": {},
   "outputs": [],
   "source": [
    "best_poly <- poly_tune$best.model"
   ]
  },
  {
   "cell_type": "code",
   "execution_count": 27,
   "metadata": {},
   "outputs": [],
   "source": [
    "poly_test <- predict(best_poly, newdata = pima_test)"
   ]
  },
  {
   "cell_type": "code",
   "execution_count": 28,
   "metadata": {},
   "outputs": [
    {
     "data": {
      "text/plain": [
       "Confusion Matrix and Statistics\n",
       "\n",
       "          Reference\n",
       "Prediction No Yes\n",
       "       No  80  24\n",
       "       Yes 18  38\n",
       "                                          \n",
       "               Accuracy : 0.7375          \n",
       "                 95% CI : (0.6622, 0.8038)\n",
       "    No Information Rate : 0.6125          \n",
       "    P-Value [Acc > NIR] : 0.0005985       \n",
       "                                          \n",
       "                  Kappa : 0.437           \n",
       "                                          \n",
       " Mcnemar's Test P-Value : 0.4404007       \n",
       "                                          \n",
       "            Sensitivity : 0.6129          \n",
       "            Specificity : 0.8163          \n",
       "         Pos Pred Value : 0.6786          \n",
       "         Neg Pred Value : 0.7692          \n",
       "             Prevalence : 0.3875          \n",
       "         Detection Rate : 0.2375          \n",
       "   Detection Prevalence : 0.3500          \n",
       "      Balanced Accuracy : 0.7146          \n",
       "                                          \n",
       "       'Positive' Class : Yes             \n",
       "                                          "
      ]
     },
     "metadata": {},
     "output_type": "display_data"
    }
   ],
   "source": [
    "caret::confusionMatrix(poly_test, pima_test$type, positive = \"Yes\")"
   ]
  },
  {
   "cell_type": "markdown",
   "metadata": {},
   "source": [
    "This did not perform quite as well as the linear model."
   ]
  },
  {
   "cell_type": "markdown",
   "metadata": {},
   "source": [
    "#### Radial"
   ]
  },
  {
   "cell_type": "markdown",
   "metadata": {},
   "source": [
    "We will now run the radial basis function. In this instance, the one parameter that we will solve for is gamma, which we will examine in increments of 0.1 to 4. If gamma is too small, the model will not capture the complexity of the decision boundary; if it is too large, the model will severely overfit:"
   ]
  },
  {
   "cell_type": "code",
   "execution_count": 29,
   "metadata": {},
   "outputs": [],
   "source": [
    "set.seed(123)\n",
    "rbf_tune <- e1071::tune.svm(type ~ .,\n",
    "                           data = pima_train,\n",
    "                           kernel = \"radial\",\n",
    "                           gamma = c(0.1, 0.5, 1:4))"
   ]
  },
  {
   "cell_type": "markdown",
   "metadata": {},
   "source": [
    "https://www.quora.com/What-is-the-intuition-behind-the-Cost-and-Gamma-parameters-in-SVM\n",
    "\n",
    ">Gamma is not technically an SVM hyperparameter. It is a parameter of the kernel. In the RBF kernel, it adjusts how similar two points must be to be considered \"similar\". You can think of the RBF kernel as constructing a hypersphere around each point, whose density is described by a Gaussian function. The value that the kernel generates for points (a, b) is the density of a's hypersphere at point b. Gamma controls the standard deviation of the Gaussian function. Larger gamma means smaller standard deviation around each point."
   ]
  },
  {
   "cell_type": "code",
   "execution_count": 30,
   "metadata": {},
   "outputs": [
    {
     "data": {
      "text/plain": [
       "\n",
       "Parameter tuning of ‘svm’:\n",
       "\n",
       "- sampling method: 10-fold cross validation \n",
       "\n",
       "- best parameters:\n",
       " gamma\n",
       "   0.1\n",
       "\n",
       "- best performance: 0.2199858 \n",
       "\n",
       "- Detailed performance results:\n",
       "  gamma     error dispersion\n",
       "1   0.1 0.2199858 0.07292183\n",
       "2   0.5 0.2335704 0.08031017\n",
       "3   1.0 0.3011380 0.07199420\n",
       "4   2.0 0.3147226 0.06950525\n",
       "5   3.0 0.3120910 0.08162537\n",
       "6   4.0 0.3093883 0.07754338\n"
      ]
     },
     "metadata": {},
     "output_type": "display_data"
    }
   ],
   "source": [
    "summary(rbf_tune)"
   ]
  },
  {
   "cell_type": "markdown",
   "metadata": {},
   "source": [
    "The best gamma value is 0.1 and the performance at this setting does not seem to improve much over the other SVM models. We will check for the test set as well in the following way:"
   ]
  },
  {
   "cell_type": "code",
   "execution_count": 31,
   "metadata": {},
   "outputs": [],
   "source": [
    "best_rbf <- rbf_tune$best.model"
   ]
  },
  {
   "cell_type": "code",
   "execution_count": 32,
   "metadata": {},
   "outputs": [],
   "source": [
    "rbf_test <- predict(best_rbf, newdata = pima_test)"
   ]
  },
  {
   "cell_type": "code",
   "execution_count": 33,
   "metadata": {},
   "outputs": [
    {
     "data": {
      "text/plain": [
       "Confusion Matrix and Statistics\n",
       "\n",
       "          Reference\n",
       "Prediction No Yes\n",
       "       No  88  28\n",
       "       Yes 10  34\n",
       "                                          \n",
       "               Accuracy : 0.7625          \n",
       "                 95% CI : (0.6889, 0.8261)\n",
       "    No Information Rate : 0.6125          \n",
       "    P-Value [Acc > NIR] : 4.177e-05       \n",
       "                                          \n",
       "                  Kappa : 0.4715          \n",
       "                                          \n",
       " Mcnemar's Test P-Value : 0.00582         \n",
       "                                          \n",
       "            Sensitivity : 0.5484          \n",
       "            Specificity : 0.8980          \n",
       "         Pos Pred Value : 0.7727          \n",
       "         Neg Pred Value : 0.7586          \n",
       "             Prevalence : 0.3875          \n",
       "         Detection Rate : 0.2125          \n",
       "   Detection Prevalence : 0.2750          \n",
       "      Balanced Accuracy : 0.7232          \n",
       "                                          \n",
       "       'Positive' Class : Yes             \n",
       "                                          "
      ]
     },
     "metadata": {},
     "output_type": "display_data"
    }
   ],
   "source": [
    "caret::confusionMatrix(rbf_test, pima_test$type, positive = \"Yes\")"
   ]
  },
  {
   "cell_type": "markdown",
   "metadata": {},
   "source": [
    "The performance is downright abysmal."
   ]
  },
  {
   "cell_type": "markdown",
   "metadata": {},
   "source": [
    "#### Sigmoid"
   ]
  },
  {
   "cell_type": "markdown",
   "metadata": {},
   "source": [
    "One last shot to improve here would be with kernel=\"sigmoid\". We will be solving for two parameters that are gamma and the kernel coefficient (coef0)"
   ]
  },
  {
   "cell_type": "code",
   "execution_count": 34,
   "metadata": {},
   "outputs": [],
   "source": [
    "set.seed(123)\n",
    "sigmoid_tune <- e1071::tune.svm(type ~ .,\n",
    "                               data = pima_train,\n",
    "                               kernel = \"sigmoid\",\n",
    "                               gamma = c(0.1, 0.5, 1:4),\n",
    "                               coef0 = c(0.1, 0.5, 1:4))"
   ]
  },
  {
   "cell_type": "code",
   "execution_count": 35,
   "metadata": {},
   "outputs": [
    {
     "data": {
      "text/plain": [
       "\n",
       "Parameter tuning of ‘svm’:\n",
       "\n",
       "- sampling method: 10-fold cross validation \n",
       "\n",
       "- best parameters:\n",
       " gamma coef0\n",
       "   0.1   0.1\n",
       "\n",
       "- best performance: 0.2227596 \n",
       "\n",
       "- Detailed performance results:\n",
       "   gamma coef0     error dispersion\n",
       "1    0.1   0.1 0.2227596 0.06414278\n",
       "2    0.5   0.1 0.3222617 0.08630233\n",
       "3    1.0   0.1 0.3625889 0.08568948\n",
       "4    2.0   0.1 0.3733997 0.08093676\n",
       "5    3.0   0.1 0.3679943 0.08235982\n",
       "6    4.0   0.1 0.3707681 0.06647360\n",
       "7    0.1   0.5 0.2413940 0.08674584\n",
       "8    0.5   0.5 0.3274538 0.08875961\n",
       "9    1.0   0.5 0.3571835 0.08423340\n",
       "10   2.0   0.5 0.3253912 0.07181210\n",
       "11   3.0   0.5 0.3464438 0.07868061\n",
       "12   4.0   0.5 0.3599573 0.07461214\n",
       "13   0.1   1.0 0.2415363 0.08254660\n",
       "14   0.5   1.0 0.2952347 0.07762484\n",
       "15   1.0   1.0 0.3279516 0.07912796\n",
       "16   2.0   1.0 0.3546942 0.07385163\n",
       "17   3.0   1.0 0.3545519 0.07422453\n",
       "18   4.0   1.0 0.3491465 0.07181148\n",
       "19   0.1   2.0 0.2524893 0.06655552\n",
       "20   0.5   2.0 0.3300853 0.11219054\n",
       "21   1.0   2.0 0.3276671 0.08931944\n",
       "22   2.0   2.0 0.3199147 0.06548091\n",
       "23   3.0   2.0 0.3357041 0.07340348\n",
       "24   4.0   2.0 0.3492176 0.09128749\n",
       "25   0.1   3.0 0.3093883 0.07754338\n",
       "26   0.5   3.0 0.3680654 0.10248253\n",
       "27   1.0   3.0 0.3143670 0.10869712\n",
       "28   2.0   3.0 0.2847795 0.07000158\n",
       "29   3.0   3.0 0.3222617 0.06989008\n",
       "30   4.0   3.0 0.3168563 0.07063786\n",
       "31   0.1   4.0 0.3093883 0.07754338\n",
       "32   0.5   4.0 0.3571124 0.11698192\n",
       "33   1.0   4.0 0.3303698 0.10387708\n",
       "34   2.0   4.0 0.3115220 0.09562494\n",
       "35   3.0   4.0 0.2844239 0.06899652\n",
       "36   4.0   4.0 0.3116643 0.07551246\n"
      ]
     },
     "metadata": {},
     "output_type": "display_data"
    }
   ],
   "source": [
    "summary(sigmoid_tune)"
   ]
  },
  {
   "cell_type": "markdown",
   "metadata": {},
   "source": [
    "This error rate is in line with the linear model. It is now just a matter of whether it performs better on the test set or not:"
   ]
  },
  {
   "cell_type": "code",
   "execution_count": 36,
   "metadata": {},
   "outputs": [],
   "source": [
    "best_sigmoid <- sigmoid_tune$best.model"
   ]
  },
  {
   "cell_type": "code",
   "execution_count": 37,
   "metadata": {},
   "outputs": [],
   "source": [
    "sigmoid_test <- predict(best_sigmoid, newdata = pima_test)"
   ]
  },
  {
   "cell_type": "code",
   "execution_count": 38,
   "metadata": {},
   "outputs": [
    {
     "data": {
      "text/plain": [
       "Confusion Matrix and Statistics\n",
       "\n",
       "          Reference\n",
       "Prediction No Yes\n",
       "       No  82  27\n",
       "       Yes 16  35\n",
       "                                          \n",
       "               Accuracy : 0.7312          \n",
       "                 95% CI : (0.6555, 0.7982)\n",
       "    No Information Rate : 0.6125          \n",
       "    P-Value [Acc > NIR] : 0.001078        \n",
       "                                          \n",
       "                  Kappa : 0.4148          \n",
       "                                          \n",
       " Mcnemar's Test P-Value : 0.127263        \n",
       "                                          \n",
       "            Sensitivity : 0.5645          \n",
       "            Specificity : 0.8367          \n",
       "         Pos Pred Value : 0.6863          \n",
       "         Neg Pred Value : 0.7523          \n",
       "             Prevalence : 0.3875          \n",
       "         Detection Rate : 0.2188          \n",
       "   Detection Prevalence : 0.3187          \n",
       "      Balanced Accuracy : 0.7006          \n",
       "                                          \n",
       "       'Positive' Class : Yes             \n",
       "                                          "
      ]
     },
     "metadata": {},
     "output_type": "display_data"
    }
   ],
   "source": [
    "caret::confusionMatrix(sigmoid_test, pima_test$type, positive = \"Yes\")"
   ]
  },
  {
   "cell_type": "markdown",
   "metadata": {},
   "source": [
    "Lo and behold! We finally have a test performance that is in line with the performance on the train data. It appears that we can choose the sigmoid  kernel as the best predictor.\n",
    "\n",
    "So far we played around with different models. Now, let's evaluate their performance along with the linear model using metrics other than just the accuracy."
   ]
  },
  {
   "cell_type": "markdown",
   "metadata": {},
   "source": [
    "The function produces some items that we already covered such as Accuracy and \n",
    "Kappa. Here are the other stats that it produces:\n",
    "\n",
    "- No Information Rate is the proportion of the largest class—63 percent did not have diabetes.\n",
    "- P-Value is used to test the hypothesis that the accuracy is actually better than No Information Rate.\n",
    "- We will not concern ourselves with Mcnemar's Test, which is used for the analysis of the matched pairs, primarily in epidemiology studies\n",
    "- Sensitivity is the true positive rate; in this case, the rate of those not having diabetes has been correctly identified as such.\n",
    "- Specificity is the true negative rate or, for our purposes, the rate of a diabetic that has been correctly identified.\n",
    "- The positive predictive value (Pos Pred Value) is the probability of someone in the population classified as being diabetic and truly has the disease. The following formula is used:\n",
    "- The negative predictive value (Neg Pred Value) is the probability of someone in the population classified as not being diabetic and truly does not have the disease. The formula for this is as follows:\n",
    "- Prevalence is the estimated population prevalence of the disease, calculated here as the total of the second column (the Yes column) divided by the  total observations.\n",
    "- Detection Rate is the rate of the true positives that have been identified—in our case, 35—divided by the total observations.\n",
    "- Detection Prevalence is the predicted prevalence rate, or in our case, the bottom row divided by the total observations.\n",
    "- Balanced Accuracy is the average accuracy obtained from either class.  This measure accounts for a potential bias in the classifier algorithm,  thus potentially overpredicting the most frequent class. This is simply Sensitivity + Specificity divided by 2."
   ]
  },
  {
   "cell_type": "markdown",
   "metadata": {},
   "source": [
    "## Feature selection"
   ]
  },
  {
   "cell_type": "markdown",
   "metadata": {},
   "source": [
    "All is not lost on feature selection and we want to take some space to show you a quick way in how to begin exploring this matter. It will require some trial and error on your part.\n",
    "\n",
    "Again, the caret package helps out in this matter as it will run a cross-validation on a linear SVM based on the kernlab package."
   ]
  },
  {
   "cell_type": "markdown",
   "metadata": {},
   "source": [
    "To do this, we will need to set the random seed, specify the cross-validation method in the caret's rfeControl() function, perform a recursive feature selection with the rfe() function, and then test how the model performs on the test set.\n",
    "\n",
    "In rfeControl(), you will need to specify the function based on the model being used. There are several different functions that you can use. Here we will need lrFuncs. To see a list of the available functions, your best bet is to explore the documentation with ?rfeControl and ?caretFuncs. The code for this example is as follows:"
   ]
  },
  {
   "cell_type": "code",
   "execution_count": 39,
   "metadata": {},
   "outputs": [],
   "source": [
    "set.seed(123)\n",
    "rfeCNTL <- caret::rfeControl(functions = lrFuncs,\n",
    "                            method = \"cv\",\n",
    "                            number = 10)"
   ]
  },
  {
   "cell_type": "code",
   "execution_count": 40,
   "metadata": {},
   "outputs": [],
   "source": [
    "svm_features <- caret::rfe(pima_train[,1:7],\n",
    "                           pima_train[,type],\n",
    "                          sizes = 7:4,\n",
    "                          rfeControl = rfeCNTL,\n",
    "                          method = \"svmLinear\")"
   ]
  },
  {
   "cell_type": "markdown",
   "metadata": {},
   "source": [
    "To create the svm_features object, it was important to specify the inputs and response factor, number of input features via sizes, and linear method from kernlab, which is the svmLinear syntax. Other options are available using this method, such as svmPoly. No method for a sigmoid kernel is available. Calling the object allows us to see how the various feature sizes perform, as follows:"
   ]
  },
  {
   "cell_type": "code",
   "execution_count": 41,
   "metadata": {},
   "outputs": [
    {
     "data": {
      "text/plain": [
       "\n",
       "Recursive feature selection\n",
       "\n",
       "Outer resampling method: Cross-Validated (10 fold) \n",
       "\n",
       "Resampling performance over subset size:\n",
       "\n",
       " Variables Accuracy  Kappa AccuracySD KappaSD Selected\n",
       "         4   0.7793 0.4577    0.07758  0.1909         \n",
       "         5   0.7765 0.4451    0.08016  0.2016         \n",
       "         6   0.7900 0.4863    0.07085  0.1724        *\n",
       "         7   0.7819 0.4616    0.08148  0.1971         \n",
       "\n",
       "The top 5 variables (out of 6):\n",
       "   glu, age, ped, bmi, skin\n"
      ]
     },
     "metadata": {},
     "output_type": "display_data"
    }
   ],
   "source": [
    "svm_features"
   ]
  },
  {
   "cell_type": "markdown",
   "metadata": {},
   "source": [
    "Counter-intuitive as it is, the four variables perform quite well by themselves as well as when skin and bp are included.\n",
    "\n",
    "Let's try this out on the test set, remembering that the accuracy in the full model was 78 percent:"
   ]
  },
  {
   "cell_type": "code",
   "execution_count": 42,
   "metadata": {},
   "outputs": [],
   "source": [
    "formula5 <- reformulate(svm_features$optVariables, \"type\")"
   ]
  },
  {
   "cell_type": "code",
   "execution_count": 43,
   "metadata": {},
   "outputs": [],
   "source": [
    "svm_5 <- e1071::svm(formula5,\n",
    "                   data = pima_train,\n",
    "                   kernel = \"linear\")"
   ]
  },
  {
   "cell_type": "code",
   "execution_count": 44,
   "metadata": {},
   "outputs": [],
   "source": [
    "svm_5_predict <- predict(svm_5,\n",
    "                        newdata = pima_test)"
   ]
  },
  {
   "cell_type": "code",
   "execution_count": 45,
   "metadata": {},
   "outputs": [
    {
     "data": {
      "text/plain": [
       "Confusion Matrix and Statistics\n",
       "\n",
       "          Reference\n",
       "Prediction No Yes\n",
       "       No  87  29\n",
       "       Yes 11  33\n",
       "                                         \n",
       "               Accuracy : 0.75           \n",
       "                 95% CI : (0.6755, 0.815)\n",
       "    No Information Rate : 0.6125         \n",
       "    P-Value [Acc > NIR] : 0.0001684      \n",
       "                                         \n",
       "                  Kappa : 0.4437         \n",
       "                                         \n",
       " Mcnemar's Test P-Value : 0.0071895      \n",
       "                                         \n",
       "            Sensitivity : 0.5323         \n",
       "            Specificity : 0.8878         \n",
       "         Pos Pred Value : 0.7500         \n",
       "         Neg Pred Value : 0.7500         \n",
       "             Prevalence : 0.3875         \n",
       "         Detection Rate : 0.2062         \n",
       "   Detection Prevalence : 0.2750         \n",
       "      Balanced Accuracy : 0.7100         \n",
       "                                         \n",
       "       'Positive' Class : Yes            \n",
       "                                         "
      ]
     },
     "metadata": {},
     "output_type": "display_data"
    }
   ],
   "source": [
    "caret::confusionMatrix(svm_5_predict, pima_test$type, positive = \"Yes\")"
   ]
  },
  {
   "cell_type": "markdown",
   "metadata": {},
   "source": [
    "This did not perform as well and we can stick with the full model. You can see through trial and error how this technique can play in order to determine some simple identification of feature importance."
   ]
  },
  {
   "cell_type": "code",
   "execution_count": null,
   "metadata": {},
   "outputs": [],
   "source": []
  }
 ],
 "metadata": {
  "kernelspec": {
   "display_name": "R",
   "language": "R",
   "name": "ir"
  },
  "language_info": {
   "codemirror_mode": "r",
   "file_extension": ".r",
   "mimetype": "text/x-r-source",
   "name": "R",
   "pygments_lexer": "r",
   "version": "3.6.1"
  },
  "toc": {
   "nav_menu": {},
   "number_sections": true,
   "sideBar": true,
   "skip_h1_title": false,
   "toc_cell": false,
   "toc_position": {},
   "toc_section_display": "block",
   "toc_window_display": true
  }
 },
 "nbformat": 4,
 "nbformat_minor": 2
}
