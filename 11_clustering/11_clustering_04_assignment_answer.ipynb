{
 "cells": [
  {
   "cell_type": "code",
   "execution_count": null,
   "id": "a8056df9-fb9c-40db-abe6-f04a5953586d",
   "metadata": {},
   "outputs": [],
   "source": [
    "library(data.table) # to handle the data in a more convenient manner\n",
    "library(tidyverse) # for a better work flow and more tools to wrangle and visualize the data\n",
    "library(BBmisc) # for easy normalization of data\n",
    "library(class) # for kNN classification algorithm \n",
    "library(gmodels) # for model evaluation\n",
    "library(plotly) # for interactive visualization\n",
    "options(warn=-1) # for suppressing messages"
   ]
  },
  {
   "cell_type": "code",
   "execution_count": null,
   "id": "e33d10cf-4b3b-4bbd-8303-c5d3634bf282",
   "metadata": {},
   "outputs": [],
   "source": [
    "options(repr.matrix.max.rows=20, repr.matrix.max.cols=15) # for limiting the number of top and bottom rows of tables printed "
   ]
  },
  {
   "cell_type": "code",
   "execution_count": null,
   "id": "28b3677c-73f5-482d-836c-20f764003c88",
   "metadata": {},
   "outputs": [],
   "source": [
    "datapath <- \"~/data_ad454\""
   ]
  },
  {
   "cell_type": "markdown",
   "id": "e7c2567a-cfaa-4f57-85aa-8eb9d71b0d28",
   "metadata": {},
   "source": [
    "# CLUSTERING PROVINCES USING K-MEANS"
   ]
  },
  {
   "cell_type": "markdown",
   "id": "9047784c-419d-40c1-a15d-9099519c1829",
   "metadata": {},
   "source": [
    "In this session, we will revisit the dataset from the Turkish State Meteorological Service's Website following the link:\n",
    "\n",
    "https://www.mgm.gov.tr/veridegerlendirme/il-ve-ilceler-istatistik.aspx"
   ]
  },
  {
   "cell_type": "markdown",
   "id": "92e9f6d2-c002-4d63-8365-172d852befa3",
   "metadata": {},
   "source": [
    "The below table for ANKARA is collected for all 81 provinces, merged with province-region correspondence, month-season correspondence and wrangled"
   ]
  },
  {
   "cell_type": "markdown",
   "id": "cdcabe63-8a69-4b8d-9141-12f96ffc8875",
   "metadata": {},
   "source": [
    "<table xmlns:xalan=\"http://xml.apache.org/xalan\">\n",
    "  <thead>\n",
    "    <tr>\n",
    "      <th style=\"width:22%\">ANKARA</th>\n",
    "      <th style=\"width:6%\">Ocak</th>\n",
    "      <th style=\"width:6%\">Şubat</th>\n",
    "      <th style=\"width:6%\">Mart</th>\n",
    "      <th style=\"width:6%\">Nisan</th>\n",
    "      <th style=\"width:6%\">Mayıs</th>\n",
    "      <th style=\"width:6%\">Haziran</th>\n",
    "      <th style=\"width:6%\">Temmuz</th>\n",
    "      <th style=\"width:6%\">Ağustos</th>\n",
    "      <th style=\"width:6%\">Eylül</th>\n",
    "      <th style=\"width:6%\">Ekim</th>\n",
    "      <th style=\"width:6%\">Kasım</th>\n",
    "      <th style=\"width:6%\">Aralık</th>\n",
    "      <th style=\"width:6%\">Yıllık</th>\n",
    "    </tr>\n",
    "  </thead>\n",
    "  <tbody>\n",
    "    <tr>\n",
    "      <td style=\"border:none;\"> </td>\n",
    "      <th colspan=\"13\">Ölçüm Periyodu ( 1927 - 2020)</th>\n",
    "    </tr>\n",
    "    <tr>\n",
    "      <th>Ortalama Sıcaklık (°C)</th>\n",
    "      <td id=\"d01\">0.2</td>\n",
    "      <td id=\"d02\">1.7</td>\n",
    "      <td id=\"d03\">5.7</td>\n",
    "      <td id=\"d04\">11.2</td>\n",
    "      <td id=\"d05\">16.0</td>\n",
    "      <td id=\"d06\">20.0</td>\n",
    "      <td id=\"d07\">23.4</td>\n",
    "      <td id=\"d08\">23.4</td>\n",
    "      <td id=\"d09\">18.9</td>\n",
    "      <td id=\"d10\">13.2</td>\n",
    "      <td id=\"d11\">7.2</td>\n",
    "      <td id=\"d12\">2.5</td>\n",
    "      <td id=\"d_top\">11.9</td>\n",
    "    </tr>\n",
    "    <tr>\n",
    "      <th>Ortalama En Yüksek Sıcaklık (°C)</th>\n",
    "      <td id=\"e01\">4.2</td>\n",
    "      <td id=\"e02\">6.5</td>\n",
    "      <td id=\"e03\">11.5</td>\n",
    "      <td id=\"e04\">17.4</td>\n",
    "      <td id=\"e05\">22.4</td>\n",
    "      <td id=\"e06\">26.7</td>\n",
    "      <td id=\"e07\">30.3</td>\n",
    "      <td id=\"e08\">30.4</td>\n",
    "      <td id=\"e09\">26.1</td>\n",
    "      <td id=\"e10\">20.0</td>\n",
    "      <td id=\"e11\">13.0</td>\n",
    "      <td id=\"e12\">6.5</td>\n",
    "      <td id=\"d_top2\">17.9</td>\n",
    "    </tr>\n",
    "    <tr>\n",
    "      <th>Ortalama En Düşük Sıcaklık (°C)</th>\n",
    "      <td id=\"f01\">-3.3</td>\n",
    "      <td id=\"f02\">-2.3</td>\n",
    "      <td id=\"f03\">0.7</td>\n",
    "      <td id=\"f04\">5.3</td>\n",
    "      <td id=\"f05\">9.7</td>\n",
    "      <td id=\"f06\">12.9</td>\n",
    "      <td id=\"f07\">15.8</td>\n",
    "      <td id=\"f08\">16.0</td>\n",
    "      <td id=\"f09\">11.8</td>\n",
    "      <td id=\"f10\">7.2</td>\n",
    "      <td id=\"f11\">2.5</td>\n",
    "      <td id=\"f12\">-0.8</td>\n",
    "      <td id=\"d_top3\">6.3</td>\n",
    "    </tr>\n",
    "    <tr>\n",
    "      <th>Ortalama Güneşlenme Süresi (saat)</th>\n",
    "      <td id=\"g01\">2.6</td>\n",
    "      <td id=\"g02\">3.8</td>\n",
    "      <td id=\"g03\">5.1</td>\n",
    "      <td id=\"g04\">6.6</td>\n",
    "      <td id=\"g05\">8.4</td>\n",
    "      <td id=\"g06\">10.1</td>\n",
    "      <td id=\"g07\">11.3</td>\n",
    "      <td id=\"g08\">10.8</td>\n",
    "      <td id=\"g09\">9.2</td>\n",
    "      <td id=\"g10\">6.7</td>\n",
    "      <td id=\"g11\">4.6</td>\n",
    "      <td id=\"g12\">2.6</td>\n",
    "      <td id=\"d_top4\">6.8</td>\n",
    "    </tr>\n",
    "    <tr>\n",
    "      <th>Ortalama Yağışlı Gün Sayısı</th>\n",
    "      <td id=\"h01\">14.7</td>\n",
    "      <td id=\"h02\">13.2</td>\n",
    "      <td id=\"h03\">14.3</td>\n",
    "      <td id=\"h04\">14.5</td>\n",
    "      <td id=\"h05\">16.1</td>\n",
    "      <td id=\"h06\">11.4</td>\n",
    "      <td id=\"h07\">5.6</td>\n",
    "      <td id=\"h08\">4.5</td>\n",
    "      <td id=\"h09\">5.6</td>\n",
    "      <td id=\"h10\">9.0</td>\n",
    "      <td id=\"h11\">10.6</td>\n",
    "      <td id=\"h12\">14.5</td>\n",
    "      <td id=\"d_top5\">134.0</td>\n",
    "    </tr>\n",
    "    <tr>\n",
    "      <th>\n",
    "                Aylık Toplam Yağış Miktarı Ortalaması<span style=\"font-size:.8em;\">\n",
    "                  (mm)\n",
    "                </span></th>\n",
    "      <td id=\"i01\">40.1</td>\n",
    "      <td id=\"i02\">35.4</td>\n",
    "      <td id=\"i03\">39.2</td>\n",
    "      <td id=\"i04\">42.4</td>\n",
    "      <td id=\"i05\">52.0</td>\n",
    "      <td id=\"i06\">35.3</td>\n",
    "      <td id=\"i07\">14.2</td>\n",
    "      <td id=\"i08\">12.5</td>\n",
    "      <td id=\"i09\">18.1</td>\n",
    "      <td id=\"i10\">27.9</td>\n",
    "      <td id=\"i11\">31.5</td>\n",
    "      <td id=\"i12\">44.6</td>\n",
    "      <td id=\"d_top6\">393.2</td>\n",
    "    </tr>\n",
    "    <tr>\n",
    "      <td style=\"border:none;\"> </td>\n",
    "      <th colspan=\"13\">\n",
    "                  Ölçüm Periyodu ( 1927 - 2020)\n",
    "                </th>\n",
    "    </tr>\n",
    "    <tr>\n",
    "      <th style=\"color:#dd4747;\">En Yüksek Sıcaklık (°C)</th>\n",
    "      <td id=\"j01\" title=\"02.01.1995\" style=\"color:#dd4747;\">16.6</td>\n",
    "      <td id=\"j02\" title=\"18.02.2016\" style=\"color:#dd4747;\">21.3</td>\n",
    "      <td id=\"j03\" title=\"31.03.1952\" style=\"color:#dd4747;\">27.8</td>\n",
    "      <td id=\"j04\" title=\"23.04.1928\" style=\"color:#dd4747;\">31.6</td>\n",
    "      <td id=\"j05\" title=\"31.05.1935\" style=\"color:#dd4747;\">34.4</td>\n",
    "      <td id=\"j06\" title=\"27.06.1996\" style=\"color:#dd4747;\">37.0</td>\n",
    "      <td id=\"j07\" title=\"27.07.2012\" style=\"color:#dd4747;\">41.0</td>\n",
    "      <td id=\"j08\" title=\"07.08.2010\" style=\"color:#dd4747;\">40.4</td>\n",
    "      <td id=\"j09\" title=\"03.09.2020\" style=\"color:#dd4747;\">39.1</td>\n",
    "      <td id=\"j10\" title=\"03.10.1952\" style=\"color:#dd4747;\">33.3</td>\n",
    "      <td id=\"j11\" title=\"01.11.1932\" style=\"color:#dd4747;\">24.7</td>\n",
    "      <td id=\"j12\" title=\"02.12.1956\" style=\"color:#dd4747;\">20.4</td>\n",
    "      <td style=\"color:#dd4747;\" id=\"d_top7\">41.0</td>\n",
    "    </tr>\n",
    "    <tr>\n",
    "      <th style=\"color:#437ec1;\">En Düşük Sıcaklık (°C)</th>\n",
    "      <td id=\"k01\" title=\"05.01.1942\" style=\"color:#437ec1;\">-24.9</td>\n",
    "      <td id=\"k02\" title=\"07.02.1932\" style=\"color:#437ec1;\">-24.2</td>\n",
    "      <td id=\"k03\" title=\"02.03.1985\" style=\"color:#437ec1;\">-19.2</td>\n",
    "      <td id=\"k04\" title=\"10.04.1929\" style=\"color:#437ec1;\">-7.2</td>\n",
    "      <td id=\"k05\" title=\"01.05.1981\" style=\"color:#437ec1;\">-1.6</td>\n",
    "      <td id=\"k06\" title=\"09.06.1958\" style=\"color:#437ec1;\">3.8</td>\n",
    "      <td id=\"k07\" title=\"11.07.1958\" style=\"color:#437ec1;\">4.5</td>\n",
    "      <td id=\"k08\" title=\"21.08.1949\" style=\"color:#437ec1;\">5.5</td>\n",
    "      <td id=\"k09\" title=\"29.09.1931\" style=\"color:#437ec1;\">-1.5</td>\n",
    "      <td id=\"k10\" title=\"30.10.1927\" style=\"color:#437ec1;\">-9.8</td>\n",
    "      <td id=\"k11\" title=\"29.11.1948\" style=\"color:#437ec1;\">-17.5</td>\n",
    "      <td id=\"k12\" title=\"31.12.1941\" style=\"color:#437ec1;\">-24.2</td>\n",
    "      <td style=\"color:#437ec1;\" id=\"d_top8\">-24.9</td>\n",
    "    </tr>\n",
    "  </tbody>\n",
    "  <tfoot>\n",
    "    <tr>\n",
    "      <td colspan=\"13\">\n",
    "        <i>En yüksek ve en düşük sıcaklıkların gerçekleşme tarihini görmek için fare imlecini değerlerin üstüne getiriniz.</i>\n",
    "      </td>\n",
    "    </tr>\n",
    "  </tfoot>\n",
    "</table>"
   ]
  },
  {
   "cell_type": "markdown",
   "id": "8a086b9c-597c-48aa-8bb3-bcf2bebc5aa7",
   "metadata": {},
   "source": [
    "The wrangled data set from knn lab is below:"
   ]
  },
  {
   "cell_type": "code",
   "execution_count": null,
   "id": "71927dfa-f8f9-4fce-8fef-5f44a29bfd41",
   "metadata": {},
   "outputs": [],
   "source": [
    "meteo_data4 <- readRDS(sprintf(\"%s/rds/11_01_meteo_data4.rds\", datapath))"
   ]
  },
  {
   "cell_type": "markdown",
   "id": "8c747525-74cd-4ffe-af09-d939d09527f8",
   "metadata": {},
   "source": [
    "Now we will add a dataset including latitude and longitude information for all province centers:"
   ]
  },
  {
   "cell_type": "code",
   "execution_count": null,
   "id": "53cfca15-da45-4ed3-8a01-04e499b13760",
   "metadata": {},
   "outputs": [],
   "source": [
    "coordinates <- fread(sprintf(\"%s/csv/11_02_coordinates.csv\", datapath))"
   ]
  },
  {
   "cell_type": "code",
   "execution_count": null,
   "id": "5ae723d8-fefb-49c5-8cb3-e8b2ab504627",
   "metadata": {},
   "outputs": [],
   "source": [
    "setnames(coordinates, c(\"province\", \"lat\", \"lon\"))"
   ]
  },
  {
   "cell_type": "code",
   "execution_count": null,
   "id": "c4c31f49-7b5e-41f8-b236-b3b5e68c8c5f",
   "metadata": {},
   "outputs": [],
   "source": [
    "coordinates[, province := toupper(province)]"
   ]
  },
  {
   "cell_type": "code",
   "execution_count": null,
   "id": "202e4ed7-0973-421e-8dd5-31f484a1e0bb",
   "metadata": {},
   "outputs": [],
   "source": [
    "coordinates %>% keep(is.numeric) %>% lapply(range)"
   ]
  },
  {
   "cell_type": "code",
   "execution_count": null,
   "id": "746469c7-6029-4c8a-9986-c8dbe7c83891",
   "metadata": {},
   "outputs": [],
   "source": [
    "setdiff(coordinates$province, meteo_data4$province)"
   ]
  },
  {
   "cell_type": "code",
   "execution_count": null,
   "id": "6445927f-2c59-494a-ba52-3444269a8cfc",
   "metadata": {},
   "outputs": [],
   "source": [
    "setdiff(meteo_data4$province, coordinates$province)"
   ]
  },
  {
   "cell_type": "markdown",
   "id": "06e0ad2d-4f22-4a07-be52-3720d21ef399",
   "metadata": {},
   "source": [
    "And we combine the previous dataset with the coordinates:"
   ]
  },
  {
   "cell_type": "code",
   "execution_count": null,
   "id": "8723bbf1-d3e3-4a97-a27d-7f8e293c6ea0",
   "metadata": {},
   "outputs": [],
   "source": [
    "meteo_data5 <- coordinates[meteo_data4, on = \"province\"]"
   ]
  },
  {
   "cell_type": "code",
   "execution_count": null,
   "id": "b73a5961-11a6-4fde-9d20-f686c06c2d9a",
   "metadata": {},
   "outputs": [],
   "source": [
    "meteo_data5 %>% str"
   ]
  },
  {
   "cell_type": "markdown",
   "id": "bc784afc-de6a-4729-bc73-d08858ae34dc",
   "metadata": {},
   "source": [
    "You task is to:\n",
    "\n",
    "- Normalize the dataset (keep original lat and long values)\n",
    "- Conduct k-means clustering analysis to differentiate provinces based on meteorological data (excluding lat lon and region information). Try different methods for finding the optimal k value. Report the metrics for those k values.\n",
    "- Visualize provinces so that each province is a point, original longitude data on the x axis, original latitude data on the y axis and colors are differentiated by the cluster number from the previous step using ggplot. Interpret the plot based on whether there are any provinces that geographically lie too far away from the remaining provinces in the same cluster.\n",
    "- Create a two way contingency table showing the counts across regions and clusters (cluster k may be different from 7, the count of regions). Interpret the table\n",
    "- Conduct another k-means clustering analysis this time including the normalized lat and lon information. Repeat the steps. Is optimal k different than 7? Are there still any geographical outliers?"
   ]
  },
  {
   "cell_type": "markdown",
   "id": "9e6577f7-17db-4818-ab85-2b0fe77f2800",
   "metadata": {},
   "source": [
    "# Answer"
   ]
  },
  {
   "cell_type": "code",
   "execution_count": null,
   "id": "c1a52770-0799-4f67-a866-a73037c444ac",
   "metadata": {},
   "outputs": [],
   "source": [
    "meteo_data6 <- meteo_data5 %>% keep(is.numeric) %>% dplyr::select(-c(\"lat\", \"lon\")) %>% transmute_all(BBmisc::normalize)"
   ]
  },
  {
   "cell_type": "code",
   "execution_count": null,
   "id": "58548ca1-d127-4962-bdeb-96f2b4c6d57f",
   "metadata": {},
   "outputs": [],
   "source": [
    "numWard <- NbClust::NbClust(meteo_data6,\n",
    "                       distance=\"euclidean\",\n",
    "                       min.nc=2,\n",
    "                       max.nc=10,\n",
    "                    #method = \"complete\",\n",
    "                       method=\"ward.D2\",\n",
    "                       index=\"all\")"
   ]
  },
  {
   "cell_type": "code",
   "execution_count": null,
   "id": "c34d2efe-4f49-4aad-8bf6-e55629b73b11",
   "metadata": {},
   "outputs": [],
   "source": [
    "numWard$Best.nc"
   ]
  },
  {
   "cell_type": "code",
   "execution_count": null,
   "id": "285ca104-2804-41ca-9dd1-e87597aa4cb3",
   "metadata": {},
   "outputs": [],
   "source": [
    "dis <- dist(meteo_data6, method = \"euclidian\")"
   ]
  },
  {
   "cell_type": "code",
   "execution_count": null,
   "id": "ae5e969d-24fa-4022-9493-024e52e16cdb",
   "metadata": {},
   "outputs": [],
   "source": [
    "hc <- hclust(dis, method = \"ward.D2\")"
   ]
  },
  {
   "cell_type": "code",
   "execution_count": null,
   "id": "2d14a20e-b857-433e-b3d9-22851314a3b3",
   "metadata": {},
   "outputs": [],
   "source": [
    "plot(hc, hang = -1, labels = F, main = \"Complete-Linkage\")"
   ]
  },
  {
   "cell_type": "code",
   "execution_count": null,
   "id": "7c3a1adb-425b-4de5-a89f-eb67dcd1011f",
   "metadata": {},
   "outputs": [],
   "source": [
    "hc %>%\n",
    "    as.dendrogram %>%\n",
    "    dendextend::color_branches(k = 3) %>%\n",
    "    plot"
   ]
  },
  {
   "cell_type": "code",
   "execution_count": null,
   "id": "7fec6021-aaa2-41a8-be5e-94c61bbb768a",
   "metadata": {},
   "outputs": [],
   "source": [
    "comp3 <- cutree(hc, 3)"
   ]
  },
  {
   "cell_type": "code",
   "execution_count": null,
   "id": "1457d6f3-fbcb-43a0-a8bc-7c9839b2d917",
   "metadata": {},
   "outputs": [],
   "source": [
    "comp3"
   ]
  },
  {
   "cell_type": "code",
   "execution_count": null,
   "id": "15b32ac2-7ba1-450a-b3e4-6d7e5f0e4a42",
   "metadata": {},
   "outputs": [],
   "source": [
    "meteo_data7 <- cbind(meteo_data5, regionnew = as.factor(comp3))"
   ]
  },
  {
   "cell_type": "code",
   "execution_count": null,
   "id": "84aa5201-8ce1-4529-8884-21056d3b96ca",
   "metadata": {},
   "outputs": [],
   "source": [
    "options(repr.plot.width = 10, repr.plot.height = 10)\n",
    "\n",
    "meteo_data7 %>%\n",
    "ggplot(aes(x = lon, y = lat, color = regionnew, label=province)) +\n",
    "geom_point() +\n",
    "geom_text()"
   ]
  },
  {
   "cell_type": "code",
   "execution_count": null,
   "id": "ba0c3452-7a9b-4951-a611-db3f83fbcd65",
   "metadata": {},
   "outputs": [],
   "source": [
    "fstats <- meteo_data7 %>% keep(is.numeric) %>% lapply(function(x) aov(x ~ comp3, data.table(x, comp3))) %>%\n",
    "                                                      lapply(summary) %>% lapply(function(x) x[[1]]$`Pr(>F)`[1]) %>% unlist %>% sort"
   ]
  },
  {
   "cell_type": "code",
   "execution_count": null,
   "id": "ce7ece1c-f2dc-4deb-802b-2d0b4c78488e",
   "metadata": {},
   "outputs": [],
   "source": [
    "meteo_data7 %>% dplyr::select(c(\"regionnew\", names(fstats[1:6]))) %>% group_by(regionnew) %>% summarise_if(is.numeric, mean)"
   ]
  },
  {
   "cell_type": "markdown",
   "id": "2d080339-98cd-402e-9971-ab50df26d386",
   "metadata": {},
   "source": [
    "- Groups are mostly differentiated across latituted although latitude was not a feature used in clustering\n",
    "- Group 1 is mostly comprised of southern provinces closer to the sea and southeastern provinces. Temperatures and day-night temperature differences are higher and summer rain is lower\n",
    "- Group 2 is mostly comprised of inner provinces mostly in mid latitudes. Temparatures are lower, temperature difference is high and summer rain is in between\n",
    "- Group 3 is mostly comprised of higher latitutede provinces closer to sea. Temperatures are slightly higher than Group 2, temperature differences are lower and summer rain is higher"
   ]
  },
  {
   "cell_type": "code",
   "execution_count": null,
   "id": "62ea9bc1-4238-49f0-8aff-959198bb9d5e",
   "metadata": {},
   "outputs": [],
   "source": []
  }
 ],
 "metadata": {
  "kernelspec": {
   "display_name": "R",
   "language": "R",
   "name": "ir"
  },
  "language_info": {
   "codemirror_mode": "r",
   "file_extension": ".r",
   "mimetype": "text/x-r-source",
   "name": "R",
   "pygments_lexer": "r",
   "version": "4.1.0"
  }
 },
 "nbformat": 4,
 "nbformat_minor": 5
}
