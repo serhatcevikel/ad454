{
 "cells": [
  {
   "cell_type": "markdown",
   "metadata": {},
   "source": [
    "# HIERARCHICAL CLUSTERING WITH WINE DATA"
   ]
  },
  {
   "cell_type": "markdown",
   "metadata": {},
   "source": [
    "Adapted from Lesmeister (2015) Chapter 8.\n",
    "\n",
    "We will now use Wine Data Set from UCIML:\n",
    "https://archive.ics.uci.edu/ml/datasets/wine\n",
    "\n",
    "* These data are the results of a chemical analysis of wines grown in the same region in Italy but derived from three different cultivars\n",
    "* The analysis determined the quantities of 13 constituents found in each of the three types of wines. \n",
    "* The attributes are:\n",
    "    - Alcohol\n",
    "    - Malic acid\n",
    "    - Ash\n",
    "    - Alcalinity of ash\n",
    "    - Magnesium\n",
    "    - Total phenols\n",
    "    - Flavanoids\n",
    "    - Nonflavanoid phenols\n",
    "    - Proanthocyanins\n",
    "    - Color intensity\n",
    "    - Hue\n",
    "    - OD280/OD315 of diluted wines\n",
    "    - Proline "
   ]
  },
  {
   "cell_type": "markdown",
   "metadata": {},
   "source": [
    "## Load libraries and dataset"
   ]
  },
  {
   "cell_type": "code",
   "execution_count": null,
   "metadata": {},
   "outputs": [],
   "source": [
    "library(data.table) # to handle the data in a more convenient manner\n",
    "library(tidyverse) # for a better work flow and more tools to wrangle and visualize the data\n",
    "library(plotly) # for interactive visualizations\n",
    "library(cluster) # for cluster analysis\n",
    "library(compareGroups) # for building descriptive statistics tables\n",
    "library(HDclassif) # for the dataset\n",
    "library(NbClust) # for cluster validity measures\n",
    "#library(sparcl) # colored dendrograms. Not available for R 3.4.4 - version at binder\n",
    "library(heatmaply) # visualize clusters with heatmap and dendrograms\n",
    "library(dendextend) # enhanced dendrograms\n",
    "library(circlize) # circular visualization\n",
    "library(factoextra) # visualizing distances, cluster, heatmap\n",
    "library(fastcluster) # faster hclust implementation\n",
    "library(microbenchmark) # performance benchmarking\n",
    "library(caret) # for confusion matrix\n",
    "library(gmodels) # for confusion matrix"
   ]
  },
  {
   "cell_type": "code",
   "execution_count": null,
   "metadata": {},
   "outputs": [],
   "source": [
    "options(repr.matrix.max.rows=20, repr.matrix.max.cols=15) # for limiting the number of top and bottom rows of tables printed "
   ]
  },
  {
   "cell_type": "code",
   "execution_count": null,
   "metadata": {},
   "outputs": [],
   "source": [
    "datapath <- \"~/data_ad454\""
   ]
  },
  {
   "cell_type": "code",
   "execution_count": null,
   "metadata": {},
   "outputs": [],
   "source": [
    "data(\"wine\", package = \"HDclassif\")"
   ]
  },
  {
   "cell_type": "code",
   "execution_count": null,
   "metadata": {},
   "outputs": [],
   "source": [
    "wine_dt <- as.data.table(wine)"
   ]
  },
  {
   "cell_type": "code",
   "execution_count": null,
   "metadata": {},
   "outputs": [],
   "source": [
    "setnames(wine_dt,\n",
    "         c(\"Class\", \"Alcohol\", \"MalicAcid\", \"Ash\", \"Alk_ash\",\n",
    "           \"magnesium\", \"T_phenols\", \"Flavanoids\", \"Non_flav\",\n",
    "           \"Proantho\", \"C_Intensity\", \"Hue\", \"OD280_315\", \"Proline\"))"
   ]
  },
  {
   "cell_type": "markdown",
   "metadata": {},
   "source": [
    "## Explore and transform"
   ]
  },
  {
   "cell_type": "code",
   "execution_count": null,
   "metadata": {},
   "outputs": [],
   "source": [
    "str(wine_dt)"
   ]
  },
  {
   "cell_type": "markdown",
   "metadata": {},
   "source": [
    "Normalize variables:"
   ]
  },
  {
   "cell_type": "code",
   "execution_count": null,
   "metadata": {},
   "outputs": [],
   "source": [
    "wine_dtz <- wine_dt[,BBmisc::normalize(.SD), .SDcols = !\"Class\"]"
   ]
  },
  {
   "cell_type": "markdown",
   "metadata": {},
   "source": [
    "See whether normalized:"
   ]
  },
  {
   "cell_type": "code",
   "execution_count": null,
   "metadata": {},
   "outputs": [],
   "source": [
    "wine_dtz %>% sapply(quantile, na.rm = T) %>% t()"
   ]
  },
  {
   "cell_type": "markdown",
   "metadata": {},
   "source": [
    "View the distribution of cultivar classes:"
   ]
  },
  {
   "cell_type": "code",
   "execution_count": null,
   "metadata": {},
   "outputs": [],
   "source": [
    "wine_factors <- wine_dt[,.(Class)] %>% # convert into long format for faceting\n",
    "    ggplot(aes(x = Class)) + # plot value\n",
    "    geom_bar()\n",
    "\n",
    "plotly::ggplotly(wine_factors)"
   ]
  },
  {
   "cell_type": "markdown",
   "metadata": {},
   "source": [
    "## Optimal clusters"
   ]
  },
  {
   "cell_type": "markdown",
   "metadata": {},
   "source": [
    "Methods for forming clusters is as follows:\n",
    "\n",
    "- Ward: This minimizes the total within-cluster variance as measured by the sum of squared errors from the cluster points to its centroid\n",
    "- Complete: Distance between two clusters is the maximum distance between an observation in one cluster and an observation in the other cluster\n",
    "- Single: Distance between two clusters is the minimum distance between an observation in one cluster and an observation in the other cluster\n",
    "- Average: Distance between two clusters is the mean distance between an observation in one cluster and an observation in the other cluster\n",
    "- Centroid: Distance between two clusters is the distance between the cluster centroids"
   ]
  },
  {
   "cell_type": "markdown",
   "metadata": {},
   "source": [
    "The complete linkage method results in the distance between any two clusters that is the maximum distance between any one observation in a cluster and any one observation in the other cluster. Ward's linkage method seeks to cluster the observations in order to minimize the within-cluster sum of squares."
   ]
  },
  {
   "cell_type": "code",
   "execution_count": null,
   "metadata": {},
   "outputs": [],
   "source": [
    "numComplete <- NbClust::NbClust(wine_dtz,\n",
    "                       distance=\"euclidean\",\n",
    "                       min.nc=2,\n",
    "                       max.nc=6,\n",
    "                       method=\"complete\",\n",
    "                       index=\"all\")"
   ]
  },
  {
   "cell_type": "markdown",
   "metadata": {},
   "source": [
    "Going with the majority rules method, we would select three clusters as the optimal solution, at least for hierarchical clustering. The two plots that are produced contain two graphs each.\n",
    "\n",
    "As the preceding output states that you are looking for a significant knee in the plot (the graph on the left-hand side) and the peak of the graph on the right-hand side"
   ]
  },
  {
   "cell_type": "markdown",
   "metadata": {},
   "source": [
    "For the complete method, 23 different metrics are calculated for different cluster k's. The best cluster number proposed by each index is as follows:"
   ]
  },
  {
   "cell_type": "code",
   "execution_count": null,
   "metadata": {},
   "outputs": [],
   "source": [
    "numComplete$Best.nc"
   ]
  },
  {
   "cell_type": "markdown",
   "metadata": {},
   "source": [
    "## Clustering with Complete Linkage"
   ]
  },
  {
   "cell_type": "markdown",
   "metadata": {},
   "source": [
    "### Distances"
   ]
  },
  {
   "cell_type": "markdown",
   "metadata": {},
   "source": [
    "Now let's calculate the distance matrix, using the base stats package:"
   ]
  },
  {
   "cell_type": "code",
   "execution_count": null,
   "metadata": {},
   "outputs": [],
   "source": [
    "dis <- dist(wine_dtz, method = \"euclidian\")"
   ]
  },
  {
   "cell_type": "markdown",
   "metadata": {},
   "source": [
    "Or factoextra package:"
   ]
  },
  {
   "cell_type": "code",
   "execution_count": null,
   "metadata": {},
   "outputs": [],
   "source": [
    "dis2 <- factoextra::get_dist(wine_dtz)"
   ]
  },
  {
   "cell_type": "markdown",
   "metadata": {},
   "source": [
    "And we can visualize the distances:"
   ]
  },
  {
   "cell_type": "code",
   "execution_count": null,
   "metadata": {},
   "outputs": [],
   "source": [
    "factoextra::fviz_dist(dis)"
   ]
  },
  {
   "cell_type": "markdown",
   "metadata": {},
   "source": [
    "The three cultivars are nearyly apparent in the distance matrix"
   ]
  },
  {
   "cell_type": "markdown",
   "metadata": {},
   "source": [
    "### Hierarchical clustering"
   ]
  },
  {
   "cell_type": "markdown",
   "metadata": {},
   "source": [
    "We run the cluster algorithm with the complete method:"
   ]
  },
  {
   "cell_type": "code",
   "execution_count": null,
   "metadata": {},
   "outputs": [],
   "source": [
    "hc <- hclust(dis, method = \"complete\")"
   ]
  },
  {
   "cell_type": "code",
   "execution_count": null,
   "metadata": {},
   "outputs": [],
   "source": [
    "hc"
   ]
  },
  {
   "cell_type": "markdown",
   "metadata": {},
   "source": [
    "And visualize as a dendrogram:"
   ]
  },
  {
   "cell_type": "code",
   "execution_count": null,
   "metadata": {},
   "outputs": [],
   "source": [
    "plot(hc, hang = -1, labels = F, main = \"Complete-Linkage\")"
   ]
  },
  {
   "cell_type": "markdown",
   "metadata": {},
   "source": [
    "Hierarchical clustering does not define specific clusters, but rather defines the dendrogram above.\n",
    "\n",
    "From the dendrogram we can decipher the distance between any two groups by looking at the height at which the two groups split into two.\n",
    "\n",
    "(http://genomicsclass.github.io/book/pages/clustering_and_heatmaps.html)"
   ]
  },
  {
   "cell_type": "markdown",
   "metadata": {},
   "source": [
    "We can also create a colored dendrogram to diffentiate the clusters better:"
   ]
  },
  {
   "cell_type": "code",
   "execution_count": null,
   "metadata": {},
   "outputs": [],
   "source": [
    "comp3 <- cutree(hc, 3)"
   ]
  },
  {
   "cell_type": "code",
   "execution_count": null,
   "metadata": {},
   "outputs": [],
   "source": [
    "# The version of R at binder deployment is 3.4.4 and sparcl package currently requires a higher version.\n",
    "\n",
    "#sparcl::ColorDendrogram(hc,\n",
    "#                       y = comp3,\n",
    "#                       main = \"Complete\",\n",
    "#                       branchlength = 50)"
   ]
  },
  {
   "cell_type": "code",
   "execution_count": null,
   "metadata": {},
   "outputs": [],
   "source": [
    "hc %>%\n",
    "    as.dendrogram %>%\n",
    "    dendextend::color_branches(k = 3) %>%\n",
    "    plot"
   ]
  },
  {
   "cell_type": "markdown",
   "metadata": {},
   "source": [
    "We can also draw a circular dendrogram using dendextend package:"
   ]
  },
  {
   "cell_type": "code",
   "execution_count": null,
   "metadata": {},
   "outputs": [],
   "source": [
    "hc %>%\n",
    "    as.dendrogram %>%\n",
    "    dendextend::color_branches(k = 3) %>%\n",
    "    dendextend::circlize_dendrogram()"
   ]
  },
  {
   "cell_type": "markdown",
   "metadata": {},
   "source": [
    "## Cluster vs classes"
   ]
  },
  {
   "cell_type": "markdown",
   "metadata": {},
   "source": [
    "Clustering is an unsupervised method: We don't try to predict classes but instead try to detect patterns in data\n",
    "\n",
    "But in this case we have classes, so we can compare whether the three classes coincide with the clusters:"
   ]
  },
  {
   "cell_type": "code",
   "execution_count": null,
   "metadata": {},
   "outputs": [],
   "source": [
    "table(comp3, wine_dt$Class) %>% caret::confusionMatrix()"
   ]
  },
  {
   "cell_type": "markdown",
   "metadata": {},
   "source": [
    "The clusters coincide with the classes 83.7 % of the time"
   ]
  },
  {
   "cell_type": "markdown",
   "metadata": {},
   "source": [
    "## Clustering with Ward's Linkage"
   ]
  },
  {
   "cell_type": "code",
   "execution_count": null,
   "metadata": {},
   "outputs": [],
   "source": [
    "NbClust::NbClust(wine_dtz,\n",
    "                    distance = \"euclidean\",\n",
    "                    diss = NULL,\n",
    "                    min.nc = 2,\n",
    "                    max.nc = 6,\n",
    "                    method = \"ward.D2\",\n",
    "                    index = \"all\")"
   ]
  },
  {
   "cell_type": "markdown",
   "metadata": {},
   "source": [
    "This time around also, the majority rules was for a three cluster solution"
   ]
  },
  {
   "cell_type": "markdown",
   "metadata": {},
   "source": [
    "### Hierarchical clustering"
   ]
  },
  {
   "cell_type": "markdown",
   "metadata": {},
   "source": [
    "Run the cluster algorithm with Ward's linkage:"
   ]
  },
  {
   "cell_type": "code",
   "execution_count": null,
   "metadata": {},
   "outputs": [],
   "source": [
    "hcWard <- stats::hclust(dis, method = \"ward.D2\")"
   ]
  },
  {
   "cell_type": "markdown",
   "metadata": {},
   "source": [
    "fastcluster package provides the same functionality however much faster:"
   ]
  },
  {
   "cell_type": "code",
   "execution_count": null,
   "metadata": {},
   "outputs": [],
   "source": [
    "hcWard2 <- fastcluster::hclust(dis, method = \"ward.D2\")"
   ]
  },
  {
   "cell_type": "code",
   "execution_count": null,
   "metadata": {},
   "outputs": [],
   "source": [
    "hcWard\n",
    "hcWard2"
   ]
  },
  {
   "cell_type": "markdown",
   "metadata": {},
   "source": [
    "Let's compare whether labeling for 3 clusters is identical:"
   ]
  },
  {
   "cell_type": "code",
   "execution_count": null,
   "metadata": {},
   "outputs": [],
   "source": [
    "identical(cutree(hcWard2, 3), cutree(hcWard, 3))"
   ]
  },
  {
   "cell_type": "markdown",
   "metadata": {},
   "source": [
    "And let's compare the performance:"
   ]
  },
  {
   "cell_type": "code",
   "execution_count": null,
   "metadata": {},
   "outputs": [],
   "source": [
    "microbenchmark::microbenchmark(stats::hclust(dis, method = \"ward.D2\"),\n",
    "                               fastcluster::hclust(dis, method = \"ward.D2\"), times = 5) %>% summary() %>% t"
   ]
  },
  {
   "cell_type": "markdown",
   "metadata": {},
   "source": [
    "fastcluster package is at least 3 times faster"
   ]
  },
  {
   "cell_type": "markdown",
   "metadata": {},
   "source": [
    "Define the cluster cuts:"
   ]
  },
  {
   "cell_type": "code",
   "execution_count": null,
   "metadata": {},
   "outputs": [],
   "source": [
    "ward3w <- cutree(hcWard, 3)"
   ]
  },
  {
   "cell_type": "markdown",
   "metadata": {},
   "source": [
    "And plot the dendrogram:"
   ]
  },
  {
   "cell_type": "code",
   "execution_count": null,
   "metadata": {},
   "outputs": [],
   "source": [
    "# The version of R at binder deployment is 3.4.4 and sparcl package currently requires a higher version.\n",
    "\n",
    "#sparcl::ColorDendrogram(hcWard,\n",
    "#                       y = ward3w,\n",
    "#                       main = \"Complete\",\n",
    "#                       branchlength = 50)"
   ]
  },
  {
   "cell_type": "code",
   "execution_count": null,
   "metadata": {},
   "outputs": [],
   "source": [
    "hcWard %>%\n",
    "    as.dendrogram %>%\n",
    "    dendextend::color_branches(k = 3) %>%\n",
    "    plot"
   ]
  },
  {
   "cell_type": "markdown",
   "metadata": {},
   "source": [
    "And let's compare classes and clusters:"
   ]
  },
  {
   "cell_type": "code",
   "execution_count": null,
   "metadata": {},
   "outputs": [],
   "source": [
    "table(ward3w, wine_dt$Class) %>% caret::confusionMatrix()"
   ]
  },
  {
   "cell_type": "markdown",
   "metadata": {},
   "source": [
    "Ward matches the actual classes better than the Complete method"
   ]
  },
  {
   "cell_type": "markdown",
   "metadata": {},
   "source": [
    "We can also compare the two methods:"
   ]
  },
  {
   "cell_type": "code",
   "execution_count": null,
   "metadata": {},
   "outputs": [],
   "source": [
    "table(ward3w, comp3)"
   ]
  },
  {
   "cell_type": "markdown",
   "metadata": {},
   "source": [
    "We can compare the dendrogram from both methods:"
   ]
  },
  {
   "cell_type": "code",
   "execution_count": null,
   "metadata": {},
   "outputs": [],
   "source": [
    "wine_dends <- lapply(list(hc, hcWard),\n",
    "                          function(x) as.dendrogram(x) %>%\n",
    "                          dendextend::color_branches(k = 3)) %>%\n",
    "                        dendextend::as.dendlist()"
   ]
  },
  {
   "cell_type": "code",
   "execution_count": null,
   "metadata": {},
   "outputs": [],
   "source": [
    "names(wine_dends) <- c(\"complete\", \"ward.D2\")"
   ]
  },
  {
   "cell_type": "code",
   "execution_count": null,
   "metadata": {},
   "outputs": [],
   "source": [
    "wine_dends %>%\n",
    "    dendextend::dendlist(which = 1:2) %>%\n",
    "    dendextend::ladderize() %>%\n",
    "    #set(\"branches_k_color\", k=3) %>%\n",
    "    #set(\"rank_branches\") %>%\n",
    "    dendextend::tanglegram(faster = TRUE)\n",
    "    #tanglegram(common_subtrees_color_branches = TRUE)"
   ]
  },
  {
   "cell_type": "markdown",
   "metadata": {},
   "source": [
    "We see that ward method created a smaller cluster 1 (69 vs 64) and larger cluster 3 (51 ca 56). cluster 2 is the same in both methods (58):"
   ]
  },
  {
   "cell_type": "code",
   "execution_count": null,
   "metadata": {},
   "outputs": [],
   "source": [
    "gmodels::CrossTable(ward3w, comp3, prop.r=F, prop.c=F,\n",
    "           prop.t=F, prop.chisq=F)"
   ]
  },
  {
   "cell_type": "markdown",
   "metadata": {},
   "source": [
    "## Explore data across clusters"
   ]
  },
  {
   "cell_type": "markdown",
   "metadata": {},
   "source": [
    "Now that we have the cluster info, we can add the cluster labels back into the original data to explore the differences across:"
   ]
  },
  {
   "cell_type": "code",
   "execution_count": null,
   "metadata": {},
   "outputs": [],
   "source": [
    "wine_dt[, c(\"ward3w\", \"comp3\") := .(ward3w, comp3)]"
   ]
  },
  {
   "cell_type": "code",
   "execution_count": null,
   "metadata": {},
   "outputs": [],
   "source": [
    "wine_dt"
   ]
  },
  {
   "cell_type": "code",
   "execution_count": null,
   "metadata": {},
   "outputs": [],
   "source": [
    "wine_dt[,lapply(.SD, mean), by = ward3w, .SDcols = -c(\"Class\", \"comp3\")]"
   ]
  },
  {
   "cell_type": "code",
   "execution_count": null,
   "metadata": {},
   "outputs": [],
   "source": [
    "wine_dt[,lapply(.SD, mean), by = comp3, .SDcols = -c(\"Class\", \"ward3w\")]"
   ]
  },
  {
   "cell_type": "markdown",
   "metadata": {},
   "source": [
    "Although they are quite similar, the values for the 1st cluster with Ward method is mostly above those with the complete method "
   ]
  },
  {
   "cell_type": "code",
   "execution_count": null,
   "metadata": {
    "scrolled": true
   },
   "outputs": [],
   "source": [
    "colnms <- c(\"cluster\", \"method\", \"proline\")\n",
    "\n",
    "p1 <- rbindlist(\n",
    "list(wine_dt[,.(as.factor(ward3w), \"ward\", Proline)] %>%\n",
    "    magrittr::set_colnames(colnms),\n",
    "\n",
    "    wine_dt[,.(as.factor(comp3), \"comp\", Proline)] %>%\n",
    "    magrittr::set_colnames(colnms)\n",
    "    ),\n",
    "idcol = NULL\n",
    ") %>%\n",
    "\n",
    "ggplot() +\n",
    "geom_boxplot(aes(x = cluster, y = proline)) +\n",
    "coord_flip() +\n",
    "facet_wrap(~ method, scales = \"fixed\")\n",
    "\n",
    "plotly::ggplotly(p1)"
   ]
  },
  {
   "cell_type": "markdown",
   "metadata": {},
   "source": [
    "We see that complete method created five outliers for the second cluster while ward method did not"
   ]
  },
  {
   "cell_type": "markdown",
   "metadata": {},
   "source": [
    "## Visualization of clusters"
   ]
  },
  {
   "cell_type": "markdown",
   "metadata": {},
   "source": [
    "We can run the cluster model and at the same time visualize it with a heatmap and a dendrogram at the same time:"
   ]
  },
  {
   "cell_type": "code",
   "execution_count": null,
   "metadata": {},
   "outputs": [],
   "source": [
    "heatmaply::heatmaply(wine_dtz, hclust_method = \"ward.D2\",\n",
    "                     k_row = 3,\n",
    "                     Colv = NULL,\n",
    "                     labRow = NULL)"
   ]
  },
  {
   "cell_type": "markdown",
   "metadata": {},
   "source": [
    "Or using factoextra we can again run the model and visualize the cluster in polygons:"
   ]
  },
  {
   "cell_type": "code",
   "execution_count": null,
   "metadata": {},
   "outputs": [],
   "source": [
    "factoextra::eclust(wine_dtz,\n",
    "                   FUNcluster = \"hclust\",\n",
    "                   k = 3,\n",
    "                   hc_metric = \"euclidean\",\n",
    "                   hc_method = \"ward.D2\",\n",
    "                   verbose = interactive()) %>%\n",
    "\n",
    "factoextra::fviz_cluster()"
   ]
  }
 ],
 "metadata": {
  "kernelspec": {
   "display_name": "R",
   "language": "R",
   "name": "ir"
  },
  "language_info": {
   "codemirror_mode": "r",
   "file_extension": ".r",
   "mimetype": "text/x-r-source",
   "name": "R",
   "pygments_lexer": "r",
   "version": "4.1.0"
  },
  "toc": {
   "nav_menu": {},
   "number_sections": true,
   "sideBar": true,
   "skip_h1_title": false,
   "toc_cell": false,
   "toc_position": {},
   "toc_section_display": "block",
   "toc_window_display": false
  }
 },
 "nbformat": 4,
 "nbformat_minor": 4
}
