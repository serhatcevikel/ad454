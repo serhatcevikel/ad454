{
 "cells": [
  {
   "cell_type": "code",
   "execution_count": null,
   "id": "f4086946-2e3f-433c-97c4-d1e0335b746b",
   "metadata": {},
   "outputs": [],
   "source": [
    "library(data.table) # to handle the data in a more convenient manner\n",
    "library(tidyverse) # for a better work flow and more tools to wrangle and visualize the data\n",
    "library(BBmisc) # for easy normalization of data\n",
    "library(plotly) # for interactive visualization\n",
    "library(cluster) # for cluster analysis\n",
    "library(compareGroups) # for building descriptive statistics tables\n",
    "library(HDclassif) # for the dataset\n",
    "library(NbClust) # for cluster validity measures\n",
    "library(heatmaply) # visualize clusters with heatmap and dendrograms\n",
    "library(dendextend) # enhanced dendrograms\n",
    "library(circlize) # circular visualization\n",
    "library(factoextra) # visualizing distances, cluster, heatmap\n",
    "library(fastcluster) # faster hclust implementation\n",
    "library(microbenchmark) # performance benchmarking\n",
    "library(caret) # for confusion matrix\n",
    "library(gmodels) # for confusion matrix\n",
    "\n",
    "options(warn=-1) # for suppressing messages"
   ]
  },
  {
   "cell_type": "code",
   "execution_count": null,
   "id": "1d3a9c51-9f92-4ad8-b127-2c33f898824c",
   "metadata": {},
   "outputs": [],
   "source": [
    "options(repr.matrix.max.rows=20, repr.matrix.max.cols=15) # for limiting the number of top and bottom rows of tables printed "
   ]
  },
  {
   "cell_type": "code",
   "execution_count": null,
   "id": "d13a4342-7994-4968-b60d-627691cb9c83",
   "metadata": {},
   "outputs": [],
   "source": [
    "datapath <- \"~/data_ad454\""
   ]
  },
  {
   "cell_type": "markdown",
   "id": "5902ece3-d10d-4061-8cb1-e776d5197e99",
   "metadata": {},
   "source": [
    "# CLUSTERING PROVINCES USING HIERARCHICAL CLUSTERING"
   ]
  },
  {
   "cell_type": "markdown",
   "id": "634f8d27-3ad7-4bb9-9548-7affe6cdd17d",
   "metadata": {},
   "source": [
    "In this question, we will revisit the dataset from the Turkish State Meteorological Service's Website following the link:\n",
    "\n",
    "https://www.mgm.gov.tr/veridegerlendirme/il-ve-ilceler-istatistik.aspx"
   ]
  },
  {
   "cell_type": "markdown",
   "id": "dff15d70-4d00-4d04-9887-e263231c31da",
   "metadata": {},
   "source": [
    "The below table for ANKARA is collected for all 81 provinces, merged with province-region correspondence, month-season correspondence and wrangled"
   ]
  },
  {
   "cell_type": "markdown",
   "id": "510d8897-7c3f-47b9-8fa3-07149c102bbb",
   "metadata": {},
   "source": [
    "<table xmlns:xalan=\"http://xml.apache.org/xalan\">\n",
    "  <thead>\n",
    "    <tr>\n",
    "      <th style=\"width:22%\">ANKARA</th>\n",
    "      <th style=\"width:6%\">Ocak</th>\n",
    "      <th style=\"width:6%\">Şubat</th>\n",
    "      <th style=\"width:6%\">Mart</th>\n",
    "      <th style=\"width:6%\">Nisan</th>\n",
    "      <th style=\"width:6%\">Mayıs</th>\n",
    "      <th style=\"width:6%\">Haziran</th>\n",
    "      <th style=\"width:6%\">Temmuz</th>\n",
    "      <th style=\"width:6%\">Ağustos</th>\n",
    "      <th style=\"width:6%\">Eylül</th>\n",
    "      <th style=\"width:6%\">Ekim</th>\n",
    "      <th style=\"width:6%\">Kasım</th>\n",
    "      <th style=\"width:6%\">Aralık</th>\n",
    "      <th style=\"width:6%\">Yıllık</th>\n",
    "    </tr>\n",
    "  </thead>\n",
    "  <tbody>\n",
    "    <tr>\n",
    "      <td style=\"border:none;\"> </td>\n",
    "      <th colspan=\"13\">Ölçüm Periyodu ( 1927 - 2020)</th>\n",
    "    </tr>\n",
    "    <tr>\n",
    "      <th>Ortalama Sıcaklık (°C)</th>\n",
    "      <td id=\"d01\">0.2</td>\n",
    "      <td id=\"d02\">1.7</td>\n",
    "      <td id=\"d03\">5.7</td>\n",
    "      <td id=\"d04\">11.2</td>\n",
    "      <td id=\"d05\">16.0</td>\n",
    "      <td id=\"d06\">20.0</td>\n",
    "      <td id=\"d07\">23.4</td>\n",
    "      <td id=\"d08\">23.4</td>\n",
    "      <td id=\"d09\">18.9</td>\n",
    "      <td id=\"d10\">13.2</td>\n",
    "      <td id=\"d11\">7.2</td>\n",
    "      <td id=\"d12\">2.5</td>\n",
    "      <td id=\"d_top\">11.9</td>\n",
    "    </tr>\n",
    "    <tr>\n",
    "      <th>Ortalama En Yüksek Sıcaklık (°C)</th>\n",
    "      <td id=\"e01\">4.2</td>\n",
    "      <td id=\"e02\">6.5</td>\n",
    "      <td id=\"e03\">11.5</td>\n",
    "      <td id=\"e04\">17.4</td>\n",
    "      <td id=\"e05\">22.4</td>\n",
    "      <td id=\"e06\">26.7</td>\n",
    "      <td id=\"e07\">30.3</td>\n",
    "      <td id=\"e08\">30.4</td>\n",
    "      <td id=\"e09\">26.1</td>\n",
    "      <td id=\"e10\">20.0</td>\n",
    "      <td id=\"e11\">13.0</td>\n",
    "      <td id=\"e12\">6.5</td>\n",
    "      <td id=\"d_top2\">17.9</td>\n",
    "    </tr>\n",
    "    <tr>\n",
    "      <th>Ortalama En Düşük Sıcaklık (°C)</th>\n",
    "      <td id=\"f01\">-3.3</td>\n",
    "      <td id=\"f02\">-2.3</td>\n",
    "      <td id=\"f03\">0.7</td>\n",
    "      <td id=\"f04\">5.3</td>\n",
    "      <td id=\"f05\">9.7</td>\n",
    "      <td id=\"f06\">12.9</td>\n",
    "      <td id=\"f07\">15.8</td>\n",
    "      <td id=\"f08\">16.0</td>\n",
    "      <td id=\"f09\">11.8</td>\n",
    "      <td id=\"f10\">7.2</td>\n",
    "      <td id=\"f11\">2.5</td>\n",
    "      <td id=\"f12\">-0.8</td>\n",
    "      <td id=\"d_top3\">6.3</td>\n",
    "    </tr>\n",
    "    <tr>\n",
    "      <th>Ortalama Güneşlenme Süresi (saat)</th>\n",
    "      <td id=\"g01\">2.6</td>\n",
    "      <td id=\"g02\">3.8</td>\n",
    "      <td id=\"g03\">5.1</td>\n",
    "      <td id=\"g04\">6.6</td>\n",
    "      <td id=\"g05\">8.4</td>\n",
    "      <td id=\"g06\">10.1</td>\n",
    "      <td id=\"g07\">11.3</td>\n",
    "      <td id=\"g08\">10.8</td>\n",
    "      <td id=\"g09\">9.2</td>\n",
    "      <td id=\"g10\">6.7</td>\n",
    "      <td id=\"g11\">4.6</td>\n",
    "      <td id=\"g12\">2.6</td>\n",
    "      <td id=\"d_top4\">6.8</td>\n",
    "    </tr>\n",
    "    <tr>\n",
    "      <th>Ortalama Yağışlı Gün Sayısı</th>\n",
    "      <td id=\"h01\">14.7</td>\n",
    "      <td id=\"h02\">13.2</td>\n",
    "      <td id=\"h03\">14.3</td>\n",
    "      <td id=\"h04\">14.5</td>\n",
    "      <td id=\"h05\">16.1</td>\n",
    "      <td id=\"h06\">11.4</td>\n",
    "      <td id=\"h07\">5.6</td>\n",
    "      <td id=\"h08\">4.5</td>\n",
    "      <td id=\"h09\">5.6</td>\n",
    "      <td id=\"h10\">9.0</td>\n",
    "      <td id=\"h11\">10.6</td>\n",
    "      <td id=\"h12\">14.5</td>\n",
    "      <td id=\"d_top5\">134.0</td>\n",
    "    </tr>\n",
    "    <tr>\n",
    "      <th>\n",
    "                Aylık Toplam Yağış Miktarı Ortalaması<span style=\"font-size:.8em;\">\n",
    "                  (mm)\n",
    "                </span></th>\n",
    "      <td id=\"i01\">40.1</td>\n",
    "      <td id=\"i02\">35.4</td>\n",
    "      <td id=\"i03\">39.2</td>\n",
    "      <td id=\"i04\">42.4</td>\n",
    "      <td id=\"i05\">52.0</td>\n",
    "      <td id=\"i06\">35.3</td>\n",
    "      <td id=\"i07\">14.2</td>\n",
    "      <td id=\"i08\">12.5</td>\n",
    "      <td id=\"i09\">18.1</td>\n",
    "      <td id=\"i10\">27.9</td>\n",
    "      <td id=\"i11\">31.5</td>\n",
    "      <td id=\"i12\">44.6</td>\n",
    "      <td id=\"d_top6\">393.2</td>\n",
    "    </tr>\n",
    "    <tr>\n",
    "      <td style=\"border:none;\"> </td>\n",
    "      <th colspan=\"13\">\n",
    "                  Ölçüm Periyodu ( 1927 - 2020)\n",
    "                </th>\n",
    "    </tr>\n",
    "    <tr>\n",
    "      <th style=\"color:#dd4747;\">En Yüksek Sıcaklık (°C)</th>\n",
    "      <td id=\"j01\" title=\"02.01.1995\" style=\"color:#dd4747;\">16.6</td>\n",
    "      <td id=\"j02\" title=\"18.02.2016\" style=\"color:#dd4747;\">21.3</td>\n",
    "      <td id=\"j03\" title=\"31.03.1952\" style=\"color:#dd4747;\">27.8</td>\n",
    "      <td id=\"j04\" title=\"23.04.1928\" style=\"color:#dd4747;\">31.6</td>\n",
    "      <td id=\"j05\" title=\"31.05.1935\" style=\"color:#dd4747;\">34.4</td>\n",
    "      <td id=\"j06\" title=\"27.06.1996\" style=\"color:#dd4747;\">37.0</td>\n",
    "      <td id=\"j07\" title=\"27.07.2012\" style=\"color:#dd4747;\">41.0</td>\n",
    "      <td id=\"j08\" title=\"07.08.2010\" style=\"color:#dd4747;\">40.4</td>\n",
    "      <td id=\"j09\" title=\"03.09.2020\" style=\"color:#dd4747;\">39.1</td>\n",
    "      <td id=\"j10\" title=\"03.10.1952\" style=\"color:#dd4747;\">33.3</td>\n",
    "      <td id=\"j11\" title=\"01.11.1932\" style=\"color:#dd4747;\">24.7</td>\n",
    "      <td id=\"j12\" title=\"02.12.1956\" style=\"color:#dd4747;\">20.4</td>\n",
    "      <td style=\"color:#dd4747;\" id=\"d_top7\">41.0</td>\n",
    "    </tr>\n",
    "    <tr>\n",
    "      <th style=\"color:#437ec1;\">En Düşük Sıcaklık (°C)</th>\n",
    "      <td id=\"k01\" title=\"05.01.1942\" style=\"color:#437ec1;\">-24.9</td>\n",
    "      <td id=\"k02\" title=\"07.02.1932\" style=\"color:#437ec1;\">-24.2</td>\n",
    "      <td id=\"k03\" title=\"02.03.1985\" style=\"color:#437ec1;\">-19.2</td>\n",
    "      <td id=\"k04\" title=\"10.04.1929\" style=\"color:#437ec1;\">-7.2</td>\n",
    "      <td id=\"k05\" title=\"01.05.1981\" style=\"color:#437ec1;\">-1.6</td>\n",
    "      <td id=\"k06\" title=\"09.06.1958\" style=\"color:#437ec1;\">3.8</td>\n",
    "      <td id=\"k07\" title=\"11.07.1958\" style=\"color:#437ec1;\">4.5</td>\n",
    "      <td id=\"k08\" title=\"21.08.1949\" style=\"color:#437ec1;\">5.5</td>\n",
    "      <td id=\"k09\" title=\"29.09.1931\" style=\"color:#437ec1;\">-1.5</td>\n",
    "      <td id=\"k10\" title=\"30.10.1927\" style=\"color:#437ec1;\">-9.8</td>\n",
    "      <td id=\"k11\" title=\"29.11.1948\" style=\"color:#437ec1;\">-17.5</td>\n",
    "      <td id=\"k12\" title=\"31.12.1941\" style=\"color:#437ec1;\">-24.2</td>\n",
    "      <td style=\"color:#437ec1;\" id=\"d_top8\">-24.9</td>\n",
    "    </tr>\n",
    "  </tbody>\n",
    "  <tfoot>\n",
    "    <tr>\n",
    "      <td colspan=\"13\">\n",
    "        <i>En yüksek ve en düşük sıcaklıkların gerçekleşme tarihini görmek için fare imlecini değerlerin üstüne getiriniz.</i>\n",
    "      </td>\n",
    "    </tr>\n",
    "  </tfoot>\n",
    "</table>"
   ]
  },
  {
   "cell_type": "markdown",
   "id": "a194229e-3de4-4688-8af9-022f509b8786",
   "metadata": {},
   "source": [
    "The wrangled data set from knn lab is below:"
   ]
  },
  {
   "cell_type": "code",
   "execution_count": null,
   "id": "8abcec30-a40c-4f46-ae76-114fd5cceef8",
   "metadata": {},
   "outputs": [],
   "source": [
    "meteo_data4 <- readRDS(sprintf(\"%s/rds/11_01_meteo_data4.rds\", datapath))"
   ]
  },
  {
   "cell_type": "markdown",
   "id": "13d8a83d-8c3e-412b-a1bd-1f32267052de",
   "metadata": {},
   "source": [
    "Now we will add a dataset including latitude and longitude information for all province centers:"
   ]
  },
  {
   "cell_type": "code",
   "execution_count": null,
   "id": "b5be62f3-305e-4dc2-a901-4395921681c6",
   "metadata": {},
   "outputs": [],
   "source": [
    "coordinates <- fread(sprintf(\"%s/csv/11_02_coordinates.csv\", datapath))"
   ]
  },
  {
   "cell_type": "code",
   "execution_count": null,
   "id": "4fd8eaa2-0718-4e0e-9ad6-6d940e2cca6a",
   "metadata": {},
   "outputs": [],
   "source": [
    "setnames(coordinates, c(\"province\", \"lat\", \"lon\"))"
   ]
  },
  {
   "cell_type": "code",
   "execution_count": null,
   "id": "f166e817-b21d-4076-93fc-5aa09c6bce9c",
   "metadata": {},
   "outputs": [],
   "source": [
    "coordinates[, province := toupper(province)]"
   ]
  },
  {
   "cell_type": "code",
   "execution_count": null,
   "id": "8d9c2816-94db-4e6d-a2c6-e78ac4018fe6",
   "metadata": {},
   "outputs": [],
   "source": [
    "coordinates %>% keep(is.numeric) %>% lapply(range)"
   ]
  },
  {
   "cell_type": "code",
   "execution_count": null,
   "id": "a26e683a-316c-4357-8603-dbee9093c09c",
   "metadata": {},
   "outputs": [],
   "source": [
    "setdiff(coordinates$province, meteo_data4$province)"
   ]
  },
  {
   "cell_type": "code",
   "execution_count": null,
   "id": "07092ee3-f9db-4d2e-883f-0c3043e34333",
   "metadata": {},
   "outputs": [],
   "source": [
    "setdiff(meteo_data4$province, coordinates$province)"
   ]
  },
  {
   "cell_type": "markdown",
   "id": "635f7c73-feb4-41c3-87a8-a0c63a5f0685",
   "metadata": {},
   "source": [
    "And we combine the previous dataset with the coordinates:"
   ]
  },
  {
   "cell_type": "code",
   "execution_count": null,
   "id": "f69c2cad-fa16-4623-afdf-8424ee6e589c",
   "metadata": {},
   "outputs": [],
   "source": [
    "meteo_data5 <- coordinates[meteo_data4, on = \"province\"]"
   ]
  },
  {
   "cell_type": "code",
   "execution_count": null,
   "id": "098d5428-7b82-4065-b2f1-bfa623eaa67d",
   "metadata": {},
   "outputs": [],
   "source": [
    "meteo_data5 %>% str"
   ]
  },
  {
   "cell_type": "markdown",
   "id": "243e4ba1-ae96-4cc5-a463-3e7a108044d8",
   "metadata": {},
   "source": [
    "You task is to:\n",
    "\n",
    "- Normalize the numeric features of the dataset other than lat and lon and assign to a new object (let's say data2). lat and lon should be excluded from this normalized dataset.\n",
    "- Get the optimal number of clusters using NbClust and ward.D2 method\n",
    "- Calculate the distance matrix of the normalized dataset\n",
    "- Conduct hierarchical clustering with ward.D2 method\n",
    "- Plot the colored dendogram using the optimal number of clusters as the number of colors\n",
    "- Get the cluster memberships of each row as a numeric vector for the optimal number of clusters\n",
    "- Create a new dataset combining the original dataset and the cluster memberships as a factor (you can name this cluster membership column as regionnew) (let's say data3)\n",
    "- Create a scatter plot where x axis is the longitude, y axis is the latitute variable, coloring variable is the new region factor from clustering and the point labels are from the province variable. Note that \"label\" is added as a new feature for the aes function. Use geom_point and geom_text to get the plot with labels\n",
    "- Conduct ANOVA with aov function for all numeric variables of the data3 dataset across the new region variable. Get the names of the six variables for which the p-value of the F-test is the smallest\n",
    "- Select the new region variable and the six variables from the previous step and get the mean values of variables across new region variables\n",
    "- Interpret the colored and named plot (similar to a map) and the differences of selected variables across new regions. What combines the members in the same region and what differentiates the regions. Do the provinces cluster across lat and/or lon values although we did not use them in the clustering step?"
   ]
  },
  {
   "cell_type": "markdown",
   "id": "9299cb93-fbe3-42dd-9e75-77b073190b4b",
   "metadata": {},
   "source": [
    "# Answer"
   ]
  },
  {
   "cell_type": "code",
   "execution_count": null,
   "id": "a7ee9a14-672b-411e-94ea-97f5b2dc7504",
   "metadata": {},
   "outputs": [],
   "source": [
    "meteo_data6 <- meteo_data5 %>% keep(is.numeric) %>% dplyr::select(-c(\"lat\", \"lon\")) %>% transmute_all(BBmisc::normalize)"
   ]
  },
  {
   "cell_type": "code",
   "execution_count": null,
   "id": "428802f7-3342-4027-a71d-061fef9de214",
   "metadata": {},
   "outputs": [],
   "source": [
    "numWard <- NbClust::NbClust(meteo_data6,\n",
    "                       distance=\"euclidean\",\n",
    "                       min.nc=2,\n",
    "                       max.nc=10,\n",
    "                    #method = \"complete\",\n",
    "                       method=\"ward.D2\",\n",
    "                       index=\"all\")"
   ]
  },
  {
   "cell_type": "code",
   "execution_count": null,
   "id": "03ffbc2e-7725-4fb8-9487-b1c457f4e540",
   "metadata": {},
   "outputs": [],
   "source": [
    "numWard$Best.nc"
   ]
  },
  {
   "cell_type": "code",
   "execution_count": null,
   "id": "a50b27ed-7d43-4f38-a21c-2d4fb7104be6",
   "metadata": {},
   "outputs": [],
   "source": [
    "dis <- dist(meteo_data6, method = \"euclidian\")"
   ]
  },
  {
   "cell_type": "code",
   "execution_count": null,
   "id": "51b674dc-a5d0-45b5-8f2b-1aafccf688c1",
   "metadata": {},
   "outputs": [],
   "source": [
    "#hc <- hclust(dis, method = \"complete\")\n",
    "hc <- hclust(dis, method = \"ward.D2\")"
   ]
  },
  {
   "cell_type": "code",
   "execution_count": null,
   "id": "43aaaf24-118a-46e0-a5e7-51dce1610663",
   "metadata": {},
   "outputs": [],
   "source": [
    "plot(hc, hang = -1, labels = F, main = \"Complete-Linkage\")"
   ]
  },
  {
   "cell_type": "code",
   "execution_count": null,
   "id": "0ce13775-3360-4345-ac1e-e82e47bc30e6",
   "metadata": {},
   "outputs": [],
   "source": [
    "hc %>%\n",
    "    as.dendrogram %>%\n",
    "    dendextend::color_branches(k = 3) %>%\n",
    "    plot"
   ]
  },
  {
   "cell_type": "code",
   "execution_count": null,
   "id": "0eaa1227-cea5-47d9-8130-70ad77bd4a00",
   "metadata": {},
   "outputs": [],
   "source": [
    "comp3 <- cutree(hc, 3)"
   ]
  },
  {
   "cell_type": "code",
   "execution_count": null,
   "id": "2eeb5e7c-9d40-432b-8299-c4dccb471e76",
   "metadata": {},
   "outputs": [],
   "source": [
    "comp3"
   ]
  },
  {
   "cell_type": "code",
   "execution_count": null,
   "id": "12fda316-37ca-43e6-bee3-c091b47effe9",
   "metadata": {},
   "outputs": [],
   "source": [
    "meteo_data7 <- cbind(meteo_data5, regionnew = as.factor(comp3))"
   ]
  },
  {
   "cell_type": "code",
   "execution_count": null,
   "id": "0407b826-b445-4ed6-9197-52e4f8f8a4bb",
   "metadata": {},
   "outputs": [],
   "source": [
    "options(repr.plot.width = 10, repr.plot.height = 10)\n",
    "\n",
    "meteo_data7 %>%\n",
    "ggplot(aes(x = lon, y = lat, color = regionnew, label=province)) +\n",
    "geom_point() +\n",
    "geom_text()"
   ]
  },
  {
   "cell_type": "code",
   "execution_count": null,
   "id": "429cb679-4b42-40b9-8554-96814a24f688",
   "metadata": {},
   "outputs": [],
   "source": [
    "meteo_data7 %>% group_by(regionnew) %>% summarise_if(is.numeric, mean)"
   ]
  },
  {
   "cell_type": "code",
   "execution_count": null,
   "id": "917628f3-967f-4de4-bd68-4b7652240424",
   "metadata": {},
   "outputs": [],
   "source": [
    "fstats <- meteo_data7 %>% keep(is.numeric) %>% lapply(function(x) aov(x ~ comp3, data.table(x, comp3))) %>% lapply(summary) %>% lapply(function(x) x[[1]]$`Pr(>F)`[1]) %>% unlist %>% sort"
   ]
  },
  {
   "cell_type": "code",
   "execution_count": null,
   "id": "037e185b-15aa-4cd5-beb6-b196205b4ac8",
   "metadata": {},
   "outputs": [],
   "source": [
    "meteo_data7 %>% dplyr::select(c(\"regionnew\", names(fstats[1:6]))) %>% group_by(regionnew) %>% summarise_if(is.numeric, mean)"
   ]
  },
  {
   "cell_type": "markdown",
   "id": "d3166432-a48a-45b3-a489-23a82ef138f8",
   "metadata": {},
   "source": [
    "- Groups are mostly differentiated across latituted although latitude was not a feature used in clustering\n",
    "- Group 1 is mostly comprised of southern provinces closer to the sea and southeastern provinces. Temperatures and day-night temperature differences are higher and summer rain is lower \n",
    "- Group 2 is mostly comprised of inner provinces mostly in mid latitudes. Temparatures are lower, temperature difference is high and summer rain is in between\n",
    "- Group 3 is mostly comprised of higher latitutede provinces closer to sea. Temperatures are slightly higher than Group 2, temperature differences are lower and summer rain is higher"
   ]
  },
  {
   "cell_type": "code",
   "execution_count": null,
   "id": "ee160b44-2620-4a12-ac7d-6a6b655269c7",
   "metadata": {},
   "outputs": [],
   "source": []
  }
 ],
 "metadata": {
  "kernelspec": {
   "display_name": "R",
   "language": "R",
   "name": "ir"
  },
  "language_info": {
   "codemirror_mode": "r",
   "file_extension": ".r",
   "mimetype": "text/x-r-source",
   "name": "R",
   "pygments_lexer": "r",
   "version": "4.1.0"
  }
 },
 "nbformat": 4,
 "nbformat_minor": 5
}
