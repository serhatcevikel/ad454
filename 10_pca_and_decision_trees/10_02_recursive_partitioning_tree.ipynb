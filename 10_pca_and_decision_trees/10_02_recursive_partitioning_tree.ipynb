{
 "cells": [
  {
   "cell_type": "markdown",
   "metadata": {},
   "source": [
    "# RECURSIVE PARTIONING TREES FOR PREDICTING CUSTOMER CHURN RATE"
   ]
  },
  {
   "cell_type": "markdown",
   "metadata": {},
   "source": [
    "Example adapted from Yu-Wei Chapter 5"
   ]
  },
  {
   "cell_type": "code",
   "execution_count": null,
   "metadata": {},
   "outputs": [],
   "source": [
    "library(data.table)\n",
    "library(tidyverse)\n",
    "library(plotly)\n",
    "library(C50) # for churn data\n",
    "library(rpart) # for recursive partioning trees\n",
    "library(rpart.plot) # for plotting recursive partioning trees\n",
    "library(visNetwork) # for better plotting recursive partioning trees\n",
    "library(caret) # for a better confusion matrix"
   ]
  },
  {
   "cell_type": "code",
   "execution_count": null,
   "metadata": {},
   "outputs": [],
   "source": [
    "options(repr.matrix.max.rows=20, repr.matrix.max.cols=15) # for limiting the number of top and bottom rows of tables printed "
   ]
  },
  {
   "cell_type": "code",
   "execution_count": null,
   "metadata": {},
   "outputs": [],
   "source": [
    "datapath <- \"~/data_ad454\""
   ]
  },
  {
   "cell_type": "code",
   "execution_count": null,
   "metadata": {},
   "outputs": [],
   "source": [
    "library(modeldata)"
   ]
  },
  {
   "cell_type": "code",
   "execution_count": null,
   "metadata": {},
   "outputs": [],
   "source": [
    "data(mlc_churn, package = \"modeldata\")"
   ]
  },
  {
   "cell_type": "code",
   "execution_count": null,
   "metadata": {},
   "outputs": [],
   "source": [
    "mlc_churn"
   ]
  },
  {
   "cell_type": "markdown",
   "metadata": {},
   "source": [
    "## Explore"
   ]
  },
  {
   "cell_type": "code",
   "execution_count": null,
   "metadata": {},
   "outputs": [],
   "source": [
    "churn <- mlc_churn %>% as.data.table()"
   ]
  },
  {
   "cell_type": "code",
   "execution_count": null,
   "metadata": {},
   "outputs": [],
   "source": [
    "str(churn)"
   ]
  },
  {
   "cell_type": "markdown",
   "metadata": {},
   "source": [
    "Now first let's say, I want to get the unique levels of each factor column in a concise and simple way\n",
    "\n",
    "We use the purrr package for that in order to iterate through fields:\n",
    "\n",
    "keep, selects only those columns that satisfied the condition, and map works like \"lapply\" to apply the function to each selected column:"
   ]
  },
  {
   "cell_type": "code",
   "execution_count": null,
   "metadata": {},
   "outputs": [],
   "source": [
    "churn %>% purrr::keep(is.factor) %>% purrr::map(levels)"
   ]
  },
  {
   "cell_type": "markdown",
   "metadata": {},
   "source": [
    "Let's have the histograms for factor variables"
   ]
  },
  {
   "cell_type": "code",
   "execution_count": null,
   "metadata": {},
   "outputs": [],
   "source": [
    "churn_factors <- churn %>% purrr::keep(is.factor) %>% # select factor columns\n",
    "    tidyr::gather() %>% # convert into long format for faceting\n",
    "    ggplot(aes(x = value)) + # plot value\n",
    "    facet_wrap(~ key, scales = \"free\") + # divide into separate plots by key\n",
    "    geom_bar()\n",
    "\n",
    "plotly::ggplotly(churn_factors)"
   ]
  },
  {
   "cell_type": "markdown",
   "metadata": {},
   "source": [
    "So:\n",
    "\n",
    "- Most frequent area code is 415\n",
    "- 707 out of 5000 observations have a churn\n",
    "- 4527 does not have an international plan\n",
    "- Data is nearly evenly distributed across states\n",
    "- 3677 does not gave a voice mail plan"
   ]
  },
  {
   "cell_type": "markdown",
   "metadata": {},
   "source": [
    "You might wonder what tidyr::gather() does:"
   ]
  },
  {
   "cell_type": "code",
   "execution_count": null,
   "metadata": {},
   "outputs": [],
   "source": [
    "churn %>% purrr::keep(is.factor) # that's wide format"
   ]
  },
  {
   "cell_type": "code",
   "execution_count": null,
   "metadata": {},
   "outputs": [],
   "source": [
    "churn %>% purrr::keep(is.factor) %>% tidyr::gather() # that's the long format"
   ]
  },
  {
   "cell_type": "markdown",
   "metadata": {},
   "source": [
    "For numeric variables, it is good to have five point summaries easily as such:"
   ]
  },
  {
   "cell_type": "code",
   "execution_count": null,
   "metadata": {},
   "outputs": [],
   "source": [
    "churn %>% purrr::keep(is.numeric) %>% sapply(quantile) %>% t()"
   ]
  },
  {
   "cell_type": "markdown",
   "metadata": {},
   "source": [
    "And we can have density plots for numeric variables:"
   ]
  },
  {
   "cell_type": "code",
   "execution_count": null,
   "metadata": {},
   "outputs": [],
   "source": [
    "churn %>% purrr::keep(is.numeric) %>% # select columns\n",
    "    tidyr::gather() %>% # reshape into long format in columns \"key\" and \"value\"\n",
    "    ggplot(aes(value)) + # plot value\n",
    "        facet_wrap(~ key, scale = \"free\" ) + # divide into separate plots by key\n",
    "        geom_density(fill = \"green\")  # get density plots"
   ]
  },
  {
   "cell_type": "markdown",
   "metadata": {},
   "source": [
    "## Partition dataset"
   ]
  },
  {
   "cell_type": "code",
   "execution_count": null,
   "metadata": {},
   "outputs": [],
   "source": [
    "set.seed(1863)\n",
    "train_ind <- churn[,sample(.I, 0.7 * .N)]"
   ]
  },
  {
   "cell_type": "code",
   "execution_count": null,
   "metadata": {},
   "outputs": [],
   "source": [
    "churn_train <- churn[train_ind]\n",
    "churn_test <- churn[-train_ind]"
   ]
  },
  {
   "cell_type": "markdown",
   "metadata": {},
   "source": [
    "## Train the dataset"
   ]
  },
  {
   "cell_type": "code",
   "execution_count": null,
   "metadata": {},
   "outputs": [],
   "source": [
    "?rpart"
   ]
  },
  {
   "cell_type": "markdown",
   "metadata": {},
   "source": [
    "```\n",
    "Recursive Partitioning and Regression Trees\n",
    "Description\n",
    "Fit a rpart model\n",
    "\n",
    "Usage\n",
    "rpart(formula, data, weights, subset, na.action = na.rpart, method,\n",
    "      model = FALSE, x = FALSE, y = TRUE, parms, control, cost, ...)\n",
    "Arguments\n",
    "formula\t\n",
    "a formula, with a response but no interaction terms. If this a a data frame, that is taken as the model frame (see model.frame).\n",
    "\n",
    "data\t\n",
    "an optional data frame in which to interpret the variables named in the formula.\n",
    "\n",
    "...\n",
    "\n",
    "cost\t\n",
    "a vector of non-negative costs, one for each variable in the model. Defaults to one for all variables. These are scalings to be applied when considering splits, so the improvement on splitting on a variable is divided by its cost in deciding which split to choose.\n",
    "```"
   ]
  },
  {
   "cell_type": "code",
   "execution_count": null,
   "metadata": {},
   "outputs": [],
   "source": [
    "churn.rp <- rpart::rpart(churn ~ ., data = churn_train)"
   ]
  },
  {
   "cell_type": "code",
   "execution_count": null,
   "metadata": {},
   "outputs": [],
   "source": [
    "churn.rp"
   ]
  },
  {
   "cell_type": "markdown",
   "metadata": {},
   "source": [
    "- split is the condition for split,\n",
    "- n is the total number of cases at node\n",
    "- loss is the misclassification cost\n",
    "- yval is the fitted value for the node (yes or no)\n",
    "- and the yprob is the probabilities of yes and no (those reaching yes on the left and no the right)"
   ]
  },
  {
   "cell_type": "markdown",
   "metadata": {},
   "source": [
    "When we stop at the root without any classification and predict all cases as \"No\", we would have a total misclassification of 491 - the total number of \"yes\" cases in the train sample.\n",
    "\n",
    "After one step of partioning according to whether total_day_minutes >= 265.75, # of misclassified cases is down to 83+358 = 441"
   ]
  },
  {
   "cell_type": "markdown",
   "metadata": {},
   "source": [
    "Now let's examine the complexity parameter.\n",
    "\n",
    "Complexity parameter serves as a penalty to control the size of the tree. The greater the CP value, the fewer the number of splits there are "
   ]
  },
  {
   "cell_type": "code",
   "execution_count": null,
   "metadata": {},
   "outputs": [],
   "source": [
    "printcp(churn.rp)"
   ]
  },
  {
   "cell_type": "markdown",
   "metadata": {},
   "source": [
    "We see that out of 19 variables only 9 are used"
   ]
  },
  {
   "cell_type": "markdown",
   "metadata": {},
   "source": [
    "And we can plot the cost complexity parameters:"
   ]
  },
  {
   "cell_type": "code",
   "execution_count": null,
   "metadata": {},
   "outputs": [],
   "source": [
    "plotcp(churn.rp)"
   ]
  },
  {
   "cell_type": "markdown",
   "metadata": {},
   "source": [
    "## Visualize the tree"
   ]
  },
  {
   "cell_type": "markdown",
   "metadata": {},
   "source": [
    "A simple way to visualize a rpart tree is the base plot function with text:"
   ]
  },
  {
   "cell_type": "code",
   "execution_count": null,
   "metadata": {},
   "outputs": [],
   "source": [
    "plot(churn.rp, , uniform = F, branch=0.6, margin = 0)\n",
    "text(churn.rp, all = T, use.n = T)"
   ]
  },
  {
   "cell_type": "markdown",
   "metadata": {},
   "source": [
    "This does not work well with larger trees\n",
    "\n",
    "A better option is the rpart.plot function from the rpart.plot package:"
   ]
  },
  {
   "cell_type": "code",
   "execution_count": null,
   "metadata": {},
   "outputs": [],
   "source": [
    "rpart.plot::rpart.plot(churn.rp)"
   ]
  },
  {
   "cell_type": "markdown",
   "metadata": {},
   "source": [
    "A better option is to use the visTree function from the JS powered visNetwork package:"
   ]
  },
  {
   "cell_type": "code",
   "execution_count": null,
   "metadata": {},
   "outputs": [],
   "source": [
    "visNetwork::visTree(churn.rp)"
   ]
  },
  {
   "cell_type": "markdown",
   "metadata": {},
   "source": [
    "## Evaluate the classification accuracy"
   ]
  },
  {
   "cell_type": "code",
   "execution_count": null,
   "metadata": {},
   "outputs": [],
   "source": [
    "predictions_train <- predict(churn.rp, churn_train, type = \"class\")"
   ]
  },
  {
   "cell_type": "code",
   "execution_count": null,
   "metadata": {},
   "outputs": [],
   "source": [
    "table(churn_train$churn, predictions_train)"
   ]
  },
  {
   "cell_type": "code",
   "execution_count": null,
   "metadata": {},
   "outputs": [],
   "source": [
    "caret::confusionMatrix(table(predictions_train, churn_train$churn))"
   ]
  },
  {
   "cell_type": "markdown",
   "metadata": {},
   "source": [
    "Accuracy rate is 96% with misclassified cases of 142 out of 3500"
   ]
  },
  {
   "cell_type": "markdown",
   "metadata": {},
   "source": [
    "## Predictive power of the model"
   ]
  },
  {
   "cell_type": "code",
   "execution_count": null,
   "metadata": {},
   "outputs": [],
   "source": [
    "predictions_test <- predict(churn.rp, churn_test, type = \"class\")"
   ]
  },
  {
   "cell_type": "code",
   "execution_count": null,
   "metadata": {},
   "outputs": [],
   "source": [
    "table(churn_test$churn, predictions_test)"
   ]
  },
  {
   "cell_type": "code",
   "execution_count": null,
   "metadata": {},
   "outputs": [],
   "source": [
    "caret::confusionMatrix(table(predictions_test, churn_test$churn))"
   ]
  },
  {
   "cell_type": "markdown",
   "metadata": {},
   "source": [
    "Predictive accuracy is 94.3%, quite good!"
   ]
  },
  {
   "cell_type": "markdown",
   "metadata": {},
   "source": [
    "## Pruning"
   ]
  },
  {
   "cell_type": "markdown",
   "metadata": {},
   "source": [
    "We may remove sections not su powerful in classification in order to avoid over-fitting and to improve accuracy"
   ]
  },
  {
   "cell_type": "markdown",
   "metadata": {},
   "source": [
    "Let's remember the model cost parameters:"
   ]
  },
  {
   "cell_type": "code",
   "execution_count": null,
   "metadata": {},
   "outputs": [],
   "source": [
    "printcp(churn.rp)"
   ]
  },
  {
   "cell_type": "markdown",
   "metadata": {},
   "source": [
    "First let's find the minimum cross-calidation error:"
   ]
  },
  {
   "cell_type": "code",
   "execution_count": null,
   "metadata": {},
   "outputs": [],
   "source": [
    "min(churn.rp$cptable[,\"xerror\"])"
   ]
  },
  {
   "cell_type": "markdown",
   "metadata": {},
   "source": [
    "And locate the row of that minimum value:"
   ]
  },
  {
   "cell_type": "code",
   "execution_count": null,
   "metadata": {},
   "outputs": [],
   "source": [
    "minrow <- which.min(churn.rp$cptable[,\"xerror\"])\n",
    "minrow"
   ]
  },
  {
   "cell_type": "markdown",
   "metadata": {},
   "source": [
    "Get the cost complexity parameter at that row:"
   ]
  },
  {
   "cell_type": "code",
   "execution_count": null,
   "metadata": {},
   "outputs": [],
   "source": [
    "churn.cp <- churn.rp$cptable[minrow, \"CP\"]\n",
    "churn.cp"
   ]
  },
  {
   "cell_type": "markdown",
   "metadata": {},
   "source": [
    "Let's prune the tree by setting the cp parameter to the CP value of the record with minimum cross-validation error:"
   ]
  },
  {
   "cell_type": "code",
   "execution_count": null,
   "metadata": {},
   "outputs": [],
   "source": [
    "prune.tree <- prune(churn.rp, cp = churn.cp)"
   ]
  },
  {
   "cell_type": "markdown",
   "metadata": {},
   "source": [
    "And visualize:"
   ]
  },
  {
   "cell_type": "code",
   "execution_count": null,
   "metadata": {},
   "outputs": [],
   "source": [
    "visNetwork::visTree(prune.tree)"
   ]
  },
  {
   "cell_type": "markdown",
   "metadata": {},
   "source": [
    "### Classification performance of the pruned tree"
   ]
  },
  {
   "cell_type": "code",
   "execution_count": null,
   "metadata": {},
   "outputs": [],
   "source": [
    "predictions_train_pruned <- predict(prune.tree, churn_train, type = \"class\")"
   ]
  },
  {
   "cell_type": "code",
   "execution_count": null,
   "metadata": {},
   "outputs": [],
   "source": [
    "caret::confusionMatrix(table(predictions_train_pruned, churn_train$churn))"
   ]
  },
  {
   "cell_type": "markdown",
   "metadata": {},
   "source": [
    "A lower accuracy inside the train set\n",
    "\n",
    "How about predictive power?"
   ]
  },
  {
   "cell_type": "markdown",
   "metadata": {},
   "source": [
    "### Predictive power of the pruned tree"
   ]
  },
  {
   "cell_type": "code",
   "execution_count": null,
   "metadata": {},
   "outputs": [],
   "source": [
    "predictions_test_pruned <- predict(prune.tree, churn_test, type = \"class\")"
   ]
  },
  {
   "cell_type": "code",
   "execution_count": null,
   "metadata": {},
   "outputs": [],
   "source": [
    "caret::confusionMatrix(table(predictions_test_pruned, churn_test$churn))"
   ]
  },
  {
   "cell_type": "markdown",
   "metadata": {},
   "source": [
    "Predictive power is also slightly lower, however we have a less complex tree and some split conditions that may cause over-fitting are eliminated"
   ]
  }
 ],
 "metadata": {
  "kernelspec": {
   "display_name": "R",
   "language": "R",
   "name": "ir"
  },
  "language_info": {
   "codemirror_mode": "r",
   "file_extension": ".r",
   "mimetype": "text/x-r-source",
   "name": "R",
   "pygments_lexer": "r",
   "version": "4.1.0"
  },
  "toc": {
   "base_numbering": 1,
   "nav_menu": {},
   "number_sections": true,
   "sideBar": true,
   "skip_h1_title": false,
   "title_cell": "Table of Contents",
   "title_sidebar": "Contents",
   "toc_cell": false,
   "toc_position": {},
   "toc_section_display": "block",
   "toc_window_display": false
  }
 },
 "nbformat": 4,
 "nbformat_minor": 4
}
