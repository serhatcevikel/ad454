{
 "cells": [
  {
   "cell_type": "code",
   "execution_count": null,
   "id": "5304c10a-5a44-4241-add0-4336a09c72fe",
   "metadata": {},
   "outputs": [],
   "source": [
    "library(data.table)\n",
    "library(tidyverse)\n",
    "library(plotly)\n",
    "library(C50) # for churn data\n",
    "library(rpart) # for recursive partioning trees\n",
    "library(rpart.plot) # for plotting recursive partioning trees\n",
    "library(visNetwork) # for better plotting recursive partioning trees\n",
    "library(caret) # for a better confusion matrix"
   ]
  },
  {
   "cell_type": "code",
   "execution_count": null,
   "id": "a2868568-dd1e-4d40-b384-ae570a235d59",
   "metadata": {},
   "outputs": [],
   "source": [
    "options(repr.matrix.max.rows=20, repr.matrix.max.cols=15) # for limiting the number of top and bottom rows of tables printed "
   ]
  },
  {
   "cell_type": "code",
   "execution_count": null,
   "id": "5ee254aa-56cf-4a38-b99a-3085713bf4bc",
   "metadata": {},
   "outputs": [],
   "source": [
    "datapath <- \"~/data_ad454\""
   ]
  },
  {
   "cell_type": "markdown",
   "id": "33a4e0f6-dc38-4fe9-980d-6462210c3996",
   "metadata": {},
   "source": [
    "# PCA and Recursive Partitioning Trees with Realty Dataset"
   ]
  },
  {
   "cell_type": "markdown",
   "id": "070410d6-f631-4842-9b07-d176956141e9",
   "metadata": {},
   "source": [
    "We continue with the realty dataset.\n",
    "\n",
    "Remember that, we calculated the premium_neigh variable which is premium of the unit price of the property over the median unit price of the neighborhood.\n",
    "\n",
    "Now we will try to classify the properties into premium and discount"
   ]
  },
  {
   "cell_type": "markdown",
   "id": "9e219cbb-b8f3-46f9-8a4e-66d3cb725324",
   "metadata": {},
   "source": [
    "Let's first import the realty dataset:"
   ]
  },
  {
   "cell_type": "code",
   "execution_count": null,
   "id": "cc530173-645e-4f26-b73b-c367108c672b",
   "metadata": {},
   "outputs": [],
   "source": [
    "realty_data3 <- readRDS(sprintf(\"%s/rds/06_02_realty_data3.rds\", datapath))"
   ]
  },
  {
   "cell_type": "code",
   "execution_count": null,
   "id": "f89dbbff-0c4b-41a1-b74b-8e529f2a34c3",
   "metadata": {},
   "outputs": [],
   "source": [
    "realty_data3"
   ]
  },
  {
   "cell_type": "markdown",
   "id": "54ac7979-6da2-448f-8394-3007ade22cd6",
   "metadata": {},
   "source": [
    "Let's add the binary variable premium, which takes 1 when the premium is above 0, and 0 otherwise"
   ]
  },
  {
   "cell_type": "code",
   "execution_count": null,
   "id": "2e96bf8e-4fbb-47a9-b69a-b1217cdf8dfc",
   "metadata": {},
   "outputs": [],
   "source": [
    "realty_data3[, premium := as.integer(premium_neigh > 0)]"
   ]
  },
  {
   "cell_type": "markdown",
   "id": "f6d9f373-13c4-4b38-9302-03f1408a7317",
   "metadata": {},
   "source": [
    "Let's see the structure:"
   ]
  },
  {
   "cell_type": "code",
   "execution_count": null,
   "id": "2fcd80d6-feb7-4141-b068-e262070557a1",
   "metadata": {},
   "outputs": [],
   "source": [
    "realty_data3 %>% str"
   ]
  },
  {
   "cell_type": "markdown",
   "id": "d34e8a05-c361-43f4-a8c9-09c986b7f3df",
   "metadata": {},
   "source": [
    "Now, select some of the variables:"
   ]
  },
  {
   "cell_type": "code",
   "execution_count": null,
   "id": "19c9796f-8283-428a-bac2-e2160b9ddf1f",
   "metadata": {},
   "outputs": [],
   "source": [
    "vars <- c(\"premium\", \"esyali\", \"krediye_uygunluk\", \"bina_yasi\", \"kat_sayisi\", \"kat\", realty_data3 %>% keep(is.logical) %>% names)\n",
    "vars"
   ]
  },
  {
   "cell_type": "markdown",
   "id": "ddaf47e5-41d2-4a8e-9902-b5e69163f48c",
   "metadata": {},
   "source": [
    "And assign the subset:"
   ]
  },
  {
   "cell_type": "code",
   "execution_count": null,
   "id": "9fea74aa-4893-4287-ac7f-b2913c73524b",
   "metadata": {},
   "outputs": [],
   "source": [
    "realty_data4 <- realty_data3 %>% select(all_of(vars)) %>% na.omit"
   ]
  },
  {
   "cell_type": "code",
   "execution_count": null,
   "id": "67ec5f65-9423-4646-ae84-d638f5773c81",
   "metadata": {},
   "outputs": [],
   "source": [
    "realty_data4"
   ]
  },
  {
   "cell_type": "markdown",
   "id": "00ac5e6d-c084-4f30-8a1e-0678241cb436",
   "metadata": {},
   "source": [
    "Your tasks are to:\n",
    "\n",
    "- Collect logical features into a separate data.table\n",
    "- Conduct PCA using prcomp\n",
    "- Select the appropriate principal components. You may use the cumulative proportion of variance or the sd values above 1. Squares of sd values are eigenvalues and optionally can be visualized as a scree plot.\n",
    "- Replace the original logical features with the selected principal components\n",
    "- Partition the data set into 70% train and 30% test sets\n",
    "- Train the dataset using rpart\n",
    "- Create a simple simulation function to try each complexity parameter value for pruning the original tree, make predictions and get the accuracy on the test set. Do not use type = \"class\" argument since the target feature is integer (0, 1) and not a factor. The output will be probability and taking 0.5 as the cutting point, create integer 0 and 1 values as fitted classes accordingly. Accuracy is just the proportion of values where actual and fitted classes agree.\n",
    "- Select the complexity parameter where accuracy on the test set is at a maximum (this should be around 61%)\n",
    "- Prune the tree at that optimal complexity parameter, visualize the pruned tree using a single method (mutliple visualization will create a large html that is hard to upload and submit)\n",
    "- Create the confusion matrices for train and test sets using positive = \"1\"."
   ]
  },
  {
   "cell_type": "markdown",
   "id": "9dd8b990-9c10-473b-a8d5-7df76417f2ec",
   "metadata": {},
   "source": [
    "# Answer"
   ]
  },
  {
   "cell_type": "code",
   "execution_count": null,
   "id": "9feaf2d2-d52c-4961-a7fd-85b8929d2b26",
   "metadata": {},
   "outputs": [],
   "source": [
    "realty_bool <- realty_data4 %>% keep(is.logical)"
   ]
  },
  {
   "cell_type": "code",
   "execution_count": null,
   "id": "964ca40e-52da-42eb-9add-a66459632567",
   "metadata": {},
   "outputs": [],
   "source": [
    "pca <- realty_bool %>%\n",
    "    prcomp(center = T,\n",
    "           scale = T)"
   ]
  },
  {
   "cell_type": "code",
   "execution_count": null,
   "id": "73689c1e-e49e-4e6b-957a-566f47917901",
   "metadata": {},
   "outputs": [],
   "source": [
    "pca %>% str"
   ]
  },
  {
   "cell_type": "code",
   "execution_count": null,
   "id": "86f2ca27-e27a-474d-bb2a-ee72439ac7bc",
   "metadata": {},
   "outputs": [],
   "source": [
    "pca %>% summary"
   ]
  },
  {
   "cell_type": "code",
   "execution_count": null,
   "id": "2f960f3c-abb7-4d12-97e2-66b042810d27",
   "metadata": {},
   "outputs": [],
   "source": [
    "pca$rotation %>% round(3)"
   ]
  },
  {
   "cell_type": "code",
   "execution_count": null,
   "id": "76d756fb-e4fe-4413-b4ea-4466432ce260",
   "metadata": {},
   "outputs": [],
   "source": [
    "cor(pca$x) %>% round(2)"
   ]
  },
  {
   "cell_type": "code",
   "execution_count": null,
   "id": "05a6e69a-7f34-4ed9-bf51-49b0bd2f0f1b",
   "metadata": {},
   "outputs": [],
   "source": [
    "pca$sd^2"
   ]
  },
  {
   "cell_type": "code",
   "execution_count": null,
   "id": "09e46113-5d61-4138-81c4-10ea34e8a97d",
   "metadata": {},
   "outputs": [],
   "source": [
    "pca$sd^2 %>% as.data.table() %>%\n",
    "    ggplot(aes(x = seq_along(.), y = .)) +\n",
    "        geom_line() +\n",
    "        xlab(\"Component\") +\n",
    "        ylab(\"Eigenvalues\")"
   ]
  },
  {
   "cell_type": "code",
   "execution_count": null,
   "id": "3afdc9f1-5f80-458a-ae3c-cb52964be3d4",
   "metadata": {},
   "outputs": [],
   "source": [
    "pca_dt <- pca$x[,pca$sd > 1] %>% as.data.table()"
   ]
  },
  {
   "cell_type": "code",
   "execution_count": null,
   "id": "cc87a3fa-5303-42d0-b517-92685441385f",
   "metadata": {},
   "outputs": [],
   "source": [
    "realty_data5 <- realty_data4 %>% discard(is.logical) %>% cbind(pca_dt)"
   ]
  },
  {
   "cell_type": "code",
   "execution_count": null,
   "id": "c911dffd-2d14-4282-8cc4-fab578ce0b82",
   "metadata": {},
   "outputs": [],
   "source": []
  },
  {
   "cell_type": "markdown",
   "id": "aec90b0a-5c51-47d3-992e-4fed3c982296",
   "metadata": {},
   "source": [
    "## Partition dataset"
   ]
  },
  {
   "cell_type": "code",
   "execution_count": null,
   "id": "3243747b-1450-41f5-bd3a-d240ebce953c",
   "metadata": {},
   "outputs": [],
   "source": [
    "set.seed(2000)\n",
    "train_ind <- realty_data5[,sample(.I, 0.7 * .N)]"
   ]
  },
  {
   "cell_type": "code",
   "execution_count": null,
   "id": "c139ffd2-0fde-48ed-84d6-290db245de25",
   "metadata": {},
   "outputs": [],
   "source": [
    "realty_train <- realty_data5[train_ind]\n",
    "realty_test <- realty_data5[-train_ind]"
   ]
  },
  {
   "cell_type": "markdown",
   "id": "676c95a1-6b5e-42af-bc64-1239563c0378",
   "metadata": {},
   "source": [
    "## Train the dataset"
   ]
  },
  {
   "cell_type": "code",
   "execution_count": null,
   "id": "ae6dde44-febd-4af6-ae1d-7fb891fa7ebc",
   "metadata": {},
   "outputs": [],
   "source": [
    "realty.rp <- rpart::rpart(premium ~ ., data = realty_train)"
   ]
  },
  {
   "cell_type": "markdown",
   "id": "23665483-6036-4815-b36d-3840c1471c44",
   "metadata": {},
   "source": [
    "- split is the condition for split,\n",
    "- n is the total number of cases at node\n",
    "- loss is the misclassification cost\n",
    "- yval is the fitted value for the node (yes or no)\n",
    "- and the yprob is the probabilities of yes and no (those reaching yes on the left and no the right)"
   ]
  },
  {
   "cell_type": "markdown",
   "id": "081f08ac-4f68-40ba-9c54-b366298cee0c",
   "metadata": {},
   "source": [
    "## Pruning"
   ]
  },
  {
   "cell_type": "markdown",
   "id": "98c2ad1b-7934-4b4f-8de8-f0a7f149e2d5",
   "metadata": {},
   "source": [
    "We may remove sections not su powerful in classification in order to avoid over-fitting and to improve accuracy"
   ]
  },
  {
   "cell_type": "markdown",
   "id": "0bb1f484-1a77-4398-8c98-6614c2ee06c0",
   "metadata": {},
   "source": [
    "Let's remember the model cost parameters:"
   ]
  },
  {
   "cell_type": "code",
   "execution_count": null,
   "id": "1761e2e2-d47f-4819-a394-50bddd985711",
   "metadata": {},
   "outputs": [],
   "source": [
    "printcp(realty.rp)"
   ]
  },
  {
   "cell_type": "markdown",
   "id": "c848a6d1-b113-455d-9c82-94bd534cdd7e",
   "metadata": {},
   "source": [
    "Let's prune the tree by setting the cp parameter to the CP value of the record with minimum cross-validation error:"
   ]
  },
  {
   "cell_type": "code",
   "execution_count": null,
   "id": "ab1dd7fe-582f-4818-be92-cf10710f09c8",
   "metadata": {},
   "outputs": [],
   "source": [
    "cpvals <- realty.rp$cptable[, \"CP\"]"
   ]
  },
  {
   "cell_type": "code",
   "execution_count": null,
   "id": "c2b39201-9d00-4d4c-8441-456c28a8c082",
   "metadata": {},
   "outputs": [],
   "source": [
    "accuracies <- sapply(cpvals, function(x)\n",
    "    {\n",
    "        prune.tree <- prune(realty.rp, cp = x)\n",
    "        predictions_test_pruned <- as.integer(predict(prune.tree, realty_test) > 0.5)\n",
    "        sum(predictions_test_pruned == realty_test$premium) / length(realty_test$premium)\n",
    "})"
   ]
  },
  {
   "cell_type": "code",
   "execution_count": null,
   "id": "0888f5c9-58bc-4037-879a-b862506b5e44",
   "metadata": {},
   "outputs": [],
   "source": [
    "realty.cp <- data.table(cpvals, accuracies)[which.max(accuracies), cpvals]"
   ]
  },
  {
   "cell_type": "code",
   "execution_count": null,
   "id": "31790325-3783-4aac-bd61-f3cb4df73426",
   "metadata": {},
   "outputs": [],
   "source": [
    "realty.cp"
   ]
  },
  {
   "cell_type": "code",
   "execution_count": null,
   "id": "b4bcbfdc-e9db-4f73-abd8-cad363a80a7a",
   "metadata": {},
   "outputs": [],
   "source": [
    "prune.tree <- prune(realty.rp, cp = realty.cp)"
   ]
  },
  {
   "cell_type": "markdown",
   "id": "bdf2ee6c-45b5-482b-b564-8475dad666d7",
   "metadata": {},
   "source": [
    "And visualize:"
   ]
  },
  {
   "cell_type": "code",
   "execution_count": null,
   "id": "4262edd4-5bae-4cb0-b959-04b46246bc9e",
   "metadata": {},
   "outputs": [],
   "source": [
    "visNetwork::visTree(prune.tree)"
   ]
  },
  {
   "cell_type": "markdown",
   "id": "6ad3c179-ddf8-465d-ab59-8c506535fe47",
   "metadata": {},
   "source": [
    "### Classification performance of the pruned tree"
   ]
  },
  {
   "cell_type": "code",
   "execution_count": null,
   "id": "db0a902b-12c3-4cee-b121-cdecbd380969",
   "metadata": {},
   "outputs": [],
   "source": [
    "predictions_train_pruned <- as.integer(predict(prune.tree, realty_train) > 0.5)"
   ]
  },
  {
   "cell_type": "code",
   "execution_count": null,
   "id": "979e0cf5-69df-439a-b0d1-4dfd86734e90",
   "metadata": {},
   "outputs": [],
   "source": [
    "caret::confusionMatrix(table(predictions_train_pruned, realty_train$premium), positive = \"1\")"
   ]
  },
  {
   "cell_type": "markdown",
   "id": "734a8c22-3041-404b-adfb-ad42cc1182d4",
   "metadata": {},
   "source": [
    "### Predictive power of the pruned tree"
   ]
  },
  {
   "cell_type": "code",
   "execution_count": null,
   "id": "7b704e65-0fe7-472c-bf3c-1f16eafae6dd",
   "metadata": {},
   "outputs": [],
   "source": [
    "predictions_test_pruned <- as.integer(predict(prune.tree, realty_test) > 0.5)"
   ]
  },
  {
   "cell_type": "code",
   "execution_count": null,
   "id": "976691c7-aaf0-4d24-989d-cb699f4bf881",
   "metadata": {},
   "outputs": [],
   "source": [
    "caret::confusionMatrix(table(predictions_test_pruned, realty_test$premium), positive = \"1\")"
   ]
  },
  {
   "cell_type": "code",
   "execution_count": null,
   "id": "bb7ccaba-b6b7-4441-8ce6-5ca81cce0bf5",
   "metadata": {},
   "outputs": [],
   "source": []
  }
 ],
 "metadata": {
  "kernelspec": {
   "display_name": "R",
   "language": "R",
   "name": "ir"
  },
  "language_info": {
   "codemirror_mode": "r",
   "file_extension": ".r",
   "mimetype": "text/x-r-source",
   "name": "R",
   "pygments_lexer": "r",
   "version": "4.1.0"
  }
 },
 "nbformat": 4,
 "nbformat_minor": 5
}
