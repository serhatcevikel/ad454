{
 "cells": [
  {
   "cell_type": "code",
   "execution_count": null,
   "id": "5304c10a-5a44-4241-add0-4336a09c72fe",
   "metadata": {},
   "outputs": [],
   "source": [
    "library(data.table)\n",
    "library(tidyverse)\n",
    "library(plotly)\n",
    "library(C50) # for churn data\n",
    "library(rpart) # for recursive partioning trees\n",
    "library(rpart.plot) # for plotting recursive partioning trees\n",
    "library(visNetwork) # for better plotting recursive partioning trees\n",
    "library(caret) # for a better confusion matrix"
   ]
  },
  {
   "cell_type": "code",
   "execution_count": null,
   "id": "a2868568-dd1e-4d40-b384-ae570a235d59",
   "metadata": {},
   "outputs": [],
   "source": [
    "options(repr.matrix.max.rows=20, repr.matrix.max.cols=15) # for limiting the number of top and bottom rows of tables printed "
   ]
  },
  {
   "cell_type": "code",
   "execution_count": null,
   "id": "5ee254aa-56cf-4a38-b99a-3085713bf4bc",
   "metadata": {},
   "outputs": [],
   "source": [
    "datapath <- \"~/data_ad454\""
   ]
  },
  {
   "cell_type": "markdown",
   "id": "33a4e0f6-dc38-4fe9-980d-6462210c3996",
   "metadata": {},
   "source": [
    "# PCA and Recursive Partitioning Trees with Realty Dataset"
   ]
  },
  {
   "cell_type": "markdown",
   "id": "070410d6-f631-4842-9b07-d176956141e9",
   "metadata": {},
   "source": [
    "We continue with the realty dataset.\n",
    "\n",
    "Remember that, we calculated the premium_neigh variable which is premium of the unit price of the property over the median unit price of the neighborhood.\n",
    "\n",
    "Now we will try to classify the properties into premium and discount"
   ]
  },
  {
   "cell_type": "markdown",
   "id": "9e219cbb-b8f3-46f9-8a4e-66d3cb725324",
   "metadata": {},
   "source": [
    "Let's first import the realty dataset:"
   ]
  },
  {
   "cell_type": "code",
   "execution_count": null,
   "id": "cc530173-645e-4f26-b73b-c367108c672b",
   "metadata": {},
   "outputs": [],
   "source": [
    "realty_data3 <- readRDS(sprintf(\"%s/rds/06_02_realty_data3.rds\", datapath))"
   ]
  },
  {
   "cell_type": "code",
   "execution_count": null,
   "id": "f89dbbff-0c4b-41a1-b74b-8e529f2a34c3",
   "metadata": {},
   "outputs": [],
   "source": [
    "realty_data3"
   ]
  },
  {
   "cell_type": "markdown",
   "id": "54ac7979-6da2-448f-8394-3007ade22cd6",
   "metadata": {},
   "source": [
    "Let's add the binary variable premium, which takes 1 when the premium is above 0, and 0 otherwise"
   ]
  },
  {
   "cell_type": "code",
   "execution_count": null,
   "id": "2e96bf8e-4fbb-47a9-b69a-b1217cdf8dfc",
   "metadata": {},
   "outputs": [],
   "source": [
    "realty_data3[, premium := as.integer(premium_neigh > 0)]"
   ]
  },
  {
   "cell_type": "markdown",
   "id": "f6d9f373-13c4-4b38-9302-03f1408a7317",
   "metadata": {},
   "source": [
    "Let's see the structure:"
   ]
  },
  {
   "cell_type": "code",
   "execution_count": null,
   "id": "2fcd80d6-feb7-4141-b068-e262070557a1",
   "metadata": {},
   "outputs": [],
   "source": [
    "realty_data3 %>% str"
   ]
  },
  {
   "cell_type": "markdown",
   "id": "d34e8a05-c361-43f4-a8c9-09c986b7f3df",
   "metadata": {},
   "source": [
    "Now, select some of the variables:"
   ]
  },
  {
   "cell_type": "code",
   "execution_count": null,
   "id": "19c9796f-8283-428a-bac2-e2160b9ddf1f",
   "metadata": {},
   "outputs": [],
   "source": [
    "vars <- c(\"premium\", \"esyali\", \"krediye_uygunluk\", \"bina_yasi\", \"kat_sayisi\", \"kat\", realty_data3 %>% keep(is.logical) %>% names)\n",
    "vars"
   ]
  },
  {
   "cell_type": "markdown",
   "id": "ddaf47e5-41d2-4a8e-9902-b5e69163f48c",
   "metadata": {},
   "source": [
    "And assign the subset:"
   ]
  },
  {
   "cell_type": "code",
   "execution_count": null,
   "id": "9fea74aa-4893-4287-ac7f-b2913c73524b",
   "metadata": {},
   "outputs": [],
   "source": [
    "realty_data4 <- realty_data3 %>% select(all_of(vars)) %>% na.omit"
   ]
  },
  {
   "cell_type": "code",
   "execution_count": null,
   "id": "67ec5f65-9423-4646-ae84-d638f5773c81",
   "metadata": {},
   "outputs": [],
   "source": [
    "realty_data4"
   ]
  },
  {
   "cell_type": "markdown",
   "id": "00ac5e6d-c084-4f30-8a1e-0678241cb436",
   "metadata": {},
   "source": [
    "Your tasks are to:\n",
    "\n",
    "- Collect logical features into a separate data.table\n",
    "- Conduct PCA using prcomp\n",
    "- Select the appropriate principal components. You may use the cumulative proportion of variance or the sd values above 1. Squares of sd values are eigenvalues and optionally can be visualized as a scree plot.\n",
    "- Replace the original logical features with the selected principal components\n",
    "- Partition the data set into 70% train and 30% test sets\n",
    "- Train the dataset using rpart\n",
    "- Create a simple simulation function to try each complexity parameter value for pruning the original tree, make predictions and get the accuracy on the test set. Do not use type = \"class\" argument since the target feature is integer (0, 1) and not a factor. The output will be probability and taking 0.5 as the cutting point, create integer 0 and 1 values as fitted classes accordingly. Accuracy is just the proportion of values where actual and fitted classes agree.\n",
    "- Select the complexity parameter where accuracy on the test set is at a maximum (this should be around 61%)\n",
    "- Prune the tree at that optimal complexity parameter, visualize the pruned tree using a single method (mutliple visualization will create a large html that is hard to upload and submit)\n",
    "- Create the confusion matrices for train and test sets using positive = \"1\"."
   ]
  },
  {
   "cell_type": "markdown",
   "id": "9dd8b990-9c10-473b-a8d5-7df76417f2ec",
   "metadata": {},
   "source": [
    "# Answer"
   ]
  }
 ],
 "metadata": {
  "kernelspec": {
   "display_name": "R",
   "language": "R",
   "name": "ir"
  },
  "language_info": {
   "codemirror_mode": "r",
   "file_extension": ".r",
   "mimetype": "text/x-r-source",
   "name": "R",
   "pygments_lexer": "r",
   "version": "4.1.0"
  }
 },
 "nbformat": 4,
 "nbformat_minor": 5
}
