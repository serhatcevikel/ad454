{
 "cells": [
  {
   "cell_type": "markdown",
   "metadata": {},
   "source": [
    "# BONUS ASSIGNMENT 01: INTRODUCTION TO DATA.TABLE AND DPLYR"
   ]
  },
  {
   "cell_type": "markdown",
   "metadata": {},
   "source": [
    "**Please run the cell and enter your student number when prompted for:**"
   ]
  },
  {
   "cell_type": "code",
   "execution_count": null,
   "metadata": {},
   "outputs": [],
   "source": [
    "library(IRdisplay)\n",
    "studentid <- readline(prompt = \"Please enter your student id: \")\n",
    "filename <- \"assignment_bonus_01.ipynb\"\n",
    "newname <- gsub(\"\\\\.ipynb\", sprintf(\"_%s.ipynb\", studentid), filename)\n",
    "system(sprintf(\"cp %s %s\", filename, newname))\n",
    "IRdisplay::display_html(sprintf(\"<B>NOW CLOSE THIS NOTEBOOK AND OPEN %s.<p></p>YOU SHOULD SAVE YOUR WORK IN %s AND UPLOAD THAT FILE</B>\",\n",
    "                                newname,\n",
    "                                newname)) "
   ]
  },
  {
   "cell_type": "markdown",
   "metadata": {},
   "source": [
    "**NOTE THAT YOU SHOULD SAVE AND DOWNLOAD THE NOTEBOOK FILE FREQUENTLY SO THAT YOU DON'T LOSE YOUR WORK IN CASE OF DISCONNECTION OR SESSION TIMEOUT** \n",
    "\n",
    "And don't forget, if you are stuck, you can refer to R documentation using \"?\", search engines or stackoverflow. With the right keywords, you will get the answer!"
   ]
  },
  {
   "cell_type": "markdown",
   "metadata": {},
   "source": [
    "## JUPYTER MODES AND SHORTCUTS AND MARKDOWN BASICS"
   ]
  },
  {
   "cell_type": "markdown",
   "metadata": {},
   "source": [
    "First of all, please watch this short video on how to use the modes and shortcuts in Jupyter notebooks:\n",
    "\n",
    "[![The Data Incubator - Keyboard Shortcuts in Jupyter](https://img.youtube.com/vi/cuHY1o3Cf2s/0.jpg)](https://www.youtube.com/watch?v=cuHY1o3Cf2s&index=4&list=PLjDTd-bDo6Q3nnt7y_GjMaYD79-stYZ-O&t=0s)"
   ]
  },
  {
   "cell_type": "markdown",
   "metadata": {},
   "source": [
    "And you may also want to review below links to get an undertanding of markdown syntax, to create a better layout and view of your homework:\n",
    "\n",
    "[Markdown Cheatsheet](https://github.com/adam-p/markdown-here/wiki/Markdown-Cheatsheet)\n",
    "\n",
    "[Markdown Quick Reference](https://en.support.wordpress.com/markdown-quick-reference/)"
   ]
  },
  {
   "cell_type": "markdown",
   "metadata": {},
   "source": [
    "## INTRODUCTION TO DATA.TABLE"
   ]
  },
  {
   "cell_type": "markdown",
   "metadata": {},
   "source": [
    "- Open [Introduction to data.table](https://cran.r-project.org/web/packages/data.table/vignettes/datatable-intro.html) vignette\n",
    "\n",
    "- Recreate the example in the vignette here below. You may try to change the parameters and try to type the statements yourself instead of pure copy-paste. Write steps in separate code cells and always run the cells to get the results.\n",
    "\n",
    "- You can add or delete cells above/below\n",
    "\n",
    "- You can convert cells to \"markdown\" (\"m\" in command mode) or \"code\" (\"y\" in command mode) and you can add instructions to markdown cells and/or comments starting with \"#\" into code cells as to your liking\n",
    "\n",
    "- To switch to command mode from edit mode, hit \"Esc\"\n",
    "\n",
    "- Do not overwrite the sections written by the instructors. They are for entering exercises.\n",
    "\n",
    "- First load data.table library\n",
    "\n",
    "- The flights14.csv data is under \"data\" directory of this repository. You may enter the path as \"../data/csv/flights14.csv\"\n"
   ]
  },
  {
   "cell_type": "code",
   "execution_count": null,
   "metadata": {},
   "outputs": [],
   "source": [
    "# comment as full line in code cell\n",
    "print(\"this line does nothing other than printing this line\") # comment at the end of code line in code cell\n",
    "# you can delete this cell with \"dd\" in command mode"
   ]
  },
  {
   "cell_type": "code",
   "execution_count": null,
   "metadata": {},
   "outputs": [],
   "source": [
    "# add you own markdown or code cells here to recreate the example in the vignette"
   ]
  },
  {
   "cell_type": "markdown",
   "metadata": {},
   "source": [
    "### Introduction to data.table exercises"
   ]
  },
  {
   "cell_type": "markdown",
   "metadata": {},
   "source": [
    "First let's set the maximum decimal digits to be printed to 2:"
   ]
  },
  {
   "cell_type": "code",
   "execution_count": null,
   "metadata": {},
   "outputs": [],
   "source": [
    "options(digits = 2)"
   ]
  },
  {
   "cell_type": "markdown",
   "metadata": {},
   "source": [
    "Please solve the exercises below:"
   ]
  },
  {
   "cell_type": "markdown",
   "metadata": {},
   "source": [
    "**EXERCISE 1:**\n",
    "\n",
    "- Select only those rows where month is between 6 and 8 (you can use %in% operator)\n",
    "- Create columns maxdep_del, mindep_del, meandep_del and sddep_del for the max(), min(), mean() and sd() values of \"dep_delay\" column\n",
    "- Group the results first by \"hour\" and then by \"origin\" columns\n",
    "- Chain the statement and order the results first by \"hour\" and then by \"origin\"\n",
    "- Interpret the result with a sentence of your own words in a markdown cell"
   ]
  },
  {
   "cell_type": "code",
   "execution_count": null,
   "metadata": {},
   "outputs": [],
   "source": [
    "# code here, you may create new cells"
   ]
  },
  {
   "cell_type": "markdown",
   "metadata": {},
   "source": [
    "**SOLUTION 1:**\n",
    "\n",
    "Run the code below and enter the password to be provided by the instructors when prompted for in order to view the solution (of course not before the submissions):"
   ]
  },
  {
   "cell_type": "code",
   "execution_count": null,
   "metadata": {},
   "outputs": [],
   "source": [
    "pass <- readline(prompt = \"Please enter the password for the solution: \")\n",
    "encrypt <- \"U2FsdGVkX1/KC1y2OxmWGKG/XkdkF32+2Bn1d+3/2O6nCymJn6VH4js5i7LQiCDf Rg9KScOIZuCc6g/MSOxxyabTqIU7H3PPWxc4JEI6aWpiUDDPGKK3cmHEiKHqM+yc 1BQ1L7V575GLLRCwg5XE8MXk8WcQhErllKE6DTrQTTnOcTb5uWN4Skut8UW5g4xt WNxAVjeZ5puijogif4Sdd0y9aML4odoTlmEAiziE+Xphg/fZ70wcH6VxgzoZj9gd dnT+ly+sfFgxxKre8YRLwx0pDBry4zzSgwCYRtnyAXGr1iADf6PPlf6tzGP125NT wSvuXWAG3vJybPXcMULF60faGKgFgbRMzBVxuHBeOyKEn6mS7FHOr3UhDh3nlwFA 1vegS4e/epvd/A6V48YF+j6tW1qou0WmK2mlGwJhbGsWnzD1QSXTg0pkkEnHBszV\"\n",
    "solution <- system(sprintf(\"echo %s | openssl enc -md sha256 -aes-128-cbc -a -d -salt -pass pass:%s 2> /dev/null\", encrypt, pass), intern = T, ignore.stderr = T)\n",
    "cat(solution, sep = \"\\n\")\n",
    "eval(parse(text = solution))"
   ]
  },
  {
   "cell_type": "markdown",
   "metadata": {},
   "source": [
    "**EXERCISE 2:**\n",
    "\n",
    "- Select those rows where origin is JFK and destination is LAX,\n",
    "- Apply the mean function to dep_delay, arr_delay, air_time and distance columns. Use .SD and .SDcols variables and lapply function\n",
    "- Chain the statement to order by dep_delay\n",
    "- Interpret the result by a sentence of your words inside a markdown cell)"
   ]
  },
  {
   "cell_type": "code",
   "execution_count": null,
   "metadata": {},
   "outputs": [],
   "source": []
  },
  {
   "cell_type": "markdown",
   "metadata": {},
   "source": [
    "**SOLUTION 2:**"
   ]
  },
  {
   "cell_type": "code",
   "execution_count": null,
   "metadata": {},
   "outputs": [],
   "source": [
    "pass <- readline(prompt = \"Please enter the password for the solution: \")\n",
    "encrypt <- \"U2FsdGVkX18+Nd7FbdPEcdsau1oyN3FGouogt2Rm0vUFcrz+AZDZMtsuELZzjfyB B2wGPHZ1S6l7+gGbyvN4qUNqLfBl90iAGl7ofq7ODE7VnEYs83rbLxTKvX2tPryJ m1LP73dXUie3/4G47ijiKVmlDq6gE8w+S8Hk9WL1mGilVUIpFNcTyz5qYlqRJ8+8 X1JeXFmYZ8w0blqEKGpmL1aIjyHO1St2WnrorCEE4eTcAxuo80mV0nwhksx+TRXK cbyIkji8IicL0dbOMeNxVEVueOJjqa1hH1Tt4zLl9xh1Vp359qAcMxb9K3bahVXt 4J+EAow1atmetGskIW2SgTmEgM1CsLSRcEvgwdaY4No=\"\n",
    "solution <- system(sprintf(\"echo %s | openssl enc -md sha256 -aes-128-cbc -a -d -salt -pass pass:%s 2> /dev/null\", encrypt, pass), intern = T, ignore.stderr = T)\n",
    "cat(solution, sep = \"\\n\")\n",
    "eval(parse(text = solution))"
   ]
  },
  {
   "cell_type": "markdown",
   "metadata": {},
   "source": [
    "## REFERENCE SEMANTICS IN DATA.TABLE"
   ]
  },
  {
   "cell_type": "markdown",
   "metadata": {},
   "source": [
    "- Open [Reference semantics](https://cran.r-project.org/web/packages/data.table/vignettes/datatable-reference-semantics.html) vignette\n",
    "- Continue with the same dataset\n",
    "- Same instructions as above (reproduce the steps in the vignette below, create new markdown/code cells when necessary)\n"
   ]
  },
  {
   "cell_type": "code",
   "execution_count": null,
   "metadata": {},
   "outputs": [],
   "source": []
  },
  {
   "cell_type": "markdown",
   "metadata": {},
   "source": [
    "### data.table reference semantics exercises"
   ]
  },
  {
   "cell_type": "markdown",
   "metadata": {},
   "source": [
    "**EXERCISE 3:**\n",
    "\n",
    "Using the information and method in 2e section of the vignette:\n",
    "- Deep copy the flights object into flights2\n",
    "- In flights2, create columns mean_dep_delay, mean_arr_delay, mean_air_time and mean_distance in place (with :=) by calculating the respective means and grouping by origin and dest. You may use sprintf or paste functions to create column names easily\n",
    "- Chaining, subset for first day of months and return origin, dest and the difference between dep_delay and mean_dep_delay (by calculating the difference of course) without modifying in place (w/o :=) and as a data.table (so you should use .())"
   ]
  },
  {
   "cell_type": "code",
   "execution_count": null,
   "metadata": {},
   "outputs": [],
   "source": []
  },
  {
   "cell_type": "markdown",
   "metadata": {},
   "source": [
    "**SOLUTION 3**:"
   ]
  },
  {
   "cell_type": "code",
   "execution_count": null,
   "metadata": {},
   "outputs": [],
   "source": [
    "pass <- readline(prompt = \"Please enter the password for the solution: \")\n",
    "encrypt <- \"U2FsdGVkX18WW5gqXKpvg4lwAjryS9pf0qCQouoOWX9gUPqC+Pwc938EINwsMqTL 30uXOrGoW49HI6cZHWywWGFSlzCP2vmTonshjZCW6gvuyHnVj39iyzKXb9xRaOqe dQPM61jDGmG+jkKDKWY4grKKogNT0nQmws0SXNhGxCfvOrptcdr5nEWEjnIL34/X h4ubrocMXcpJ6aUfQ7aB6M/TubFm26pnmQZTBxcCPMvnu+dkB6UkQ0d2SibCz70d PKLCzDVYEJPzSWqaCONVcM9BqOAR2EtnsaDdp7ezTGehWQzdPn0GfECkTGubR7qt Df14GYd+N9SmzaEIsDW4pEyqaLTUDOyuFBilgVwxYBWPECmLf1/l6h5qb+enpPhj b6lA2ljzSn0CPOsxGqV2YNTFskydo8WANhzHq+cRPwP0evXen6atiGMiw9UkbucO 04FXgWkqtRWleviUzK+ue63QeUQXej43cslSXDx3PV1PP9axsBVvC/vja9CG0y+V\"\n",
    "solution <- system(sprintf(\"echo %s | openssl enc -md sha256 -aes-128-cbc -a -d -salt -pass pass:%s 2> /dev/null\", encrypt, pass), intern = T, ignore.stderr = T)\n",
    "cat(solution, sep = \"\\n\")\n",
    "eval(parse(text = solution))"
   ]
  },
  {
   "cell_type": "markdown",
   "metadata": {},
   "source": [
    "## INTRODUCTION TO DPLYR"
   ]
  },
  {
   "cell_type": "markdown",
   "metadata": {},
   "source": [
    "- Open [Introduction to dplyr](https://cran.r-project.org/web/packages/dplyr/vignettes/dplyr.html) vignette\n",
    "\n",
    "- Same instructions as above (reproduce the steps in the vignette below, create new markdown/code cells when necessary)\n",
    "\n",
    "- First load tidyverse library\n",
    "\n",
    "- You can access the flights dataset by loading the installed \"nycflights13\" package\n",
    "\n"
   ]
  },
  {
   "cell_type": "code",
   "execution_count": null,
   "metadata": {},
   "outputs": [],
   "source": []
  },
  {
   "cell_type": "markdown",
   "metadata": {},
   "source": [
    "**EXERCISE 4:**"
   ]
  },
  {
   "cell_type": "markdown",
   "metadata": {},
   "source": [
    "Starting with the original flights object and using pipes (%>%) for dplyr and \"+\" for ggplot:\n",
    "- Exclude columns tailnum and flight\n",
    "- Filter for first day of months and destination \"LAX\"\n",
    "- Create a new column \"delayrate\" as the ratio of dep_delay to air_time\n",
    "- Group by month and origin\n",
    "- Summarise by getting the average of delayrate as \"meandelayrate\"\n",
    "- Order by month and meandelayrate\n",
    "- Create a ggplot for columns \"month\" and \"meandelayrate\" inside aes(). Add also \"color = origin\" into the aes() argument. See what happens\n",
    "- Add geom_line() to the plot"
   ]
  },
  {
   "cell_type": "code",
   "execution_count": null,
   "metadata": {
    "scrolled": false
   },
   "outputs": [],
   "source": []
  },
  {
   "cell_type": "markdown",
   "metadata": {},
   "source": [
    "**SOLUTION 4:**"
   ]
  },
  {
   "cell_type": "code",
   "execution_count": null,
   "metadata": {},
   "outputs": [],
   "source": [
    "pass <- readline(prompt = \"Please enter the password for the solution: \")\n",
    "encrypt <- \"U2FsdGVkX1/jLnhgUk359SVBs0ZDxv8FwzYCubv6/6ZsgfyTZ3IyHVWY4Rbvpi/U jdjLHaQTfMrdev2kHO64xqdGWWvy0akURyxkpfiFx+W2iAvSmk4bx7Fo0NT3lWxU 9cPpCXBY5c68mW/g1xlG7TNk0s6tuvGhejDhjRIdu99nty9q/iNs8Sk5hdteAT3E wbkX3sX04vh9zuwgoNPHBEVEtvzm3n5LHfKVSmtIZ+NCRDBLEBfKoRH907r+LHly jqpkdhMWVj4UuzjIX+NMTOyx22j6rLbIGOS3kVo8aYElEPVm8OZv2GSTSpg1WO0Y iWGP8+flZFTPm1wHC4Rj5g38ygkbm5xKCtuRL0ilshuBKOzQ57fSL4gyx4+yzIdB /3jtTTQXaVC/7BoPXTeigTSGNoiSbaUzo8v29n0Djqpg1uj7jA96Yheh5kR8llfG ARM8AMU5SLsWTyiaM1AHWgtKnEoqXIqH2BHWwTMqyHVv/yavG0wOY2pLxbEhA3ms JyrC7aeRkMVxgsY9MtEULQ==\"\n",
    "solution <- system(sprintf(\"echo %s | openssl enc -aes-128-cbc -a -d -salt -pass pass:%s 2> /dev/null\", encrypt, pass), intern = T, ignore.stderr = T)\n",
    "cat(solution, sep = \"\\n\")\n",
    "parse(text = solution)\n",
    "eval(parse(text = solution))\n"
   ]
  },
  {
   "cell_type": "code",
   "execution_count": null,
   "metadata": {},
   "outputs": [],
   "source": []
  }
 ],
 "metadata": {
  "kernelspec": {
   "display_name": "R",
   "language": "R",
   "name": "ir"
  },
  "language_info": {
   "codemirror_mode": "r",
   "file_extension": ".r",
   "mimetype": "text/x-r-source",
   "name": "R",
   "pygments_lexer": "r",
   "version": "3.5.1"
  },
  "toc": {
   "base_numbering": 1,
   "nav_menu": {},
   "number_sections": true,
   "sideBar": true,
   "skip_h1_title": false,
   "title_cell": "Table of Contents",
   "title_sidebar": "Contents",
   "toc_cell": false,
   "toc_position": {},
   "toc_section_display": "block",
   "toc_window_display": false
  }
 },
 "nbformat": 4,
 "nbformat_minor": 2
}
