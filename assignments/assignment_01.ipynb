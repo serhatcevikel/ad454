{
 "cells": [
  {
   "cell_type": "markdown",
   "metadata": {},
   "source": [
    "# ASSIGNMENT_01: KNN WITH IRIS DATABASE"
   ]
  },
  {
   "cell_type": "markdown",
   "metadata": {},
   "source": [
    "First of all, please watch this short video on how to use the modes and shortcuts in Jupyter notebooks:\n",
    "\n",
    "[![The Data Incubator - Keyboard Shortcuts in Jupyter](https://img.youtube.com/vi/cuHY1o3Cf2s/0.jpg)](https://www.youtube.com/watch?v=cuHY1o3Cf2s&index=4&list=PLjDTd-bDo6Q3nnt7y_GjMaYD79-stYZ-O&t=0s)\n",
    "\n",
    "And, you may want to review below links to get an undertanding of markdown syntax, to create a better layout and view of your homework:\n",
    "\n",
    "[Markdown Cheatsheet](https://github.com/adam-p/markdown-here/wiki/Markdown-Cheatsheet)\n",
    "\n",
    "[Markdown Quick Reference](https://en.support.wordpress.com/markdown-quick-reference/)"
   ]
  },
  {
   "cell_type": "markdown",
   "metadata": {},
   "source": [
    "**Please enter your student number below and run the cell:**"
   ]
  },
  {
   "cell_type": "code",
   "execution_count": null,
   "metadata": {},
   "outputs": [],
   "source": [
    "library(IRdisplay)\n",
    "studentid <- readline(prompt = \"Please enter your student id: \")\n",
    "filename <- \"assignment_01.ipynb\"\n",
    "newname <- gsub(\"\\\\.ipynb\", sprintf(\"_%s.ipynb\", studentid), filename)\n",
    "system(sprintf(\"cp %s %s\", filename, newname))\n",
    "IRdisplay::display_html(sprintf(\"<B>NOW CLOSE THIS NOTEBOOK AND OPEN %s.<p></p>YOU SHOULD SAVE YOUR WORK IN %s AND UPLOAD THAT FILE</B>\", newname, newname)) "
   ]
  },
  {
   "cell_type": "markdown",
   "metadata": {},
   "source": [
    "**NOTE THAT YOU SHOULD SAVE AND DOWNLOAD THE NOTEBOOK FILE FREQUENTLY SO THAT YOU DON'T LOSE YOUR WORK IN CASE OF DISCONNECTION OR SESSION TIMEOUT** \n",
    "\n",
    "And don't forget, if you are stuck, you can refer to R documentation using \"?\", search engines or stackoverflow. With the right keywords, you will get the answer!"
   ]
  },
  {
   "cell_type": "markdown",
   "metadata": {},
   "source": [
    "Following our two KNN examples explore the built-in \"iris\" dataset and construct a KNN model with that data.\n",
    "\n",
    "You can also take a look at [Chapter 3 from \"Machine Learning with R\" by Brett Lantz](https://books.google.com.tr/books?id=ZaJNCgAAQBAJ&printsec=frontcover&hl=tr&source=gbs_ge_summary_r&cad=0#v=onepage&q&f=false) and Chapter 3 from \"Machine Learning Made Easy With R\" by N.D.Lewis\n",
    "\n",
    "You can use any tools within the R ecosystem you would like following the below guidelines:\n",
    "\n",
    "- Explain your steps clearly in markdown cells\n",
    "- Split your workflow into steps in different code cells that are explained and interpreted by your words in markdown cells (as we did in our examples)\n",
    "- Create a multi-level outline to aid in following the logical flow (as we did in our examples). Go through our ipynb files in order to see how we did that (you can double click on markdown cells to get the idea)\n",
    "- First load the libraries in a single cell and comment on what we use that library for (as we did in our examples as such: library(xxx) # for this ...)\n",
    "- You are encouraged to use data.table and pipes from tidyverse (%>%)\n",
    "- In order to use data.table, convert iris into a data.table and save under another name as iris_dt or such\n",
    "- **CREATE AT LEAST THREE VISUALIZATIONS USING ANY NON-BASE (built-in plot) PACKAGES YOU WOULD LIKE**\n",
    "- You are not bound with the visualizations we made in our examples\n",
    "- If you are using a package not already installed in our binder image, place them on top of required libraries also stating that they are to be installed. If they are non-CRAN packages, provide github links as comments. You are encouraged the use any package in the R ecosystem, as long as it produces a printable output in Jupyter notebooks (for example DT and rpivotTable does not render well in Jupyter)\n",
    "- You may get ideas from solutions to Kaggle competitions in the form of kernels. **BUT YOU ARE NOT SUPPOSED TO DIRECTLY COPY AND PASTE A LARGE PORTION OF THOSE READY SOLUTIONS. WE WANT YOU TO USE YOUR IMAGINATION AND INSIGHT**\n",
    "- Do not solve mechanically. Try to get insights from the outputs of your steps and modify and direct the model accordingly. Explain those insights \n",
    "- You may also write comments inside your codes to convey your intentions\n",
    "- Follow good syntax in your codes as we did:\n",
    "    - Use comprehensible, self-explanatory variable and function names, not just x, y, a or b\n",
    "    - Indent your code blocks properly with tabs for better readability\n",
    "    - Split your lines into shorter ones. You can even split arguments of a function into separate lines as we did\n",
    "    - Use block operators when necessary ({})\n",
    "    - Use vectorization and ply formulas (apply, sapply, lapply) instead of for loops if there is a way\n",
    "    - Put whitespaces around operators for better readability\n",
    "    - Even though you load the libraries, explicitly write the package namespace of the function you are using as such: \"class::knn\" instead of just \"knn\"\n",
    "- Don't use any objects (data files, etc) in your own local filesystem. The solution should have no external dependencies apart from loaded packages\n",
    "- And check that there are no syntax or runtime errors in your code. We must be reproducing your codes when we run them ourselves without any error\n"
   ]
  },
  {
   "cell_type": "code",
   "execution_count": null,
   "metadata": {},
   "outputs": [],
   "source": []
  }
 ],
 "metadata": {
  "kernelspec": {
   "display_name": "R",
   "language": "R",
   "name": "ir"
  },
  "language_info": {
   "codemirror_mode": "r",
   "file_extension": ".r",
   "mimetype": "text/x-r-source",
   "name": "R",
   "pygments_lexer": "r",
   "version": "3.5.1"
  },
  "toc": {
   "base_numbering": 1,
   "nav_menu": {},
   "number_sections": true,
   "sideBar": true,
   "skip_h1_title": false,
   "title_cell": "Table of Contents",
   "title_sidebar": "Contents",
   "toc_cell": false,
   "toc_position": {},
   "toc_section_display": "block",
   "toc_window_display": false
  }
 },
 "nbformat": 4,
 "nbformat_minor": 2
}
