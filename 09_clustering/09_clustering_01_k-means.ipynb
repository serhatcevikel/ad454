{
 "cells": [
  {
   "cell_type": "markdown",
   "metadata": {},
   "source": [
    "# K-MEANS CLUSTERING WITH SOCIAL NETWORKING DATASET"
   ]
  },
  {
   "cell_type": "markdown",
   "metadata": {},
   "source": [
    "Adapted from Lantz (2015) Chapter 9\n",
    "\n",
    "For this analysis, we will use a dataset representing a random sample of 30,000 U.S. high school students who had profiles on a well-known SNS in 2006.\n",
    "\n",
    "To protect the users' anonymity, the SNS will remain unnamed.\n",
    "\n",
    "The data was sampled evenly across four high school graduation years (2006 through 2009) representing the senior, junior, sophomore, and freshman classes at the time of data collection. Using an automated web crawler, the full text of the SNS profiles were downloaded, and each teen's gender, age, and number of SNS friends was recorded.\n",
    "\n",
    "A text mining tool was used to divide the remaining SNS page content into words. From the top 500 words appearing across all the pages, 36 words were chosen to represent five categories of interests: namely extracurricular activities, fashion, religion, romance, and antisocial behavior. The 36 words include terms such as football, sexy, kissed, bible, shopping, death, and drugs. The final dataset indicates, for each person, how many times each word appeared in the person's SNS profile."
   ]
  },
  {
   "cell_type": "markdown",
   "metadata": {},
   "source": [
    "## Load libraries and data"
   ]
  },
  {
   "cell_type": "code",
   "execution_count": null,
   "metadata": {},
   "outputs": [],
   "source": [
    "library(data.table) # to handle the data in a more convenient manner\n",
    "library(tidyverse) # for a better work flow and more tools to wrangle and visualize the data\n",
    "library(plotly) # for interactive visualizations\n",
    "library(fastDummies) # to create dummies from categoric variables\n",
    "library(mice) # for missing values\n",
    "library(VIM) # for visualizing missing values\n",
    "library(tidyimpute) # imputing missing values\n",
    "library(BBmisc) # for standardization\n",
    "library(formattable) # for number formatting\n",
    "library(pheatmap) # heatmap\n",
    "library(d3heatmap) # heatmap\n",
    "library(heatmaply) # heatmap\n",
    "library(factoextra) # visualizing distances, cluster, heatmap\n",
    "library(knitr) # pretty tables\n",
    "library(kableExtra) # pretty tables\n",
    "library(IRdisplay) # pretty tables\n",
    "library(NbClust) # cluster metrics\n",
    "library(vegan) # cluster metrics\n",
    "library(listviewer) # view list object\n",
    "library(plyr) # for lapply on matrix objects"
   ]
  },
  {
   "cell_type": "markdown",
   "metadata": {},
   "source": [
    "Load the data:"
   ]
  },
  {
   "cell_type": "code",
   "execution_count": null,
   "metadata": {},
   "outputs": [],
   "source": [
    "teens_dt <- data.table::fread(\"../data/csv/11_01_snsdata.csv\", stringsAsFactors = T)"
   ]
  },
  {
   "cell_type": "markdown",
   "metadata": {},
   "source": [
    "## Explore data"
   ]
  },
  {
   "cell_type": "markdown",
   "metadata": {},
   "source": [
    "View the structure:"
   ]
  },
  {
   "cell_type": "code",
   "execution_count": null,
   "metadata": {},
   "outputs": [],
   "source": [
    "str(teens_dt)"
   ]
  },
  {
   "cell_type": "markdown",
   "metadata": {},
   "source": [
    "The data include 30,000 teenagers with four variables indicating personal characteristics and 36 words indicating interests."
   ]
  },
  {
   "cell_type": "markdown",
   "metadata": {},
   "source": [
    "See factor levels:"
   ]
  },
  {
   "cell_type": "code",
   "execution_count": null,
   "metadata": {},
   "outputs": [],
   "source": [
    "teens_dt %>% purrr::keep(is.factor) %>% purrr::map(levels)"
   ]
  },
  {
   "cell_type": "markdown",
   "metadata": {},
   "source": [
    "And the distribution:"
   ]
  },
  {
   "cell_type": "code",
   "execution_count": null,
   "metadata": {
    "scrolled": false
   },
   "outputs": [],
   "source": [
    "teens_factors <- teens_dt %>% purrr::keep(is.factor) %>% # select factor columns\n",
    "    tidyr::gather() %>% # convert into long format for faceting\n",
    "    ggplot(aes(x = value)) + # plot value\n",
    "    facet_wrap(~ key, scales = \"free\") + # divide into separate plots by key\n",
    "    geom_bar()\n",
    "\n",
    "plotly::ggplotly(teens_factors)"
   ]
  },
  {
   "cell_type": "markdown",
   "metadata": {},
   "source": [
    "See numeric variables'distritubions (excluding NA's):"
   ]
  },
  {
   "cell_type": "code",
   "execution_count": null,
   "metadata": {},
   "outputs": [],
   "source": [
    "teens_dt %>% purrr::keep(is.numeric) %>% sapply(quantile, na.rm = T) %>% t()"
   ]
  },
  {
   "cell_type": "code",
   "execution_count": null,
   "metadata": {},
   "outputs": [],
   "source": [
    "teens_dt[,quantile(age, na.rm = T)]"
   ]
  },
  {
   "cell_type": "markdown",
   "metadata": {},
   "source": [
    "### Cleaning age variable"
   ]
  },
  {
   "cell_type": "markdown",
   "metadata": {},
   "source": [
    "Age variables has NA values:"
   ]
  },
  {
   "cell_type": "code",
   "execution_count": null,
   "metadata": {},
   "outputs": [],
   "source": [
    "teens_dt %>%\n",
    "    purrr::keep(is.numeric) %>%\n",
    "    sapply(function(x) sum(is.na(x))) %>%\n",
    "    \"[\"(. > 0)"
   ]
  },
  {
   "cell_type": "markdown",
   "metadata": {},
   "source": [
    "And age distribution is not logical for college students:"
   ]
  },
  {
   "cell_type": "code",
   "execution_count": null,
   "metadata": {},
   "outputs": [],
   "source": [
    "teens_dt[,quantile(age, na.rm = T)]"
   ]
  },
  {
   "cell_type": "markdown",
   "metadata": {},
   "source": [
    "We should leave only values 13-20:"
   ]
  },
  {
   "cell_type": "code",
   "execution_count": null,
   "metadata": {},
   "outputs": [],
   "source": [
    "teens_dt[!dplyr::between(age, 13, 20 - 1e-10), age := NA]"
   ]
  },
  {
   "cell_type": "markdown",
   "metadata": {},
   "source": [
    "Now more reasonable:"
   ]
  },
  {
   "cell_type": "code",
   "execution_count": null,
   "metadata": {},
   "outputs": [],
   "source": [
    "teens_dt[,quantile(age, na.rm = T)]"
   ]
  },
  {
   "cell_type": "markdown",
   "metadata": {},
   "source": [
    "### Dummify gender"
   ]
  },
  {
   "cell_type": "markdown",
   "metadata": {},
   "source": [
    "Gender variable has NA values:"
   ]
  },
  {
   "cell_type": "code",
   "execution_count": null,
   "metadata": {},
   "outputs": [],
   "source": [
    "teens_dt[,table(gender,useNA = \"ifany\")]"
   ]
  },
  {
   "cell_type": "markdown",
   "metadata": {},
   "source": [
    "Now let's create dummy variables for female and missing gender values:"
   ]
  },
  {
   "cell_type": "code",
   "execution_count": null,
   "metadata": {},
   "outputs": [],
   "source": [
    "gender_dummy <- teens_dt[,fastDummies::dummy_cols(.(gender = gender),\n",
    "                            remove_first_dummy = T)] %>% dplyr::select(-gender)\n",
    "gender_dummy"
   ]
  },
  {
   "cell_type": "markdown",
   "metadata": {},
   "source": [
    "And insert these columns after the original gender variable:"
   ]
  },
  {
   "cell_type": "code",
   "execution_count": null,
   "metadata": {},
   "outputs": [],
   "source": [
    "teens_dt <- teens_dt %>%\n",
    "    append(unclass(gender_dummy), after = 2) %>% \n",
    "    as.data.table"
   ]
  },
  {
   "cell_type": "code",
   "execution_count": null,
   "metadata": {},
   "outputs": [],
   "source": [
    "teens_dt"
   ]
  },
  {
   "cell_type": "markdown",
   "metadata": {},
   "source": [
    "## Data imputation"
   ]
  },
  {
   "cell_type": "markdown",
   "metadata": {},
   "source": [
    "Let's look at missing values and distribution of complete and incomplete cases:"
   ]
  },
  {
   "cell_type": "code",
   "execution_count": null,
   "metadata": {},
   "outputs": [],
   "source": [
    "mdpat <- mice::md.pattern(teens_dt)\n",
    "mdpat"
   ]
  },
  {
   "cell_type": "markdown",
   "metadata": {},
   "source": [
    "In this output 1 means data exists and 0 means it is missing (NA). So:\n",
    "\n",
    "- 23602 cases are complete\n",
    "- In 3674 cases age is missing\n",
    "- In 875 cases gender is missing\n",
    "- In 1849 cases both age and gender are missing"
   ]
  },
  {
   "cell_type": "markdown",
   "metadata": {},
   "source": [
    "Lets only filter for those columns which have missing values (using the last row in the output):"
   ]
  },
  {
   "cell_type": "code",
   "execution_count": null,
   "metadata": {},
   "outputs": [],
   "source": [
    "mdcols <- mdpat %>%\n",
    "            as.data.table %>%\n",
    "            .[.N, names(.)[.SD > 0]] %>%\n",
    "            head(-1)\n",
    "mdcols"
   ]
  },
  {
   "cell_type": "markdown",
   "metadata": {},
   "source": [
    "See whether we got it:"
   ]
  },
  {
   "cell_type": "code",
   "execution_count": null,
   "metadata": {},
   "outputs": [],
   "source": [
    "teens_dt[,.SD, .SDcols = mdcols]"
   ]
  },
  {
   "cell_type": "markdown",
   "metadata": {},
   "source": [
    "Now let's visualize the distribution of missing values in these columns:\n",
    "\n",
    "First using tidyverse notation:"
   ]
  },
  {
   "cell_type": "code",
   "execution_count": null,
   "metadata": {},
   "outputs": [],
   "source": [
    "teens_dt %>%\n",
    "    dplyr::select(mdcols) %>%\n",
    "    VIM::aggr(numbers = T)"
   ]
  },
  {
   "cell_type": "markdown",
   "metadata": {},
   "source": [
    "And then in pure data.table:"
   ]
  },
  {
   "cell_type": "code",
   "execution_count": null,
   "metadata": {},
   "outputs": [],
   "source": [
    "teens_dt[,VIM::aggr(.SD, numbers = T), .SDcols = mdcols]"
   ]
  },
  {
   "cell_type": "markdown",
   "metadata": {},
   "source": [
    "### Imputation using mice package:"
   ]
  },
  {
   "cell_type": "markdown",
   "metadata": {},
   "source": [
    "\"pmm\" method is predictive mean matching. It uses other columns' values distribution and respective mean values of the column with missing values in order to fill in those missing values:"
   ]
  },
  {
   "cell_type": "markdown",
   "metadata": {},
   "source": [
    "mice() function gives the results separately\n",
    "\n",
    "In this examples, missing age values are completed using gradyear:"
   ]
  },
  {
   "cell_type": "code",
   "execution_count": null,
   "metadata": {},
   "outputs": [],
   "source": [
    "datatemp <- mice::mice(teens_dt[,.(gradyear, age)], method = \"pmm\", m = 1)"
   ]
  },
  {
   "cell_type": "code",
   "execution_count": null,
   "metadata": {},
   "outputs": [],
   "source": [
    "summary(datatemp)"
   ]
  },
  {
   "cell_type": "markdown",
   "metadata": {},
   "source": [
    "And we can see the imputed values for age:"
   ]
  },
  {
   "cell_type": "code",
   "execution_count": null,
   "metadata": {},
   "outputs": [],
   "source": [
    "datatemp$imp$age"
   ]
  },
  {
   "cell_type": "markdown",
   "metadata": {},
   "source": [
    "Impute missing values into completed object:"
   ]
  },
  {
   "cell_type": "code",
   "execution_count": null,
   "metadata": {},
   "outputs": [],
   "source": [
    "completed <- mice::complete(datatemp,1)"
   ]
  },
  {
   "cell_type": "markdown",
   "metadata": {},
   "source": [
    "Let's see, for the original missing values, with what values age was imputed with for each greadyear, first only averages:"
   ]
  },
  {
   "cell_type": "code",
   "execution_count": null,
   "metadata": {},
   "outputs": [],
   "source": [
    "cbind(teens_dt[,.(age_original = age)], completed)[is.na(age_original), mean(age), by = gradyear]"
   ]
  },
  {
   "cell_type": "markdown",
   "metadata": {},
   "source": [
    "And then the distribution of the imputed values for each gradyear:"
   ]
  },
  {
   "cell_type": "code",
   "execution_count": null,
   "metadata": {},
   "outputs": [],
   "source": [
    "colnms <- quantile(1) %>% names\n",
    "colnms"
   ]
  },
  {
   "cell_type": "code",
   "execution_count": null,
   "metadata": {},
   "outputs": [],
   "source": [
    "cbind(teens_dt[,.(age_original = age)], completed)[\n",
    "    is.na(age_original),\n",
    "    .(colnms = colnms, age = quantile(age)),\n",
    "    by = gradyear] %>%\n",
    "tidyr::spread(colnms, age) %>%\n",
    "select(c(\"gradyear\", colnms))\n",
    "\n",
    "#data.table::setcolorder(c(\"gradyear\", colnms)) %>%\n",
    "#.[]"
   ]
  },
  {
   "cell_type": "markdown",
   "metadata": {},
   "source": [
    "We see that mice does not use fixed values for each gradyear adds some statistical distribution"
   ]
  },
  {
   "cell_type": "markdown",
   "metadata": {},
   "source": [
    "### Imputation using tidyimpute"
   ]
  },
  {
   "cell_type": "markdown",
   "metadata": {},
   "source": [
    "tidyimpute package is much simpler: It uses fixed values for imputing while following common methods such as mean"
   ]
  },
  {
   "cell_type": "code",
   "execution_count": null,
   "metadata": {},
   "outputs": [],
   "source": [
    "cbind(teens_dt[,.(gradyear, age)], age2 = teens_dt[, tidyimpute::impute_mean(.(age))])[\n",
    "    is.na(age),\n",
    "    .(colnms = colnms, age = quantile(age2.V1)),\n",
    "    by = gradyear] %>%\n",
    "tidyr::spread(colnms, age) %>%\n",
    "select(c(\"gradyear\", colnms))\n"
   ]
  },
  {
   "cell_type": "markdown",
   "metadata": {},
   "source": [
    "It uses the same values across gradyears and within each gradyears.\n",
    "\n",
    "We have to instruct explicitly to differentiate across gradyear values:"
   ]
  },
  {
   "cell_type": "code",
   "execution_count": null,
   "metadata": {},
   "outputs": [],
   "source": [
    "teens_dt[,age2 := tidyimpute::impute_mean(.(age)), by = gradyear]"
   ]
  },
  {
   "cell_type": "code",
   "execution_count": null,
   "metadata": {},
   "outputs": [],
   "source": [
    "teens_dt[is.na(age),\n",
    "            .(colnms = colnms, age = quantile(age2)),\n",
    "            by = gradyear] %>%\n",
    "tidyr::spread(colnms, age) %>%\n",
    "select(c(\"gradyear\", colnms))\n"
   ]
  },
  {
   "cell_type": "markdown",
   "metadata": {},
   "source": [
    "Now values are differentiated across gradyears but homogenous within each year"
   ]
  },
  {
   "cell_type": "markdown",
   "metadata": {},
   "source": [
    "Now save the values in age2 into age and delete age2 column:"
   ]
  },
  {
   "cell_type": "code",
   "execution_count": null,
   "metadata": {},
   "outputs": [],
   "source": [
    "teens_dt[,c(\"age\", \"age2\") := .(age2, NULL)]"
   ]
  },
  {
   "cell_type": "code",
   "execution_count": null,
   "metadata": {},
   "outputs": [],
   "source": [
    "teens_dt"
   ]
  },
  {
   "cell_type": "markdown",
   "metadata": {},
   "source": [
    "Now let's see whether values are imputed:"
   ]
  },
  {
   "cell_type": "code",
   "execution_count": null,
   "metadata": {},
   "outputs": [],
   "source": [
    "teens_dt %>% dplyr::select(mdcols) %>% VIM::aggr(numbers = T)"
   ]
  },
  {
   "cell_type": "markdown",
   "metadata": {},
   "source": [
    "## Data normalization"
   ]
  },
  {
   "cell_type": "markdown",
   "metadata": {},
   "source": [
    "First remember the column names:"
   ]
  },
  {
   "cell_type": "code",
   "execution_count": null,
   "metadata": {},
   "outputs": [],
   "source": [
    "names(teens_dt)"
   ]
  },
  {
   "cell_type": "markdown",
   "metadata": {},
   "source": [
    "We will save the columns related with 36 keywords separately:"
   ]
  },
  {
   "cell_type": "code",
   "execution_count": null,
   "metadata": {},
   "outputs": [],
   "source": [
    "interests <- teens_dt[,basketball:drugs]\n",
    "interests"
   ]
  },
  {
   "cell_type": "code",
   "execution_count": null,
   "metadata": {},
   "outputs": [],
   "source": [
    "interests_z <- interests[,BBmisc::normalize(.SD)]"
   ]
  },
  {
   "cell_type": "code",
   "execution_count": null,
   "metadata": {},
   "outputs": [],
   "source": [
    "interests_z %>% sapply(quantile, na.rm = T) %>% t()"
   ]
  },
  {
   "cell_type": "code",
   "execution_count": null,
   "metadata": {},
   "outputs": [],
   "source": [
    "interests_z[,lapply(.SD, function(x) c(mean(x), sd(x)))] %>%\n",
    "                    t %>%\n",
    "                    round(3) %>%\n",
    "                    magrittr::set_colnames(c(\"mean\", \"sd\"))\n",
    "                    "
   ]
  },
  {
   "cell_type": "markdown",
   "metadata": {},
   "source": [
    "We see that all means are 0 and sd's are 1. However since the values are highly skewed (many 0's and few other values) the z-scores are highly extreme"
   ]
  },
  {
   "cell_type": "code",
   "execution_count": null,
   "metadata": {},
   "outputs": [],
   "source": [
    "props <- lapply(interests, table) %>%\n",
    "    lapply(prop.table) %>%\n",
    "    lapply(formattable::percent) %>%\n",
    "    lapply(round, 3)\n",
    "\n",
    "props"
   ]
  },
  {
   "cell_type": "code",
   "execution_count": null,
   "metadata": {},
   "outputs": [],
   "source": [
    "sapply(props, \"[\", 1) %>%\n",
    "    formattable::percent() %>%\n",
    "    sort(decreasing = T)"
   ]
  },
  {
   "cell_type": "markdown",
   "metadata": {},
   "source": [
    "We see that in many variables, the zero values (means no mention of the words in SNS profiles), make up more than 90% of all cases"
   ]
  },
  {
   "cell_type": "markdown",
   "metadata": {},
   "source": [
    "## Visualizing distances"
   ]
  },
  {
   "cell_type": "markdown",
   "metadata": {},
   "source": [
    "The euclidian distances among rows can be visualized as such (for only first 1000 rows):"
   ]
  },
  {
   "cell_type": "code",
   "execution_count": null,
   "metadata": {},
   "outputs": [],
   "source": [
    "distancex <- factoextra::get_dist(interests_z[1:100])"
   ]
  },
  {
   "cell_type": "code",
   "execution_count": null,
   "metadata": {},
   "outputs": [],
   "source": [
    "factoextra::fviz_dist(distancex)"
   ]
  },
  {
   "cell_type": "markdown",
   "metadata": {},
   "source": [
    "Cells closer to red show more proximate observations while cells closer to blue show more distant observations"
   ]
  },
  {
   "cell_type": "markdown",
   "metadata": {},
   "source": [
    "## Build and train model"
   ]
  },
  {
   "cell_type": "markdown",
   "metadata": {},
   "source": [
    "We train the dataset for 5 clusters:"
   ]
  },
  {
   "cell_type": "code",
   "execution_count": null,
   "metadata": {},
   "outputs": [],
   "source": [
    "set.seed(2345)\n",
    "teen_clusters <- kmeans(interests_z, centers = 5)"
   ]
  },
  {
   "cell_type": "code",
   "execution_count": null,
   "metadata": {},
   "outputs": [],
   "source": [
    "summary(teen_clusters)"
   ]
  },
  {
   "cell_type": "markdown",
   "metadata": {},
   "source": [
    "Sizes of each cluster are:"
   ]
  },
  {
   "cell_type": "code",
   "execution_count": null,
   "metadata": {},
   "outputs": [],
   "source": [
    "teen_clusters$size"
   ]
  },
  {
   "cell_type": "markdown",
   "metadata": {},
   "source": [
    "The center values of each variable for each cluster are:"
   ]
  },
  {
   "cell_type": "code",
   "execution_count": null,
   "metadata": {},
   "outputs": [],
   "source": [
    "centers <- teen_clusters$centers %>% t %>% round(2)\n",
    "centers"
   ]
  },
  {
   "cell_type": "markdown",
   "metadata": {},
   "source": [
    "Let's highlight the values in each row with significalty high or low values with kableExtra:"
   ]
  },
  {
   "cell_type": "code",
   "execution_count": null,
   "metadata": {},
   "outputs": [],
   "source": [
    "apply(centers,\n",
    "      1,\n",
    "      function(x)\n",
    "        {\n",
    "          zs <- (x - mean(x)) / sd(x);\n",
    "          cell_spec(x,\n",
    "                    color = ifelse(abs(zs) > 1, \"white\", \"black\"),\n",
    "                            background = ifelse(zs > 1, \"navy\", ifelse(zs < -1, \"red\", \"white\"))\n",
    "                   )\n",
    "        }\n",
    "    ) %>%\n",
    "t %>%\n",
    "magrittr::set_colnames(1:5) %>%      \n",
    "knitr::kable(escape = F) %>%\n",
    "kableExtra::kable_styling() %>%\n",
    "as.character() %>%\n",
    "IRdisplay::display_html()"
   ]
  },
  {
   "cell_type": "markdown",
   "metadata": {},
   "source": [
    "We can also visualize distinctive cluster and variable matchings with a heatmap:"
   ]
  },
  {
   "cell_type": "code",
   "execution_count": null,
   "metadata": {
    "scrolled": false
   },
   "outputs": [],
   "source": [
    "d3heatmap::d3heatmap(centers, Rowv = F, Colv = F)"
   ]
  },
  {
   "cell_type": "markdown",
   "metadata": {},
   "source": [
    "Another method of visualizing the centers data with heatmap:"
   ]
  },
  {
   "cell_type": "code",
   "execution_count": null,
   "metadata": {
    "scrolled": false
   },
   "outputs": [],
   "source": [
    "pheatmap::pheatmap(centers, cluster_rows = F, cluster_cols = F)"
   ]
  },
  {
   "cell_type": "markdown",
   "metadata": {},
   "source": [
    "For each cluster, let's select those variables for which the cluster is above some level: "
   ]
  },
  {
   "cell_type": "code",
   "execution_count": null,
   "metadata": {},
   "outputs": [],
   "source": [
    "namesx <- rownames(centers)\n",
    "\n",
    "apply(centers, 1, BBmisc::normalize) %>%\n",
    "    t %>%\n",
    "    plyr::alply(2, function(x) namesx[x > 1])\n",
    "    #%>%\n",
    "    #as.data.frame %>%\n",
    "    #lapply(function(x) namesx[x > 1])"
   ]
  },
  {
   "cell_type": "markdown",
   "metadata": {},
   "source": [
    "- The first cluster is above the mean for cheerleading, hollister, shopping and abercrombie. This cluster can be named as \"princesses\" (as per Lantz)\n",
    "- The second cluster is above the mean for band and marching. This cluster can be named as \"musicians\" (Lantz named it as \"brains\")\n",
    "- The 3rd cluster is above the mean for many of the sport types. This cluster can be named as \"athletes\"\n",
    "- The 4th cluster is above the mean for hair, dress, clothes, die, death, drunk, drugs. This cluster can be named as \"punks\" (Lantz named it as \"criminals\")\n",
    "- The 5th cluster is not distinctive in any of the terms. These are called \"basket cases\" - they were users that did not post any interests and is the largest cluster of all"
   ]
  },
  {
   "cell_type": "markdown",
   "metadata": {},
   "source": [
    "We can also visualize the clusters' borders across dimensions using factroextra's fviz_cluster\n",
    "\n",
    "Note that,  when there are more than 2 dimensions, this function automatically conducts a PCA and selects the two components that explain the most of the variance:"
   ]
  },
  {
   "cell_type": "code",
   "execution_count": null,
   "metadata": {
    "scrolled": false
   },
   "outputs": [],
   "source": [
    "factoextra::fviz_cluster(teen_clusters, data = interests_z, labelsize = 0)"
   ]
  },
  {
   "cell_type": "markdown",
   "metadata": {},
   "source": [
    "The second component on the y axis is probably related to the intensity of sport related interests\n",
    "\n",
    "And destructive keywords like \"death\" or \"drugs\" may be captured with the first component on the x axis\n",
    "\n",
    "Especially \"athletes\" and \"punks\" are wide apart"
   ]
  },
  {
   "cell_type": "markdown",
   "metadata": {},
   "source": [
    "## Enhance data exloration with cluster information"
   ]
  },
  {
   "cell_type": "markdown",
   "metadata": {},
   "source": [
    "Now we can add the cluster info back into the original dataset"
   ]
  },
  {
   "cell_type": "code",
   "execution_count": null,
   "metadata": {},
   "outputs": [],
   "source": [
    "teens_dt[,cluster := teen_clusters$cluster]\n",
    "teens_dt"
   ]
  },
  {
   "cell_type": "markdown",
   "metadata": {},
   "source": [
    "Given this new data, we can start to examine how the cluster assignment relates to individual characteristics"
   ]
  },
  {
   "cell_type": "code",
   "execution_count": null,
   "metadata": {},
   "outputs": [],
   "source": [
    "teens_dt[,c(\"cluster\", \"gender\", \"age\", \"friends\")]"
   ]
  },
  {
   "cell_type": "markdown",
   "metadata": {},
   "source": [
    "We can also look at the demographic characteristics of the clusters. For example mean ages across clusters:"
   ]
  },
  {
   "cell_type": "code",
   "execution_count": null,
   "metadata": {},
   "outputs": [],
   "source": [
    "aggcols <- c(\"age\", \"gender_F\", \"friends\")\n",
    "\n",
    "teens_dt[,lapply(.SD, mean) ,.SDcols = aggcols, by = cluster][order(cluster)] %>%\n",
    "magrittr::set_rownames(c(\"princesses\", \"musicians\", \"athletes\", \"punks\", \"basket cases\")) %>%\n",
    "round(2)"
   ]
  },
  {
   "cell_type": "markdown",
   "metadata": {},
   "source": [
    "The mean age does not vary much by cluster, which is not too surprising as these teen identities are often determined before high school. However average age of \"princesses\" is slightly below and average age of \"musicians\" are slightly above average ages of other clusters.\n",
    "\n",
    "The percent of females is highest in princesses and athletes clusters while lowest in musicians and basket cases\n",
    "\n",
    "The connection between a teen's number of friends and their predicte cluster is remarkable, given that we did not use the friendship data as an input to the clustering algorithm. Also interesting is the fact that the number of friends seems to be related to the stereotype of each clusters' high school popularity; the stereotypically popular groups tend to have more friends. (Highr in \"princesses\" and \"athletes\" clusters, lowest in punks and basket cases\n"
   ]
  },
  {
   "cell_type": "markdown",
   "metadata": {},
   "source": [
    "## Improve model performance"
   ]
  },
  {
   "cell_type": "markdown",
   "metadata": {},
   "source": [
    "While conducting k-means analysis, what value should be provided as \"k\" - the number of clusters?"
   ]
  },
  {
   "cell_type": "markdown",
   "metadata": {},
   "source": [
    "### Manual simulation"
   ]
  },
  {
   "cell_type": "markdown",
   "metadata": {},
   "source": [
    "First let's dig into the model output:"
   ]
  },
  {
   "cell_type": "code",
   "execution_count": null,
   "metadata": {},
   "outputs": [],
   "source": [
    "teen_clusters %>% listviewer::jsonedit(mode = \"form\")"
   ]
  },
  {
   "cell_type": "markdown",
   "metadata": {},
   "source": [
    "The critical values are:\n",
    "- totss (total sum of squares)\n",
    "- tot.withinss (total within groups sum of squares)\n",
    "- betweenss (between groups sum of squares)\n",
    "\n",
    "As the \"k\" goes up withinss should leak into betweenss"
   ]
  },
  {
   "cell_type": "code",
   "execution_count": null,
   "metadata": {},
   "outputs": [],
   "source": [
    "withinss <- sapply(1:15,\n",
    "       function(x) kmeans(interests_z, centers = x) %>%\n",
    "       \"[\"(c(\"totss\", \"tot.withinss\", \"betweenss\")) %>% unlist\n",
    "       ) %>%\n",
    "t %>%\n",
    "as.data.table\n",
    "\n",
    "rownames(withinss) <- 1:15"
   ]
  },
  {
   "cell_type": "code",
   "execution_count": null,
   "metadata": {},
   "outputs": [],
   "source": [
    "withinss %>% round"
   ]
  },
  {
   "cell_type": "code",
   "execution_count": null,
   "metadata": {
    "scrolled": false
   },
   "outputs": [],
   "source": [
    "p1 <- withinss %>%\n",
    "ggplot(aes(x = withinss[,.I], y = tot.withinss)) +\n",
    "geom_line() +\n",
    "xlab(\"Number of clusters\") +\n",
    "ylab(\"Within group sum of squares\")\n",
    "\n",
    "plotly::ggplotly(p1)"
   ]
  },
  {
   "cell_type": "markdown",
   "metadata": {},
   "source": [
    "We cannot detect a clear elbow point to cut the number of clusters"
   ]
  },
  {
   "cell_type": "markdown",
   "metadata": {},
   "source": [
    "### Optimal k with vegan package"
   ]
  },
  {
   "cell_type": "markdown",
   "metadata": {},
   "source": [
    "Vegan package also does a simulation to determine the optimal k based on Calinski measure:"
   ]
  },
  {
   "cell_type": "code",
   "execution_count": null,
   "metadata": {},
   "outputs": [],
   "source": [
    "modelx <- vegan::cascadeKM(interests_z, 1, 10, iter = 3)"
   ]
  },
  {
   "cell_type": "code",
   "execution_count": null,
   "metadata": {},
   "outputs": [],
   "source": [
    "modelx$results"
   ]
  },
  {
   "cell_type": "markdown",
   "metadata": {},
   "source": [
    "Calinski is a measure of between-cluster to within-cluster variance.\n",
    "\n",
    "A plot method exists for this object, however with 30K cases, the plot takes too much time so it is avoided here. A simpler plot is as such:"
   ]
  },
  {
   "cell_type": "code",
   "execution_count": null,
   "metadata": {},
   "outputs": [],
   "source": [
    "p2 <- modelx$results %>%\n",
    "t %>%\n",
    "as.data.table %>%\n",
    "ggplot(aes(x = 1:10, y = calinski)) +\n",
    "geom_line()\n",
    "\n",
    "plotly::ggplotly(p2)"
   ]
  },
  {
   "cell_type": "markdown",
   "metadata": {},
   "source": [
    "The k with max calinski value should be selected:"
   ]
  },
  {
   "cell_type": "code",
   "execution_count": null,
   "metadata": {},
   "outputs": [],
   "source": [
    "which.max(modelx$results[2,])"
   ]
  },
  {
   "cell_type": "markdown",
   "metadata": {},
   "source": [
    "Let's run the model with that:"
   ]
  },
  {
   "cell_type": "code",
   "execution_count": null,
   "metadata": {},
   "outputs": [],
   "source": [
    "teen_clusters2 <- kmeans(interests_z, centers = 2)"
   ]
  },
  {
   "cell_type": "markdown",
   "metadata": {},
   "source": [
    "And see the center values:"
   ]
  },
  {
   "cell_type": "code",
   "execution_count": null,
   "metadata": {},
   "outputs": [],
   "source": [
    "centers2 <- teen_clusters2$centers %>% t %>% round(2)\n",
    "centers2"
   ]
  },
  {
   "cell_type": "markdown",
   "metadata": {},
   "source": [
    "And emphasize values over and above average:"
   ]
  },
  {
   "cell_type": "code",
   "execution_count": null,
   "metadata": {},
   "outputs": [],
   "source": [
    "apply(centers2,\n",
    "      1,\n",
    "      function(x)\n",
    "        {\n",
    "          zs <- (x - mean(x)) / sd(x);\n",
    "          cell_spec(x,\n",
    "                    color = ifelse(abs(zs) > 0.5, \"white\", \"black\"),\n",
    "                            background = ifelse(zs > 0.5, \"navy\", ifelse(zs < -0.5, \"red\", \"white\"))\n",
    "                   )\n",
    "        }\n",
    "    ) %>%\n",
    "t %>%\n",
    "magrittr::set_colnames(1:2) %>%      \n",
    "knitr::kable(escape = F) %>%\n",
    "kableExtra::kable_styling() %>%\n",
    "as.character() %>%\n",
    "IRdisplay::display_html()"
   ]
  },
  {
   "cell_type": "markdown",
   "metadata": {},
   "source": [
    "Get cluster sizes:"
   ]
  },
  {
   "cell_type": "code",
   "execution_count": null,
   "metadata": {},
   "outputs": [],
   "source": [
    "teen_clusters2$size"
   ]
  },
  {
   "cell_type": "markdown",
   "metadata": {},
   "source": [
    "Here we see that, on calinski criterion alone, the clustering is done such that first cluster is the one that holds users that did not post much interests in their profiles and the second cluster is all others\n",
    "\n",
    "This kind of a clustering do not provide any insight at all. The reason for such an outcome is the highly skewed nature of the dataset: at least 90% of users did not have any interests in many keywords. So the optimal clustering (based on distribution of variance across between/within groups) is for values 0 versus other values.\n",
    "\n",
    "Data exploration step is important in these situations: Knowledge of the specifics of the data will lead us not fall into the pitfall of deciding upon \"numbers\" alone"
   ]
  },
  {
   "cell_type": "markdown",
   "metadata": {},
   "source": [
    "With a too few number of clusters, we cannot have a pattern to be interpreted\n",
    "With a too large number of cluster, each cluster may not yield a distinctive insight to be acted on"
   ]
  },
  {
   "cell_type": "markdown",
   "metadata": {},
   "source": [
    "### Optimal k with NbClust"
   ]
  },
  {
   "cell_type": "markdown",
   "metadata": {},
   "source": [
    "NbClust package provides 30 indexes for determining the optimal number of clusters in a data set and offers the best clustering scheme from different results to the user."
   ]
  },
  {
   "cell_type": "markdown",
   "metadata": {},
   "source": [
    "However, running this function on a larger set with too large a dimension (too many variables for distance calculation) consumes too much memory"
   ]
  },
  {
   "cell_type": "code",
   "execution_count": null,
   "metadata": {},
   "outputs": [],
   "source": [
    "dim(interests_z)"
   ]
  },
  {
   "cell_type": "markdown",
   "metadata": {},
   "source": [
    "This issue is also mensioned here:\n",
    "\n",
    "https://stats.stackexchange.com/questions/270751/nbclust-with-large-data-sets-sampling"
   ]
  },
  {
   "cell_type": "markdown",
   "metadata": {},
   "source": [
    "So we will select a sample of 700 observations:"
   ]
  },
  {
   "cell_type": "code",
   "execution_count": null,
   "metadata": {},
   "outputs": [],
   "source": [
    "samp <- teens_dt[,sample(.N, 700)]\n",
    "teen_nb <- NbClust::NbClust(interests_z[samp,], min.nc = 2, max.nc = 8, index = \"all\", method = \"kmeans\")"
   ]
  },
  {
   "cell_type": "markdown",
   "metadata": {},
   "source": [
    "2 cluster is selected with majority rule of 30 separate indices"
   ]
  },
  {
   "cell_type": "markdown",
   "metadata": {},
   "source": [
    "The model output:"
   ]
  },
  {
   "cell_type": "code",
   "execution_count": null,
   "metadata": {},
   "outputs": [],
   "source": [
    "teen_nb"
   ]
  },
  {
   "cell_type": "markdown",
   "metadata": {},
   "source": [
    "The voting of 30 criterion can also be done manually:"
   ]
  },
  {
   "cell_type": "code",
   "execution_count": null,
   "metadata": {},
   "outputs": [],
   "source": [
    "teen_nb$Best.nc[1,] %>% table"
   ]
  },
  {
   "cell_type": "markdown",
   "metadata": {},
   "source": [
    "So NbClust also falls into the sampe pitfall as vegan did: 2 clusters are not meaningful for this dataset but is an outcome of the highly skewed nature (towards 0) of the variables"
   ]
  },
  {
   "cell_type": "markdown",
   "metadata": {},
   "source": [
    "### Exclude cases with no interests"
   ]
  },
  {
   "cell_type": "markdown",
   "metadata": {},
   "source": [
    "The high number of cases with only a few interest with > 0 values, makes the analysis harder. Let's try to exclude them"
   ]
  },
  {
   "cell_type": "markdown",
   "metadata": {},
   "source": [
    "Let's first determine the number of non-zero values in interests for all cases:"
   ]
  },
  {
   "cell_type": "code",
   "execution_count": null,
   "metadata": {},
   "outputs": [],
   "source": [
    "nonzeros <- apply(interests, 1, function(x) sum(x > 0))"
   ]
  },
  {
   "cell_type": "code",
   "execution_count": null,
   "metadata": {},
   "outputs": [],
   "source": [
    "table(nonzeros) %>% cumsum"
   ]
  },
  {
   "cell_type": "markdown",
   "metadata": {},
   "source": [
    "It seems that if we include those cases that have more than 7 non-zeros, then the remaining ~4000 cases would have more information on interests"
   ]
  },
  {
   "cell_type": "code",
   "execution_count": null,
   "metadata": {},
   "outputs": [],
   "source": [
    "include_ind <- which(nonzeros > 7)"
   ]
  },
  {
   "cell_type": "markdown",
   "metadata": {},
   "source": [
    "Let's exclude those cases with too many zeros and repeat all cleaning steps (since the imputation should be done on data with less zero values):"
   ]
  },
  {
   "cell_type": "code",
   "execution_count": null,
   "metadata": {},
   "outputs": [],
   "source": [
    "teens_dt <- data.table::fread(\"../data/csv/11_01_snsdata.csv\", stringsAsFactors = T)"
   ]
  },
  {
   "cell_type": "code",
   "execution_count": null,
   "metadata": {},
   "outputs": [],
   "source": [
    "teens_dt2 <- teens_dt[include_ind]\n",
    "dim(teens_dt2)"
   ]
  },
  {
   "cell_type": "markdown",
   "metadata": {},
   "source": [
    "Let's see the distribution across genders:"
   ]
  },
  {
   "cell_type": "code",
   "execution_count": null,
   "metadata": {},
   "outputs": [],
   "source": [
    "teens_dt2[,table(gender)]"
   ]
  },
  {
   "cell_type": "markdown",
   "metadata": {},
   "source": [
    "The set is highly imbalanced towards female cases. Let's get a sample more balanced across genders (2 F to 1 M):"
   ]
  },
  {
   "cell_type": "code",
   "execution_count": null,
   "metadata": {},
   "outputs": [],
   "source": [
    "ind_m <- teens_dt2[, .(.I[gender == \"M\"])] %>% na.omit %>% .[,V1]\n",
    "length(ind_m)\n",
    "\n",
    "set.seed(1)\n",
    "ind_f <- teens_dt2[, .(.I[gender == \"F\"])] %>% na.omit %>% .[,V1] %>% sample(length(ind_m) * 2)"
   ]
  },
  {
   "cell_type": "code",
   "execution_count": null,
   "metadata": {},
   "outputs": [],
   "source": [
    "inds <- c(ind_m, ind_f)"
   ]
  },
  {
   "cell_type": "markdown",
   "metadata": {},
   "source": [
    "Now let's see whether they are balanced:"
   ]
  },
  {
   "cell_type": "code",
   "execution_count": null,
   "metadata": {},
   "outputs": [],
   "source": [
    "teens_dt2[inds,table(gender)]"
   ]
  },
  {
   "cell_type": "markdown",
   "metadata": {},
   "source": [
    "And have this small sample:"
   ]
  },
  {
   "cell_type": "code",
   "execution_count": null,
   "metadata": {},
   "outputs": [],
   "source": [
    "teens_dt2 <- teens_dt2[inds]"
   ]
  },
  {
   "cell_type": "markdown",
   "metadata": {},
   "source": [
    "Repeat the other steps:"
   ]
  },
  {
   "cell_type": "code",
   "execution_count": null,
   "metadata": {},
   "outputs": [],
   "source": [
    "teens_dt2[!dplyr::between(age, 13, 20 - 1e-10), age := NA]"
   ]
  },
  {
   "cell_type": "code",
   "execution_count": null,
   "metadata": {},
   "outputs": [],
   "source": [
    "gender_dummy2 <- teens_dt2[,fastDummies::dummy_cols(.(gender = gender),\n",
    "                            remove_first_dummy = F)] %>% dplyr::select(-gender)\n",
    "gender_dummy2 %>% dim"
   ]
  },
  {
   "cell_type": "code",
   "execution_count": null,
   "metadata": {},
   "outputs": [],
   "source": [
    "teens_dt2 <- teens_dt2 %>%\n",
    "    append(unclass(gender_dummy2), after = 2) %>% \n",
    "    as.data.table"
   ]
  },
  {
   "cell_type": "code",
   "execution_count": null,
   "metadata": {},
   "outputs": [],
   "source": [
    "teens_dt2[,age := tidyimpute::impute_mean(.(age)), by = gradyear]"
   ]
  },
  {
   "cell_type": "code",
   "execution_count": null,
   "metadata": {},
   "outputs": [],
   "source": [
    "interests2 <- teens_dt2[,basketball:drugs]\n",
    "interests2"
   ]
  },
  {
   "cell_type": "code",
   "execution_count": null,
   "metadata": {},
   "outputs": [],
   "source": [
    "interests_z2 <- interests2[,BBmisc::normalize(.SD)]"
   ]
  },
  {
   "cell_type": "code",
   "execution_count": null,
   "metadata": {},
   "outputs": [],
   "source": [
    "interests_z2 %>% sapply(quantile, na.rm = T) %>% t()"
   ]
  },
  {
   "cell_type": "markdown",
   "metadata": {},
   "source": [
    "### NbClust with clean data set"
   ]
  },
  {
   "cell_type": "markdown",
   "metadata": {},
   "source": [
    "Let's see the NbClust results:"
   ]
  },
  {
   "cell_type": "code",
   "execution_count": null,
   "metadata": {},
   "outputs": [],
   "source": [
    "set.seed(123)\n",
    "samp <- teens_dt2[,sample(.N, min(.N, 700))]\n",
    "teen_nb2 <- NbClust::NbClust(interests_z2[samp,], min.nc = 2, max.nc = 8, index = \"all\", method = \"kmeans\")"
   ]
  },
  {
   "cell_type": "markdown",
   "metadata": {},
   "source": [
    "### PCA for fewer dimensions"
   ]
  },
  {
   "cell_type": "markdown",
   "metadata": {},
   "source": [
    "We have too many variables. If we reduce the dimensionality, we can have better results:"
   ]
  },
  {
   "cell_type": "markdown",
   "metadata": {},
   "source": [
    "First let's conduct pca analysis:"
   ]
  },
  {
   "cell_type": "code",
   "execution_count": null,
   "metadata": {},
   "outputs": [],
   "source": [
    "pca <- interests_z2 %>%\n",
    "    prcomp(center = T,\n",
    "           scale = T,\n",
    "           rank = 8)"
   ]
  },
  {
   "cell_type": "markdown",
   "metadata": {},
   "source": [
    "And the summary:"
   ]
  },
  {
   "cell_type": "code",
   "execution_count": null,
   "metadata": {},
   "outputs": [],
   "source": [
    "summary(pca)"
   ]
  },
  {
   "cell_type": "markdown",
   "metadata": {},
   "source": [
    "Let's visualize the loadings as heatmaps:"
   ]
  },
  {
   "cell_type": "code",
   "execution_count": null,
   "metadata": {},
   "outputs": [],
   "source": [
    "pca$rotation %>% pheatmap::pheatmap(cluster_rows = F, cluster_cols = F)"
   ]
  },
  {
   "cell_type": "markdown",
   "metadata": {},
   "source": [
    "Using a better method with interactivity:"
   ]
  },
  {
   "cell_type": "code",
   "execution_count": null,
   "metadata": {
    "scrolled": false
   },
   "outputs": [],
   "source": [
    "pca$rotation %>% heatmaply::heatmaply(Rowv = F, Colv = F)"
   ]
  },
  {
   "cell_type": "markdown",
   "metadata": {},
   "source": [
    "Let's see for each PC, ten variables with highest loadings:"
   ]
  },
  {
   "cell_type": "code",
   "execution_count": null,
   "metadata": {},
   "outputs": [],
   "source": [
    "pca$rotation %>%\n",
    "plyr::alply(2, function(x) rank(-x) %>%\n",
    "                            sort %>%\n",
    "                            names %>%\n",
    "                            \"[\"(1:10)) %>%\n",
    "rlist::list.cbind()"
   ]
  },
  {
   "cell_type": "markdown",
   "metadata": {},
   "source": [
    "And for each variable, let's see the PC that the variable has the highest loading, and split them according to those PCs"
   ]
  },
  {
   "cell_type": "code",
   "execution_count": null,
   "metadata": {},
   "outputs": [],
   "source": [
    "dt1 <- pca$rotation %>%\n",
    "apply(1, which.max) %>%\n",
    "as.data.table(keep.rownames = T)\n",
    "\n",
    "split(dt1[,rn], dt1[,\".\"])"
   ]
  },
  {
   "cell_type": "markdown",
   "metadata": {},
   "source": [
    "Let's get the PC scores:"
   ]
  },
  {
   "cell_type": "code",
   "execution_count": null,
   "metadata": {
    "scrolled": true
   },
   "outputs": [],
   "source": [
    "pcas <- pca$x\n",
    "colnames(pcas) <- c(\"fast life\", \"shopper\", \"apparel\", \"hard sports\",\n",
    "                    \"partying\", \"religious\", \"match\", \"soft sporting\")\n",
    "dim(pcas)"
   ]
  },
  {
   "cell_type": "markdown",
   "metadata": {},
   "source": [
    "### Build and train model with smaller dataset and PCs"
   ]
  },
  {
   "cell_type": "markdown",
   "metadata": {},
   "source": [
    "Let's build a model on the balanced and clean dataset and on PCs.\n",
    "\n",
    "First let's confirm whether the set is balanced across genders:"
   ]
  },
  {
   "cell_type": "code",
   "execution_count": null,
   "metadata": {
    "scrolled": false
   },
   "outputs": [],
   "source": [
    "teens_factors2 <- teens_dt2 %>% purrr::keep(is.factor) %>% # select factor columns\n",
    "    tidyr::gather() %>% # convert into long format for faceting\n",
    "    ggplot(aes(x = value)) + # plot value\n",
    "    facet_wrap(~ key, scales = \"free\") + # divide into separate plots by key\n",
    "    geom_bar()\n",
    "\n",
    "plotly::ggplotly(teens_factors2)"
   ]
  },
  {
   "cell_type": "markdown",
   "metadata": {},
   "source": [
    "Now let's see the optimal cluster size from NbClust:"
   ]
  },
  {
   "cell_type": "code",
   "execution_count": null,
   "metadata": {
    "code_folding": []
   },
   "outputs": [],
   "source": [
    "set.seed(1)\n",
    "samp <- teens_dt2[,sample(.N, min(.N, 700))]\n",
    "teen_nb2 <- NbClust::NbClust(pcas[samp,], min.nc = 2, max.nc = 8, index = \"all\", method = \"kmeans\")"
   ]
  },
  {
   "cell_type": "markdown",
   "metadata": {},
   "source": [
    "Let's plot the within groups sum of squares manually for cluster k's 1:15:"
   ]
  },
  {
   "cell_type": "code",
   "execution_count": null,
   "metadata": {},
   "outputs": [],
   "source": [
    "withinss2 <- sapply(1:15,\n",
    "       function(x) kmeans(pcas, centers = x) %>%\n",
    "       \"[\"(c(\"totss\", \"tot.withinss\", \"betweenss\")) %>% unlist\n",
    "       ) %>%\n",
    "t %>%\n",
    "as.data.table\n",
    "\n",
    "rownames(withinss2) <- 1:15"
   ]
  },
  {
   "cell_type": "code",
   "execution_count": null,
   "metadata": {},
   "outputs": [],
   "source": [
    "p1 <- withinss2 %>%\n",
    "ggplot(aes(x = withinss2[,.I], y = tot.withinss)) +\n",
    "geom_line() +\n",
    "xlab(\"Number of clusters\") +\n",
    "ylab(\"Within group sum of squares\")\n",
    "\n",
    "plotly::ggplotly(p1)"
   ]
  },
  {
   "cell_type": "code",
   "execution_count": null,
   "metadata": {},
   "outputs": [],
   "source": [
    "modelx <- vegan::cascadeKM(pcas, 1, 10, iter = 3)"
   ]
  },
  {
   "cell_type": "code",
   "execution_count": null,
   "metadata": {},
   "outputs": [],
   "source": [
    "plot(modelx)"
   ]
  },
  {
   "cell_type": "markdown",
   "metadata": {},
   "source": [
    "Although\n",
    "\n",
    "- NbClust yields 5,\n",
    "- Manual inspection yields (wss) 14\n",
    "- vegan yields (calinski) 8\n",
    "\n",
    "as the optimal k, intuitively that high a number of clusters may not be meaningful: We should have an insight on each cluster. So k=8 and 14 cluster cases are left as exercises"
   ]
  },
  {
   "cell_type": "markdown",
   "metadata": {},
   "source": [
    "Now let's try the k=6 case:"
   ]
  },
  {
   "cell_type": "code",
   "execution_count": null,
   "metadata": {},
   "outputs": [],
   "source": [
    "set.seed(2345)\n",
    "kval <- 6\n",
    "teen_clusters2 <- kmeans(pcas, centers = kval)"
   ]
  },
  {
   "cell_type": "code",
   "execution_count": null,
   "metadata": {},
   "outputs": [],
   "source": [
    "teen_clusters2"
   ]
  },
  {
   "cell_type": "code",
   "execution_count": null,
   "metadata": {},
   "outputs": [],
   "source": [
    "summary(teen_clusters2)"
   ]
  },
  {
   "cell_type": "markdown",
   "metadata": {},
   "source": [
    "See the cluster sizes:"
   ]
  },
  {
   "cell_type": "code",
   "execution_count": null,
   "metadata": {},
   "outputs": [],
   "source": [
    "teen_clusters2$size"
   ]
  },
  {
   "cell_type": "markdown",
   "metadata": {},
   "source": [
    "Third cluster is rather a small one"
   ]
  },
  {
   "cell_type": "markdown",
   "metadata": {},
   "source": [
    "Let's view the center values:"
   ]
  },
  {
   "cell_type": "code",
   "execution_count": null,
   "metadata": {},
   "outputs": [],
   "source": [
    "centers2 <- teen_clusters2$centers %>% t %>% round(2)\n",
    "centers2"
   ]
  },
  {
   "cell_type": "markdown",
   "metadata": {},
   "source": [
    "And highlight significant centers:"
   ]
  },
  {
   "cell_type": "code",
   "execution_count": null,
   "metadata": {},
   "outputs": [],
   "source": [
    "apply(centers2,\n",
    "      1,\n",
    "      function(x)\n",
    "        {\n",
    "          zs <- (x - mean(x)) / sd(x);\n",
    "          cell_spec(x,\n",
    "                    color = ifelse(abs(zs) > 1, \"white\", \"black\"),\n",
    "                            background = ifelse(zs > 1, \"navy\", ifelse(zs < -1, \"red\", \"white\"))\n",
    "                   )\n",
    "        }\n",
    "    ) %>%\n",
    "t %>%\n",
    "magrittr::set_colnames(1:kval) %>%      \n",
    "knitr::kable(escape = F) %>%\n",
    "kableExtra::kable_styling() %>%\n",
    "as.character() %>%\n",
    "IRdisplay::display_html()"
   ]
  },
  {
   "cell_type": "markdown",
   "metadata": {},
   "source": [
    "Visualize centers as an interactive heatmap after normalizing each row (PC):"
   ]
  },
  {
   "cell_type": "code",
   "execution_count": null,
   "metadata": {
    "scrolled": false
   },
   "outputs": [],
   "source": [
    "centers2 %>% \n",
    "apply(1, BBmisc::normalize) %>%\n",
    "t %>%\n",
    "heatmaply::heatmaply(Rowv = F, Colv = F)"
   ]
  },
  {
   "cell_type": "markdown",
   "metadata": {},
   "source": [
    "Now let's normalize centers across rows (PCs) and then for each cluster, return the PCs with highest two positive center values:"
   ]
  },
  {
   "cell_type": "code",
   "execution_count": null,
   "metadata": {},
   "outputs": [],
   "source": [
    "namesx2 <- rownames(centers2)\n",
    "\n",
    "apply(centers2, 1, BBmisc::normalize) %>%\n",
    "    t %>%\n",
    "    plyr::alply(2, function(x) namesx2[order(x, decreasing = T)][sort(x, decreasing = T) > 0][1:2])\n",
    "#    plyr::alply(2, function(x) namesx2[order(x, decreasing = T)])\n",
    "    #%>%\n",
    "    #as.data.frame %>%\n",
    "    #lapply(function(x) namesx[x > 1])"
   ]
  },
  {
   "cell_type": "markdown",
   "metadata": {},
   "source": [
    "Let's visualize the clusters across axes:"
   ]
  },
  {
   "cell_type": "code",
   "execution_count": null,
   "metadata": {
    "scrolled": false
   },
   "outputs": [],
   "source": [
    "factoextra::fviz_cluster(teen_clusters2, data = pcas, labelsize = 0)"
   ]
  },
  {
   "cell_type": "markdown",
   "metadata": {},
   "source": [
    "Let's add cluster numbers back to the data:"
   ]
  },
  {
   "cell_type": "code",
   "execution_count": null,
   "metadata": {},
   "outputs": [],
   "source": [
    "teens_dt2[,cluster := teen_clusters2$cluster]\n",
    "teens_dt2"
   ]
  },
  {
   "cell_type": "markdown",
   "metadata": {},
   "source": [
    "Before naming the clusters intuitively let's add them back into the dataset:"
   ]
  },
  {
   "cell_type": "markdown",
   "metadata": {},
   "source": [
    "This convert a matrix columns into list items and appends them to a data.table:"
   ]
  },
  {
   "cell_type": "code",
   "execution_count": null,
   "metadata": {},
   "outputs": [],
   "source": [
    "teens_dt2 <- teens_dt2 %>%\n",
    "    append(pcas %>% plyr::alply(2) %>% purrr::set_names(colnames(pcas))) %>% \n",
    "    as.data.table"
   ]
  },
  {
   "cell_type": "markdown",
   "metadata": {},
   "source": [
    "View the data with clusters and PCs:"
   ]
  },
  {
   "cell_type": "code",
   "execution_count": null,
   "metadata": {},
   "outputs": [],
   "source": [
    "selected_cols <- c(\"cluster\", \"gender\", \"age\", \"friends\", colnames(pcas))"
   ]
  },
  {
   "cell_type": "code",
   "execution_count": null,
   "metadata": {},
   "outputs": [],
   "source": [
    "teens_dt2[,.SD, .SDcols = selected_cols]"
   ]
  },
  {
   "cell_type": "markdown",
   "metadata": {},
   "source": [
    "Now let's combine those two PC names for each cluster:"
   ]
  },
  {
   "cell_type": "code",
   "execution_count": null,
   "metadata": {},
   "outputs": [],
   "source": [
    "namesx2 <- rownames(centers2)\n",
    "\n",
    "clusters <- apply(centers2, 1, BBmisc::normalize) %>%\n",
    "    t %>%\n",
    "    plyr::alply(2, function(x) namesx2[order(x, decreasing = T)][sort(x, decreasing = T) > 0][1:2] %>%\n",
    "    paste(collapse = \"&\")) %>%\n",
    "    unlist\n",
    "                \n",
    "clusters"
   ]
  },
  {
   "cell_type": "markdown",
   "metadata": {},
   "source": [
    "It is better that we have more intuitive names for those clusters."
   ]
  },
  {
   "cell_type": "code",
   "execution_count": null,
   "metadata": {},
   "outputs": [],
   "source": [
    "clusters2 <- c(\"athletes\", \"fast lifers\", \"shoppers\", \"matchers\", \"religious\", \"partier\")"
   ]
  },
  {
   "cell_type": "markdown",
   "metadata": {},
   "source": [
    "Now let's aggregate selected column values across clusters:"
   ]
  },
  {
   "cell_type": "code",
   "execution_count": null,
   "metadata": {},
   "outputs": [],
   "source": [
    "centers2 %>%\n",
    "t %>%\n",
    "magrittr::set_rownames(clusters2)"
   ]
  },
  {
   "cell_type": "code",
   "execution_count": null,
   "metadata": {},
   "outputs": [],
   "source": [
    "aggcols <- c(\"age\", \"gender_F\", \"gender_M\", \"friends\", colnames(pcas))\n",
    "\n",
    "teens_dt2[,c(lapply(.SD, mean), .N) ,.SDcols = aggcols, by = cluster][order(cluster)] %>%\n",
    "magrittr::set_rownames(clusters2) %>%\n",
    "round(2)"
   ]
  },
  {
   "cell_type": "markdown",
   "metadata": {},
   "source": [
    "- Athletes are mostly concerned with hard sports and are balanced across genders. They avoid unhealthy topics\n",
    "- Fast lifers are mostly concerned with fast life topics and are balanced across genders. They are less popular in terms of friends (likely outcasts)\n",
    "- Shoppers are mostly concerned with shopping and apparel and are mostly female. They are more popular in terms of friends\n",
    "- Matchers are mostly concerned with match related topics and are mostly male (a small group)\n",
    "- Religious are mostly concerned with religion related topics and are mostly male (a small group)\n",
    "- Partiers are mostly concerned with partying issues (and less concerned with shopping) and are mostly female (largest group of all)"
   ]
  }
 ],
 "metadata": {
  "kernelspec": {
   "display_name": "R",
   "language": "R",
   "name": "ir"
  },
  "language_info": {
   "codemirror_mode": "r",
   "file_extension": ".r",
   "mimetype": "text/x-r-source",
   "name": "R",
   "pygments_lexer": "r",
   "version": "3.5.1"
  },
  "toc": {
   "base_numbering": 1,
   "nav_menu": {},
   "number_sections": true,
   "sideBar": true,
   "skip_h1_title": false,
   "title_cell": "Table of Contents",
   "title_sidebar": "Contents",
   "toc_cell": false,
   "toc_position": {},
   "toc_section_display": "block",
   "toc_window_display": false
  }
 },
 "nbformat": 4,
 "nbformat_minor": 2
}
