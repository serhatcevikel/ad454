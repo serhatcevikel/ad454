{
 "cells": [
  {
   "cell_type": "code",
   "execution_count": null,
   "metadata": {},
   "outputs": [],
   "source": [
    "library(tidyverse)\n",
    "library(data.table)\n",
    "library(plotly) # for interactive ploting\n",
    "library(DT) # for interactive tabulation"
   ]
  },
  {
   "cell_type": "code",
   "execution_count": null,
   "metadata": {},
   "outputs": [],
   "source": [
    "options(repr.matrix.max.rows=20, repr.matrix.max.cols=15) # for limiting the number of top and bottom rows of tables printed "
   ]
  },
  {
   "cell_type": "code",
   "execution_count": null,
   "metadata": {},
   "outputs": [],
   "source": [
    "datapath <- \"~/data\""
   ]
  },
  {
   "cell_type": "markdown",
   "metadata": {},
   "source": [
    "# Population shares"
   ]
  },
  {
   "cell_type": "markdown",
   "metadata": {},
   "source": [
    "Please first import the objects for the WEO dataset: "
   ]
  },
  {
   "cell_type": "code",
   "execution_count": null,
   "metadata": {},
   "outputs": [],
   "source": [
    "# wide data with features in the columns and countries/years in the rows\n",
    "weo_wide2 <- readRDS(sprintf(\"%s/rds/01_01_weo_wide2.rds\", datapath))"
   ]
  },
  {
   "cell_type": "code",
   "execution_count": null,
   "metadata": {},
   "outputs": [],
   "source": [
    "weo_countries <- readRDS(sprintf(\"%s/rds/01_01_weo_countries.rds\", datapath))\n",
    "weo_subject <- readRDS(sprintf(\"%s/rds/01_01_weo_subject.rds\", datapath))"
   ]
  },
  {
   "cell_type": "markdown",
   "metadata": {},
   "source": [
    "Remember the nice widget to navigate through and search in tabular data:"
   ]
  },
  {
   "cell_type": "code",
   "execution_count": null,
   "metadata": {},
   "outputs": [],
   "source": [
    "weo_subject %>% datatable(\n",
    "  filter = \"top\",\n",
    "  options = list(pageLength = 20)\n",
    ")"
   ]
  },
  {
   "cell_type": "markdown",
   "metadata": {},
   "source": [
    "Your task is to:\n",
    "\n",
    "- Filter the data for year 2019\n",
    "- Select the country code (ISO) and population (LP) features\n",
    "- Create a third column called population_share which holds the population share of each country in world total\n",
    "- You may use data.table's \":=\" or dplyr's mutate function\n",
    "\n",
    "Note: When you use sum() function, na.rm = T should be supplied so that NA's do not cause trouble"
   ]
  },
  {
   "cell_type": "markdown",
   "metadata": {},
   "source": [
    "The resulting output should look like this:"
   ]
  },
  {
   "cell_type": "markdown",
   "metadata": {},
   "source": [
    "<div class=\"lm-Widget p-Widget jp-RenderedHTMLCommon jp-RenderedHTML jp-mod-trusted jp-OutputArea-output\" data-mime-type=\"text/html\"><table class=\"dataframe\">\n",
    "<caption>A data.table: 194 × 3</caption>\n",
    "<thead>\n",
    "\t<tr><th scope=\"col\">ISO</th><th scope=\"col\">LP</th><th scope=\"col\">population_share</th></tr>\n",
    "\t<tr><th scope=\"col\">&lt;chr&gt;</th><th scope=\"col\">&lt;dbl&gt;</th><th scope=\"col\">&lt;dbl&gt;</th></tr>\n",
    "</thead>\n",
    "<tbody>\n",
    "\t<tr><td>ABW</td><td> 0.112</td><td>1.478473e-05</td></tr>\n",
    "\t<tr><td>AFG</td><td>37.209</td><td>4.911832e-03</td></tr>\n",
    "\t<tr><td>AGO</td><td>30.128</td><td>3.977094e-03</td></tr>\n",
    "\t<tr><td>ALB</td><td> 2.870</td><td>3.788588e-04</td></tr>\n",
    "\t<tr><td>ARE</td><td>10.749</td><td>1.418939e-03</td></tr>\n",
    "\t<tr><td>ARG</td><td>44.939</td><td>5.932243e-03</td></tr>\n",
    "\t<tr><td>ARM</td><td> 2.969</td><td>3.919275e-04</td></tr>\n",
    "\t<tr><td>ATG</td><td> 0.097</td><td>1.280464e-05</td></tr>\n",
    "\t<tr><td>AUS</td><td>25.522</td><td>3.369071e-03</td></tr>\n",
    "\t<tr><td>AUT</td><td> 8.859</td><td>1.169446e-03</td></tr>\n",
    "\t<tr><td>⋮</td><td>⋮</td><td>⋮</td></tr>\n",
    "\t<tr><td>VCT</td><td> 0.110</td><td>1.452072e-05</td></tr>\n",
    "\t<tr><td>VEN</td><td>27.817</td><td>3.672027e-03</td></tr>\n",
    "\t<tr><td>VNM</td><td>96.462</td><td>1.273362e-02</td></tr>\n",
    "\t<tr><td>VUT</td><td> 0.293</td><td>3.867792e-05</td></tr>\n",
    "\t<tr><td>WBG</td><td> 4.977</td><td>6.569967e-04</td></tr>\n",
    "\t<tr><td>WSM</td><td> 0.201</td><td>2.653332e-05</td></tr>\n",
    "\t<tr><td>YEM</td><td>31.648</td><td>4.177744e-03</td></tr>\n",
    "\t<tr><td>ZAF</td><td>58.775</td><td>7.758686e-03</td></tr>\n",
    "\t<tr><td>ZMB</td><td>18.321</td><td>2.418492e-03</td></tr>\n",
    "\t<tr><td>ZWE</td><td>14.905</td><td>1.967558e-03</td></tr>\n",
    "</tbody>\n",
    "</table>\n",
    "</div>"
   ]
  },
  {
   "cell_type": "markdown",
   "metadata": {},
   "source": [
    "## Answer"
   ]
  },
  {
   "cell_type": "markdown",
   "metadata": {},
   "source": [
    "tidyverse approach:"
   ]
  },
  {
   "cell_type": "code",
   "execution_count": null,
   "metadata": {},
   "outputs": [],
   "source": [
    "weo_wide2 %>%\n",
    "filter(year == 2019) %>%\n",
    "select(ISO, LP) %>%\n",
    "mutate(population_share = LP / sum(LP, na.rm = T))"
   ]
  },
  {
   "cell_type": "markdown",
   "metadata": {},
   "source": [
    "data.table approach:"
   ]
  },
  {
   "cell_type": "code",
   "execution_count": null,
   "metadata": {},
   "outputs": [],
   "source": [
    "# \":=\" is a silent operator, to print out the final table add [] at the end:\n",
    "weo_wide2[year == 2019, .(ISO, LP)][, population_share := LP / sum(LP, na.rm = T)][]"
   ]
  },
  {
   "cell_type": "code",
   "execution_count": null,
   "metadata": {},
   "outputs": [],
   "source": []
  }
 ],
 "metadata": {
  "kernelspec": {
   "display_name": "R",
   "language": "R",
   "name": "ir"
  },
  "language_info": {
   "codemirror_mode": "r",
   "file_extension": ".r",
   "mimetype": "text/x-r-source",
   "name": "R",
   "pygments_lexer": "r",
   "version": "4.0.4"
  },
  "widgets": {
   "application/vnd.jupyter.widget-state+json": {
    "state": {},
    "version_major": 2,
    "version_minor": 0
   }
  }
 },
 "nbformat": 4,
 "nbformat_minor": 4
}
