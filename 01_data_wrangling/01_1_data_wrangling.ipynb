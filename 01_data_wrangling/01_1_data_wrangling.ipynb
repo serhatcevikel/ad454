{
 "cells": [
  {
   "cell_type": "code",
   "execution_count": null,
   "metadata": {},
   "outputs": [],
   "source": [
    "library(tidyverse)\n",
    "library(data.table)\n",
    "library(plotly) # for interactive ploting\n",
    "library(DT) # for interactive tabulation\n",
    "library(countrycode) # for country code and name integration"
   ]
  },
  {
   "cell_type": "code",
   "execution_count": null,
   "metadata": {},
   "outputs": [],
   "source": [
    "options(repr.matrix.max.rows=20, repr.matrix.max.cols=15) # for limiting the number of top and bottom rows of tables printed "
   ]
  },
  {
   "cell_type": "markdown",
   "metadata": {},
   "source": [
    "We will examine three panel datasets that have country and date/year dimensions"
   ]
  },
  {
   "cell_type": "markdown",
   "metadata": {},
   "source": [
    "# IMF WEO dataset"
   ]
  },
  {
   "cell_type": "markdown",
   "metadata": {},
   "source": [
    "WEO dataset has extensive macroeconomic information since 1980.\n",
    "\n",
    "You can find the details on how the dataset is prepared, see 01_2_appendix.ipynb"
   ]
  },
  {
   "cell_type": "markdown",
   "metadata": {},
   "source": [
    "## Import the data"
   ]
  },
  {
   "cell_type": "markdown",
   "metadata": {},
   "source": [
    "We set the path to the data directory as a variable:"
   ]
  },
  {
   "cell_type": "code",
   "execution_count": null,
   "metadata": {},
   "outputs": [],
   "source": [
    "datapath <- \"../data\""
   ]
  },
  {
   "cell_type": "markdown",
   "metadata": {},
   "source": [
    "Read the binary files for objects:"
   ]
  },
  {
   "cell_type": "code",
   "execution_count": null,
   "metadata": {},
   "outputs": [],
   "source": [
    "weo <- readRDS(sprintf(\"%s/rds/01_01_weo.rds\", datapath))\n",
    "weo_countries <- readRDS(sprintf(\"%s/rds/01_01_weo_countries.rds\", datapath))\n",
    "weo_subject <- readRDS(sprintf(\"%s/rds/01_01_weo_subject.rds\", datapath))"
   ]
  },
  {
   "cell_type": "markdown",
   "metadata": {},
   "source": [
    "Let's get an overall summary of the data objects. str() or glimpse() will do that job:"
   ]
  },
  {
   "cell_type": "markdown",
   "metadata": {},
   "source": [
    "Country codes and names:"
   ]
  },
  {
   "cell_type": "code",
   "execution_count": null,
   "metadata": {},
   "outputs": [],
   "source": [
    "weo_countries %>% str"
   ]
  },
  {
   "cell_type": "markdown",
   "metadata": {},
   "source": [
    "That \"%>%\" operator \"pipes\" the output of the former instruction into the later one as the first input.\n",
    "\n",
    "In fact \"pipes\" are a very common programming concept since mid 1970's.\n",
    "\n",
    "Here an excerpt from an interview with Brian Kernighan, a very very important computer scientist, explains the pipe concept briefly and very comprehensively:\n",
    "\n",
    "[![](https://img.youtube.com/vi/L9GfCgLLZYE/0.jpg)](https://www.youtube.com/watch?v=L9GfCgLLZYE)"
   ]
  },
  {
   "cell_type": "markdown",
   "metadata": {},
   "source": [
    "Subject (data field) codes, descriptions and related info"
   ]
  },
  {
   "cell_type": "code",
   "execution_count": null,
   "metadata": {},
   "outputs": [],
   "source": [
    "weo_subject %>% str"
   ]
  },
  {
   "cell_type": "markdown",
   "metadata": {},
   "source": [
    "And the main dataset:"
   ]
  },
  {
   "cell_type": "code",
   "execution_count": null,
   "metadata": {},
   "outputs": [],
   "source": [
    "weo %>% str"
   ]
  },
  {
   "cell_type": "markdown",
   "metadata": {},
   "source": [
    "The problem with this format is that:\n",
    "\n",
    "- Features (subjects) are not in separate fields, they are hard to be accessed\n",
    "- Years are in different columns, hard to be filtered"
   ]
  },
  {
   "cell_type": "markdown",
   "metadata": {},
   "source": [
    "## Reshape WEO data"
   ]
  },
  {
   "cell_type": "markdown",
   "metadata": {},
   "source": [
    "We will reshape the data so that subjects are in respective columns while years will be a single columns ready to be filtered"
   ]
  },
  {
   "cell_type": "code",
   "execution_count": null,
   "metadata": {},
   "outputs": [],
   "source": [
    "weo %>% names"
   ]
  },
  {
   "cell_type": "markdown",
   "metadata": {},
   "source": [
    "Using tidyr's gather():"
   ]
  },
  {
   "cell_type": "code",
   "execution_count": null,
   "metadata": {},
   "outputs": [],
   "source": [
    "weo_long1 <- weo %>%\n",
    "    gather(\"year\", \"value\", `1980`:`2025`, # reshape, names of new columns, and the columns to be molten\n",
    "           na.rm = T) %>% # delete na's\n",
    "    mutate(year = as.integer(year)) %>% # convert years to integer\n",
    "    remove_rownames %>% # automatic rownames are redundant\n",
    "    as.data.table # convert to data.table object"
   ]
  },
  {
   "cell_type": "code",
   "execution_count": null,
   "metadata": {},
   "outputs": [],
   "source": [
    "weo_long1"
   ]
  },
  {
   "cell_type": "markdown",
   "metadata": {},
   "source": [
    "Using data.table's melt()"
   ]
  },
  {
   "cell_type": "code",
   "execution_count": null,
   "metadata": {},
   "outputs": [],
   "source": [
    "weo_long2 <- weo %>%\n",
    "            melt(id.vars = c(\"ISO\", \"WEO_Subject_Code\"), # reshape, columns to keep\n",
    "                 variable.name = \"year\", # name of the field that the columns names will be converted into\n",
    "                 variable.factor = F, # that variable column will not be of factor type\n",
    "                 na.rm = T) %>% # skip na's\n",
    "    mutate(year = as.integer(year)) # convert the years to integer"
   ]
  },
  {
   "cell_type": "code",
   "execution_count": null,
   "metadata": {},
   "outputs": [],
   "source": [
    "weo_long2"
   ]
  },
  {
   "cell_type": "markdown",
   "metadata": {},
   "source": [
    "See whether they are identical"
   ]
  },
  {
   "cell_type": "code",
   "execution_count": null,
   "metadata": {},
   "outputs": [],
   "source": [
    "identical(weo_long1,\n",
    "          weo_long2)"
   ]
  },
  {
   "cell_type": "markdown",
   "metadata": {},
   "source": [
    "The longer version is a good step to reach **tidy data** format.\n",
    "\n",
    "What is **tidy data**?\n",
    "\n",
    "According to Hadley Wickham\n",
    "\n",
    "> Every column is a variable.\n",
    ">\n",
    "> Every row is an observation.\n",
    ">\n",
    "> Every cell is a single value.\n",
    "\n",
    "\n",
    "[Tidy Data vignette](https://cran.r-project.org/web/packages/tidyr/vignettes/tidy-data.html)"
   ]
  },
  {
   "cell_type": "markdown",
   "metadata": {},
   "source": [
    "We have a single observation in each row. However the variables should be in separate columns.\n",
    "\n",
    "For that, we will reshape into wide format and hence \"cast\" the data:"
   ]
  },
  {
   "cell_type": "markdown",
   "metadata": {},
   "source": [
    "Using the tidyr's spread():"
   ]
  },
  {
   "cell_type": "code",
   "execution_count": null,
   "metadata": {},
   "outputs": [],
   "source": [
    "weo_wide1 <- weo_long1 %>%\n",
    "    spread(key = \"WEO_Subject_Code\", value = \"value\") %>%\n",
    "    remove_rownames"
   ]
  },
  {
   "cell_type": "code",
   "execution_count": null,
   "metadata": {},
   "outputs": [],
   "source": [
    "weo_wide1"
   ]
  },
  {
   "cell_type": "markdown",
   "metadata": {},
   "source": [
    "Using data.table's dcast:"
   ]
  },
  {
   "cell_type": "code",
   "execution_count": null,
   "metadata": {},
   "outputs": [],
   "source": [
    "weo_wide2 <- weo_long2 %>%\n",
    "    dcast(ISO + year ~ WEO_Subject_Code) %>%\n",
    "    remove_rownames"
   ]
  },
  {
   "cell_type": "code",
   "execution_count": null,
   "metadata": {},
   "outputs": [],
   "source": [
    "weo_wide2"
   ]
  },
  {
   "cell_type": "markdown",
   "metadata": {},
   "source": [
    "Now we can select some variables of interest, make summarizations and visulazations easily to better understand the data."
   ]
  },
  {
   "cell_type": "code",
   "execution_count": null,
   "metadata": {},
   "outputs": [],
   "source": [
    "weo_subject %>% datatable(\n",
    "  filter = \"top\",\n",
    "  options = list(pageLength = 20)\n",
    ")"
   ]
  },
  {
   "cell_type": "markdown",
   "metadata": {},
   "source": [
    "## Share in World Economy"
   ]
  },
  {
   "cell_type": "markdown",
   "metadata": {},
   "source": [
    "The PPPSH shows the relative weight of a country in world economy, adjusted for purchasing power differences.\n",
    "\n",
    "We can track how center of gravity of global economy changed by looking at this measure. \n",
    "\n",
    "Furthermore we can measure to what extence the economic power is concentrated across time."
   ]
  },
  {
   "cell_type": "code",
   "execution_count": null,
   "metadata": {},
   "outputs": [],
   "source": [
    "weo_sub <- weo_wide2 %>% select(c(\"ISO\", \"year\", \"PPPSH\"))"
   ]
  },
  {
   "cell_type": "code",
   "execution_count": null,
   "metadata": {},
   "outputs": [],
   "source": [
    "weo_sub"
   ]
  },
  {
   "cell_type": "markdown",
   "metadata": {},
   "source": [
    "First let's see whether the shares sum up to 100 for each year:"
   ]
  },
  {
   "cell_type": "markdown",
   "metadata": {},
   "source": [
    "With the data.table approach:"
   ]
  },
  {
   "cell_type": "code",
   "execution_count": null,
   "metadata": {},
   "outputs": [],
   "source": [
    "weo_sub[, .(sum = sum(PPPSH, na.rm = T)), by = year]"
   ]
  },
  {
   "cell_type": "markdown",
   "metadata": {},
   "source": [
    "With some rounding errors, the shares sum up to 100"
   ]
  },
  {
   "cell_type": "markdown",
   "metadata": {},
   "source": [
    "With the dplyr approach:"
   ]
  },
  {
   "cell_type": "code",
   "execution_count": null,
   "metadata": {},
   "outputs": [],
   "source": [
    "weo_sub %>%\n",
    "    group_by(year) %>%\n",
    "    summarise(sum = sum(PPPSH, na.rm = T))"
   ]
  },
  {
   "cell_type": "markdown",
   "metadata": {},
   "source": [
    "### HHI concentration"
   ]
  },
  {
   "cell_type": "markdown",
   "metadata": {},
   "source": [
    "Let's calculate the Herfindahl–Hirschman Index to summarize the concentration of economic sizes:"
   ]
  },
  {
   "cell_type": "markdown",
   "metadata": {},
   "source": [
    "When there is only one economy that takes 100% share, hhi becomes 1, as the total size is more dispersed across countries, hhi approaches 0 "
   ]
  },
  {
   "cell_type": "code",
   "execution_count": null,
   "metadata": {},
   "outputs": [],
   "source": [
    "weo_hhi <- weo_sub[, .(hhi = sum((PPPSH/100)^2, na.rm = T)), by = year][order(year)]\n",
    "weo_hhi %>% head"
   ]
  },
  {
   "cell_type": "markdown",
   "metadata": {},
   "source": [
    "Let's visualize:"
   ]
  },
  {
   "cell_type": "code",
   "execution_count": null,
   "metadata": {},
   "outputs": [],
   "source": [
    "weo_hhi %>% ggplot(aes(x = year, y = hhi)) +\n",
    "geom_line()"
   ]
  },
  {
   "cell_type": "markdown",
   "metadata": {},
   "source": [
    "Figures after 2019 can be interpreted as forecasts. Let's show them with a different color:"
   ]
  },
  {
   "cell_type": "code",
   "execution_count": null,
   "metadata": {},
   "outputs": [],
   "source": [
    "weo_hhi_line2 <- weo_hhi %>% mutate(forecast = year > 2019) %>%\n",
    "    ggplot(aes(x = year, y = hhi, color = forecast)) +\n",
    "    geom_line()\n",
    "\n",
    "weo_hhi_line2"
   ]
  },
  {
   "cell_type": "markdown",
   "metadata": {},
   "source": [
    "ggplot2 is the most common visualization package in R.\n",
    "\n",
    "The basic idea is that, features are modified or stacked onto a basic plot object using the \"+\" notation\n",
    "\n",
    "For a basic knowledge sufficient for creating visually appealing plots, please refer to:\n",
    "\n",
    "[A quick introduction to ggplot2](https://towardsdatascience.com/a-quick-introduction-to-ggplot2-d406f83bb9c9)\n",
    "\n",
    "[Data Visualisation Chapter from r4ds](https://r4ds.had.co.nz/data-visualisation.html)\n",
    "\n",
    "and\n",
    "\n",
    "[![](https://img.youtube.com/vi/hr2X7rmkprM/0.jpg)](https://www.youtube.com/watch?v=hr2X7rmkprM)"
   ]
  },
  {
   "cell_type": "markdown",
   "metadata": {},
   "source": [
    "Let's create a more interactive version of this plot easily:"
   ]
  },
  {
   "cell_type": "code",
   "execution_count": null,
   "metadata": {},
   "outputs": [],
   "source": [
    "weo_hhi_line2 %>% ggplotly"
   ]
  },
  {
   "cell_type": "markdown",
   "metadata": {},
   "source": [
    "plotly is a JavaScript powered interactive graphics library.\n",
    "\n",
    "The great thing about plotly is that, you can convert a static ggplot2 visualization to a interactive plotly one with a single line of code.\n",
    "\n",
    "Following the link you can see the static vs. interactive visualization difference and the simple features plotly offers:\n",
    "\n",
    "[![](https://img.youtube.com/vi/7rvHnmRsE8w/0.jpg)](https://www.youtube.com/watch?v=7rvHnmRsE8w)"
   ]
  },
  {
   "cell_type": "markdown",
   "metadata": {},
   "source": [
    "We see that after a long decline of concentration between 1989 and 2008, the economic power has steadily been more concentrated and this trend is forecast to continue\n",
    "\n",
    "What happened in 2008?"
   ]
  },
  {
   "cell_type": "markdown",
   "metadata": {},
   "source": [
    "### Ranks and top 20"
   ]
  },
  {
   "cell_type": "markdown",
   "metadata": {},
   "source": [
    "Now it is better to show more detail, and stack the trajectories for countries.\n",
    "\n",
    "However, there are too many of them, possibly yielding a too crowded plot, hard to misinterpret.\n",
    "\n",
    "Let's compact the dataset and show only largest 30 economies each year, while the rest will be shown as a separate line"
   ]
  },
  {
   "cell_type": "code",
   "execution_count": null,
   "metadata": {},
   "outputs": [],
   "source": [
    "weo_sub[, sharerank := frank(-PPPSH, ties.method = \"first\"), by = year]"
   ]
  },
  {
   "cell_type": "markdown",
   "metadata": {},
   "source": [
    "See the progression of largest economies:"
   ]
  },
  {
   "cell_type": "code",
   "execution_count": null,
   "metadata": {},
   "outputs": [],
   "source": [
    "weo_sub[sharerank == 1][order(year)]"
   ]
  },
  {
   "cell_type": "markdown",
   "metadata": {},
   "source": [
    "China takes the lead from 2017 on in PPP terms"
   ]
  },
  {
   "cell_type": "markdown",
   "metadata": {},
   "source": [
    "Get the largest 20 economies:"
   ]
  },
  {
   "cell_type": "code",
   "execution_count": null,
   "metadata": {},
   "outputs": [],
   "source": [
    "weo20 <- weo_sub[sharerank <= 20][order(year)]"
   ]
  },
  {
   "cell_type": "code",
   "execution_count": null,
   "metadata": {},
   "outputs": [],
   "source": [
    "weo20"
   ]
  },
  {
   "cell_type": "markdown",
   "metadata": {},
   "source": [
    "Calculate the share of rest:"
   ]
  },
  {
   "cell_type": "code",
   "execution_count": null,
   "metadata": {},
   "outputs": [],
   "source": [
    "weorest <- weo20[, .(ISO = \"zzz\", PPPSH = 100 - sum(PPPSH), sharerank = 21), by = year]\n",
    "weorest"
   ]
  },
  {
   "cell_type": "markdown",
   "metadata": {},
   "source": [
    "The rest of the world after 20 largest economies has a total economic size near that of the largest economy"
   ]
  },
  {
   "cell_type": "markdown",
   "metadata": {},
   "source": [
    "Now let's combine both"
   ]
  },
  {
   "cell_type": "code",
   "execution_count": null,
   "metadata": {},
   "outputs": [],
   "source": [
    "weo20rest <- bind_rows(weo20, weorest)\n",
    "weo20rest"
   ]
  },
  {
   "cell_type": "markdown",
   "metadata": {},
   "source": [
    "### Join with country names"
   ]
  },
  {
   "cell_type": "markdown",
   "metadata": {},
   "source": [
    "ISO codes does not show up good in a plot, so let's join with country names:"
   ]
  },
  {
   "cell_type": "markdown",
   "metadata": {},
   "source": [
    "dplyr approach:"
   ]
  },
  {
   "cell_type": "code",
   "execution_count": null,
   "metadata": {},
   "outputs": [],
   "source": [
    "weo20rest2 <- weo20rest %>% left_join(weo_countries %>% select(-WEO_Country_Code), by = \"ISO\")\n",
    "weo20rest2"
   ]
  },
  {
   "cell_type": "markdown",
   "metadata": {},
   "source": [
    "Treat the NA country names:"
   ]
  },
  {
   "cell_type": "code",
   "execution_count": null,
   "metadata": {},
   "outputs": [],
   "source": [
    "weo20rest2[ISO == \"zzz\", Country := \"Rest of the World\"]"
   ]
  },
  {
   "cell_type": "code",
   "execution_count": null,
   "metadata": {},
   "outputs": [],
   "source": [
    "weo20rest2"
   ]
  },
  {
   "cell_type": "markdown",
   "metadata": {},
   "source": [
    "data.table approach:"
   ]
  },
  {
   "cell_type": "code",
   "execution_count": null,
   "metadata": {},
   "outputs": [],
   "source": [
    "weo20rest2b <- weo_countries[, .SD, .SDcols = -\"WEO_Country_Code\"][weo20rest, on = \"ISO\"]"
   ]
  },
  {
   "cell_type": "code",
   "execution_count": null,
   "metadata": {},
   "outputs": [],
   "source": [
    "weo20rest2b[ISO == \"zzz\", Country := \"Rest of the World\"]"
   ]
  },
  {
   "cell_type": "code",
   "execution_count": null,
   "metadata": {},
   "outputs": [],
   "source": [
    "weo20rest2b"
   ]
  },
  {
   "cell_type": "markdown",
   "metadata": {},
   "source": [
    "And using merge:"
   ]
  },
  {
   "cell_type": "code",
   "execution_count": null,
   "metadata": {},
   "outputs": [],
   "source": [
    "weo20rest2c <- merge(weo20rest, weo_countries[, .SD, .SDcols = -\"WEO_Country_Code\"],\n",
    "     by = \"ISO\",\n",
    "     all.x = T)"
   ]
  },
  {
   "cell_type": "code",
   "execution_count": null,
   "metadata": {},
   "outputs": [],
   "source": [
    "weo20rest2c[ISO == \"zzz\", Country := \"Rest of the World\"]"
   ]
  },
  {
   "cell_type": "code",
   "execution_count": null,
   "metadata": {},
   "outputs": [],
   "source": [
    "weo20rest2c"
   ]
  },
  {
   "cell_type": "markdown",
   "metadata": {},
   "source": [
    "### Stacked area"
   ]
  },
  {
   "cell_type": "markdown",
   "metadata": {},
   "source": [
    "Now let's show the progression of world share as a single stacked area chart"
   ]
  },
  {
   "cell_type": "code",
   "execution_count": null,
   "metadata": {},
   "outputs": [],
   "source": [
    "options(repr.plot.width = 20, repr.plot.height = 20)"
   ]
  },
  {
   "cell_type": "code",
   "execution_count": null,
   "metadata": {},
   "outputs": [],
   "source": [
    "weo20_stacked <- weo20rest2c %>%\n",
    "    arrange(year, desc(PPPSH)) %>%\n",
    "    ggplot(aes(x = year, y = PPPSH, fill = Country)) +\n",
    "    geom_area(position = \"stack\")"
   ]
  },
  {
   "cell_type": "code",
   "execution_count": null,
   "metadata": {},
   "outputs": [],
   "source": [
    "weo20_stacked"
   ]
  },
  {
   "cell_type": "code",
   "execution_count": null,
   "metadata": {},
   "outputs": [],
   "source": [
    "weo20_stacked %>% ggplotly"
   ]
  },
  {
   "cell_type": "markdown",
   "metadata": {},
   "source": [
    "See how shares of US and China swapped"
   ]
  },
  {
   "cell_type": "markdown",
   "metadata": {},
   "source": [
    "# COVID dataset"
   ]
  },
  {
   "cell_type": "markdown",
   "metadata": {},
   "source": [
    "Now defunct thevirustracker.com API provided detailed daily data on COVID cases for +190 countries.\n",
    "\n",
    "The set shows the first few months of the pandemics.\n",
    "\n",
    "You can find the details on how the dataset is prepared, see 01_2_appendix.ipynb"
   ]
  },
  {
   "cell_type": "code",
   "execution_count": null,
   "metadata": {},
   "outputs": [],
   "source": [
    "covid <- readRDS(sprintf(\"%s/rds/01_02_covid.rds\", datapath))"
   ]
  },
  {
   "cell_type": "code",
   "execution_count": null,
   "metadata": {},
   "outputs": [],
   "source": [
    "covid"
   ]
  },
  {
   "cell_type": "markdown",
   "metadata": {},
   "source": [
    "This is the range of dates:"
   ]
  },
  {
   "cell_type": "code",
   "execution_count": null,
   "metadata": {},
   "outputs": [],
   "source": [
    "covid[, range(date)]"
   ]
  },
  {
   "cell_type": "markdown",
   "metadata": {},
   "source": [
    "Let's delete some unnecessary columns:"
   ]
  },
  {
   "cell_type": "code",
   "execution_count": null,
   "metadata": {},
   "outputs": [],
   "source": [
    "covid[, c(\"ourid\", \"source\") := NULL]"
   ]
  },
  {
   "cell_type": "code",
   "execution_count": null,
   "metadata": {},
   "outputs": [],
   "source": [
    "covid"
   ]
  },
  {
   "cell_type": "markdown",
   "metadata": {},
   "source": [
    "## Merge with iso3c"
   ]
  },
  {
   "cell_type": "markdown",
   "metadata": {},
   "source": [
    "Total cases mean not much.\n",
    "\n",
    "It is better to show as a percentage of population\n",
    "\n",
    "We can merge with WEO data.\n",
    "\n",
    "However we have a problem:\n",
    "\n",
    "Two country codes do not match with the three country codes in WEO.\n",
    "\n",
    "We can use the countrycodes package for that"
   ]
  },
  {
   "cell_type": "markdown",
   "metadata": {},
   "source": [
    "Select only few columns:"
   ]
  },
  {
   "cell_type": "code",
   "execution_count": null,
   "metadata": {},
   "outputs": [],
   "source": [
    "codelist2 <- codelist %>% select(c(\"country.name.en\", \"country.name.en.regex\", \"imf\", \"iso2c\", \"iso3c\", \"iso3n\"))"
   ]
  },
  {
   "cell_type": "code",
   "execution_count": null,
   "metadata": {},
   "outputs": [],
   "source": [
    "setDT(codelist2)"
   ]
  },
  {
   "cell_type": "markdown",
   "metadata": {},
   "source": [
    "Check the 2 letter codes that appear in covid data but does not in iso2c of codelist:"
   ]
  },
  {
   "cell_type": "code",
   "execution_count": null,
   "metadata": {},
   "outputs": [],
   "source": [
    "missing_codes <- setdiff(covid[, code %>% unique],\n",
    "        codelist2$iso2c)"
   ]
  },
  {
   "cell_type": "code",
   "execution_count": null,
   "metadata": {},
   "outputs": [],
   "source": [
    "missing_codes"
   ]
  },
  {
   "cell_type": "markdown",
   "metadata": {},
   "source": [
    "Which countries are they?"
   ]
  },
  {
   "cell_type": "code",
   "execution_count": null,
   "metadata": {},
   "outputs": [],
   "source": [
    "covid[code %in% missing_codes, .(title, code)] %>% unique"
   ]
  },
  {
   "cell_type": "markdown",
   "metadata": {},
   "source": [
    "Diamond Princess was a cruise ship which was quarantinated after a large number of cases. We can skip it for the moment\n",
    "\n",
    "Let's check whether Kosovo shows up in the codelist:"
   ]
  },
  {
   "cell_type": "code",
   "execution_count": null,
   "metadata": {},
   "outputs": [],
   "source": [
    "codelist2 %>% datatable"
   ]
  },
  {
   "cell_type": "markdown",
   "metadata": {},
   "source": [
    "It has an IMF code but not iso2c or iso3c codes.\n",
    "\n",
    "Since it is a small country, we can also skip it for the moment, in order not to complicate things"
   ]
  },
  {
   "cell_type": "code",
   "execution_count": null,
   "metadata": {},
   "outputs": [],
   "source": [
    "covid2 <- covid %>% inner_join(codelist2 %>% select(\"iso2c\", \"iso3c\"), by = c(\"code\" = \"iso2c\"))\n",
    "covid2"
   ]
  },
  {
   "cell_type": "markdown",
   "metadata": {},
   "source": [
    "## Merge with IMF data"
   ]
  },
  {
   "cell_type": "markdown",
   "metadata": {},
   "source": [
    "Now let's switch to IMF subject description:"
   ]
  },
  {
   "cell_type": "code",
   "execution_count": null,
   "metadata": {},
   "outputs": [],
   "source": [
    "weo_subject %>% datatable(\n",
    "  filter = \"top\",\n",
    "  options = list(pageLength = 20)\n",
    ")"
   ]
  },
  {
   "cell_type": "markdown",
   "metadata": {},
   "source": [
    "LP is the right subject, population in millions"
   ]
  },
  {
   "cell_type": "code",
   "execution_count": null,
   "metadata": {},
   "outputs": [],
   "source": [
    "weo_lp <- weo_wide2 %>% select(c(\"ISO\", \"year\", \"LP\"))"
   ]
  },
  {
   "cell_type": "code",
   "execution_count": null,
   "metadata": {},
   "outputs": [],
   "source": [
    "weo_lp"
   ]
  },
  {
   "cell_type": "markdown",
   "metadata": {},
   "source": [
    "Filter for 2020"
   ]
  },
  {
   "cell_type": "code",
   "execution_count": null,
   "metadata": {},
   "outputs": [],
   "source": [
    "weo_lp2020 <- weo_lp[year == 2020]"
   ]
  },
  {
   "cell_type": "code",
   "execution_count": null,
   "metadata": {},
   "outputs": [],
   "source": [
    "weo_lp2020"
   ]
  },
  {
   "cell_type": "markdown",
   "metadata": {},
   "source": [
    "Now let's merge!"
   ]
  },
  {
   "cell_type": "code",
   "execution_count": null,
   "metadata": {},
   "outputs": [],
   "source": [
    "covid2 %>% names"
   ]
  },
  {
   "cell_type": "code",
   "execution_count": null,
   "metadata": {},
   "outputs": [],
   "source": [
    "covid3 <- covid2 %>% inner_join(weo_lp2020, by = c(\"iso3c\" = \"ISO\"))\n",
    "covid3"
   ]
  },
  {
   "cell_type": "markdown",
   "metadata": {},
   "source": [
    "Inner join ensures that only those cases which appear on both sides are kept"
   ]
  },
  {
   "cell_type": "markdown",
   "metadata": {},
   "source": [
    "## Total cases per million"
   ]
  },
  {
   "cell_type": "markdown",
   "metadata": {},
   "source": [
    "Calculate the total cases per million population:"
   ]
  },
  {
   "cell_type": "code",
   "execution_count": null,
   "metadata": {},
   "outputs": [],
   "source": [
    "covid3[, total_cases_pm := total_cases / LP]"
   ]
  },
  {
   "cell_type": "code",
   "execution_count": null,
   "metadata": {},
   "outputs": [],
   "source": [
    "covid3"
   ]
  },
  {
   "cell_type": "markdown",
   "metadata": {},
   "source": [
    "Now let's see the countries with highest total cases per million population reached until early April"
   ]
  },
  {
   "cell_type": "code",
   "execution_count": null,
   "metadata": {},
   "outputs": [],
   "source": [
    "tcpm <- covid3[, .SD, .SDcols = c(\"title\", \"iso3c\", \"total_cases_pm\")][\n",
    "    , .(max_tcpm = max(total_cases_pm)), by = c(\"iso3c\", \"title\")][order(-max_tcpm)]"
   ]
  },
  {
   "cell_type": "code",
   "execution_count": null,
   "metadata": {},
   "outputs": [],
   "source": [
    "tcpm"
   ]
  },
  {
   "cell_type": "markdown",
   "metadata": {},
   "source": [
    "More prosper nations had a higher total cases per million.\n",
    "\n",
    "Let's plot in bars:"
   ]
  },
  {
   "cell_type": "code",
   "execution_count": null,
   "metadata": {},
   "outputs": [],
   "source": [
    "tcpm_plot <- tcpm[1:20] %>% mutate(title = reorder(title, max_tcpm)) %>%\n",
    "ggplot(aes(x = title, y = max_tcpm)) +\n",
    "geom_bar(stat=\"identity\") + coord_flip()"
   ]
  },
  {
   "cell_type": "code",
   "execution_count": null,
   "metadata": {},
   "outputs": [],
   "source": [
    "tcpm_plot"
   ]
  },
  {
   "cell_type": "code",
   "execution_count": null,
   "metadata": {},
   "outputs": [],
   "source": [
    "tcpm_plot %>% ggplotly"
   ]
  },
  {
   "cell_type": "markdown",
   "metadata": {},
   "source": [
    "Maybe we can combine this with some economic measure?\n",
    "\n",
    "Let's leave it for future"
   ]
  },
  {
   "cell_type": "markdown",
   "metadata": {},
   "source": [
    "# Wealth dataset"
   ]
  },
  {
   "cell_type": "markdown",
   "metadata": {},
   "source": [
    "This dataset is extracted from a pdf report by Credit Suisse and transformed and wrangled extensively to make it a working one"
   ]
  },
  {
   "cell_type": "code",
   "execution_count": null,
   "metadata": {},
   "outputs": [],
   "source": [
    "wealth <- readRDS(sprintf(\"%s/rds/01_03_wealth.rds\", datapath))"
   ]
  },
  {
   "cell_type": "code",
   "execution_count": null,
   "metadata": {},
   "outputs": [],
   "source": [
    "wealth"
   ]
  },
  {
   "cell_type": "code",
   "execution_count": null,
   "metadata": {},
   "outputs": [],
   "source": [
    "wealth %>% names"
   ]
  },
  {
   "cell_type": "markdown",
   "metadata": {},
   "source": [
    "Wealth_per_adult clearly is Financial wealth + non-financial wealth - debt, all per adult"
   ]
  },
  {
   "cell_type": "markdown",
   "metadata": {},
   "source": [
    "The discrepancy between median and mean wealth can be an indication of inequality of wealth distribution in the country "
   ]
  },
  {
   "cell_type": "markdown",
   "metadata": {},
   "source": [
    "## Merge with WEO"
   ]
  },
  {
   "cell_type": "markdown",
   "metadata": {},
   "source": [
    "We can also combine this data with for example per capita income in WEO dataset."
   ]
  },
  {
   "cell_type": "code",
   "execution_count": null,
   "metadata": {},
   "outputs": [],
   "source": [
    "weo_subject %>% datatable(\n",
    "  filter = \"top\",\n",
    "  options = list(pageLength = 20)\n",
    ")"
   ]
  },
  {
   "cell_type": "markdown",
   "metadata": {},
   "source": [
    "NGDPDPC, GDP per capita in current USD is the right measure to combine"
   ]
  },
  {
   "cell_type": "code",
   "execution_count": null,
   "metadata": {},
   "outputs": [],
   "source": [
    "weo_gpc <- weo_wide2 %>% select(c(\"ISO\", \"year\", \"NGDPDPC\", \"LP\"))"
   ]
  },
  {
   "cell_type": "markdown",
   "metadata": {},
   "source": [
    "We have to join by two columns:"
   ]
  },
  {
   "cell_type": "code",
   "execution_count": null,
   "metadata": {},
   "outputs": [],
   "source": [
    "wealth2 <- wealth %>% inner_join(weo_gpc,\n",
    "                      by = c(\"iso3c\" = \"ISO\",\n",
    "                             \"year\" = \"year\"))"
   ]
  },
  {
   "cell_type": "markdown",
   "metadata": {},
   "source": [
    "And calculate wealth to income, and adult to population (correcting for scale):"
   ]
  },
  {
   "cell_type": "code",
   "execution_count": null,
   "metadata": {},
   "outputs": [],
   "source": [
    "wealth2[, wealth2income := Wealth_per_adult / NGDPDPC]\n",
    "wealth2[, adult2pop := Adults / LP / 1000]"
   ]
  },
  {
   "cell_type": "code",
   "execution_count": null,
   "metadata": {},
   "outputs": [],
   "source": [
    "wealth2"
   ]
  },
  {
   "cell_type": "markdown",
   "metadata": {},
   "source": [
    "## Wealth to income"
   ]
  },
  {
   "cell_type": "markdown",
   "metadata": {},
   "source": [
    "Let's select 10 sample countries"
   ]
  },
  {
   "cell_type": "code",
   "execution_count": null,
   "metadata": {},
   "outputs": [],
   "source": [
    "iso_samp <- wealth2[, unique(iso3c) %>% sample(10)]\n",
    "iso_samp"
   ]
  },
  {
   "cell_type": "markdown",
   "metadata": {},
   "source": [
    "And plot their wealth2income measures across time together:"
   ]
  },
  {
   "cell_type": "code",
   "execution_count": null,
   "metadata": {},
   "outputs": [],
   "source": [
    "w2i <- wealth2[iso3c %in% iso_samp] %>%\n",
    "    select(\"Country\", \"year\", \"wealth2income\") %>%\n",
    "    ggplot(aes(x = year, y = wealth2income, color = Country)) +\n",
    "geom_line()"
   ]
  },
  {
   "cell_type": "code",
   "execution_count": null,
   "metadata": {},
   "outputs": [],
   "source": [
    "w2i"
   ]
  },
  {
   "cell_type": "code",
   "execution_count": null,
   "metadata": {},
   "outputs": [],
   "source": [
    "w2i %>% ggplotly"
   ]
  },
  {
   "cell_type": "markdown",
   "metadata": {},
   "source": [
    "What other economic measures can wealth2income be related to?\n",
    "\n",
    "Think about this ..."
   ]
  },
  {
   "cell_type": "code",
   "execution_count": null,
   "metadata": {},
   "outputs": [],
   "source": []
  }
 ],
 "metadata": {
  "kernelspec": {
   "display_name": "R",
   "language": "R",
   "name": "ir"
  },
  "language_info": {
   "codemirror_mode": "r",
   "file_extension": ".r",
   "mimetype": "text/x-r-source",
   "name": "R",
   "pygments_lexer": "r",
   "version": "4.0.4"
  },
  "widgets": {
   "application/vnd.jupyter.widget-state+json": {
    "state": {},
    "version_major": 2,
    "version_minor": 0
   }
  }
 },
 "nbformat": 4,
 "nbformat_minor": 4
}
