{
 "cells": [
  {
   "cell_type": "markdown",
   "metadata": {
    "kernel": "SoS"
   },
   "source": [
    "Some technical details in preparing data will be presented in appendices, in order to keep the session notebooks simple."
   ]
  },
  {
   "cell_type": "markdown",
   "metadata": {
    "kernel": "SoS"
   },
   "source": [
    "# IMF World Economic Outlook Database"
   ]
  },
  {
   "cell_type": "markdown",
   "metadata": {
    "kernel": "SoS"
   },
   "source": [
    "The first database we deal with is IMF's World Economic Outlook Database. The URL to October 2020 file is:\n",
    "\n",
    "https://www.imf.org/-/media/Files/Publications/WEO/WEO-Database/2020/02/WEOOct2020all.ashx\n",
    "\n",
    "Not everything went alright trying to import the data into R:"
   ]
  },
  {
   "cell_type": "markdown",
   "metadata": {
    "kernel": "SoS"
   },
   "source": [
    "in Bash, we download the data:"
   ]
  },
  {
   "cell_type": "code",
   "execution_count": null,
   "metadata": {
    "kernel": "Bash"
   },
   "outputs": [],
   "source": [
    "datapath=\"~/data_ad454\""
   ]
  },
  {
   "cell_type": "code",
   "execution_count": null,
   "metadata": {
    "kernel": "Bash"
   },
   "outputs": [],
   "source": [
    "curl \"https://www.imf.org/-/media/Files/Publications/WEO/WEO-Database/2020/02/WEOOct2020all.ashx\" > ${datapath}/csv/01_01_weodata.xls"
   ]
  },
  {
   "cell_type": "markdown",
   "metadata": {
    "kernel": "Bash"
   },
   "source": [
    "We load some libraries into R:"
   ]
  },
  {
   "cell_type": "code",
   "execution_count": null,
   "metadata": {
    "kernel": "R"
   },
   "outputs": [],
   "source": [
    "library(data.table)\n",
    "library(tidyverse)\n",
    "library(readxl)\n",
    "library(readr)\n",
    "\n",
    "options(repr.matrix.max.rows=20, repr.matrix.max.cols=15) # for limiting the number of top and bottom rows of tables printed "
   ]
  },
  {
   "cell_type": "markdown",
   "metadata": {
    "kernel": "R"
   },
   "source": [
    "We set the path for data directory (so that if path changes, not all related code need to be modified):"
   ]
  },
  {
   "cell_type": "code",
   "execution_count": null,
   "metadata": {
    "kernel": "R"
   },
   "outputs": [],
   "source": [
    "datapath <- \"~/data_ad454\""
   ]
  },
  {
   "cell_type": "markdown",
   "metadata": {
    "kernel": "R"
   },
   "source": [
    "This tryCatch formulation is written here so that a \"run all cell\" action do stop when an error is encountered when you try to reproduce the results\n",
    "\n",
    "In case of an error:\n",
    "- Without tryCatch, the error halts the execution of the notebook. You have to continue to the next cell manually\n",
    "- With tryCatch, when an error is encountered, the execution is not halted and the error message is saved or returned for information"
   ]
  },
  {
   "cell_type": "code",
   "execution_count": null,
   "metadata": {
    "kernel": "R"
   },
   "outputs": [],
   "source": [
    "tryCatch(\n",
    "    {\n",
    "        weo <- read_xls(sprintf(\"%s/csv/01_01_weodata.xls\", datapath), 1)\n",
    "    },\n",
    "    error = function(e)\n",
    "    {\n",
    "        print(as.character(e$message))\n",
    "    }\n",
    ")"
   ]
  },
  {
   "cell_type": "markdown",
   "metadata": {
    "kernel": "R"
   },
   "source": [
    "The file could not be read as an excel file\n",
    "\n",
    "Let's read it as a csv file:"
   ]
  },
  {
   "cell_type": "code",
   "execution_count": null,
   "metadata": {
    "kernel": "R"
   },
   "outputs": [],
   "source": [
    "tryCatch(\n",
    "    {\n",
    "        weo <- fread(sprintf(\"%s/csv/01_01_weodata.xls\", datapath))\n",
    "    },\n",
    "    error = function(e)\n",
    "    {\n",
    "        print(as.character(e$message))\n",
    "    }\n",
    ")"
   ]
  },
  {
   "cell_type": "markdown",
   "metadata": {
    "kernel": "R"
   },
   "source": [
    "Some non printable character were detected. So possibly it is treated as a binary file\n",
    "\n",
    "Check the encoding of the file:"
   ]
  },
  {
   "cell_type": "code",
   "execution_count": null,
   "metadata": {
    "kernel": "Bash"
   },
   "outputs": [],
   "source": [
    "file -bi ${datapath}/csv/01_01_weodata.xls"
   ]
  },
  {
   "cell_type": "markdown",
   "metadata": {
    "kernel": "Bash"
   },
   "source": [
    "Yes it is treated as a binary file. Let's strip the non-printable characters and save as tsv (tab separated values) file:"
   ]
  },
  {
   "cell_type": "code",
   "execution_count": null,
   "metadata": {
    "kernel": "Bash"
   },
   "outputs": [],
   "source": [
    "cat ${datapath}/csv/01_01_weodata.xls | tr -cd '\\11\\12\\15\\40-\\176' > ${datapath}/csv/01_01_weodata.tsv"
   ]
  },
  {
   "cell_type": "markdown",
   "metadata": {
    "kernel": "Bash"
   },
   "source": [
    "The final line is a footer:"
   ]
  },
  {
   "cell_type": "code",
   "execution_count": null,
   "metadata": {
    "kernel": "Bash"
   },
   "outputs": [],
   "source": [
    "tail -1 ${datapath}/csv/01_01_weodata.tsv"
   ]
  },
  {
   "cell_type": "markdown",
   "metadata": {
    "kernel": "Bash"
   },
   "source": [
    "Let's delete this also:"
   ]
  },
  {
   "cell_type": "code",
   "execution_count": null,
   "metadata": {
    "kernel": "Bash"
   },
   "outputs": [],
   "source": [
    "head -n-2 ${datapath}/csv/01_01_weodata.tsv > ${datapath}/csv/01_01_weodata_2.tsv\n",
    "mv ${datapath}/csv/01_01_weodata_2.tsv ${datapath}/csv/01_01_weodata.tsv"
   ]
  },
  {
   "cell_type": "code",
   "execution_count": null,
   "metadata": {
    "kernel": "R"
   },
   "outputs": [],
   "source": [
    "tryCatch(\n",
    "    {\n",
    "        weo <- fread(sprintf(\"%s/csv/01_01_weodata.tsv\", datapath))\n",
    "    },\n",
    "    error = function(e)\n",
    "    {\n",
    "        print(as.character(e$message))\n",
    "    }\n",
    ")"
   ]
  },
  {
   "cell_type": "code",
   "execution_count": null,
   "metadata": {
    "kernel": "R"
   },
   "outputs": [],
   "source": [
    "weo %>% str"
   ]
  },
  {
   "cell_type": "markdown",
   "metadata": {
    "kernel": "Bash"
   },
   "source": [
    "File is imported but all numeric columns are imported as character. There are two reasons for that:\n",
    "\n",
    "- Empty, \"--\" and \"n/a\" values should be treated as N/A\n",
    "- Thousand separator is \",\""
   ]
  },
  {
   "cell_type": "markdown",
   "metadata": {
    "kernel": "R"
   },
   "source": [
    "read_delim() and its variants from readr package are better options to import files with such separator issues:"
   ]
  },
  {
   "cell_type": "code",
   "execution_count": null,
   "metadata": {
    "kernel": "R"
   },
   "outputs": [],
   "source": [
    "weo <- readr::read_tsv(sprintf(\"%s/csv/01_01_weodata.tsv\", datapath),\n",
    "                       locale = locale(decimal_mark = \".\", grouping_mark = \",\"),\n",
    "                        na = c(\"\", \"--\", \"n/a\")\n",
    "                       )"
   ]
  },
  {
   "cell_type": "code",
   "execution_count": null,
   "metadata": {
    "kernel": "R"
   },
   "outputs": [],
   "source": [
    "weo %>% str"
   ]
  },
  {
   "cell_type": "markdown",
   "metadata": {
    "kernel": "R"
   },
   "source": [
    "Let's get rid off the redundant spec attribute"
   ]
  },
  {
   "cell_type": "code",
   "execution_count": null,
   "metadata": {
    "kernel": "R"
   },
   "outputs": [],
   "source": [
    "attributes(weo)$spec <- NULL"
   ]
  },
  {
   "cell_type": "markdown",
   "metadata": {
    "kernel": "R"
   },
   "source": [
    "Let's set data.table attribute:"
   ]
  },
  {
   "cell_type": "code",
   "execution_count": null,
   "metadata": {
    "kernel": "R"
   },
   "outputs": [],
   "source": [
    "setDT(weo)"
   ]
  },
  {
   "cell_type": "code",
   "execution_count": null,
   "metadata": {
    "kernel": "R"
   },
   "outputs": [],
   "source": [
    "weo %>% str"
   ]
  },
  {
   "cell_type": "markdown",
   "metadata": {
    "kernel": "R"
   },
   "source": [
    "Now we can do a few things more to make this dataset more manageable:\n",
    "\n",
    "- Delete some unnecessary columns like `Estimates Start After` X57 or Country/Series-specific Notes\n",
    "- Keep only WEO Subject Codes in the main dataset and spare other related columns (with unique rows) to a separate definitions file\n",
    "- Keep only ISO Country codes and spare other related columns (with unique rows) to a separate countries file. In fact countrycode package handles country code and name integration issues"
   ]
  },
  {
   "cell_type": "markdown",
   "metadata": {
    "kernel": "R"
   },
   "source": [
    "Delete columns:"
   ]
  },
  {
   "cell_type": "code",
   "execution_count": null,
   "metadata": {
    "kernel": "R"
   },
   "outputs": [],
   "source": [
    "weo[, c(\"Country/Series-specific Notes\", \"Estimates Start After\", \"Subject Notes\", \"X57\") := NULL]"
   ]
  },
  {
   "cell_type": "code",
   "execution_count": null,
   "metadata": {
    "kernel": "R"
   },
   "outputs": [],
   "source": [
    "weo %>% str"
   ]
  },
  {
   "cell_type": "markdown",
   "metadata": {
    "kernel": "R"
   },
   "source": [
    "Column names with spaces are hard to be referred.\n",
    "\n",
    "Let's substitute them with underscores:"
   ]
  },
  {
   "cell_type": "code",
   "execution_count": null,
   "metadata": {
    "kernel": "R"
   },
   "outputs": [],
   "source": [
    "setnames(weo,\n",
    "        names(weo),\n",
    "        names(weo) %>% str_replace_all(\" \", \"_\"))"
   ]
  },
  {
   "cell_type": "code",
   "execution_count": null,
   "metadata": {
    "kernel": "R"
   },
   "outputs": [],
   "source": [
    "names(weo)"
   ]
  },
  {
   "cell_type": "markdown",
   "metadata": {
    "kernel": "R"
   },
   "source": [
    "Now let's get unique lines of country code related columns:"
   ]
  },
  {
   "cell_type": "code",
   "execution_count": null,
   "metadata": {
    "kernel": "R"
   },
   "outputs": [],
   "source": [
    "weo_countries <- weo %>%\n",
    "select(c(\"ISO\", \"WEO_Country_Code\", \"Country\")) %>%\n",
    "unique %>%\n",
    "arrange(ISO)"
   ]
  },
  {
   "cell_type": "code",
   "execution_count": null,
   "metadata": {
    "kernel": "R"
   },
   "outputs": [],
   "source": [
    "weo_countries %>% str"
   ]
  },
  {
   "cell_type": "code",
   "execution_count": null,
   "metadata": {
    "kernel": "R"
   },
   "outputs": [],
   "source": [
    "weo_countries %>% glimpse"
   ]
  },
  {
   "cell_type": "markdown",
   "metadata": {
    "kernel": "R"
   },
   "source": [
    "Keep ISO and delete other columns from weo:"
   ]
  },
  {
   "cell_type": "code",
   "execution_count": null,
   "metadata": {
    "kernel": "R"
   },
   "outputs": [],
   "source": [
    "weo[, c(\"WEO_Country_Code\", \"Country\") := NULL]"
   ]
  },
  {
   "cell_type": "code",
   "execution_count": null,
   "metadata": {
    "kernel": "R"
   },
   "outputs": [],
   "source": [
    "weo %>% glimpse"
   ]
  },
  {
   "cell_type": "markdown",
   "metadata": {
    "kernel": "R"
   },
   "source": [
    "Now let's do the same for subject related columns:"
   ]
  },
  {
   "cell_type": "code",
   "execution_count": null,
   "metadata": {
    "kernel": "R"
   },
   "outputs": [],
   "source": [
    "weo_subject <- weo %>%\n",
    "select(c(\"WEO_Subject_Code\", \"Subject_Descriptor\", \"Units\", \"Scale\")) %>%\n",
    "unique"
   ]
  },
  {
   "cell_type": "code",
   "execution_count": null,
   "metadata": {
    "kernel": "R"
   },
   "outputs": [],
   "source": [
    "weo_subject %>% glimpse"
   ]
  },
  {
   "cell_type": "code",
   "execution_count": null,
   "metadata": {
    "kernel": "R"
   },
   "outputs": [],
   "source": [
    "weo[, c(\"Subject_Descriptor\", \"Units\", \"Scale\") := NULL]"
   ]
  },
  {
   "cell_type": "code",
   "execution_count": null,
   "metadata": {
    "kernel": "R"
   },
   "outputs": [],
   "source": [
    "weo %>% str"
   ]
  },
  {
   "cell_type": "markdown",
   "metadata": {
    "kernel": "R"
   },
   "source": [
    "Now we can serialize these files to reproduce them exactly in another session with a single line of code:"
   ]
  },
  {
   "cell_type": "code",
   "execution_count": null,
   "metadata": {
    "kernel": "R"
   },
   "outputs": [],
   "source": [
    "saveRDS(weo, sprintf(\"%s/rds/01_01_weo.rds\", datapath))\n",
    "saveRDS(weo_subject, sprintf(\"%s/rds/01_01_weo_subject.rds\", datapath))\n",
    "saveRDS(weo_countries, sprintf(\"%s/rds/01_01_weo_countries.rds\", datapath))"
   ]
  },
  {
   "cell_type": "markdown",
   "metadata": {
    "kernel": "R"
   },
   "source": [
    "We can import them with readRDS() function and assign to a named object and we can choose the name to be assigned to.\n",
    "\n",
    "In the case of RData (save() and load()), the objects are imported and automatically assigned to the named object that they were saved as."
   ]
  },
  {
   "cell_type": "markdown",
   "metadata": {
    "kernel": "R"
   },
   "source": [
    "# COVID data from thevirustracker"
   ]
  },
  {
   "cell_type": "markdown",
   "metadata": {
    "kernel": "R"
   },
   "source": [
    "Next, we have daily detailed data on COVID for 179 countries for the first few months of COVID pandemics.\n",
    "\n",
    "The data was provided by the REST API of thevirustracker.com, now defunct, in json format.\n",
    "\n",
    "First let's see what json looks like:"
   ]
  },
  {
   "cell_type": "code",
   "execution_count": null,
   "metadata": {
    "kernel": "Bash"
   },
   "outputs": [],
   "source": [
    "cat $datapath/json/covid/TR.json | jq . -C"
   ]
  },
  {
   "cell_type": "markdown",
   "metadata": {
    "kernel": "Bash"
   },
   "source": [
    "JSON data have a simple, extensible and elastic format so that the schema does not have to be declared beforehand (as fixed columns, etc).\n",
    "\n",
    "JSON can represent hierarchical, nested and/or semi-structured data easily\n",
    "\n",
    "JSON is serialized and deserialized easily\n",
    "\n",
    "JSON can be parsed by many programming languages and tools\n",
    "\n",
    "Most data shared between web servers and clients (browser, mobile apps, etc) are in JSON format"
   ]
  },
  {
   "cell_type": "markdown",
   "metadata": {
    "kernel": "Bash"
   },
   "source": [
    "JSON is convenient format for serde (serialization / deserialization) and sharing across hosts.\n",
    "\n",
    "However JSON can also be flattened into a tabular form for easier analysis"
   ]
  },
  {
   "cell_type": "code",
   "execution_count": null,
   "metadata": {
    "kernel": "R"
   },
   "outputs": [],
   "source": [
    "library(jsonlite)\n",
    "library(listviewer)\n",
    "library(tidyverse)\n",
    "library(data.table)\n",
    "library(imputeTS)\n",
    "library(RcppRoll)\n",
    "library(countrycode)"
   ]
  },
  {
   "cell_type": "markdown",
   "metadata": {
    "kernel": "R"
   },
   "source": [
    "First define a path for covid data:"
   ]
  },
  {
   "cell_type": "code",
   "execution_count": null,
   "metadata": {
    "kernel": "R"
   },
   "outputs": [],
   "source": [
    "covidpath <- sprintf(\"%s/json/covid\", datapath)\n",
    "covidpath"
   ]
  },
  {
   "cell_type": "markdown",
   "metadata": {
    "kernel": "R"
   },
   "source": [
    "Read all json data into a list:"
   ]
  },
  {
   "cell_type": "code",
   "execution_count": null,
   "metadata": {
    "kernel": "R"
   },
   "outputs": [],
   "source": [
    "all_countries <- lapply(list.files(covidpath, full.names = T), fromJSON)"
   ]
  },
  {
   "cell_type": "markdown",
   "metadata": {
    "kernel": "R"
   },
   "source": [
    "We can navigate through the nested object:"
   ]
  },
  {
   "cell_type": "code",
   "execution_count": null,
   "metadata": {
    "kernel": "R"
   },
   "outputs": [],
   "source": [
    "all_countries %>% jsonedit(mode = \"form\")"
   ]
  },
  {
   "cell_type": "markdown",
   "metadata": {
    "kernel": "R"
   },
   "source": [
    "It seems that first part of each country's data has countrycode information and second part has the actual data.\n",
    "\n",
    "The last line to the actual data is a status code (OK), it can be deleted.\n",
    "\n",
    "We must wrangle those two parts or stitch them together and combine all country data into a single large data table"
   ]
  },
  {
   "cell_type": "code",
   "execution_count": null,
   "metadata": {
    "kernel": "R"
   },
   "outputs": [],
   "source": [
    "all_countries_2 <- lapply(all_countries, function(datax) # for each country\n",
    "    {\n",
    "        data1 <- datax[[2]] # get the actual data\n",
    "        data1 <- data1[-length(data1)] # delete the last part\n",
    "        if(length(data1) > 0) # if there is any data at all\n",
    "        {\n",
    "            # the dates are hidden inside the names of the part for each date's data. extract it as a Date column and combine with the data \n",
    "            data1b <- mapply(function(x,y) cbind(date = x, y), as.Date(names(data1), format = \"%m/%d/%y\"), data1, SIMPLIFY = F)\n",
    "            data1c <- bind_rows(data1b) # stitch the part of each date into a single table\n",
    "            data2 <- datax[[1]][[1]] # get the country code part\n",
    "            data_c <- cbind(data2, data1c) # combine two parts\n",
    "            data_c\n",
    "        }\n",
    "    }\n",
    ")"
   ]
  },
  {
   "cell_type": "code",
   "execution_count": null,
   "metadata": {
    "kernel": "R"
   },
   "outputs": [],
   "source": [
    "all_countries_2 %>% jsonedit(mode = \"form\")"
   ]
  },
  {
   "cell_type": "markdown",
   "metadata": {
    "kernel": "R"
   },
   "source": [
    "Now for each country there is a regular and unnested  table\n",
    "\n",
    "Let's combine them into a single large table:"
   ]
  },
  {
   "cell_type": "code",
   "execution_count": null,
   "metadata": {
    "kernel": "R"
   },
   "outputs": [],
   "source": [
    "all_countries_3 <- bind_rows(all_countries_2)"
   ]
  },
  {
   "cell_type": "markdown",
   "metadata": {
    "kernel": "R"
   },
   "source": [
    "And set data.table attribute:"
   ]
  },
  {
   "cell_type": "code",
   "execution_count": null,
   "metadata": {
    "kernel": "R"
   },
   "outputs": [],
   "source": [
    "setDT(all_countries_3)"
   ]
  },
  {
   "cell_type": "markdown",
   "metadata": {
    "kernel": "R"
   },
   "source": [
    "See whether there are any missing values:"
   ]
  },
  {
   "cell_type": "code",
   "execution_count": null,
   "metadata": {
    "kernel": "R"
   },
   "outputs": [],
   "source": [
    "all_countries_3[,lapply(.SD, function(x) sum(is.na(x)))]"
   ]
  },
  {
   "cell_type": "markdown",
   "metadata": {
    "kernel": "R"
   },
   "source": [
    "Where is that missing value:"
   ]
  },
  {
   "cell_type": "code",
   "execution_count": null,
   "metadata": {
    "kernel": "R"
   },
   "outputs": [],
   "source": [
    "all_countries_3[is.na(code), title %>% unique]"
   ]
  },
  {
   "cell_type": "code",
   "execution_count": null,
   "metadata": {
    "kernel": "R"
   },
   "outputs": [],
   "source": [
    "codelist2 <- as.data.table(codelist)"
   ]
  },
  {
   "cell_type": "code",
   "execution_count": null,
   "metadata": {
    "kernel": "R"
   },
   "outputs": [],
   "source": [
    "codelist2[country.name.en == \"Namibia\"] %>% t"
   ]
  },
  {
   "cell_type": "markdown",
   "metadata": {
    "kernel": "R"
   },
   "source": [
    "You got it? The two letter code is NA, and it is interpreted as NA value when json is converted to an R object"
   ]
  },
  {
   "cell_type": "markdown",
   "metadata": {
    "kernel": "R"
   },
   "source": [
    "Let's impute them:"
   ]
  },
  {
   "cell_type": "code",
   "execution_count": null,
   "metadata": {
    "kernel": "R"
   },
   "outputs": [],
   "source": [
    "all_countries_3[title == \"Namibia\", code := \"NA\"]"
   ]
  },
  {
   "cell_type": "markdown",
   "metadata": {
    "kernel": "R"
   },
   "source": [
    "Now let's check the dates:"
   ]
  },
  {
   "cell_type": "code",
   "execution_count": null,
   "metadata": {
    "kernel": "R"
   },
   "outputs": [],
   "source": [
    "all_dates <- all_countries_3[, unique(date) %>% sort]"
   ]
  },
  {
   "cell_type": "code",
   "execution_count": null,
   "metadata": {
    "kernel": "R"
   },
   "outputs": [],
   "source": [
    "daterange <- all_dates %>% range\n",
    "daterange"
   ]
  },
  {
   "cell_type": "code",
   "execution_count": null,
   "metadata": {
    "kernel": "R"
   },
   "outputs": [],
   "source": [
    "dateseq <- seq(daterange[1], daterange[2], by = 1)"
   ]
  },
  {
   "cell_type": "markdown",
   "metadata": {
    "kernel": "R"
   },
   "source": [
    "Are there any missing dates?"
   ]
  },
  {
   "cell_type": "code",
   "execution_count": null,
   "metadata": {
    "kernel": "R"
   },
   "outputs": [],
   "source": [
    "(all_dates[-1] - all_dates[-length(all_dates)])"
   ]
  },
  {
   "cell_type": "code",
   "execution_count": null,
   "metadata": {
    "kernel": "R"
   },
   "outputs": [],
   "source": [
    "missing_dates <- dateseq[!(dateseq %in% all_dates)]\n",
    "missing_dates"
   ]
  },
  {
   "cell_type": "markdown",
   "metadata": {
    "kernel": "R"
   },
   "source": [
    "There are no missing dates"
   ]
  },
  {
   "cell_type": "code",
   "execution_count": null,
   "metadata": {
    "kernel": "R"
   },
   "outputs": [],
   "source": [
    "all_countries_3 %>% str"
   ]
  },
  {
   "cell_type": "code",
   "execution_count": null,
   "metadata": {
    "kernel": "R"
   },
   "outputs": [],
   "source": [
    "all_countries_3 %>% DT::datatable()"
   ]
  },
  {
   "cell_type": "markdown",
   "metadata": {
    "kernel": "R"
   },
   "source": [
    "Let's serialize it as rds:"
   ]
  },
  {
   "cell_type": "code",
   "execution_count": null,
   "metadata": {
    "kernel": "R"
   },
   "outputs": [],
   "source": [
    "saveRDS(all_countries_3, sprintf(\"%s/rds/01_02_covid.rds\", datapath))"
   ]
  },
  {
   "cell_type": "markdown",
   "metadata": {
    "kernel": "R"
   },
   "source": [
    "# Credit Suisse World Wealth Database"
   ]
  },
  {
   "cell_type": "markdown",
   "metadata": {
    "kernel": "R"
   },
   "source": [
    "This panel dataset has a vast information on the distribution of financial and non-financial wealth"
   ]
  },
  {
   "cell_type": "code",
   "execution_count": null,
   "metadata": {
    "kernel": "R"
   },
   "outputs": [],
   "source": [
    "wealth <- read_xlsx(sprintf(\"%s/xlsx/01_03_wealth_dt.xlsx\", datapath), 1)"
   ]
  },
  {
   "cell_type": "code",
   "execution_count": null,
   "metadata": {
    "kernel": "R"
   },
   "outputs": [],
   "source": [
    "setDT(wealth)"
   ]
  },
  {
   "cell_type": "code",
   "execution_count": null,
   "metadata": {
    "kernel": "R"
   },
   "outputs": [],
   "source": [
    "wealth %>% str"
   ]
  },
  {
   "cell_type": "markdown",
   "metadata": {
    "kernel": "Bash"
   },
   "source": [
    "This dataset has a long story from a large pdf file to many extractions, transformations, integrations and imputations.\n",
    "\n",
    "I skip it for the time being"
   ]
  },
  {
   "cell_type": "markdown",
   "metadata": {
    "kernel": "R"
   },
   "source": [
    "Let's convert spaces in column names to underscore:"
   ]
  },
  {
   "cell_type": "code",
   "execution_count": null,
   "metadata": {
    "kernel": "R"
   },
   "outputs": [],
   "source": [
    "setnames(wealth, names(wealth),\n",
    "        names(wealth) %>% str_replace_all(\" \", \"_\"))"
   ]
  },
  {
   "cell_type": "code",
   "execution_count": null,
   "metadata": {
    "kernel": "R"
   },
   "outputs": [],
   "source": [
    "names(wealth)"
   ]
  },
  {
   "cell_type": "markdown",
   "metadata": {
    "kernel": "R"
   },
   "source": [
    "Let's serialize it as rds:"
   ]
  },
  {
   "cell_type": "code",
   "execution_count": null,
   "metadata": {
    "kernel": "R"
   },
   "outputs": [],
   "source": [
    "saveRDS(wealth, sprintf(\"%s/rds/01_03_wealth.rds\", datapath))"
   ]
  },
  {
   "cell_type": "code",
   "execution_count": null,
   "metadata": {
    "kernel": "R"
   },
   "outputs": [],
   "source": []
  }
 ],
 "metadata": {
  "kernelspec": {
   "display_name": "SoS",
   "language": "sos",
   "name": "sos"
  },
  "language_info": {
   "codemirror_mode": "sos",
   "file_extension": ".sos",
   "mimetype": "text/x-sos",
   "name": "sos",
   "nbconvert_exporter": "sos_notebook.converter.SoS_Exporter",
   "pygments_lexer": "sos"
  },
  "sos": {
   "kernels": [
    [
     "Bash",
     "bash",
     "bash",
     "",
     "shell"
    ],
    [
     "R",
     "ir",
     "R",
     "",
     "r"
    ]
   ],
   "version": "0.22.4"
  },
  "toc-autonumbering": true,
  "widgets": {
   "application/vnd.jupyter.widget-state+json": {
    "state": {},
    "version_major": 2,
    "version_minor": 0
   }
  }
 },
 "nbformat": 4,
 "nbformat_minor": 4
}
