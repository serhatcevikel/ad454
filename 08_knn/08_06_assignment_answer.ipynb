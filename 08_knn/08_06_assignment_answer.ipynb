{
 "cells": [
  {
   "cell_type": "code",
   "execution_count": null,
   "id": "a8056df9-fb9c-40db-abe6-f04a5953586d",
   "metadata": {},
   "outputs": [],
   "source": [
    "library(data.table) # to handle the data in a more convenient manner\n",
    "library(tidyverse) # for a better work flow and more tools to wrangle and visualize the data\n",
    "library(BBmisc) # for easy normalization of data\n",
    "library(class) # for kNN classification algorithm \n",
    "library(gmodels) # for model evaluation\n",
    "library(plotly) # for interactive visualization\n",
    "options(warn=-1) # for suppressing messages"
   ]
  },
  {
   "cell_type": "code",
   "execution_count": null,
   "id": "e33d10cf-4b3b-4bbd-8303-c5d3634bf282",
   "metadata": {},
   "outputs": [],
   "source": [
    "options(repr.matrix.max.rows=20, repr.matrix.max.cols=15) # for limiting the number of top and bottom rows of tables printed "
   ]
  },
  {
   "cell_type": "code",
   "execution_count": null,
   "id": "28b3677c-73f5-482d-836c-20f764003c88",
   "metadata": {},
   "outputs": [],
   "source": [
    "datapath <- \"~/data_ad454\""
   ]
  },
  {
   "cell_type": "markdown",
   "id": "e7c2567a-cfaa-4f57-85aa-8eb9d71b0d28",
   "metadata": {},
   "source": [
    "## CLASSIFYING PROVINCES INTO CORRECT GEOGRAPHIC REGIONS USING KNN"
   ]
  },
  {
   "cell_type": "markdown",
   "id": "9047784c-419d-40c1-a15d-9099519c1829",
   "metadata": {},
   "source": [
    "In this session, we will utilize a freshly scraped dataset from the Turkish State Meteorological Service's Website following the link:\n",
    "\n",
    "https://www.mgm.gov.tr/veridegerlendirme/il-ve-ilceler-istatistik.aspx"
   ]
  },
  {
   "cell_type": "markdown",
   "id": "bad481e9-d775-41f0-8456-54ae5429198d",
   "metadata": {},
   "source": [
    "Using our general knowledge and common sense, we might think data some meteorological statistics like temperatures or precipitation (rain) levels are similar within geographic regions and vary across those regions.\n",
    "\n",
    "So knn can be a good exercise to classify provinces into regions using those similarities within and differences across "
   ]
  },
  {
   "cell_type": "markdown",
   "id": "92e9f6d2-c002-4d63-8365-172d852befa3",
   "metadata": {},
   "source": [
    "The below table for ANKARA is collected for all 81 provinces, merged with province-region correspondence, month-season correspondence and wrangled"
   ]
  },
  {
   "cell_type": "markdown",
   "id": "cdcabe63-8a69-4b8d-9141-12f96ffc8875",
   "metadata": {},
   "source": [
    "<table xmlns:xalan=\"http://xml.apache.org/xalan\">\n",
    "  <thead>\n",
    "    <tr>\n",
    "      <th style=\"width:22%\">ANKARA</th>\n",
    "      <th style=\"width:6%\">Ocak</th>\n",
    "      <th style=\"width:6%\">Şubat</th>\n",
    "      <th style=\"width:6%\">Mart</th>\n",
    "      <th style=\"width:6%\">Nisan</th>\n",
    "      <th style=\"width:6%\">Mayıs</th>\n",
    "      <th style=\"width:6%\">Haziran</th>\n",
    "      <th style=\"width:6%\">Temmuz</th>\n",
    "      <th style=\"width:6%\">Ağustos</th>\n",
    "      <th style=\"width:6%\">Eylül</th>\n",
    "      <th style=\"width:6%\">Ekim</th>\n",
    "      <th style=\"width:6%\">Kasım</th>\n",
    "      <th style=\"width:6%\">Aralık</th>\n",
    "      <th style=\"width:6%\">Yıllık</th>\n",
    "    </tr>\n",
    "  </thead>\n",
    "  <tbody>\n",
    "    <tr>\n",
    "      <td style=\"border:none;\"> </td>\n",
    "      <th colspan=\"13\">Ölçüm Periyodu ( 1927 - 2020)</th>\n",
    "    </tr>\n",
    "    <tr>\n",
    "      <th>Ortalama Sıcaklık (°C)</th>\n",
    "      <td id=\"d01\">0.2</td>\n",
    "      <td id=\"d02\">1.7</td>\n",
    "      <td id=\"d03\">5.7</td>\n",
    "      <td id=\"d04\">11.2</td>\n",
    "      <td id=\"d05\">16.0</td>\n",
    "      <td id=\"d06\">20.0</td>\n",
    "      <td id=\"d07\">23.4</td>\n",
    "      <td id=\"d08\">23.4</td>\n",
    "      <td id=\"d09\">18.9</td>\n",
    "      <td id=\"d10\">13.2</td>\n",
    "      <td id=\"d11\">7.2</td>\n",
    "      <td id=\"d12\">2.5</td>\n",
    "      <td id=\"d_top\">11.9</td>\n",
    "    </tr>\n",
    "    <tr>\n",
    "      <th>Ortalama En Yüksek Sıcaklık (°C)</th>\n",
    "      <td id=\"e01\">4.2</td>\n",
    "      <td id=\"e02\">6.5</td>\n",
    "      <td id=\"e03\">11.5</td>\n",
    "      <td id=\"e04\">17.4</td>\n",
    "      <td id=\"e05\">22.4</td>\n",
    "      <td id=\"e06\">26.7</td>\n",
    "      <td id=\"e07\">30.3</td>\n",
    "      <td id=\"e08\">30.4</td>\n",
    "      <td id=\"e09\">26.1</td>\n",
    "      <td id=\"e10\">20.0</td>\n",
    "      <td id=\"e11\">13.0</td>\n",
    "      <td id=\"e12\">6.5</td>\n",
    "      <td id=\"d_top2\">17.9</td>\n",
    "    </tr>\n",
    "    <tr>\n",
    "      <th>Ortalama En Düşük Sıcaklık (°C)</th>\n",
    "      <td id=\"f01\">-3.3</td>\n",
    "      <td id=\"f02\">-2.3</td>\n",
    "      <td id=\"f03\">0.7</td>\n",
    "      <td id=\"f04\">5.3</td>\n",
    "      <td id=\"f05\">9.7</td>\n",
    "      <td id=\"f06\">12.9</td>\n",
    "      <td id=\"f07\">15.8</td>\n",
    "      <td id=\"f08\">16.0</td>\n",
    "      <td id=\"f09\">11.8</td>\n",
    "      <td id=\"f10\">7.2</td>\n",
    "      <td id=\"f11\">2.5</td>\n",
    "      <td id=\"f12\">-0.8</td>\n",
    "      <td id=\"d_top3\">6.3</td>\n",
    "    </tr>\n",
    "    <tr>\n",
    "      <th>Ortalama Güneşlenme Süresi (saat)</th>\n",
    "      <td id=\"g01\">2.6</td>\n",
    "      <td id=\"g02\">3.8</td>\n",
    "      <td id=\"g03\">5.1</td>\n",
    "      <td id=\"g04\">6.6</td>\n",
    "      <td id=\"g05\">8.4</td>\n",
    "      <td id=\"g06\">10.1</td>\n",
    "      <td id=\"g07\">11.3</td>\n",
    "      <td id=\"g08\">10.8</td>\n",
    "      <td id=\"g09\">9.2</td>\n",
    "      <td id=\"g10\">6.7</td>\n",
    "      <td id=\"g11\">4.6</td>\n",
    "      <td id=\"g12\">2.6</td>\n",
    "      <td id=\"d_top4\">6.8</td>\n",
    "    </tr>\n",
    "    <tr>\n",
    "      <th>Ortalama Yağışlı Gün Sayısı</th>\n",
    "      <td id=\"h01\">14.7</td>\n",
    "      <td id=\"h02\">13.2</td>\n",
    "      <td id=\"h03\">14.3</td>\n",
    "      <td id=\"h04\">14.5</td>\n",
    "      <td id=\"h05\">16.1</td>\n",
    "      <td id=\"h06\">11.4</td>\n",
    "      <td id=\"h07\">5.6</td>\n",
    "      <td id=\"h08\">4.5</td>\n",
    "      <td id=\"h09\">5.6</td>\n",
    "      <td id=\"h10\">9.0</td>\n",
    "      <td id=\"h11\">10.6</td>\n",
    "      <td id=\"h12\">14.5</td>\n",
    "      <td id=\"d_top5\">134.0</td>\n",
    "    </tr>\n",
    "    <tr>\n",
    "      <th>\n",
    "                Aylık Toplam Yağış Miktarı Ortalaması<span style=\"font-size:.8em;\">\n",
    "                  (mm)\n",
    "                </span></th>\n",
    "      <td id=\"i01\">40.1</td>\n",
    "      <td id=\"i02\">35.4</td>\n",
    "      <td id=\"i03\">39.2</td>\n",
    "      <td id=\"i04\">42.4</td>\n",
    "      <td id=\"i05\">52.0</td>\n",
    "      <td id=\"i06\">35.3</td>\n",
    "      <td id=\"i07\">14.2</td>\n",
    "      <td id=\"i08\">12.5</td>\n",
    "      <td id=\"i09\">18.1</td>\n",
    "      <td id=\"i10\">27.9</td>\n",
    "      <td id=\"i11\">31.5</td>\n",
    "      <td id=\"i12\">44.6</td>\n",
    "      <td id=\"d_top6\">393.2</td>\n",
    "    </tr>\n",
    "    <tr>\n",
    "      <td style=\"border:none;\"> </td>\n",
    "      <th colspan=\"13\">\n",
    "                  Ölçüm Periyodu ( 1927 - 2020)\n",
    "                </th>\n",
    "    </tr>\n",
    "    <tr>\n",
    "      <th style=\"color:#dd4747;\">En Yüksek Sıcaklık (°C)</th>\n",
    "      <td id=\"j01\" title=\"02.01.1995\" style=\"color:#dd4747;\">16.6</td>\n",
    "      <td id=\"j02\" title=\"18.02.2016\" style=\"color:#dd4747;\">21.3</td>\n",
    "      <td id=\"j03\" title=\"31.03.1952\" style=\"color:#dd4747;\">27.8</td>\n",
    "      <td id=\"j04\" title=\"23.04.1928\" style=\"color:#dd4747;\">31.6</td>\n",
    "      <td id=\"j05\" title=\"31.05.1935\" style=\"color:#dd4747;\">34.4</td>\n",
    "      <td id=\"j06\" title=\"27.06.1996\" style=\"color:#dd4747;\">37.0</td>\n",
    "      <td id=\"j07\" title=\"27.07.2012\" style=\"color:#dd4747;\">41.0</td>\n",
    "      <td id=\"j08\" title=\"07.08.2010\" style=\"color:#dd4747;\">40.4</td>\n",
    "      <td id=\"j09\" title=\"03.09.2020\" style=\"color:#dd4747;\">39.1</td>\n",
    "      <td id=\"j10\" title=\"03.10.1952\" style=\"color:#dd4747;\">33.3</td>\n",
    "      <td id=\"j11\" title=\"01.11.1932\" style=\"color:#dd4747;\">24.7</td>\n",
    "      <td id=\"j12\" title=\"02.12.1956\" style=\"color:#dd4747;\">20.4</td>\n",
    "      <td style=\"color:#dd4747;\" id=\"d_top7\">41.0</td>\n",
    "    </tr>\n",
    "    <tr>\n",
    "      <th style=\"color:#437ec1;\">En Düşük Sıcaklık (°C)</th>\n",
    "      <td id=\"k01\" title=\"05.01.1942\" style=\"color:#437ec1;\">-24.9</td>\n",
    "      <td id=\"k02\" title=\"07.02.1932\" style=\"color:#437ec1;\">-24.2</td>\n",
    "      <td id=\"k03\" title=\"02.03.1985\" style=\"color:#437ec1;\">-19.2</td>\n",
    "      <td id=\"k04\" title=\"10.04.1929\" style=\"color:#437ec1;\">-7.2</td>\n",
    "      <td id=\"k05\" title=\"01.05.1981\" style=\"color:#437ec1;\">-1.6</td>\n",
    "      <td id=\"k06\" title=\"09.06.1958\" style=\"color:#437ec1;\">3.8</td>\n",
    "      <td id=\"k07\" title=\"11.07.1958\" style=\"color:#437ec1;\">4.5</td>\n",
    "      <td id=\"k08\" title=\"21.08.1949\" style=\"color:#437ec1;\">5.5</td>\n",
    "      <td id=\"k09\" title=\"29.09.1931\" style=\"color:#437ec1;\">-1.5</td>\n",
    "      <td id=\"k10\" title=\"30.10.1927\" style=\"color:#437ec1;\">-9.8</td>\n",
    "      <td id=\"k11\" title=\"29.11.1948\" style=\"color:#437ec1;\">-17.5</td>\n",
    "      <td id=\"k12\" title=\"31.12.1941\" style=\"color:#437ec1;\">-24.2</td>\n",
    "      <td style=\"color:#437ec1;\" id=\"d_top8\">-24.9</td>\n",
    "    </tr>\n",
    "  </tbody>\n",
    "  <tfoot>\n",
    "    <tr>\n",
    "      <td colspan=\"13\">\n",
    "        <i>En yüksek ve en düşük sıcaklıkların gerçekleşme tarihini görmek için fare imlecini değerlerin üstüne getiriniz.</i>\n",
    "      </td>\n",
    "    </tr>\n",
    "  </tfoot>\n",
    "</table>"
   ]
  },
  {
   "cell_type": "code",
   "execution_count": null,
   "id": "71927dfa-f8f9-4fce-8fef-5f44a29bfd41",
   "metadata": {},
   "outputs": [],
   "source": [
    "meteo_data2 <- readRDS(sprintf(\"%s/rds/08_01_meteo_data2.rds\", datapath))"
   ]
  },
  {
   "cell_type": "code",
   "execution_count": null,
   "id": "9d5122e1-c0d2-4351-85af-39458a6a8a7b",
   "metadata": {},
   "outputs": [],
   "source": [
    "meteo_data2 %>% str"
   ]
  },
  {
   "cell_type": "code",
   "execution_count": null,
   "id": "8723bbf1-d3e3-4a97-a27d-7f8e293c6ea0",
   "metadata": {},
   "outputs": [],
   "source": [
    "meteo_data2"
   ]
  },
  {
   "cell_type": "markdown",
   "id": "88620f3b-41c3-4d08-a4d2-3dc563b0b489",
   "metadata": {},
   "source": [
    "You are supposed to 1) wrangle the data to be suitable for model, 2) run a sample model and fine tune it\n",
    "\n",
    "Wrangling steps (We should have only one line per province and monthly data might be too noisy and with too many features. We can summarize the data across seasons):\n",
    "- Create a new column temp_diff for the difference between  av_high and av_low (you may use mutate)\n",
    "- Group the data across province, region and season\n",
    "- Summarise av_temp as the mean of av_temp, temp_diff as mean of temp_diff and total_rain as sum of rain_mm\n",
    "- You may need to pass na.rm = T argument to deal with missing values\n",
    "- If you use the dplyr pipes, you may need to ungroup the grouped tibble at the end\n",
    "- Your data should look as such:"
   ]
  },
  {
   "cell_type": "markdown",
   "id": "c6a30e35-4643-4a97-be41-2213eed8741b",
   "metadata": {},
   "source": [
    "<table class=\"dataframe\">\n",
    "<caption>A tibble: 324 × 6</caption>\n",
    "<thead>\n",
    "\t<tr><th scope=\"col\">province</th><th scope=\"col\">region</th><th scope=\"col\">season</th><th scope=\"col\">av_temp</th><th scope=\"col\">temp_diff</th><th scope=\"col\">total_rain</th></tr>\n",
    "\t<tr><th scope=\"col\">&lt;chr&gt;</th><th scope=\"col\">&lt;chr&gt;</th><th scope=\"col\">&lt;chr&gt;</th><th scope=\"col\">&lt;dbl&gt;</th><th scope=\"col\">&lt;dbl&gt;</th><th scope=\"col\">&lt;dbl&gt;</th></tr>\n",
    "</thead>\n",
    "<tbody>\n",
    "\t<tr><td>ADANA         </td><td>AKDENIZ  </td><td>autumn</td><td>16.266667</td><td>11.733333</td><td>241.0</td></tr>\n",
    "\t<tr><td>ADANA         </td><td>AKDENIZ  </td><td>spring</td><td>21.633333</td><td>12.066667</td><td>122.0</td></tr>\n",
    "\t<tr><td>ADANA         </td><td>AKDENIZ  </td><td>summer</td><td>27.666667</td><td>11.766667</td><td> 39.4</td></tr>\n",
    "\t<tr><td>ADANA         </td><td>AKDENIZ  </td><td>winter</td><td>11.133333</td><td>10.333333</td><td>265.7</td></tr>\n",
    "\t<tr><td>ADIYAMAN      </td><td>GUNEYDOGU</td><td>autumn</td><td>12.533333</td><td> 9.566667</td><td>261.1</td></tr>\n",
    "\t<tr><td>ADIYAMAN      </td><td>GUNEYDOGU</td><td>spring</td><td>20.733333</td><td>12.166667</td><td>117.8</td></tr>\n",
    "\t<tr><td>ADIYAMAN      </td><td>GUNEYDOGU</td><td>summer</td><td>29.200000</td><td>14.166667</td><td> 11.1</td></tr>\n",
    "\t<tr><td>ADIYAMAN      </td><td>GUNEYDOGU</td><td>winter</td><td> 6.800000</td><td> 8.200000</td><td>331.4</td></tr>\n",
    "\t<tr><td>AFYONKARAHISAR</td><td>EGE      </td><td>autumn</td><td> 7.266667</td><td>10.900000</td><td>115.5</td></tr>\n",
    "\t<tr><td>AFYONKARAHISAR</td><td>EGE      </td><td>spring</td><td>14.800000</td><td>13.266667</td><td>141.5</td></tr>\n",
    "\t<tr><td>⋮</td><td>⋮</td><td>⋮</td><td>⋮</td><td>⋮</td><td>⋮</td></tr>\n",
    "\t<tr><td>YALOVA   </td><td>MARMARA  </td><td>summer</td><td>22.3000000</td><td>10.133333</td><td>111.0</td></tr>\n",
    "\t<tr><td>YALOVA   </td><td>MARMARA  </td><td>winter</td><td> 7.2666667</td><td> 7.333333</td><td>236.3</td></tr>\n",
    "\t<tr><td>YOZGAT   </td><td>IC       </td><td>autumn</td><td> 5.4666667</td><td> 9.500000</td><td>163.4</td></tr>\n",
    "\t<tr><td>YOZGAT   </td><td>IC       </td><td>spring</td><td>12.7333333</td><td>11.466667</td><td>169.9</td></tr>\n",
    "\t<tr><td>YOZGAT   </td><td>IC       </td><td>summer</td><td>18.4000000</td><td>13.233333</td><td> 42.3</td></tr>\n",
    "\t<tr><td>YOZGAT   </td><td>IC       </td><td>winter</td><td> 0.2333333</td><td> 8.433333</td><td>194.7</td></tr>\n",
    "\t<tr><td>ZONGULDAK</td><td>KARADENIZ</td><td>autumn</td><td>11.8666667</td><td> 6.200000</td><td>437.1</td></tr>\n",
    "\t<tr><td>ZONGULDAK</td><td>KARADENIZ</td><td>spring</td><td>15.4000000</td><td> 6.866667</td><td>191.3</td></tr>\n",
    "\t<tr><td>ZONGULDAK</td><td>KARADENIZ</td><td>summer</td><td>20.9000000</td><td> 7.133333</td><td>255.3</td></tr>\n",
    "\t<tr><td>ZONGULDAK</td><td>KARADENIZ</td><td>winter</td><td> 6.6666667</td><td> 6.033333</td><td>332.4</td></tr>\n",
    "</tbody>\n",
    "</table>"
   ]
  },
  {
   "cell_type": "markdown",
   "id": "573dd177-cfac-440a-afc5-1a7ee80bbece",
   "metadata": {},
   "source": [
    "Now we should have a wider version that includes separate variables for each season:\n",
    "- Melt the data (into longer format) using province, region and season as identity variables. The identifier for the molten columns (variable.name) should be \"variables\" by default \n",
    "- Cast the data (into wider format) so that province and region define unique rows and season and variables columns will be spread into separate columns for each unique value combination). Make sure the output is a data.table\n",
    "- Convert the region column into a factor. It will be our target label\n",
    "\n",
    "The data should look as such:"
   ]
  },
  {
   "cell_type": "markdown",
   "id": "d3000bc5-c96e-48fb-a93a-1ddb32fdbec3",
   "metadata": {},
   "source": [
    "<table class=\"dataframe\">\n",
    "<caption>A data.table: 81 × 14</caption>\n",
    "<thead>\n",
    "\t<tr><th scope=\"col\">province</th><th scope=\"col\">region</th><th scope=\"col\">autumn_av_temp</th><th scope=\"col\">autumn_temp_diff</th><th scope=\"col\">autumn_total_rain</th><th scope=\"col\">spring_av_temp</th><th scope=\"col\">spring_temp_diff</th><th scope=\"col\">spring_total_rain</th><th scope=\"col\">summer_av_temp</th><th scope=\"col\">summer_temp_diff</th><th scope=\"col\">summer_total_rain</th><th scope=\"col\">winter_av_temp</th><th scope=\"col\">winter_temp_diff</th><th scope=\"col\">winter_total_rain</th></tr>\n",
    "\t<tr><th scope=\"col\">&lt;chr&gt;</th><th scope=\"col\">&lt;fct&gt;</th><th scope=\"col\">&lt;dbl&gt;</th><th scope=\"col\">&lt;dbl&gt;</th><th scope=\"col\">&lt;dbl&gt;</th><th scope=\"col\">&lt;dbl&gt;</th><th scope=\"col\">&lt;dbl&gt;</th><th scope=\"col\">&lt;dbl&gt;</th><th scope=\"col\">&lt;dbl&gt;</th><th scope=\"col\">&lt;dbl&gt;</th><th scope=\"col\">&lt;dbl&gt;</th><th scope=\"col\">&lt;dbl&gt;</th><th scope=\"col\">&lt;dbl&gt;</th><th scope=\"col\">&lt;dbl&gt;</th></tr>\n",
    "</thead>\n",
    "<tbody>\n",
    "\t<tr><td>ADANA         </td><td>AKDENIZ  </td><td>16.266667</td><td>11.733333</td><td>241.0</td><td>21.633333</td><td>12.06667</td><td>122.0</td><td>27.66667</td><td>11.766667</td><td> 39.4</td><td>11.133333</td><td>10.333333</td><td>265.7</td></tr>\n",
    "\t<tr><td>ADIYAMAN      </td><td>GUNEYDOGU</td><td>12.533333</td><td> 9.566667</td><td>261.1</td><td>20.733333</td><td>12.16667</td><td>117.8</td><td>29.20000</td><td>14.166667</td><td> 11.1</td><td> 6.800000</td><td> 8.200000</td><td>331.4</td></tr>\n",
    "\t<tr><td>AFYONKARAHISAR</td><td>EGE      </td><td> 7.266667</td><td>10.900000</td><td>115.5</td><td>14.800000</td><td>13.26667</td><td>141.5</td><td>20.66667</td><td>15.733333</td><td> 57.0</td><td> 2.466667</td><td> 9.233333</td><td>129.3</td></tr>\n",
    "\t<tr><td>AGRI          </td><td>DOGU     </td><td> 1.466667</td><td>11.933333</td><td>143.9</td><td>11.466667</td><td>13.46667</td><td>185.1</td><td>19.53333</td><td>18.000000</td><td> 52.8</td><td>-7.633333</td><td>10.366667</td><td>143.1</td></tr>\n",
    "\t<tr><td>AKSARAY       </td><td>IC       </td><td> 7.666667</td><td>11.700000</td><td>102.4</td><td>15.966667</td><td>13.30000</td><td>120.1</td><td>21.80000</td><td>14.900000</td><td> 24.3</td><td> 2.966667</td><td>10.000000</td><td>115.5</td></tr>\n",
    "\t<tr><td>AMASYA        </td><td>KARADENIZ</td><td> 9.200000</td><td>10.500000</td><td>133.1</td><td>17.400000</td><td>13.76667</td><td>146.7</td><td>22.53333</td><td>14.666667</td><td> 46.4</td><td> 5.100000</td><td> 9.533333</td><td>134.6</td></tr>\n",
    "\t<tr><td>ANKARA        </td><td>IC       </td><td> 7.633333</td><td>10.200000</td><td>104.0</td><td>15.733333</td><td>12.86667</td><td>129.7</td><td>21.90000</td><td>14.400000</td><td> 44.8</td><td> 2.533333</td><td> 9.033333</td><td>114.7</td></tr>\n",
    "\t<tr><td>ANTALYA       </td><td>AKDENIZ  </td><td>15.866667</td><td>10.300000</td><td>462.4</td><td>20.766667</td><td>10.56667</td><td> 92.8</td><td>27.36667</td><td>11.533333</td><td> 25.9</td><td>11.200000</td><td> 9.333333</td><td>480.6</td></tr>\n",
    "\t<tr><td>ARDAHAN       </td><td>DOGU     </td><td>-0.600000</td><td>12.366667</td><td> 88.0</td><td> 8.766667</td><td>13.13333</td><td>227.6</td><td>14.60000</td><td>15.866667</td><td>168.4</td><td>-8.300000</td><td>12.000000</td><td> 71.6</td></tr>\n",
    "\t<tr><td>ARTVIN        </td><td>KARADENIZ</td><td> 9.200000</td><td> 7.766667</td><td>222.0</td><td>15.566667</td><td>10.40000</td><td>155.5</td><td>20.10000</td><td> 9.233333</td><td> 97.7</td><td> 4.466667</td><td> 7.966667</td><td>214.6</td></tr>\n",
    "\t<tr><td>⋮</td><td>⋮</td><td>⋮</td><td>⋮</td><td>⋮</td><td>⋮</td><td>⋮</td><td>⋮</td><td>⋮</td><td>⋮</td><td>⋮</td><td>⋮</td><td>⋮</td><td>⋮</td></tr>\n",
    "\t<tr><td>SIVAS    </td><td>IC       </td><td> 4.966667</td><td>11.166667</td><td>117.4</td><td>13.13333</td><td>13.233333</td><td>152.0</td><td>18.80000</td><td>16.466667</td><td> 34.0</td><td>-0.9666667</td><td>9.000000</td><td>127.9</td></tr>\n",
    "\t<tr><td>TEKIRDAG </td><td>MARMARA  </td><td>11.333333</td><td> 6.733333</td><td>216.1</td><td>16.50000</td><td> 8.033333</td><td>116.8</td><td>22.56667</td><td> 8.766667</td><td> 73.4</td><td> 5.8333333</td><td>6.566667</td><td>176.8</td></tr>\n",
    "\t<tr><td>TOKAT    </td><td>KARADENIZ</td><td> 8.466667</td><td>10.133333</td><td>123.1</td><td>16.13333</td><td>13.200000</td><td>152.8</td><td>21.03333</td><td>13.966667</td><td> 39.5</td><td> 4.2666667</td><td>9.200000</td><td>119.8</td></tr>\n",
    "\t<tr><td>TRABZON  </td><td>KARADENIZ</td><td>13.100000</td><td> 6.400000</td><td>299.1</td><td>15.93333</td><td> 6.433333</td><td>161.7</td><td>22.26667</td><td> 6.233333</td><td>162.5</td><td> 7.7000000</td><td>6.366667</td><td>206.7</td></tr>\n",
    "\t<tr><td>TUNCELI  </td><td>DOGU     </td><td> 7.466667</td><td>11.400000</td><td>301.0</td><td>16.96667</td><td>13.766667</td><td>197.4</td><td>25.13333</td><td>16.766667</td><td> 26.4</td><td> 1.1333333</td><td>9.300000</td><td>351.9</td></tr>\n",
    "\t<tr><td>USAK     </td><td>EGE      </td><td> 8.733333</td><td>10.266667</td><td>185.7</td><td>15.46667</td><td>12.700000</td><td>126.1</td><td>21.96667</td><td>14.700000</td><td> 47.7</td><td> 3.9333333</td><td>9.133333</td><td>198.1</td></tr>\n",
    "\t<tr><td>VAN      </td><td>DOGU     </td><td> 5.266667</td><td>10.266667</td><td>131.8</td><td>13.00000</td><td>11.600000</td><td>120.0</td><td>20.76667</td><td>13.733333</td><td> 27.9</td><td>-1.3333333</td><td>9.500000</td><td>116.6</td></tr>\n",
    "\t<tr><td>YALOVA   </td><td>MARMARA  </td><td>12.266667</td><td> 7.833333</td><td>277.7</td><td>16.70000</td><td> 9.400000</td><td>130.6</td><td>22.30000</td><td>10.133333</td><td>111.0</td><td> 7.2666667</td><td>7.333333</td><td>236.3</td></tr>\n",
    "\t<tr><td>YOZGAT   </td><td>IC       </td><td> 5.466667</td><td> 9.500000</td><td>163.4</td><td>12.73333</td><td>11.466667</td><td>169.9</td><td>18.40000</td><td>13.233333</td><td> 42.3</td><td> 0.2333333</td><td>8.433333</td><td>194.7</td></tr>\n",
    "\t<tr><td>ZONGULDAK</td><td>KARADENIZ</td><td>11.866667</td><td> 6.200000</td><td>437.1</td><td>15.40000</td><td> 6.866667</td><td>191.3</td><td>20.90000</td><td> 7.133333</td><td>255.3</td><td> 6.6666667</td><td>6.033333</td><td>332.4</td></tr>\n",
    "</tbody>\n",
    "</table>"
   ]
  },
  {
   "cell_type": "markdown",
   "id": "91938f1e-437d-4cf2-9d75-71534bcea30d",
   "metadata": {},
   "source": [
    "Now for the model:"
   ]
  },
  {
   "cell_type": "markdown",
   "id": "3f13ca7a-1554-40ef-b1b6-a0893c9a2740",
   "metadata": {},
   "source": [
    "- Normalize all but the first two columns using BBmisc::normalize function and z-score standardization method\n",
    "- Set an arbitrary seed and split the data into train and test partitions. You may use 0.6-0.8 of the data as the train set. The train and test partitions should not include the province or region columns in order to work well with the knn function.\n",
    "- Create class (region) vectors for the train and test sets\n",
    "- Using class::knn function run a knn model to predict the classes for the test set\n",
    "- Create a crosstable showing the actual and predicted classes. The output of gmodels::CrossTable() is a list and \\$t part of this output is a matrix. The terms on the diagonal are correct classifications. The ratio of the sum of correct classifications to the total number of cases in the test set is the accuracy of your model. Alternatively you can count the times that the predicted test classes vector and the actual test classes vector have the same values and divide by the total test cases for the accuracy.\n",
    "- Fine tune the model so that the accuracy is at least 0.72. You can change the k parameter and you can select the features to be included in the model. Most useful features vary less within classes and vary more between classes. A visual inspection of the table can give some idea on which features to include. But you can calculate and use an automated measure to sort the features in terms of their variability across regions (and their similarity within the regions). Hints: sd, ANOVA\n",
    "- If you cannot reach 0.72, report the model with the maximum accuracy. You can create a simulation function similar to the one we used in the knn example. The function can only yield the k value and the accuracy measure and then it can report the k with the maximum accuracy.\n",
    "- Note that misclassified provinces are usually the ones that lay halfway between two regions, and tied votes are handled randomly so subsequent runs of the models may yield slightly different results."
   ]
  },
  {
   "cell_type": "markdown",
   "id": "7e68157d-8014-4213-ae99-2b0f95407a88",
   "metadata": {},
   "source": [
    "# Answer"
   ]
  },
  {
   "cell_type": "code",
   "execution_count": null,
   "id": "e6535af2-75dc-425d-bd28-2d7f5be3c1c9",
   "metadata": {},
   "outputs": [],
   "source": [
    "meteo_data3 <- meteo_data2 %>% mutate(temp_diff = av_high - av_low) %>%\n",
    "group_by(province, region, season) %>%\n",
    "summarise(av_temp = mean(av_temp, na.rm = T),\n",
    "         temp_diff = mean(temp_diff, na.rm = T),\n",
    "         total_rain = sum(rain_mm, na.rm = T)) %>%\n",
    "ungroup"
   ]
  },
  {
   "cell_type": "code",
   "execution_count": null,
   "id": "476fcfb1-5c73-4e1d-9c9a-883f716b5dc8",
   "metadata": {},
   "outputs": [],
   "source": [
    "meteo_data4 <- meteo_data3 %>% melt(id_vars = c(\"province\", \"region\", \"season\"),\n",
    "                    variable.name = \"variables\") %>%\n",
    "dcast(province + region ~ season + variables) %>% as.data.table"
   ]
  },
  {
   "cell_type": "code",
   "execution_count": null,
   "id": "ebbed037-58b0-4425-bff7-749c927fae9c",
   "metadata": {},
   "outputs": [],
   "source": [
    "meteo_data4[!complete.cases(meteo_data4)]"
   ]
  },
  {
   "cell_type": "code",
   "execution_count": null,
   "id": "ca020436-c638-418d-a67a-5950fb75dc07",
   "metadata": {},
   "outputs": [],
   "source": [
    "meteo_data4[, region := as.factor(region)]"
   ]
  },
  {
   "cell_type": "code",
   "execution_count": null,
   "id": "09c2e8b6-7701-453d-94e8-8020ec899fae",
   "metadata": {},
   "outputs": [],
   "source": [
    "meteo_data4"
   ]
  },
  {
   "cell_type": "code",
   "execution_count": null,
   "id": "16fe6703-15ee-49d0-9cca-06a57954f70f",
   "metadata": {},
   "outputs": [],
   "source": [
    "meteo_data_n <- meteo_data4[,BBmisc::normalize(.SD), .SDcols = -(1:2)]\n",
    "meteo_data_n"
   ]
  },
  {
   "cell_type": "markdown",
   "id": "f143f15b-79f4-46c7-a764-d5647727575f",
   "metadata": {},
   "source": [
    "Now let's check whether the variables are really normalized:"
   ]
  },
  {
   "cell_type": "markdown",
   "id": "20f7da53-e878-4004-9c26-a222bec49720",
   "metadata": {},
   "source": [
    "## Split data into train and test sets"
   ]
  },
  {
   "cell_type": "code",
   "execution_count": null,
   "id": "76295f41-ac0a-4ec2-8321-a157f4481fb6",
   "metadata": {},
   "outputs": [],
   "source": [
    "set.seed(1000)\n",
    "inds <- meteo_data_n[,sample(.N, .N * 0.7)]"
   ]
  },
  {
   "cell_type": "code",
   "execution_count": null,
   "id": "d03a4c4b-6a7e-4068-82f0-c8305186e536",
   "metadata": {},
   "outputs": [],
   "source": [
    "meteo_train <- meteo_data_n[inds]\n",
    "meteo_test <- meteo_data_n[-inds]"
   ]
  },
  {
   "cell_type": "code",
   "execution_count": null,
   "id": "016b774e-7a54-4c4d-a4dc-2abdc6fe8382",
   "metadata": {},
   "outputs": [],
   "source": [
    "meteo_train_labels <- meteo_data4[inds, region]\n",
    "meteo_test_labels <- meteo_data4[-inds, region]"
   ]
  },
  {
   "cell_type": "code",
   "execution_count": null,
   "id": "014303d1-2468-4225-b823-51c75e18c404",
   "metadata": {},
   "outputs": [],
   "source": [
    "meteo_test_pred <- class::knn(train = meteo_train,\n",
    "                            test = meteo_test,\n",
    "                            cl = meteo_train_labels,\n",
    "                            k = 4)"
   ]
  },
  {
   "cell_type": "code",
   "execution_count": null,
   "id": "60342162-ba1b-459e-81f8-89ec0d8546ea",
   "metadata": {},
   "outputs": [],
   "source": [
    "ct1 <- gmodels::CrossTable(x = meteo_test_labels,\n",
    "                   y = meteo_test_pred,\n",
    "                   prop.chisq = F)\n",
    "ct1"
   ]
  },
  {
   "cell_type": "code",
   "execution_count": null,
   "id": "21bb95cb-8284-45ee-b744-4b3c068aba26",
   "metadata": {},
   "outputs": [],
   "source": [
    "ct1$t"
   ]
  },
  {
   "cell_type": "code",
   "execution_count": null,
   "id": "aafc2efc-0ca3-445d-9378-efbcedd14b98",
   "metadata": {},
   "outputs": [],
   "source": [
    "vars <- meteo_data4[, lapply(.SD,\n",
    "                     function(x) summary(aov(x ~ region))[[1]]$`Pr(>F)`[1]),\n",
    "                     .SDcols = -c(\"province\", \"region\")] %>%\n",
    "                     unlist %>% sort %>% \"[\"(1:3) %>% names"
   ]
  },
  {
   "cell_type": "code",
   "execution_count": null,
   "id": "1dacc47f-1ba8-4231-9f7e-724ab96eeafe",
   "metadata": {},
   "outputs": [],
   "source": [
    "preds_l <- lapply(1:(nrow(meteo_train) - 1),\n",
    "                  function(x) class::knn(train = meteo_train %>% select(all_of(vars)),\n",
    "                            test = meteo_test %>% select(all_of(vars)),\n",
    "                            cl = meteo_train_labels,\n",
    "                            k = x)\n",
    "                  )\n",
    "\n",
    "correct <- mapply(function(x, y) sum(x == y)/length(x), preds_l, list(meteo_test_labels))\n",
    "k_star <- which.max(correct)\n",
    "k_star\n",
    "correct[k_star]"
   ]
  },
  {
   "cell_type": "code",
   "execution_count": null,
   "id": "618ecc9e-9933-44a8-a7d7-cb19a91d53a6",
   "metadata": {},
   "outputs": [],
   "source": [
    "vars"
   ]
  },
  {
   "cell_type": "code",
   "execution_count": null,
   "id": "4f879a32-c5c6-4cef-906a-cdde44b54dae",
   "metadata": {},
   "outputs": [],
   "source": []
  }
 ],
 "metadata": {
  "kernelspec": {
   "display_name": "R",
   "language": "R",
   "name": "ir"
  },
  "language_info": {
   "codemirror_mode": "r",
   "file_extension": ".r",
   "mimetype": "text/x-r-source",
   "name": "R",
   "pygments_lexer": "r",
   "version": "4.1.0"
  }
 },
 "nbformat": 4,
 "nbformat_minor": 5
}
