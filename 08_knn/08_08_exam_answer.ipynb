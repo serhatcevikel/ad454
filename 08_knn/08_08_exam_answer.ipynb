{
 "cells": [
  {
   "cell_type": "markdown",
   "id": "d0721d82-7863-4a5f-ba85-ecfdc81bd0cf",
   "metadata": {},
   "source": [
    "# Personal Loan Acceptance"
   ]
  },
  {
   "cell_type": "markdown",
   "id": "f7be2cae-bb79-4da8-9495-b53852a07768",
   "metadata": {},
   "source": [
    "University Bank is a relatively young bank growing rapidly in terms of overall customer acquisition. Most customers are liability customers (depositors) with varying sizes of relationships with the bank. The customer base of asset customers (borrowers) is quite small, and the bank is interested in expanding this base rapidly to bring in more loan business. In particular, it wants to explore ways of converting its liability customers to personal loan customers (while retaining them as depositors)."
   ]
  },
  {
   "cell_type": "markdown",
   "id": "b565dec4-7921-49b8-bb99-62c030c8ad6d",
   "metadata": {},
   "source": [
    "A campaign that the bank ran last year for liability customers showed a healthy conversion rate of over 9% success. This has encouraged the retail marketing department to devise smarter campaigns with better target marketing. The goal is to use k-NN to predict whether a new customer will accept a loan offer. This will serve as the basis for the design of a new campaign."
   ]
  },
  {
   "cell_type": "markdown",
   "id": "4c6a9b18-df1b-4924-a919-0639a87d55fd",
   "metadata": {},
   "source": [
    "The file contains data on 5000 customers. The data include customer demographic information (age, income, etc.), the customer’s relationship with the bank (mortgage, securities account, etc.), and the customer response to the last personal loan campaign (Personal Loan). Among these 5000 customers, only 480 (= 9.6%) accepted the personal loan that was offered to them in the earlier campaign. “Personal Loan” column holds the class information (customer response)."
   ]
  },
  {
   "cell_type": "markdown",
   "id": "74e5d5f4-c3bf-4d07-a5e1-a91ce35c8a72",
   "metadata": {},
   "source": [
    "Partition the data into training (60%) and validation (40%) sets.\n",
    "\n",
    "a. Consider the following customer:\n",
    "Age = 40, Experience = 10, Income = 84, Family = 2, CCAvg = 2, Education_1 = 0, Education_2 = 1, Education_3 = 0, Mortgage = 0, Securities Account = 0, CD Account = 0, Online = 1, and Credit Card = 1.\n",
    "\n",
    "Note that we do not know the actual class of this customer. Append this record to the validation set using add_row() function from dplyr (you may check the documentation via ?add_row). It is better that you keep the original validation set for step b and do your transformation (appending) on a copy and assign it to a new object for use in step d.\n",
    "\n",
    "Perform a 1-NN classification with all predictors except ID and ZIP code. How would this customer be classified?\n",
    "\n",
    "Remember to transform categorical predictors with more than two categories into dummy variables first. You may use the base function model.matrix or fastDummies package (https://jacobkap.github.io/fastDummies/). If the factor has n categories, n - 1 dummies should be created (dummy for an arbitrary reference level is redundant).\n",
    "\n",
    "You should also normalize all features according to the 0-1 range method. Do not forget to include the dummies (already normalized) into the final normalized dataset.\n",
    "\n",
    "Specify the success class as 1 (loan acceptance).\n",
    "\n",
    "b.  Using the original validation set (without the new record in a) ), what is the best choice of k according to the accuracy measure (TP + TN / TP + TN + FP + FN)? Call this k*.\n",
    "\n",
    "c.  Show the confusion matrix for the validation data you used in step b that results from using k*.\n",
    "\n",
    "d.  Now classify the new record you added in step a using the k* you found in step b. Did the fitted class change between k = 1 and k = k*?"
   ]
  },
  {
   "cell_type": "markdown",
   "id": "600e1118-f898-45d1-8723-87a1149e7985",
   "metadata": {},
   "source": [
    "# Answer"
   ]
  },
  {
   "cell_type": "code",
   "execution_count": null,
   "id": "eb8da4bb-640e-4fd2-a145-c704cb64f58b",
   "metadata": {},
   "outputs": [],
   "source": [
    "library(data.table) # to handle the data in a more convenient manner\n",
    "library(tidyverse) # for a better work flow and more tools to wrangle and visualize the data\n",
    "library(BBmisc) # for easy normalization of data\n",
    "library(class) # for kNN classification algorithm \n",
    "library(fastDummies) # for dummies\n",
    "options(warn=-1) # for suppressing messages"
   ]
  },
  {
   "cell_type": "code",
   "execution_count": null,
   "id": "9bc93295-ab65-4972-a234-41d1cb375e06",
   "metadata": {},
   "outputs": [],
   "source": [
    "options(repr.matrix.max.rows=20, repr.matrix.max.cols=15) # for limiting the number of top and bottom rows of tables printed "
   ]
  },
  {
   "cell_type": "code",
   "execution_count": null,
   "id": "940e88f9-a4ee-4a05-bbf7-ee87d7280fd9",
   "metadata": {},
   "outputs": [],
   "source": [
    "datapath <- \"~/data_ad454\""
   ]
  },
  {
   "cell_type": "code",
   "execution_count": null,
   "id": "d0e78f7b-6aad-4c68-9af1-beea8a488a73",
   "metadata": {},
   "outputs": [],
   "source": [
    "mybank <- fread(sprintf(\"%s/csv/08_01_MyBank.csv\", datapath))"
   ]
  },
  {
   "cell_type": "code",
   "execution_count": null,
   "id": "bc1b17bd-6e31-4d74-bbb4-665c1ac73749",
   "metadata": {},
   "outputs": [],
   "source": [
    "mybank %>% str"
   ]
  },
  {
   "cell_type": "code",
   "execution_count": null,
   "id": "fe1e23a5-2558-4368-812a-f3f8875e99f3",
   "metadata": {},
   "outputs": [],
   "source": [
    "# add the new record\n",
    "mybank2 <- mybank %>%\n",
    "add_row(ID = 5001,\n",
    "       Age = 40,\n",
    "       Experience = 10,\n",
    "       Income = 84,\n",
    "       Family = 2,\n",
    "       CCAvg = 2,\n",
    "       Education = 2,\n",
    "       Mortgage = 0,\n",
    "       Securities_Account = 0,\n",
    "       CD_Account = 0,\n",
    "       Online = 1,\n",
    "       CreditCard = 1)"
   ]
  },
  {
   "cell_type": "code",
   "execution_count": null,
   "id": "9bf2940a-e79a-4363-b74c-904a400b6810",
   "metadata": {},
   "outputs": [],
   "source": [
    "# delete unnecessary features\n",
    "mybank2[, c(\"ID\", \"ZIP_Code\") := NULL]"
   ]
  },
  {
   "cell_type": "code",
   "execution_count": null,
   "id": "3172aaf5-227b-4b9d-982f-8fac6f96ae90",
   "metadata": {},
   "outputs": [],
   "source": [
    "# make education a factor\n",
    "mybank2[, Education := as.factor(Education)]"
   ]
  },
  {
   "cell_type": "code",
   "execution_count": null,
   "id": "72c12324-71f7-4092-b999-9b9d5f112c8a",
   "metadata": {},
   "outputs": [],
   "source": [
    "mybank3 <- copy(mybank2)"
   ]
  },
  {
   "cell_type": "code",
   "execution_count": null,
   "id": "84c48bf3-0d4b-47df-a8ca-c83b46a36acb",
   "metadata": {},
   "outputs": [],
   "source": [
    "# normalize numeric features\n",
    "# make education a dummy\n",
    "mybank4 <- mybank3 %>%\n",
    "mutate_at(c(\"Age\", \"Experience\", \"Income\",\n",
    "               \"Family\", \"CCAvg\", \"Mortgage\"), BBmisc::normalize, \"range\") %>%\n",
    "fastDummies::dummy_cols(\"Education\", remove_first_dummy = T,\n",
    "                       remove_selected_columns = T)"
   ]
  },
  {
   "cell_type": "code",
   "execution_count": null,
   "id": "db77a152-0cbe-400c-a804-f151e6e34e91",
   "metadata": {},
   "outputs": [],
   "source": [
    "mybank4 %>% str"
   ]
  },
  {
   "cell_type": "code",
   "execution_count": null,
   "id": "c5f82748-2f0b-4be8-aa9a-41b44c614676",
   "metadata": {},
   "outputs": [],
   "source": [
    "# generate row ids for train, ensure that the new 5001th row is not in the train set\n",
    "set.seed(100)\n",
    "trainids <- mybank4[, sample((.N-1), (.N-1)*0.6)]"
   ]
  },
  {
   "cell_type": "code",
   "execution_count": null,
   "id": "20ae24ff-f3c0-470c-b6ce-9feebba457df",
   "metadata": {},
   "outputs": [],
   "source": [
    "mybank_train <- mybank4[trainids] %>% select(-Personal_Loan)"
   ]
  },
  {
   "cell_type": "markdown",
   "id": "7acac871-f448-4bf0-a5c9-bfd03b1315d5",
   "metadata": {},
   "source": [
    "a) Get the class for new row when k = 1"
   ]
  },
  {
   "cell_type": "code",
   "execution_count": null,
   "id": "04ba43c8-dca0-49e2-ba1c-0fda4a3c6f76",
   "metadata": {},
   "outputs": [],
   "source": [
    "# the first test set is just the new row\n",
    "mybank_test1 <- mybank4[.N] %>% select(-Personal_Loan)"
   ]
  },
  {
   "cell_type": "code",
   "execution_count": null,
   "id": "f1ac78b8-cfe8-435d-bd1b-36be3e98b395",
   "metadata": {},
   "outputs": [],
   "source": [
    "mybank_train_labels <- mybank4[trainids, Personal_Loan]"
   ]
  },
  {
   "cell_type": "code",
   "execution_count": null,
   "id": "89e6af53-dd56-4259-91a7-26778c78db26",
   "metadata": {},
   "outputs": [],
   "source": [
    "mybank_test_pred1 <- class::knn(train = mybank_train,\n",
    "                            test = mybank_test1,\n",
    "                            cl = mybank_train_labels,\n",
    "                            k = 1)"
   ]
  },
  {
   "cell_type": "code",
   "execution_count": null,
   "id": "2909cb31-7b70-4953-ba56-34c7e1b81aca",
   "metadata": {},
   "outputs": [],
   "source": [
    "mybank_test_pred1"
   ]
  },
  {
   "cell_type": "markdown",
   "id": "0318e4f5-cde0-4892-85c3-c7438ffde3b2",
   "metadata": {},
   "source": [
    "b) Get the best k"
   ]
  },
  {
   "cell_type": "code",
   "execution_count": null,
   "id": "d2b7f6bc-2927-47ed-9c0f-f857163bde15",
   "metadata": {},
   "outputs": [],
   "source": [
    "mybank_test2 <- mybank4[-.N][-trainids] %>% select(-Personal_Loan)"
   ]
  },
  {
   "cell_type": "code",
   "execution_count": null,
   "id": "e818576e-f31c-49c8-b221-9ab43c4fbe3c",
   "metadata": {},
   "outputs": [],
   "source": [
    "mybank_test_labels <- mybank4[-.N][-trainids, Personal_Loan]"
   ]
  },
  {
   "cell_type": "code",
   "execution_count": null,
   "id": "0156d993-251c-4799-869c-f94f1a8e73a2",
   "metadata": {},
   "outputs": [],
   "source": [
    "# get classes into a list for all k's in 1:100\n",
    "classes_l <- lapply(1:100, function(x) class::knn(train = mybank_train,\n",
    "                            test = mybank_test2,\n",
    "                            cl = mybank_train_labels,\n",
    "                            k = x))"
   ]
  },
  {
   "cell_type": "code",
   "execution_count": null,
   "id": "88237261-fbda-4205-a192-bae05d406577",
   "metadata": {},
   "outputs": [],
   "source": [
    "# get the accuracies for all k's\n",
    "accuracies <- sapply(classes_l, function(x) sum(x == mybank_test_labels)/length(x))"
   ]
  },
  {
   "cell_type": "code",
   "execution_count": null,
   "id": "740b95c9-6052-4507-9133-d86322e0102e",
   "metadata": {},
   "outputs": [],
   "source": [
    "plot(accuracies, type = \"l\")"
   ]
  },
  {
   "cell_type": "code",
   "execution_count": null,
   "id": "331b3327-f5f5-4b34-8ebb-db18931edbd5",
   "metadata": {},
   "outputs": [],
   "source": [
    "# get the best k\n",
    "k_star <- which.max(accuracies)\n",
    "k_star"
   ]
  },
  {
   "cell_type": "markdown",
   "id": "1bda9808-a34e-4b4e-aab3-997c524db8bd",
   "metadata": {},
   "source": [
    "d) Get the class of new row with k_star"
   ]
  },
  {
   "cell_type": "code",
   "execution_count": null,
   "id": "5582535a-8570-4368-9d1c-3e0efcda5513",
   "metadata": {},
   "outputs": [],
   "source": [
    "mybank_test_pred2 <- class::knn(train = mybank_train,\n",
    "                            test = mybank_test1,\n",
    "                            cl = mybank_train_labels,\n",
    "                            k = k_star)"
   ]
  },
  {
   "cell_type": "code",
   "execution_count": null,
   "id": "f9e3034e-962e-470f-8551-2cfcda3358e1",
   "metadata": {},
   "outputs": [],
   "source": [
    "mybank_test_pred2"
   ]
  },
  {
   "cell_type": "markdown",
   "id": "8662df9d-a794-4ae0-9abc-dbbee0271f17",
   "metadata": {},
   "source": [
    "Since k is the same, label is the same (in some seeds, the k_star might be 3)"
   ]
  },
  {
   "cell_type": "code",
   "execution_count": null,
   "id": "785894aa-f3fc-4b5b-bc68-dd9cbeb8670e",
   "metadata": {},
   "outputs": [],
   "source": []
  }
 ],
 "metadata": {
  "kernelspec": {
   "display_name": "R",
   "language": "R",
   "name": "ir"
  },
  "language_info": {
   "codemirror_mode": "r",
   "file_extension": ".r",
   "mimetype": "text/x-r-source",
   "name": "R",
   "pygments_lexer": "r",
   "version": "4.1.0"
  }
 },
 "nbformat": 4,
 "nbformat_minor": 5
}
