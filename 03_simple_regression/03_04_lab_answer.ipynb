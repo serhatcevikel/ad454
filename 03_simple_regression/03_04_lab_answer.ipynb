{
 "cells": [
  {
   "cell_type": "code",
   "execution_count": null,
   "id": "behind-ratio",
   "metadata": {},
   "outputs": [],
   "source": [
    "library(tidyverse)\n",
    "library(data.table)\n",
    "library(plotly) # for interactive ploting\n",
    "library(DT) # for interactive tabulation\n",
    "library(broom) # for tidy statistical summaries\n",
    "library(caret) # for regression performance measures"
   ]
  },
  {
   "cell_type": "code",
   "execution_count": null,
   "id": "elementary-music",
   "metadata": {},
   "outputs": [],
   "source": [
    "options(repr.matrix.max.rows=20, repr.matrix.max.cols=15) # for limiting the number of top and bottom rows of tables printed "
   ]
  },
  {
   "cell_type": "code",
   "execution_count": null,
   "id": "practical-legislature",
   "metadata": {},
   "outputs": [],
   "source": [
    "datapath <- \"~/data_ad454\""
   ]
  },
  {
   "cell_type": "markdown",
   "id": "institutional-meter",
   "metadata": {},
   "source": [
    "# Simple Linear Regression"
   ]
  },
  {
   "cell_type": "markdown",
   "id": "acceptable-liberal",
   "metadata": {},
   "source": [
    "Let's first import the realty dataset:"
   ]
  },
  {
   "cell_type": "code",
   "execution_count": null,
   "id": "broad-prophet",
   "metadata": {},
   "outputs": [],
   "source": [
    "realty_data <- readRDS(sprintf(\"%s/rds/02_01_realty_data.rds\", datapath))"
   ]
  },
  {
   "cell_type": "code",
   "execution_count": null,
   "id": "prospective-stations",
   "metadata": {},
   "outputs": [],
   "source": [
    "realty_data"
   ]
  },
  {
   "cell_type": "markdown",
   "id": "subsequent-polyester",
   "metadata": {},
   "source": [
    "See which variables are of factor type and what the levels of each are:"
   ]
  },
  {
   "cell_type": "code",
   "execution_count": null,
   "id": "political-scale",
   "metadata": {},
   "outputs": [],
   "source": [
    "realty_data %>% keep(is.factor) %>% lapply(levels)"
   ]
  },
  {
   "cell_type": "markdown",
   "id": "empty-mills",
   "metadata": {},
   "source": [
    "And the frequencies of those levels:"
   ]
  },
  {
   "cell_type": "code",
   "execution_count": null,
   "id": "grateful-tenant",
   "metadata": {},
   "outputs": [],
   "source": [
    "realty_data %>% keep(is.factor) %>% summary"
   ]
  },
  {
   "cell_type": "markdown",
   "id": "exclusive-vegetarian",
   "metadata": {},
   "source": [
    "Let's see the numeric variables:"
   ]
  },
  {
   "cell_type": "code",
   "execution_count": null,
   "id": "enormous-village",
   "metadata": {},
   "outputs": [],
   "source": [
    "realty_data %>% keep(is.numeric) %>% names"
   ]
  },
  {
   "cell_type": "markdown",
   "id": "polar-remains",
   "metadata": {},
   "source": [
    "And statistical summaries of numeric columns:"
   ]
  },
  {
   "cell_type": "code",
   "execution_count": null,
   "id": "useful-lambda",
   "metadata": {},
   "outputs": [],
   "source": [
    "realty_data %>% keep(is.numeric) %>% summary()"
   ]
  },
  {
   "cell_type": "markdown",
   "id": "international-medium",
   "metadata": {},
   "source": [
    "And statistical summaries of numeric columns in a better format:"
   ]
  },
  {
   "cell_type": "code",
   "execution_count": null,
   "id": "indirect-coordination",
   "metadata": {},
   "outputs": [],
   "source": [
    "realty_data %>% keep(is.numeric) %>% broom::tidy() %>% mutate_if(is.numeric, round, 2) %>%\n",
    "select(column, n, mean, sd, median, min, max)"
   ]
  },
  {
   "cell_type": "markdown",
   "id": "serial-parks",
   "metadata": {},
   "source": [
    "Please follow the steps:\n",
    "\n",
    "- Filter the data for properties with a single bathroom (banyo_sayisi) and a single living room (salon)\n",
    "- Select gross size (brut_metrekare) and room count (oda) features, exclude rows with NA values\n",
    "- Trim the top and bottom 5% brut_metrekare values\n",
    "- Plot the relationship between gross size (brut_metrekare) and room count (oda) with a best fit line \n",
    "- Set an arbitrary seed for reproducibility with set.seed(xxx) (so that your typed interpretations and the printed results are conformable) and partition the data into 0.7 train and 0.3 test sets randomly\n",
    "- Create a linear model where gross size is the dependent and the room count is the independent variable\n",
    "- Interpret the model summary. What does the intercept and coefficient tell? How significant are they? How much does the model explain the dependent variable?\n",
    "- Calculate the predicted values for the train and test sets\n",
    "- Plot predicted vs actual values for train and test sets with diagonal lines\n",
    "- Calculate and compare RMSE and R2 values using predicted and actual values for train and test sets. Interpret the results"
   ]
  },
  {
   "cell_type": "markdown",
   "id": "constant-carry",
   "metadata": {},
   "source": [
    "## Answer"
   ]
  },
  {
   "cell_type": "code",
   "execution_count": null,
   "id": "verbal-accent",
   "metadata": {},
   "outputs": [],
   "source": [
    "features <- c(\"oda\", \"brut_metrekare\")"
   ]
  },
  {
   "cell_type": "code",
   "execution_count": null,
   "id": "reasonable-bulgaria",
   "metadata": {},
   "outputs": [],
   "source": [
    "realty_data2 <- realty_data %>%\n",
    "filter(banyo_sayisi == 1 & salon == 1) %>%\n",
    "select(all_of(features)) %>%\n",
    "na.omit %>%\n",
    "filter(between(brut_metrekare, quantile(brut_metrekare, 0.05), quantile(brut_metrekare, 0.95)))"
   ]
  },
  {
   "cell_type": "code",
   "execution_count": null,
   "id": "victorian-democracy",
   "metadata": {},
   "outputs": [],
   "source": [
    "realty_data2 %>% str"
   ]
  },
  {
   "cell_type": "code",
   "execution_count": null,
   "id": "experienced-outdoors",
   "metadata": {},
   "outputs": [],
   "source": [
    "realty_data2 %>% ggplot(aes(x = oda,\n",
    "                           y = brut_metrekare)) +\n",
    "                        geom_point() +\n",
    "geom_smooth(method = \"lm\", formula = y ~ x, se = F)"
   ]
  },
  {
   "cell_type": "code",
   "execution_count": null,
   "id": "cooperative-median",
   "metadata": {},
   "outputs": [],
   "source": [
    "train_ratio <- 0.7"
   ]
  },
  {
   "cell_type": "markdown",
   "id": "binary-foundation",
   "metadata": {},
   "source": [
    "Randomly create row indices for train partition"
   ]
  },
  {
   "cell_type": "code",
   "execution_count": null,
   "id": "stable-criterion",
   "metadata": {},
   "outputs": [],
   "source": [
    "set.seed(100000)\n",
    "train_indices <- realty_data2[,sample(.N * train_ratio)]"
   ]
  },
  {
   "cell_type": "markdown",
   "id": "together-typing",
   "metadata": {},
   "source": [
    "Split the data into two partitions"
   ]
  },
  {
   "cell_type": "code",
   "execution_count": null,
   "id": "valued-archive",
   "metadata": {},
   "outputs": [],
   "source": [
    "train_data <- realty_data2[train_indices]\n",
    "test_data <- realty_data2[-train_indices]"
   ]
  },
  {
   "cell_type": "markdown",
   "id": "cubic-upper",
   "metadata": {},
   "source": [
    "Check whether partitions are mutually exclusive:"
   ]
  },
  {
   "cell_type": "code",
   "execution_count": null,
   "id": "fallen-joshua",
   "metadata": {},
   "outputs": [],
   "source": [
    "realty_data2[,.N]\n",
    "train_data[,.N]\n",
    "test_data[,.N]"
   ]
  },
  {
   "cell_type": "markdown",
   "id": "dependent-silly",
   "metadata": {},
   "source": [
    "### Train the model"
   ]
  },
  {
   "cell_type": "markdown",
   "id": "unable-workshop",
   "metadata": {},
   "source": [
    "Let's create the model:"
   ]
  },
  {
   "cell_type": "code",
   "execution_count": null,
   "id": "civilian-ceramic",
   "metadata": {},
   "outputs": [],
   "source": [
    "model1 <- lm(brut_metrekare ~ oda, data = train_data)"
   ]
  },
  {
   "cell_type": "markdown",
   "id": "square-growing",
   "metadata": {},
   "source": [
    "See the summary:"
   ]
  },
  {
   "cell_type": "code",
   "execution_count": null,
   "id": "current-cemetery",
   "metadata": {},
   "outputs": [],
   "source": [
    "summary(model1)"
   ]
  },
  {
   "cell_type": "markdown",
   "id": "quantitative-dance",
   "metadata": {},
   "source": [
    "tidy() from broom package extract and present useful information from the model in a tabulated manner:"
   ]
  },
  {
   "cell_type": "code",
   "execution_count": null,
   "id": "pleased-gossip",
   "metadata": {},
   "outputs": [],
   "source": [
    "tidy(model1)"
   ]
  },
  {
   "cell_type": "markdown",
   "id": "appropriate-courtesy",
   "metadata": {},
   "source": [
    "What we see is:\n",
    "\n",
    "- Intercept and oda's coefficient are significant\n",
    "- Average size excluding rooms (living room, bathroom, kitchen and etc.) is 37.6 m2\n",
    "- Average size of an additional room is 25 m2\n",
    "- Nearly half of the variance in gross size is explained (R2)"
   ]
  },
  {
   "cell_type": "markdown",
   "id": "internal-banana",
   "metadata": {},
   "source": [
    "### Predict the model"
   ]
  },
  {
   "cell_type": "markdown",
   "id": "promising-baltimore",
   "metadata": {},
   "source": [
    "We have actual and predicted unit_price values for the train and test sets:"
   ]
  },
  {
   "cell_type": "code",
   "execution_count": null,
   "id": "acceptable-biodiversity",
   "metadata": {},
   "outputs": [],
   "source": [
    "actual_train <- train_data$brut_metrekare\n",
    "predicted_train <- predict(model1, train_data)"
   ]
  },
  {
   "cell_type": "code",
   "execution_count": null,
   "id": "bridal-kenya",
   "metadata": {},
   "outputs": [],
   "source": [
    "actual_test <- test_data$brut_metrekare\n",
    "predicted_test <- predict(model1, test_data)"
   ]
  },
  {
   "cell_type": "code",
   "execution_count": null,
   "id": "hairy-certificate",
   "metadata": {},
   "outputs": [],
   "source": [
    "data.table(actual = actual_train, predictions = predicted_train) %>%\n",
    "ggplot(aes(x = actual, y = predictions)) +\n",
    "geom_point() +\n",
    "geom_abline(slope = 1, intercept = 0) +\n",
    "ggtitle(\"Train Actual vs. Predictions\")"
   ]
  },
  {
   "cell_type": "code",
   "execution_count": null,
   "id": "global-ready",
   "metadata": {},
   "outputs": [],
   "source": [
    "data.table(actual = actual_test, predictions = predicted_test) %>%\n",
    "ggplot(aes(x = actual, y = predictions)) +\n",
    "geom_point() +\n",
    "geom_abline(slope = 1, intercept = 0) +\n",
    "ggtitle(\"Test Actual vs. Predictions\")"
   ]
  },
  {
   "cell_type": "markdown",
   "id": "reported-mechanics",
   "metadata": {},
   "source": [
    "We calculate the R2, RMSE and MAE values using caret package for train and test predictions vs actual values:"
   ]
  },
  {
   "cell_type": "code",
   "execution_count": null,
   "id": "biological-communication",
   "metadata": {},
   "outputs": [],
   "source": [
    "model_dt <- data.table(partition = c(\"train\", \"test\"),\n",
    "                       R2 = c(R2(predicted_train, actual_train),\n",
    "                                R2(predicted_test, actual_test)),\n",
    "                        RMSE = c(RMSE(predicted_train, actual_train),\n",
    "                                 RMSE(predicted_test, actual_test)),\n",
    "                        MAE = c(MAE(predicted_train, actual_train),\n",
    "                                MAE(predicted_test, actual_test))\n",
    "                        )"
   ]
  },
  {
   "cell_type": "code",
   "execution_count": null,
   "id": "planned-channel",
   "metadata": {},
   "outputs": [],
   "source": [
    "model_dt"
   ]
  },
  {
   "cell_type": "markdown",
   "id": "brilliant-gambling",
   "metadata": {},
   "source": [
    "Performance on test set is similar to that on train test"
   ]
  },
  {
   "cell_type": "code",
   "execution_count": null,
   "id": "printable-channel",
   "metadata": {},
   "outputs": [],
   "source": []
  }
 ],
 "metadata": {
  "kernelspec": {
   "display_name": "R",
   "language": "R",
   "name": "ir"
  },
  "language_info": {
   "codemirror_mode": "r",
   "file_extension": ".r",
   "mimetype": "text/x-r-source",
   "name": "R",
   "pygments_lexer": "r",
   "version": "4.0.5"
  },
  "widgets": {
   "application/vnd.jupyter.widget-state+json": {
    "state": {},
    "version_major": 2,
    "version_minor": 0
   }
  }
 },
 "nbformat": 4,
 "nbformat_minor": 5
}
