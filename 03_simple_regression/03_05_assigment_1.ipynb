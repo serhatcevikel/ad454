{
 "cells": [
  {
   "cell_type": "code",
   "execution_count": null,
   "id": "biblical-patch",
   "metadata": {},
   "outputs": [],
   "source": [
    "library(tidyverse)\n",
    "library(data.table)\n",
    "library(plotly) # for interactive ploting\n",
    "library(DT) # for interactive tabulation\n",
    "library(broom) # for tidy statistical summaries\n",
    "library(caret) # for regression performance measures"
   ]
  },
  {
   "cell_type": "code",
   "execution_count": null,
   "id": "basic-friendly",
   "metadata": {},
   "outputs": [],
   "source": [
    "options(repr.matrix.max.rows=20, repr.matrix.max.cols=15) # for limiting the number of top and bottom rows of tables printed "
   ]
  },
  {
   "cell_type": "code",
   "execution_count": null,
   "id": "rapid-camera",
   "metadata": {},
   "outputs": [],
   "source": [
    "datapath <- \"~/data_ad454\""
   ]
  },
  {
   "cell_type": "markdown",
   "id": "dutch-compensation",
   "metadata": {},
   "source": [
    "# Simple Linear Regression on IMF WEO Dataset"
   ]
  },
  {
   "cell_type": "markdown",
   "id": "confident-fifty",
   "metadata": {},
   "source": [
    "Let's first import the objects for the WEO dataset: "
   ]
  },
  {
   "cell_type": "code",
   "execution_count": null,
   "id": "thousand-violin",
   "metadata": {},
   "outputs": [],
   "source": [
    "# wide data with features in the columns and countries/years in the rows\n",
    "weo_wide2 <- readRDS(sprintf(\"%s/rds/01_01_weo_wide2.rds\", datapath))"
   ]
  },
  {
   "cell_type": "code",
   "execution_count": null,
   "id": "imperial-speaker",
   "metadata": {},
   "outputs": [],
   "source": [
    "weo_countries <- readRDS(sprintf(\"%s/rds/01_01_weo_countries.rds\", datapath))\n",
    "weo_subject <- readRDS(sprintf(\"%s/rds/01_01_weo_subject.rds\", datapath))"
   ]
  },
  {
   "cell_type": "markdown",
   "id": "unexpected-voice",
   "metadata": {},
   "source": [
    "Remember the nice widget to navigate through and search in tabular data:"
   ]
  },
  {
   "cell_type": "code",
   "execution_count": null,
   "id": "moved-minority",
   "metadata": {},
   "outputs": [],
   "source": [
    "weo_subject %>% datatable(\n",
    "  filter = \"top\",\n",
    "  options = list(pageLength = 20)\n",
    ")"
   ]
  },
  {
   "cell_type": "markdown",
   "id": "sealed-mitchell",
   "metadata": {},
   "source": [
    "You are supposed to create a simple linear regression model to estimate the \"NGDP_RPCH\" feature for 2019 data in weo_wide2.\n",
    "\n",
    "What does that NGDP_TPCH stand for:"
   ]
  },
  {
   "cell_type": "code",
   "execution_count": null,
   "id": "amber-teaching",
   "metadata": {},
   "outputs": [],
   "source": [
    "weo_subject[WEO_Subject_Code == \"NGDP_RPCH\"]"
   ]
  },
  {
   "cell_type": "markdown",
   "id": "italian-money",
   "metadata": {},
   "source": [
    "You should select a reasonable independent variable from the available features to explain this dependent variable.\n",
    "\n",
    "The independent variable should not be any of the following ones:"
   ]
  },
  {
   "cell_type": "code",
   "execution_count": null,
   "id": "approximate-resource",
   "metadata": {},
   "outputs": [],
   "source": [
    "weo_subject[str_detect(Subject_Descriptor, \"Gross domestic product\")]"
   ]
  },
  {
   "cell_type": "markdown",
   "id": "norman-thriller",
   "metadata": {},
   "source": [
    "So the independent variable can be any one of the following:"
   ]
  },
  {
   "cell_type": "code",
   "execution_count": null,
   "id": "eight-briefing",
   "metadata": {},
   "outputs": [],
   "source": [
    "weo_subject[!str_detect(Subject_Descriptor, \"Gross domestic product\")]  %>% datatable(\n",
    "  filter = \"top\",\n",
    "  options = list(pageLength = 20)\n",
    ")"
   ]
  },
  {
   "cell_type": "markdown",
   "id": "prime-freedom",
   "metadata": {},
   "source": [
    "Or you may create a new feature using multiple allowed features above through any kind of mathematical transformations. Note that only one independent variable can be included in the right hand side of the model"
   ]
  },
  {
   "cell_type": "markdown",
   "id": "damaged-session",
   "metadata": {},
   "source": [
    "You may want to inspect the pairwise relationship among multiple features visually to detect the candidates to be included in the model. Some possible tools are as follows:\n",
    "\n",
    "- pairs()\n",
    "- psych::pairs.panels()\n",
    "- GGally::ggpairs()"
   ]
  },
  {
   "cell_type": "markdown",
   "id": "entire-intent",
   "metadata": {},
   "source": [
    "Total missing cases (NA's) of the variable(s) (directly as an independent variable or indirectly for calculating a new feature) that you use should not be more than 30. You can check that with `function(x) sum(is.na(x))` for a column"
   ]
  },
  {
   "cell_type": "markdown",
   "id": "abroad-casino",
   "metadata": {},
   "source": [
    "The steps you are required to follow are as follows:"
   ]
  },
  {
   "cell_type": "markdown",
   "id": "occupational-livestock",
   "metadata": {},
   "source": [
    "- Show the calculations to create a new feature as an independent variable if you do so (if you include a feature directly skip this step)\n",
    "- Filter for year 2019 and select the dependent and independent variables\n",
    "- Create a scatterplot between the pair including a best fit line\n",
    "- Split the dataset randomly into train and test partitions. The ratio of train partition to the overall set is supposed to be between 0.5 and 0.7\n",
    "- Create and run a simple linear regression model and assign the model into a named object\n",
    "- Print the summary of the model and interpret with a few words. **Note that the coefficient of the independent variable should be significantly different than 0 at 0.05 significance level. If not please select another independent variable**\n",
    "- Create four vectors for predictions/actual values of train/test datasets\n",
    "- Print two scatter plots: 1) predictions vs actual values of train set, 2) predictions vs actual values of test set. You may need to combine the predictions and actual values into a data.table with appropriate names (one data.table for train, one data.table for the test set) in order to feed into ggplot + geom_point. Please also add a diagonal line and main title. \n",
    "- Compare the R2 and RMSE of train and test datasets and interpret the comparison with a few words"
   ]
  },
  {
   "cell_type": "markdown",
   "id": "verified-dragon",
   "metadata": {},
   "source": [
    "**Hint: Most steps follow the 03_02_simple_regression.ipynb notebook**"
   ]
  },
  {
   "cell_type": "code",
   "execution_count": null,
   "id": "diverse-poverty",
   "metadata": {},
   "outputs": [],
   "source": []
  }
 ],
 "metadata": {
  "kernelspec": {
   "display_name": "R",
   "language": "R",
   "name": "ir"
  },
  "language_info": {
   "codemirror_mode": "r",
   "file_extension": ".r",
   "mimetype": "text/x-r-source",
   "name": "R",
   "pygments_lexer": "r",
   "version": "4.0.5"
  },
  "widgets": {
   "application/vnd.jupyter.widget-state+json": {
    "state": {},
    "version_major": 2,
    "version_minor": 0
   }
  }
 },
 "nbformat": 4,
 "nbformat_minor": 5
}
