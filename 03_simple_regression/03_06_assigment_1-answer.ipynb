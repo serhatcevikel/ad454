{
 "cells": [
  {
   "cell_type": "code",
   "execution_count": null,
   "id": "biblical-patch",
   "metadata": {},
   "outputs": [],
   "source": [
    "library(tidyverse)\n",
    "library(data.table)\n",
    "library(plotly) # for interactive ploting\n",
    "library(DT) # for interactive tabulation\n",
    "library(broom) # for tidy statistical summaries\n",
    "library(caret) # for regression performance measures"
   ]
  },
  {
   "cell_type": "code",
   "execution_count": null,
   "id": "basic-friendly",
   "metadata": {},
   "outputs": [],
   "source": [
    "options(repr.matrix.max.rows=20, repr.matrix.max.cols=15) # for limiting the number of top and bottom rows of tables printed "
   ]
  },
  {
   "cell_type": "code",
   "execution_count": null,
   "id": "rapid-camera",
   "metadata": {},
   "outputs": [],
   "source": [
    "datapath <- \"~/data_ad454\""
   ]
  },
  {
   "cell_type": "markdown",
   "id": "dutch-compensation",
   "metadata": {},
   "source": [
    "# Simple Linear Regression on IMF WEO Dataset"
   ]
  },
  {
   "cell_type": "markdown",
   "id": "confident-fifty",
   "metadata": {},
   "source": [
    "Let's first import the objects for the WEO dataset: "
   ]
  },
  {
   "cell_type": "code",
   "execution_count": null,
   "id": "thousand-violin",
   "metadata": {},
   "outputs": [],
   "source": [
    "# wide data with features in the columns and countries/years in the rows\n",
    "weo_wide2 <- readRDS(sprintf(\"%s/rds/01_01_weo_wide2.rds\", datapath))"
   ]
  },
  {
   "cell_type": "code",
   "execution_count": null,
   "id": "imperial-speaker",
   "metadata": {},
   "outputs": [],
   "source": [
    "weo_countries <- readRDS(sprintf(\"%s/rds/01_01_weo_countries.rds\", datapath))\n",
    "weo_subject <- readRDS(sprintf(\"%s/rds/01_01_weo_subject.rds\", datapath))"
   ]
  },
  {
   "cell_type": "markdown",
   "id": "unexpected-voice",
   "metadata": {},
   "source": [
    "Remember the nice widget to navigate through and search in tabular data:"
   ]
  },
  {
   "cell_type": "code",
   "execution_count": null,
   "id": "moved-minority",
   "metadata": {},
   "outputs": [],
   "source": [
    "weo_subject %>% datatable(\n",
    "  filter = \"top\",\n",
    "  options = list(pageLength = 20)\n",
    ")"
   ]
  },
  {
   "cell_type": "markdown",
   "id": "sealed-mitchell",
   "metadata": {},
   "source": [
    "You are supposed to create a simple linear regression model to estimate the \"NGDP_RPCH\" feature for 2019 data in weo_wide2.\n",
    "\n",
    "What does that NGDP_TPCH stand for:"
   ]
  },
  {
   "cell_type": "code",
   "execution_count": null,
   "id": "amber-teaching",
   "metadata": {},
   "outputs": [],
   "source": [
    "weo_subject[WEO_Subject_Code == \"NGDP_RPCH\"]"
   ]
  },
  {
   "cell_type": "markdown",
   "id": "italian-money",
   "metadata": {},
   "source": [
    "You should select a reasonable independent variable from the available features to explain this dependent variable.\n",
    "\n",
    "The independent variable should not be any of the following ones:"
   ]
  },
  {
   "cell_type": "code",
   "execution_count": null,
   "id": "approximate-resource",
   "metadata": {},
   "outputs": [],
   "source": [
    "weo_subject[str_detect(Subject_Descriptor, \"Gross domestic product\")]"
   ]
  },
  {
   "cell_type": "markdown",
   "id": "norman-thriller",
   "metadata": {},
   "source": [
    "So the independent variable can be any one of the following:"
   ]
  },
  {
   "cell_type": "code",
   "execution_count": null,
   "id": "eight-briefing",
   "metadata": {},
   "outputs": [],
   "source": [
    "weo_subject[!str_detect(Subject_Descriptor, \"Gross domestic product\")]  %>% datatable(\n",
    "  filter = \"top\",\n",
    "  options = list(pageLength = 20)\n",
    ")"
   ]
  },
  {
   "cell_type": "markdown",
   "id": "prime-freedom",
   "metadata": {},
   "source": [
    "Or you may create a new feature using multiple allowed features above through any kind of mathematical transformations. Note that only one independent variable can be included in the right hand side of the model"
   ]
  },
  {
   "cell_type": "markdown",
   "id": "damaged-session",
   "metadata": {},
   "source": [
    "You may want to inspect the pairwise relationship among multiple features visually to detect the candidates to be included in the model. Some possible tools are as follows:\n",
    "\n",
    "- pairs()\n",
    "- psych::pairs.panels()\n",
    "- GGally::ggpairs()"
   ]
  },
  {
   "cell_type": "markdown",
   "id": "entire-intent",
   "metadata": {},
   "source": [
    "Total missing cases (NA's) of the variable(s) (directly as an independent variable or indirectly for calculating a new feature) that you use should not be more than 30. You can check that with `function(x) sum(is.na(x))` for a column"
   ]
  },
  {
   "cell_type": "markdown",
   "id": "abroad-casino",
   "metadata": {},
   "source": [
    "The steps you are required to follow are as follows:"
   ]
  },
  {
   "cell_type": "markdown",
   "id": "occupational-livestock",
   "metadata": {},
   "source": [
    "- Show the calculations to create a new feature as an independent variable if you do so (if you include a feature directly skip this step)\n",
    "- Filter for year 2019 and select the dependent and independent variables\n",
    "- Create a scatterplot between the pair including a best fit line\n",
    "- Split the dataset randomly into train and test partitions. The ratio of train partition to the overall set is supposed to be between 0.5 and 0.7\n",
    "- Create and run a simple linear regression model and assign the model into a named object\n",
    "- Print the summary of the model and interpret with a few words. **Note that the coefficient of the independent variable should be significantly different than 0 at 0.05 significance level. If not please select another independent variable**\n",
    "- Create four vectors for predictions/actual values of train/test datasets\n",
    "- Print two scatter plots: 1) predictions vs actual values of train set, 2) predictions vs actual values of test set. You may need to combine the predictions and actual values into a data.table with appropriate names (one data.table for train, one data.table for the test set) in order to feed into ggplot + geom_point. Please also add a diagonal line and main title. \n",
    "- Compare the R2 and RMSE of train and test datasets and interpret the comparison with a few words"
   ]
  },
  {
   "cell_type": "markdown",
   "id": "verified-dragon",
   "metadata": {},
   "source": [
    "**Hint: Most steps follow the 03_02_simple_regression.ipynb notebook**"
   ]
  },
  {
   "cell_type": "markdown",
   "id": "5c6783cc-ee8c-454b-b2bb-901d89aff330",
   "metadata": {},
   "source": [
    "# Answer"
   ]
  },
  {
   "cell_type": "code",
   "execution_count": null,
   "id": "diverse-poverty",
   "metadata": {},
   "outputs": [],
   "source": [
    "weo_subset <- weo_wide2 %>% filter(year == 2019) %>%\n",
    "select(NGDP_RPCH, NID_NGDP) %>% na.omit"
   ]
  },
  {
   "cell_type": "code",
   "execution_count": null,
   "id": "fc6b7973-78f9-4feb-82af-0a436d30a37e",
   "metadata": {},
   "outputs": [],
   "source": [
    "weo_subset[, lapply(.SD, function(x) sum(is.na(x)))]"
   ]
  },
  {
   "cell_type": "code",
   "execution_count": null,
   "id": "31039de8-3255-484b-9d68-6a2d92cdd162",
   "metadata": {},
   "outputs": [],
   "source": [
    "weo_subset %>% ggplot(aes(x = NID_NGDP,\n",
    "                           y = NGDP_RPCH)) +\n",
    "                        geom_point() +\n",
    "geom_smooth(method = \"lm\", formula = y ~ x, se = F)"
   ]
  },
  {
   "cell_type": "code",
   "execution_count": null,
   "id": "4e88fdc4-4b90-400f-9e55-03b190d3e9eb",
   "metadata": {},
   "outputs": [],
   "source": []
  },
  {
   "cell_type": "code",
   "execution_count": null,
   "id": "49ab37dd-0ce3-4b7f-b62a-63b95ad55e84",
   "metadata": {},
   "outputs": [],
   "source": [
    "train_ratio <- 0.7"
   ]
  },
  {
   "cell_type": "markdown",
   "id": "6633215b-04dd-4ec3-82ab-65bdd27a59f9",
   "metadata": {},
   "source": [
    "Randomly create row indices for train partition"
   ]
  },
  {
   "cell_type": "code",
   "execution_count": null,
   "id": "b08b806e-6f6d-483b-8d58-efa2797ddee4",
   "metadata": {},
   "outputs": [],
   "source": [
    "train_indices <- weo_subset[,sample(.N * train_ratio)]"
   ]
  },
  {
   "cell_type": "markdown",
   "id": "d6457d04-f703-49e1-9c31-dad8c03bba66",
   "metadata": {},
   "source": [
    "Split the data into two partitions"
   ]
  },
  {
   "cell_type": "code",
   "execution_count": null,
   "id": "5c82b759-c2a4-46de-96a8-4d847e6976a3",
   "metadata": {},
   "outputs": [],
   "source": [
    "train_data <- weo_subset[train_indices]\n",
    "test_data <- weo_subset[-train_indices]"
   ]
  },
  {
   "cell_type": "markdown",
   "id": "f677d1d2-be26-41a2-a90b-c2f72c29c115",
   "metadata": {},
   "source": [
    "Check whether partitions are mutually exclusive:"
   ]
  },
  {
   "cell_type": "code",
   "execution_count": null,
   "id": "484b510e-31da-4f90-b214-816c21a45d59",
   "metadata": {},
   "outputs": [],
   "source": [
    "weo_subset[,.N]\n",
    "train_data[,.N]\n",
    "test_data[,.N]"
   ]
  },
  {
   "cell_type": "code",
   "execution_count": null,
   "id": "0cf50899-f1d9-4cb5-9067-e1ffb6614155",
   "metadata": {},
   "outputs": [],
   "source": []
  },
  {
   "cell_type": "code",
   "execution_count": null,
   "id": "7ad55cb1-da97-4432-a342-16b0cd796fd8",
   "metadata": {},
   "outputs": [],
   "source": [
    "model1 <- lm(NGDP_RPCH ~ NID_NGDP, data = train_data)"
   ]
  },
  {
   "cell_type": "markdown",
   "id": "5be55a69-caae-40a2-8bd0-b6fa834106f2",
   "metadata": {},
   "source": [
    "See the summary:"
   ]
  },
  {
   "cell_type": "code",
   "execution_count": null,
   "id": "1eee24b9-5913-43fe-8f0b-dcb356b5f1d9",
   "metadata": {},
   "outputs": [],
   "source": [
    "summary(model1)"
   ]
  },
  {
   "cell_type": "markdown",
   "id": "9a7f36b8-7f2e-4df0-a0b0-3f7c91066056",
   "metadata": {},
   "source": [
    "tidy() from broom package extract and present useful information from the model in a tabulated manner:"
   ]
  },
  {
   "cell_type": "code",
   "execution_count": null,
   "id": "26aade72-f1e9-4559-8497-3b035e78b8de",
   "metadata": {},
   "outputs": [],
   "source": [
    "tidy(model1)"
   ]
  },
  {
   "cell_type": "code",
   "execution_count": null,
   "id": "2f4079cc-5a82-4a86-bd92-3bdf904694b0",
   "metadata": {},
   "outputs": [],
   "source": []
  },
  {
   "cell_type": "code",
   "execution_count": null,
   "id": "d928d51e-9fb9-4bfd-94db-d5bf4b0fc1b9",
   "metadata": {},
   "outputs": [],
   "source": [
    "actual_train <- train_data$NGDP_RPCH\n",
    "predicted_train <- predict(model1, train_data)"
   ]
  },
  {
   "cell_type": "code",
   "execution_count": null,
   "id": "701a3e24-f533-452e-86b7-5442b3571fde",
   "metadata": {},
   "outputs": [],
   "source": [
    "actual_test <- test_data$NGDP_RPCH\n",
    "predicted_test <- predict(model1, test_data)"
   ]
  },
  {
   "cell_type": "code",
   "execution_count": null,
   "id": "6199da19-0893-4e1e-87e7-0ffdeb80e207",
   "metadata": {},
   "outputs": [],
   "source": []
  },
  {
   "cell_type": "code",
   "execution_count": null,
   "id": "3569c7c0-4ff7-426e-b3a5-ac1c356cd06a",
   "metadata": {},
   "outputs": [],
   "source": [
    "model_dt <- data.table(partition = c(\"train\", \"test\"),\n",
    "                       R2 = c(R2(predicted_train, actual_train),\n",
    "                                R2(predicted_test, actual_test)),\n",
    "                        RMSE = c(RMSE(predicted_train, actual_train),\n",
    "                                 RMSE(predicted_test, actual_test)),\n",
    "                        MAE = c(MAE(predicted_train, actual_train),\n",
    "                                MAE(predicted_test, actual_test))\n",
    "                        )"
   ]
  },
  {
   "cell_type": "code",
   "execution_count": null,
   "id": "120b7b63-b263-430e-909d-481437c4284d",
   "metadata": {},
   "outputs": [],
   "source": [
    "model_dt"
   ]
  },
  {
   "cell_type": "code",
   "execution_count": null,
   "id": "16524bf1-546e-4570-8104-f8d518a21940",
   "metadata": {},
   "outputs": [],
   "source": []
  },
  {
   "cell_type": "code",
   "execution_count": null,
   "id": "3761e93b-a047-4d74-872a-1a76f42bbed6",
   "metadata": {},
   "outputs": [],
   "source": [
    "data.table(actual = actual_train, predictions = predicted_train) %>%\n",
    "ggplot(aes(x = actual, y = predictions)) +\n",
    "geom_point() +\n",
    "geom_abline(slope = 1, intercept = 0) +\n",
    "ggtitle(\"Train Actual vs. Predictions\")"
   ]
  },
  {
   "cell_type": "code",
   "execution_count": null,
   "id": "83145923-38ad-4404-996f-dede05206611",
   "metadata": {},
   "outputs": [],
   "source": [
    "data.table(actual = actual_test, predictions = predicted_test) %>%\n",
    "ggplot(aes(x = actual, y = predictions)) +\n",
    "geom_point() +\n",
    "geom_abline(slope = 1, intercept = 0) +\n",
    "ggtitle(\"Test Actual vs. Predictions\")"
   ]
  },
  {
   "cell_type": "code",
   "execution_count": null,
   "id": "c1f36711-755a-44ac-9ec1-ee7c5a495971",
   "metadata": {},
   "outputs": [],
   "source": []
  }
 ],
 "metadata": {
  "kernelspec": {
   "display_name": "R",
   "language": "R",
   "name": "ir"
  },
  "language_info": {
   "codemirror_mode": "r",
   "file_extension": ".r",
   "mimetype": "text/x-r-source",
   "name": "R",
   "pygments_lexer": "r",
   "version": "4.0.5"
  },
  "widgets": {
   "application/vnd.jupyter.widget-state+json": {
    "state": {},
    "version_major": 2,
    "version_minor": 0
   }
  }
 },
 "nbformat": 4,
 "nbformat_minor": 5
}
