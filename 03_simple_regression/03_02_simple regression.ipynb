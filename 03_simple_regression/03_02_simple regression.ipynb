{
 "cells": [
  {
   "cell_type": "code",
   "execution_count": null,
   "id": "auburn-shelf",
   "metadata": {},
   "outputs": [],
   "source": [
    "library(tidyverse)\n",
    "library(data.table)\n",
    "library(plotly) # for interactive ploting\n",
    "library(DT) # for interactive tabulation\n",
    "library(broom) # for tidy statistical summaries\n",
    "library(caret) # for regression performance measures"
   ]
  },
  {
   "cell_type": "code",
   "execution_count": null,
   "id": "composite-restaurant",
   "metadata": {},
   "outputs": [],
   "source": [
    "options(repr.matrix.max.rows=20, repr.matrix.max.cols=15) # for limiting the number of top and bottom rows of tables printed "
   ]
  },
  {
   "cell_type": "code",
   "execution_count": null,
   "id": "refined-archive",
   "metadata": {},
   "outputs": [],
   "source": [
    "datapath <- \"../data\""
   ]
  },
  {
   "cell_type": "markdown",
   "id": "american-nebraska",
   "metadata": {},
   "source": [
    "# Simple Linear Regression"
   ]
  },
  {
   "cell_type": "markdown",
   "id": "public-dominican",
   "metadata": {},
   "source": [
    "In this session we will conduct a simple linear regression using one dependent variable and one independent variable.\n",
    "\n",
    "We will split the dataset into train and test partitions"
   ]
  },
  {
   "cell_type": "markdown",
   "id": "every-devon",
   "metadata": {},
   "source": [
    "Let's first import the realty dataset:"
   ]
  },
  {
   "cell_type": "code",
   "execution_count": null,
   "id": "solar-richards",
   "metadata": {},
   "outputs": [],
   "source": [
    "realty_data <- readRDS(sprintf(\"%s/rds/02_01_realty_data.rds\", datapath))"
   ]
  },
  {
   "cell_type": "code",
   "execution_count": null,
   "id": "fiscal-logic",
   "metadata": {},
   "outputs": [],
   "source": [
    "realty_data"
   ]
  },
  {
   "cell_type": "markdown",
   "id": "healthy-cincinnati",
   "metadata": {},
   "source": [
    "Let's see the structure:"
   ]
  },
  {
   "cell_type": "code",
   "execution_count": null,
   "id": "greek-helicopter",
   "metadata": {},
   "outputs": [],
   "source": [
    "realty_data %>% str"
   ]
  },
  {
   "cell_type": "markdown",
   "id": "protected-welding",
   "metadata": {},
   "source": [
    "You can navigate through and filter the data:"
   ]
  },
  {
   "cell_type": "code",
   "execution_count": null,
   "id": "terminal-alberta",
   "metadata": {},
   "outputs": [],
   "source": [
    "realty_data %>% datatable(\n",
    "  filter = \"top\",\n",
    "  options = list(pageLength = 20)\n",
    ")"
   ]
  },
  {
   "cell_type": "code",
   "execution_count": null,
   "id": "detected-scoop",
   "metadata": {},
   "outputs": [],
   "source": []
  },
  {
   "cell_type": "markdown",
   "id": "dedicated-utility",
   "metadata": {},
   "source": [
    "See which variables are of factor type and what the levels of each are:"
   ]
  },
  {
   "cell_type": "code",
   "execution_count": null,
   "id": "aging-ladder",
   "metadata": {},
   "outputs": [],
   "source": [
    "realty_data %>% keep(is.factor) %>% lapply(levels)"
   ]
  },
  {
   "cell_type": "markdown",
   "id": "representative-minnesota",
   "metadata": {},
   "source": [
    "And the frequencies of those levels:"
   ]
  },
  {
   "cell_type": "code",
   "execution_count": null,
   "id": "convenient-filter",
   "metadata": {},
   "outputs": [],
   "source": [
    "realty_data %>% keep(is.factor) %>% summary"
   ]
  },
  {
   "cell_type": "markdown",
   "id": "indie-switch",
   "metadata": {},
   "source": [
    "Let's see the numeric variables:"
   ]
  },
  {
   "cell_type": "code",
   "execution_count": null,
   "id": "jewish-teens",
   "metadata": {},
   "outputs": [],
   "source": [
    "realty_data %>% keep(is.numeric) %>% names"
   ]
  },
  {
   "cell_type": "markdown",
   "id": "alike-parker",
   "metadata": {},
   "source": [
    "And statistical summaries of numeric columns:"
   ]
  },
  {
   "cell_type": "code",
   "execution_count": null,
   "id": "sweet-nature",
   "metadata": {},
   "outputs": [],
   "source": [
    "realty_data %>% keep(is.numeric) %>% summary()"
   ]
  },
  {
   "cell_type": "markdown",
   "id": "assured-frost",
   "metadata": {},
   "source": [
    "And statistical summaries of numeric columns in a better format:"
   ]
  },
  {
   "cell_type": "code",
   "execution_count": null,
   "id": "light-understanding",
   "metadata": {},
   "outputs": [],
   "source": [
    "realty_data %>% keep(is.numeric) %>% broom::tidy() %>% mutate_if(is.numeric, round, 2) %>%\n",
    "select(column, n, mean, sd, median, min, max)"
   ]
  },
  {
   "cell_type": "markdown",
   "id": "centered-hebrew",
   "metadata": {},
   "source": [
    "Now let's select some of the features"
   ]
  },
  {
   "cell_type": "code",
   "execution_count": null,
   "id": "joint-injection",
   "metadata": {},
   "outputs": [],
   "source": [
    "features <- c(\"price\", \"brut_metrekare\",\n",
    "             \"krediye_uygunluk\",\n",
    "             \"kira_getirisi\")"
   ]
  },
  {
   "cell_type": "markdown",
   "id": "dental-illinois",
   "metadata": {},
   "source": [
    "Let's create the unit price column and unit rent column, filter for \"eligible for loan\" (krediye uygun) rows and trim 5% top and bottom unit price and unit_rent values:"
   ]
  },
  {
   "cell_type": "code",
   "execution_count": null,
   "id": "individual-chemical",
   "metadata": {},
   "outputs": [],
   "source": [
    "realty_data2 <- realty_data %>%\n",
    "select(all_of(features)) %>%\n",
    "mutate(unit_price = price / brut_metrekare) %>%\n",
    "mutate(unit_rent = kira_getirisi / brut_metrekare) %>%\n",
    "filter(krediye_uygunluk == \"uygun\") %>%\n",
    "na.omit %>%\n",
    "filter(between(unit_price, quantile(unit_price, 0.05), quantile(unit_price, 0.95))) %>%\n",
    "filter(between(unit_rent, quantile(unit_rent, 0.05), quantile(unit_rent, 0.95)))"
   ]
  },
  {
   "cell_type": "code",
   "execution_count": null,
   "id": "convenient-cannon",
   "metadata": {},
   "outputs": [],
   "source": [
    "realty_data2 %>% str"
   ]
  },
  {
   "cell_type": "markdown",
   "id": "dental-exposure",
   "metadata": {},
   "source": [
    "Now we will try to understand whether unit_price is related to unit_rent."
   ]
  },
  {
   "cell_type": "markdown",
   "id": "august-diabetes",
   "metadata": {},
   "source": [
    "## Visual examination:"
   ]
  },
  {
   "cell_type": "code",
   "execution_count": null,
   "id": "designing-pennsylvania",
   "metadata": {},
   "outputs": [],
   "source": [
    "realty_data2 %>% ggplot(aes(x = unit_rent,\n",
    "                           y = unit_price)) +\n",
    "                        geom_point() +\n",
    "geom_smooth(method = \"lm\", formula = y ~ x, se = F)"
   ]
  },
  {
   "cell_type": "markdown",
   "id": "lucky-harassment",
   "metadata": {},
   "source": [
    "We see a positive and slightly strong relationship"
   ]
  },
  {
   "cell_type": "markdown",
   "id": "parallel-marathon",
   "metadata": {},
   "source": [
    "## Partition"
   ]
  },
  {
   "cell_type": "markdown",
   "id": "ambient-restaurant",
   "metadata": {},
   "source": [
    "Let's determine a ratio for train partition:"
   ]
  },
  {
   "cell_type": "code",
   "execution_count": null,
   "id": "global-mixer",
   "metadata": {},
   "outputs": [],
   "source": [
    "train_ratio <- 0.7"
   ]
  },
  {
   "cell_type": "markdown",
   "id": "impressed-percentage",
   "metadata": {},
   "source": [
    "Randomly create row indices for train partition"
   ]
  },
  {
   "cell_type": "code",
   "execution_count": null,
   "id": "pacific-shoot",
   "metadata": {},
   "outputs": [],
   "source": [
    "train_indices <- realty_data2[,sample(.N * train_ratio)]"
   ]
  },
  {
   "cell_type": "markdown",
   "id": "familiar-entrance",
   "metadata": {},
   "source": [
    "Split the data into two partitions"
   ]
  },
  {
   "cell_type": "code",
   "execution_count": null,
   "id": "judicial-jacksonville",
   "metadata": {},
   "outputs": [],
   "source": [
    "train_data <- realty_data2[train_indices]\n",
    "test_data <- realty_data2[!train_indices]"
   ]
  },
  {
   "cell_type": "markdown",
   "id": "solved-cabinet",
   "metadata": {},
   "source": [
    "Check whether partitions are mutually exclusive:"
   ]
  },
  {
   "cell_type": "code",
   "execution_count": null,
   "id": "graduate-rapid",
   "metadata": {},
   "outputs": [],
   "source": [
    "realty_data2[,.N]\n",
    "train_data[,.N]\n",
    "test_data[,.N]"
   ]
  },
  {
   "cell_type": "markdown",
   "id": "minus-blade",
   "metadata": {},
   "source": [
    "## Train the model"
   ]
  },
  {
   "cell_type": "markdown",
   "id": "medium-silence",
   "metadata": {},
   "source": [
    "Let's create the model:"
   ]
  },
  {
   "cell_type": "code",
   "execution_count": null,
   "id": "executed-exploration",
   "metadata": {},
   "outputs": [],
   "source": [
    "model1 <- lm(unit_price ~ unit_rent, data = train_data)"
   ]
  },
  {
   "cell_type": "markdown",
   "id": "passing-arizona",
   "metadata": {},
   "source": [
    "See the summary:"
   ]
  },
  {
   "cell_type": "code",
   "execution_count": null,
   "id": "abandoned-paraguay",
   "metadata": {},
   "outputs": [],
   "source": [
    "summary(model1)"
   ]
  },
  {
   "cell_type": "markdown",
   "id": "revised-eugene",
   "metadata": {},
   "source": [
    "tidy() from broom package extract and present useful information from the model in a tabulated manner:"
   ]
  },
  {
   "cell_type": "code",
   "execution_count": null,
   "id": "medieval-priority",
   "metadata": {},
   "outputs": [],
   "source": [
    "tidy(model1)"
   ]
  },
  {
   "cell_type": "markdown",
   "id": "peaceful-dialogue",
   "metadata": {},
   "source": [
    "What we see is:\n",
    "\n",
    "- The coefficient on unit_rent is significantly differant than 0, (statistically significant)\n",
    "- 44% of the overall variance in unit_price is explained by the model\n",
    "- When unit_rent is zero, unit_price is estimated to be negative. Maintenance costs and due fees (aidat) may be reason for that"
   ]
  },
  {
   "cell_type": "markdown",
   "id": "pending-settlement",
   "metadata": {},
   "source": [
    "How can you interpret the coefficient of unit_rent?"
   ]
  },
  {
   "cell_type": "markdown",
   "id": "controlled-madrid",
   "metadata": {},
   "source": [
    "## Predict the model"
   ]
  },
  {
   "cell_type": "markdown",
   "id": "artistic-nancy",
   "metadata": {},
   "source": [
    "We have actual and predicted unit_price values for the train and test sets:"
   ]
  },
  {
   "cell_type": "code",
   "execution_count": null,
   "id": "important-couple",
   "metadata": {},
   "outputs": [],
   "source": [
    "actual_train <- train_data$unit_price\n",
    "predicted_train <- predict(model1, train_data)"
   ]
  },
  {
   "cell_type": "code",
   "execution_count": null,
   "id": "present-automation",
   "metadata": {},
   "outputs": [],
   "source": [
    "actual_test <- test_data$unit_price\n",
    "predicted_test <- predict(model1, test_data)"
   ]
  },
  {
   "cell_type": "markdown",
   "id": "generic-modern",
   "metadata": {},
   "source": [
    "The test data was not utilized when we created the model, so it is unseen data. If the model performs well on train but not on test data, we may conclude that the model \"memorized\" and not learned the data"
   ]
  },
  {
   "cell_type": "markdown",
   "id": "color-significance",
   "metadata": {},
   "source": [
    "Some information on regression performance metrics can be found folloing the links:\n",
    "\n",
    "[Regression Model Accuracy (MAE, MSE, RMSE, R-squared) Check in R](https://www.datatechnotes.com/2019/02/regression-model-accuracy-mae-mse-rmse.html)\n",
    "\n",
    "[Measuring Performance](https://topepo.github.io/caret/measuring-performance.html)"
   ]
  },
  {
   "cell_type": "markdown",
   "id": "established-retrieval",
   "metadata": {},
   "source": [
    "We calculate the R2, RMSE and MAE values using caret package for train and test predictions vs actual values:"
   ]
  },
  {
   "cell_type": "code",
   "execution_count": null,
   "id": "harmful-corporation",
   "metadata": {},
   "outputs": [],
   "source": [
    "model_dt <- data.table(partition = c(\"train\", \"test\"),\n",
    "                       R2 = c(R2(predicted_train, actual_train),\n",
    "                                R2(predicted_test, actual_test)),\n",
    "                        RMSE = c(RMSE(predicted_train, actual_train),\n",
    "                                 RMSE(predicted_test, actual_test)),\n",
    "                        MAE = c(MAE(predicted_train, actual_train),\n",
    "                                MAE(predicted_test, actual_test))\n",
    "                        )"
   ]
  },
  {
   "cell_type": "code",
   "execution_count": null,
   "id": "indoor-pacific",
   "metadata": {},
   "outputs": [],
   "source": [
    "model_dt"
   ]
  },
  {
   "cell_type": "markdown",
   "id": "therapeutic-updating",
   "metadata": {},
   "source": [
    "We see that R2 is lower (but not too much) for the test set as compared to its level for the train set. The higher R2 the better the fit is\n",
    "\n",
    "RMSE and MAE measures are higher for the test set as compared to their levels for the train set. The lower the RMSE and MAE measures the better the fit is.\n",
    "\n",
    "So test performance of the model is slightly lower than its performance on the train set but the difference is not very high.\n",
    "\n",
    "Note that, the scales of RMSE and MAE measures are not standardized, they are dependent on the scale of the target feature. However R2 is a standardized measure: It is always between 0 and 1"
   ]
  },
  {
   "cell_type": "code",
   "execution_count": null,
   "id": "exterior-orchestra",
   "metadata": {},
   "outputs": [],
   "source": []
  }
 ],
 "metadata": {
  "kernelspec": {
   "display_name": "R",
   "language": "R",
   "name": "ir"
  },
  "language_info": {
   "codemirror_mode": "r",
   "file_extension": ".r",
   "mimetype": "text/x-r-source",
   "name": "R",
   "pygments_lexer": "r",
   "version": "4.0.5"
  },
  "widgets": {
   "application/vnd.jupyter.widget-state+json": {
    "state": {},
    "version_major": 2,
    "version_minor": 0
   }
  }
 },
 "nbformat": 4,
 "nbformat_minor": 5
}
