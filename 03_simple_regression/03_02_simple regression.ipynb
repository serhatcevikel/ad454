{
 "cells": [
  {
   "cell_type": "code",
   "execution_count": null,
   "id": "intermediate-nebraska",
   "metadata": {},
   "outputs": [],
   "source": [
    "library(tidyverse)\n",
    "library(data.table)\n",
    "library(plotly) # for interactive ploting\n",
    "library(DT) # for interactive tabulation\n",
    "library(broom) # for tidy statistical summaries\n",
    "library(caret) # for regression performance measures"
   ]
  },
  {
   "cell_type": "code",
   "execution_count": null,
   "id": "adopted-thompson",
   "metadata": {},
   "outputs": [],
   "source": [
    "options(repr.matrix.max.rows=20, repr.matrix.max.cols=15) # for limiting the number of top and bottom rows of tables printed "
   ]
  },
  {
   "cell_type": "code",
   "execution_count": null,
   "id": "polar-persian",
   "metadata": {},
   "outputs": [],
   "source": [
    "datapath <- \"~/data_ad454\""
   ]
  },
  {
   "cell_type": "markdown",
   "id": "funded-single",
   "metadata": {},
   "source": [
    "# Simple Linear Regression"
   ]
  },
  {
   "cell_type": "markdown",
   "id": "successful-complex",
   "metadata": {},
   "source": [
    "In this session we will conduct a simple linear regression using one dependent variable and one independent variable.\n",
    "\n",
    "We will split the dataset into train and test partitions"
   ]
  },
  {
   "cell_type": "markdown",
   "id": "running-phoenix",
   "metadata": {},
   "source": [
    "Let's first import the realty dataset:"
   ]
  },
  {
   "cell_type": "code",
   "execution_count": null,
   "id": "small-berlin",
   "metadata": {},
   "outputs": [],
   "source": [
    "realty_data <- readRDS(sprintf(\"%s/rds/02_01_realty_data.rds\", datapath))"
   ]
  },
  {
   "cell_type": "code",
   "execution_count": null,
   "id": "literary-destination",
   "metadata": {},
   "outputs": [],
   "source": [
    "realty_data"
   ]
  },
  {
   "cell_type": "markdown",
   "id": "prospective-regulation",
   "metadata": {},
   "source": [
    "Let's see the structure:"
   ]
  },
  {
   "cell_type": "code",
   "execution_count": null,
   "id": "still-republic",
   "metadata": {},
   "outputs": [],
   "source": [
    "realty_data %>% str"
   ]
  },
  {
   "cell_type": "markdown",
   "id": "turned-chinese",
   "metadata": {},
   "source": [
    "You can navigate through and filter the data:"
   ]
  },
  {
   "cell_type": "code",
   "execution_count": null,
   "id": "professional-satin",
   "metadata": {},
   "outputs": [],
   "source": [
    "realty_data %>% datatable(\n",
    "  filter = \"top\",\n",
    "  options = list(pageLength = 20)\n",
    ")"
   ]
  },
  {
   "cell_type": "code",
   "execution_count": null,
   "id": "technological-mission",
   "metadata": {},
   "outputs": [],
   "source": []
  },
  {
   "cell_type": "markdown",
   "id": "directed-france",
   "metadata": {},
   "source": [
    "See which variables are of factor type and what the levels of each are:"
   ]
  },
  {
   "cell_type": "code",
   "execution_count": null,
   "id": "missing-there",
   "metadata": {},
   "outputs": [],
   "source": [
    "realty_data %>% keep(is.factor) %>% lapply(levels)"
   ]
  },
  {
   "cell_type": "markdown",
   "id": "failing-accountability",
   "metadata": {},
   "source": [
    "And the frequencies of those levels:"
   ]
  },
  {
   "cell_type": "code",
   "execution_count": null,
   "id": "ultimate-watson",
   "metadata": {},
   "outputs": [],
   "source": [
    "realty_data %>% keep(is.factor) %>% summary"
   ]
  },
  {
   "cell_type": "markdown",
   "id": "fixed-program",
   "metadata": {},
   "source": [
    "Let's see the numeric variables:"
   ]
  },
  {
   "cell_type": "code",
   "execution_count": null,
   "id": "certified-malawi",
   "metadata": {},
   "outputs": [],
   "source": [
    "realty_data %>% keep(is.numeric) %>% names"
   ]
  },
  {
   "cell_type": "markdown",
   "id": "level-theta",
   "metadata": {},
   "source": [
    "And statistical summaries of numeric columns:"
   ]
  },
  {
   "cell_type": "code",
   "execution_count": null,
   "id": "native-heating",
   "metadata": {},
   "outputs": [],
   "source": [
    "realty_data %>% keep(is.numeric) %>% summary()"
   ]
  },
  {
   "cell_type": "markdown",
   "id": "floating-adoption",
   "metadata": {},
   "source": [
    "And statistical summaries of numeric columns in a better format:"
   ]
  },
  {
   "cell_type": "code",
   "execution_count": null,
   "id": "racial-monitoring",
   "metadata": {},
   "outputs": [],
   "source": [
    "realty_data %>% keep(is.numeric) %>% broom::tidy() %>% mutate_if(is.numeric, round, 2) %>%\n",
    "select(column, n, mean, sd, median, min, max)"
   ]
  },
  {
   "cell_type": "markdown",
   "id": "moral-phrase",
   "metadata": {},
   "source": [
    "Now let's select some of the features"
   ]
  },
  {
   "cell_type": "code",
   "execution_count": null,
   "id": "basic-folks",
   "metadata": {},
   "outputs": [],
   "source": [
    "features <- c(\"price\", \"brut_metrekare\",\n",
    "             \"krediye_uygunluk\",\n",
    "             \"kira_getirisi\")"
   ]
  },
  {
   "cell_type": "markdown",
   "id": "italian-looking",
   "metadata": {},
   "source": [
    "Let's create the unit price column and unit rent column, filter for \"eligible for loan\" (krediye uygun) rows and trim 5% top and bottom unit price and unit_rent values:"
   ]
  },
  {
   "cell_type": "code",
   "execution_count": null,
   "id": "metric-annotation",
   "metadata": {},
   "outputs": [],
   "source": [
    "realty_data2 <- realty_data %>%\n",
    "select(all_of(features)) %>%\n",
    "mutate(unit_price = price / brut_metrekare) %>%\n",
    "mutate(unit_rent = kira_getirisi / brut_metrekare) %>%\n",
    "filter(krediye_uygunluk == \"uygun\") %>%\n",
    "na.omit %>%\n",
    "filter(between(unit_price, quantile(unit_price, 0.05), quantile(unit_price, 0.95))) %>%\n",
    "filter(between(unit_rent, quantile(unit_rent, 0.05), quantile(unit_rent, 0.95)))"
   ]
  },
  {
   "cell_type": "code",
   "execution_count": null,
   "id": "strategic-samuel",
   "metadata": {},
   "outputs": [],
   "source": [
    "realty_data2 %>% str"
   ]
  },
  {
   "cell_type": "markdown",
   "id": "yellow-debut",
   "metadata": {},
   "source": [
    "Now we will try to understand whether unit_price is related to unit_rent."
   ]
  },
  {
   "cell_type": "markdown",
   "id": "indirect-supply",
   "metadata": {},
   "source": [
    "## Visual examination:"
   ]
  },
  {
   "cell_type": "code",
   "execution_count": null,
   "id": "lasting-christopher",
   "metadata": {},
   "outputs": [],
   "source": [
    "realty_data2 %>% ggplot(aes(x = unit_rent,\n",
    "                           y = unit_price)) +\n",
    "                        geom_point() +\n",
    "geom_smooth(method = \"lm\", formula = y ~ x, se = F)"
   ]
  },
  {
   "cell_type": "markdown",
   "id": "defensive-natural",
   "metadata": {},
   "source": [
    "We see a positive and slightly strong relationship"
   ]
  },
  {
   "cell_type": "markdown",
   "id": "found-train",
   "metadata": {},
   "source": [
    "## Partition"
   ]
  },
  {
   "cell_type": "markdown",
   "id": "concrete-conservative",
   "metadata": {},
   "source": [
    "Let's determine a ratio for train partition:"
   ]
  },
  {
   "cell_type": "code",
   "execution_count": null,
   "id": "irish-anchor",
   "metadata": {},
   "outputs": [],
   "source": [
    "train_ratio <- 0.7"
   ]
  },
  {
   "cell_type": "markdown",
   "id": "geographic-omaha",
   "metadata": {},
   "source": [
    "Randomly create row indices for train partition"
   ]
  },
  {
   "cell_type": "code",
   "execution_count": null,
   "id": "junior-outline",
   "metadata": {},
   "outputs": [],
   "source": [
    "train_indices <- realty_data2[,sample(.N * train_ratio)]"
   ]
  },
  {
   "cell_type": "markdown",
   "id": "grand-chosen",
   "metadata": {},
   "source": [
    "Split the data into two partitions"
   ]
  },
  {
   "cell_type": "code",
   "execution_count": null,
   "id": "continent-syria",
   "metadata": {},
   "outputs": [],
   "source": [
    "train_data <- realty_data2[train_indices]\n",
    "test_data <- realty_data2[-train_indices]"
   ]
  },
  {
   "cell_type": "markdown",
   "id": "permanent-utilization",
   "metadata": {},
   "source": [
    "Check whether partitions are mutually exclusive:"
   ]
  },
  {
   "cell_type": "code",
   "execution_count": null,
   "id": "concrete-locking",
   "metadata": {},
   "outputs": [],
   "source": [
    "realty_data2[,.N]\n",
    "train_data[,.N]\n",
    "test_data[,.N]"
   ]
  },
  {
   "cell_type": "markdown",
   "id": "creative-taylor",
   "metadata": {},
   "source": [
    "## Train the model"
   ]
  },
  {
   "cell_type": "markdown",
   "id": "differential-velvet",
   "metadata": {},
   "source": [
    "Let's create the model:"
   ]
  },
  {
   "cell_type": "code",
   "execution_count": null,
   "id": "confused-temple",
   "metadata": {},
   "outputs": [],
   "source": [
    "model1 <- lm(unit_price ~ unit_rent, data = train_data)"
   ]
  },
  {
   "cell_type": "markdown",
   "id": "centered-blanket",
   "metadata": {},
   "source": [
    "See the summary:"
   ]
  },
  {
   "cell_type": "code",
   "execution_count": null,
   "id": "horizontal-scanning",
   "metadata": {},
   "outputs": [],
   "source": [
    "summary(model1)"
   ]
  },
  {
   "cell_type": "markdown",
   "id": "photographic-antigua",
   "metadata": {},
   "source": [
    "tidy() from broom package extract and present useful information from the model in a tabulated manner:"
   ]
  },
  {
   "cell_type": "code",
   "execution_count": null,
   "id": "stunning-internship",
   "metadata": {},
   "outputs": [],
   "source": [
    "tidy(model1)"
   ]
  },
  {
   "cell_type": "markdown",
   "id": "signal-diagnosis",
   "metadata": {},
   "source": [
    "What we see is:\n",
    "\n",
    "- The coefficient on unit_rent is significantly differant than 0, (statistically significant)\n",
    "- 44% of the overall variance in unit_price is explained by the model\n",
    "- When unit_rent is zero, unit_price is estimated to be negative. Maintenance costs and due fees (aidat) may be reason for that"
   ]
  },
  {
   "cell_type": "markdown",
   "id": "irish-fancy",
   "metadata": {},
   "source": [
    "How can you interpret the coefficient of unit_rent?"
   ]
  },
  {
   "cell_type": "markdown",
   "id": "republican-spencer",
   "metadata": {},
   "source": [
    "## Predict the model"
   ]
  },
  {
   "cell_type": "markdown",
   "id": "national-detection",
   "metadata": {},
   "source": [
    "We have actual and predicted unit_price values for the train and test sets:"
   ]
  },
  {
   "cell_type": "code",
   "execution_count": null,
   "id": "natural-asthma",
   "metadata": {},
   "outputs": [],
   "source": [
    "actual_train <- train_data$unit_price\n",
    "predicted_train <- predict(model1, train_data)"
   ]
  },
  {
   "cell_type": "code",
   "execution_count": null,
   "id": "chronic-reducing",
   "metadata": {},
   "outputs": [],
   "source": [
    "actual_test <- test_data$unit_price\n",
    "predicted_test <- predict(model1, test_data)"
   ]
  },
  {
   "cell_type": "markdown",
   "id": "possible-ebony",
   "metadata": {},
   "source": [
    "The test data was not utilized when we created the model, so it is unseen data. If the model performs well on train but not on test data, we may conclude that the model \"memorized\" and not learned the data"
   ]
  },
  {
   "cell_type": "markdown",
   "id": "quality-radiation",
   "metadata": {},
   "source": [
    "Some information on regression performance metrics can be found following the links:\n",
    "\n",
    "[Regression Model Accuracy (MAE, MSE, RMSE, R-squared) Check in R](https://www.datatechnotes.com/2019/02/regression-model-accuracy-mae-mse-rmse.html)\n",
    "\n",
    "[Measuring Performance](https://topepo.github.io/caret/measuring-performance.html)"
   ]
  },
  {
   "cell_type": "markdown",
   "id": "historical-twist",
   "metadata": {},
   "source": [
    "We calculate the R2, RMSE and MAE values using caret package for train and test predictions vs actual values:"
   ]
  },
  {
   "cell_type": "code",
   "execution_count": null,
   "id": "organizational-schema",
   "metadata": {},
   "outputs": [],
   "source": [
    "model_dt <- data.table(partition = c(\"train\", \"test\"),\n",
    "                       R2 = c(R2(predicted_train, actual_train),\n",
    "                                R2(predicted_test, actual_test)),\n",
    "                        RMSE = c(RMSE(predicted_train, actual_train),\n",
    "                                 RMSE(predicted_test, actual_test)),\n",
    "                        MAE = c(MAE(predicted_train, actual_train),\n",
    "                                MAE(predicted_test, actual_test))\n",
    "                        )"
   ]
  },
  {
   "cell_type": "code",
   "execution_count": null,
   "id": "anonymous-retrieval",
   "metadata": {},
   "outputs": [],
   "source": [
    "model_dt"
   ]
  },
  {
   "cell_type": "markdown",
   "id": "happy-calvin",
   "metadata": {},
   "source": [
    "We see that R2 is lower (but not too much) for the test set as compared to its level for the train set. The higher R2 the better the fit is\n",
    "\n",
    "RMSE and MAE measures are higher for the test set as compared to their levels for the train set. The lower the RMSE and MAE measures the better the fit is.\n",
    "\n",
    "So test performance of the model is slightly lower than its performance on the train set but the difference is not very high.\n",
    "\n",
    "Note that, the scales of RMSE and MAE measures are not standardized, they are dependent on the scale of the target feature. However R2 is a standardized measure: It is always between 0 and 1"
   ]
  },
  {
   "cell_type": "markdown",
   "id": "organizational-panama",
   "metadata": {},
   "source": [
    "We can also plot the actual vs. predicted values to see how well the model performs.\n",
    "\n",
    "Note that we add a diagonal line to better see the fit. For more information on such lines please follow:\n",
    "\n",
    "[Reference lines: horizontal, vertical, and diagonal](https://ggplot2.tidyverse.org/reference/geom_abline.html)"
   ]
  },
  {
   "cell_type": "code",
   "execution_count": null,
   "id": "collect-nutrition",
   "metadata": {},
   "outputs": [],
   "source": [
    "data.table(actual = actual_train, predictions = predicted_train) %>%\n",
    "ggplot(aes(x = actual, y = predictions)) +\n",
    "geom_point() +\n",
    "geom_abline(slope = 1, intercept = 0) +\n",
    "ggtitle(\"Train Actual vs. Predictions\")"
   ]
  },
  {
   "cell_type": "code",
   "execution_count": null,
   "id": "close-snake",
   "metadata": {},
   "outputs": [],
   "source": [
    "data.table(actual = actual_test, predictions = predicted_test) %>%\n",
    "ggplot(aes(x = actual, y = predictions)) +\n",
    "geom_point() +\n",
    "geom_abline(slope = 1, intercept = 0) +\n",
    "ggtitle(\"Test Actual vs. Predictions\")"
   ]
  },
  {
   "cell_type": "code",
   "execution_count": null,
   "id": "increasing-rachel",
   "metadata": {},
   "outputs": [],
   "source": []
  }
 ],
 "metadata": {
  "kernelspec": {
   "display_name": "R",
   "language": "R",
   "name": "ir"
  },
  "language_info": {
   "codemirror_mode": "r",
   "file_extension": ".r",
   "mimetype": "text/x-r-source",
   "name": "R",
   "pygments_lexer": "r",
   "version": "4.0.5"
  },
  "widgets": {
   "application/vnd.jupyter.widget-state+json": {
    "state": {},
    "version_major": 2,
    "version_minor": 0
   }
  }
 },
 "nbformat": 4,
 "nbformat_minor": 5
}
