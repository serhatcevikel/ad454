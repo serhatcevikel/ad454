{
 "cells": [
  {
   "cell_type": "markdown",
   "id": "monthly-soviet",
   "metadata": {},
   "source": [
    "# Regression performance metrics"
   ]
  },
  {
   "cell_type": "markdown",
   "id": "ignored-project",
   "metadata": {},
   "source": [
    "Some information on regression performance metrics can be found following the links:\n",
    "\n",
    "[Regression Model Accuracy (MAE, MSE, RMSE, R-squared) Check in R](https://www.datatechnotes.com/2019/02/regression-model-accuracy-mae-mse-rmse.html)\n",
    "\n",
    "[Measuring Performance](https://topepo.github.io/caret/measuring-performance.html)"
   ]
  },
  {
   "cell_type": "markdown",
   "id": "sunrise-taiwan",
   "metadata": {},
   "source": [
    "# Reference lines"
   ]
  },
  {
   "cell_type": "markdown",
   "id": "piano-gossip",
   "metadata": {},
   "source": [
    "[Reference lines: horizontal, vertical, and diagonal](https://ggplot2.tidyverse.org/reference/geom_abline.html)"
   ]
  },
  {
   "cell_type": "code",
   "execution_count": null,
   "id": "closing-plane",
   "metadata": {},
   "outputs": [],
   "source": []
  }
 ],
 "metadata": {
  "kernelspec": {
   "display_name": "R",
   "language": "R",
   "name": "ir"
  },
  "language_info": {
   "codemirror_mode": "r",
   "file_extension": ".r",
   "mimetype": "text/x-r-source",
   "name": "R",
   "pygments_lexer": "r",
   "version": "4.0.5"
  },
  "widgets": {
   "application/vnd.jupyter.widget-state+json": {
    "state": {},
    "version_major": 2,
    "version_minor": 0
   }
  }
 },
 "nbformat": 4,
 "nbformat_minor": 5
}
