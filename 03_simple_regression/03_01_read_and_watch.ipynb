{
 "cells": [
  {
   "cell_type": "markdown",
   "id": "sufficient-wilderness",
   "metadata": {},
   "source": [
    "# Regression performance metrics:"
   ]
  },
  {
   "cell_type": "markdown",
   "id": "material-script",
   "metadata": {},
   "source": [
    "Some information on regression performance metrics can be found following the links:\n",
    "\n",
    "[Regression Model Accuracy (MAE, MSE, RMSE, R-squared) Check in R](https://www.datatechnotes.com/2019/02/regression-model-accuracy-mae-mse-rmse.html)\n",
    "\n",
    "[Measuring Performance](https://topepo.github.io/caret/measuring-performance.html)"
   ]
  },
  {
   "cell_type": "code",
   "execution_count": null,
   "id": "useful-stanford",
   "metadata": {},
   "outputs": [],
   "source": []
  }
 ],
 "metadata": {
  "kernelspec": {
   "display_name": "R",
   "language": "R",
   "name": "ir"
  },
  "language_info": {
   "codemirror_mode": "r",
   "file_extension": ".r",
   "mimetype": "text/x-r-source",
   "name": "R",
   "pygments_lexer": "r",
   "version": "4.0.5"
  },
  "widgets": {
   "application/vnd.jupyter.widget-state+json": {
    "state": {},
    "version_major": 2,
    "version_minor": 0
   }
  }
 },
 "nbformat": 4,
 "nbformat_minor": 5
}
