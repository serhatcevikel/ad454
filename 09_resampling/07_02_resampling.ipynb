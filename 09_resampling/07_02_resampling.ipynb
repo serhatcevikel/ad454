{
 "cells": [
  {
   "cell_type": "code",
   "execution_count": null,
   "id": "cardiovascular-spouse",
   "metadata": {},
   "outputs": [],
   "source": [
    "library(tidyverse)\n",
    "library(data.table)\n",
    "library(broom) # for tidy statistical summaries\n",
    "library(caret) # for regression performance measures and resampling\n",
    "library(nycflights13) # for data"
   ]
  },
  {
   "cell_type": "code",
   "execution_count": null,
   "id": "speaking-community",
   "metadata": {},
   "outputs": [],
   "source": [
    "options(repr.matrix.max.rows=20, repr.matrix.max.cols=15) # for limiting the number of top and bottom rows of tables printed "
   ]
  },
  {
   "cell_type": "code",
   "execution_count": null,
   "id": "amber-trustee",
   "metadata": {},
   "outputs": [],
   "source": [
    "datapath <- \"~/data_ad454\""
   ]
  },
  {
   "cell_type": "markdown",
   "id": "durable-motion",
   "metadata": {},
   "source": [
    "# Cross Validation with NYC Flights Data"
   ]
  },
  {
   "cell_type": "markdown",
   "id": "0bd7e83c-51a7-498a-b481-a89f09420eb6",
   "metadata": {},
   "source": [
    "We will select a small sample from the flights dataset from nycflights13 package:"
   ]
  },
  {
   "cell_type": "markdown",
   "id": "123ce489-bb4a-47c8-a328-afd39bd76d64",
   "metadata": {},
   "source": [
    "We will create two models and apply k-fold cross validation resampling method"
   ]
  },
  {
   "cell_type": "markdown",
   "id": "5ba00fee-1b7a-4548-81f8-27d2b046e4ca",
   "metadata": {},
   "source": [
    "We will utilize model wrapper of caret package (train() function) and trainControl() function for resampling."
   ]
  },
  {
   "cell_type": "markdown",
   "id": "4fc3af07-015b-4ba5-bfd8-3be17a2ccf38",
   "metadata": {},
   "source": [
    "The following vignette and tutorial chapter show the basic usage of resampling and model training with caret:\n",
    "\n",
    "https://cran.r-project.org/web/packages/caret/vignettes/caret.html\n",
    "\n",
    "https://topepo.github.io/caret/model-training-and-tuning.html"
   ]
  },
  {
   "cell_type": "markdown",
   "id": "6b1c25ee-2885-41bf-9226-484038e0edda",
   "metadata": {},
   "source": [
    "## Data wrangling"
   ]
  },
  {
   "cell_type": "code",
   "execution_count": null,
   "id": "35209f06-7938-4a68-aa65-a32bde5f8a1b",
   "metadata": {},
   "outputs": [],
   "source": [
    "flights %>% str"
   ]
  },
  {
   "cell_type": "code",
   "execution_count": null,
   "id": "c04fdbb3-560d-4157-94a3-cfac1eb0a699",
   "metadata": {},
   "outputs": [],
   "source": [
    "flights2 <- flights %>% as.data.table"
   ]
  },
  {
   "cell_type": "code",
   "execution_count": null,
   "id": "a088eed5-b419-46f9-954e-dfafa87ffc2d",
   "metadata": {},
   "outputs": [],
   "source": [
    "flights2"
   ]
  },
  {
   "cell_type": "markdown",
   "id": "e1239571-81c6-4615-98d0-0346b1db0ba7",
   "metadata": {},
   "source": [
    "Now let's select some features: air_time and distance, omit na's and make some transformations:\n",
    "\n",
    "- airtime is hhmm format as number. However it is better that we calculate a fractional hour out of this using modulo and floor division\n",
    "- and let's calculate the speed"
   ]
  },
  {
   "cell_type": "code",
   "execution_count": null,
   "id": "381ac00f-52eb-4226-bb24-aab0e9f6f595",
   "metadata": {},
   "outputs": [],
   "source": [
    "flights3 <- flights2 %>% select(air_time, distance) %>% na.omit %>%\n",
    "mutate(air_time2 = air_time %/% 100 + (air_time %% 100)/60) %>%\n",
    "mutate(speed = distance / air_time2)"
   ]
  },
  {
   "cell_type": "markdown",
   "id": "677e7932-8060-4bf0-ad6c-a5fd49a3f432",
   "metadata": {},
   "source": [
    "Let's select a small sample to speed up resampling calculations"
   ]
  },
  {
   "cell_type": "code",
   "execution_count": null,
   "id": "95ef752a-f69d-4e2a-af57-a8b56e199bd2",
   "metadata": {},
   "outputs": [],
   "source": [
    "set.seed(2000)\n",
    "flights4 <- flights3[sample(.N, 1e4)]"
   ]
  },
  {
   "cell_type": "markdown",
   "id": "4b05c2bd-8ad9-42bd-a6ba-b3acc871ef9d",
   "metadata": {},
   "source": [
    "Now let's define some resampling method and parameters:"
   ]
  },
  {
   "cell_type": "code",
   "execution_count": null,
   "id": "e1e27dea-37d9-4090-aa48-d5492ff8ae53",
   "metadata": {},
   "outputs": [],
   "source": [
    "ctrl3 <- trainControl(method = \"cv\", number = 10, returnResamp = \"all\", savePredictions = T)"
   ]
  },
  {
   "cell_type": "markdown",
   "id": "4a91ec57-130d-496f-80ef-704289256cb9",
   "metadata": {},
   "source": [
    "And run a simple linear model using cross validation:"
   ]
  },
  {
   "cell_type": "code",
   "execution_count": null,
   "id": "53155fe3-fb91-4806-8662-6f79f12d639a",
   "metadata": {},
   "outputs": [],
   "source": [
    "modelf1 <- train(\n",
    "  speed ~ distance,\n",
    "  data = flights4,\n",
    "  method = \"lm\",\n",
    "  trControl = ctrl3\n",
    ")"
   ]
  },
  {
   "cell_type": "markdown",
   "id": "44c2cd29-8a47-4e5c-83b3-03b8fe4124ff",
   "metadata": {},
   "source": [
    "Now run a second model with 10 polynomial terms:"
   ]
  },
  {
   "cell_type": "code",
   "execution_count": null,
   "id": "78a644e6-79a1-43cc-86cf-698befb77877",
   "metadata": {},
   "outputs": [],
   "source": [
    "modelf2 <- train(\n",
    "  speed ~ poly(distance, 10),\n",
    "  data = flights4,\n",
    "  method = \"lm\",\n",
    "  trControl = ctrl3\n",
    ")"
   ]
  },
  {
   "cell_type": "markdown",
   "id": "9b2cf173-2bb3-4a2c-8d98-85778ae22508",
   "metadata": {},
   "source": [
    "Now let's get the final model summaries:"
   ]
  },
  {
   "cell_type": "code",
   "execution_count": null,
   "id": "d81ec66a-d995-400d-b4c3-729b3dec55bf",
   "metadata": {},
   "outputs": [],
   "source": [
    "modelf1 %>% summary"
   ]
  },
  {
   "cell_type": "code",
   "execution_count": null,
   "id": "5ee03968-a30a-47f5-b0c1-54f7a1488279",
   "metadata": {},
   "outputs": [],
   "source": [
    "modelf2 %>% summary"
   ]
  },
  {
   "cell_type": "markdown",
   "id": "21316033-519f-47e6-b8ce-9af6c9a48ef8",
   "metadata": {},
   "source": [
    "See that 10 degree polynomial model has a better R-squared. But is it a better model in terms of prediction?"
   ]
  },
  {
   "cell_type": "markdown",
   "id": "fac7210d-b95e-4898-a06a-cc93bfdcaf07",
   "metadata": {},
   "source": [
    "Let's check some prediction metrics of resamples: "
   ]
  },
  {
   "cell_type": "code",
   "execution_count": null,
   "id": "a962c9ca-ed67-4afa-b92e-6fb61029d6dc",
   "metadata": {},
   "outputs": [],
   "source": [
    "modelf1$resample"
   ]
  },
  {
   "cell_type": "code",
   "execution_count": null,
   "id": "3d39a569-f4a2-4734-921b-b20497b44fd0",
   "metadata": {},
   "outputs": [],
   "source": [
    "modelf2$resample"
   ]
  },
  {
   "cell_type": "markdown",
   "id": "635b518c-db4b-4a73-abef-a7e94411fce9",
   "metadata": {},
   "source": [
    "The second model, despite having a higher R2, have too much variance of R2 values across resamples.\n",
    "\n",
    "But let's better compare the distributions of those metrics for both models:"
   ]
  },
  {
   "cell_type": "code",
   "execution_count": null,
   "id": "ce85fead-02ad-4c79-9f22-084b60de8843",
   "metadata": {},
   "outputs": [],
   "source": [
    "resamps <- resamples(list(modelf1, modelf2))"
   ]
  },
  {
   "cell_type": "code",
   "execution_count": null,
   "id": "4d54e205-4ed8-4a45-82df-b32c40aa47ec",
   "metadata": {},
   "outputs": [],
   "source": [
    "summary(resamps)"
   ]
  },
  {
   "cell_type": "markdown",
   "id": "eaf8196f-f4f8-46fd-ab86-b247fd56c260",
   "metadata": {},
   "source": [
    "We see that the the second model has extreme outliers in RMSE and Rsquared values on test sets for resamples. "
   ]
  },
  {
   "cell_type": "markdown",
   "id": "70f606cc-606f-4dd9-8d34-85dbb8659b5c",
   "metadata": {},
   "source": [
    "Now let's develop our own metrics, and for example compare the coefficient of variation of RMSE and R2 values of both models:"
   ]
  },
  {
   "cell_type": "code",
   "execution_count": null,
   "id": "d27ee05c-cddc-4594-8627-418ef5e5e4b3",
   "metadata": {},
   "outputs": [],
   "source": [
    "modelf1$resample %>% as.data.table %>% .[, sd(RMSE) / mean(RMSE)]"
   ]
  },
  {
   "cell_type": "code",
   "execution_count": null,
   "id": "f37e90ee-c876-44dc-9be4-7fc3f60edaee",
   "metadata": {},
   "outputs": [],
   "source": [
    "modelf2$resample %>% as.data.table %>% .[, sd(RMSE) / mean(RMSE)]"
   ]
  },
  {
   "cell_type": "code",
   "execution_count": null,
   "id": "1ed5c23d-99fe-4bb7-86ee-1e18e12043a1",
   "metadata": {},
   "outputs": [],
   "source": [
    "modelf1$resample %>% as.data.table %>% .[, sd(Rsquared) / mean(Rsquared)]"
   ]
  },
  {
   "cell_type": "code",
   "execution_count": null,
   "id": "acecd5fa-d83a-4ca5-9df8-56ac972735f5",
   "metadata": {},
   "outputs": [],
   "source": [
    "modelf2$resample %>% as.data.table %>% .[, sd(Rsquared) / mean(Rsquared)]"
   ]
  },
  {
   "cell_type": "markdown",
   "id": "807cabff-4af3-4f89-a000-4b848820a01c",
   "metadata": {},
   "source": [
    "So the second model has a higher variance in prediction performance"
   ]
  },
  {
   "cell_type": "markdown",
   "id": "639f9838-bde4-4a2c-8a43-666589e91dad",
   "metadata": {},
   "source": [
    "Note that you can use bootstrap method for resampling by providing \"boot\" value to method argument of trainControl and use leave one out cv by providing the \"LOOCV\" value to that same argument "
   ]
  },
  {
   "cell_type": "markdown",
   "id": "5644a1a8-744d-4757-8806-5c7df3686df2",
   "metadata": {},
   "source": [
    "# Data oriented eulogy"
   ]
  },
  {
   "cell_type": "markdown",
   "id": "3874a2d9-b13d-4389-bedc-168b95fa7dd6",
   "metadata": {},
   "source": [
    "Hasan Saltık was a prominent record producer of Turkey who issued more than 200 releases in three decades. He passed away on the 3rd of June, 2021 at age 57.\n",
    "\n",
    "He never concentrated his efforts and resources on popular but culturally shallow works that could yield more financial returns. Instead, he chose to be a cultural archeologists. By his efforts with Kalan Music, his record label, many cultural gems of our lands that would otherwise be lost in space and time could be brought to daylight (like restoring and digitalizing very old and rare recordings left on shellac records of more than hundred years). Kalan releases are also a valuable part of my personal musical archive.\n",
    "\n",
    "For his distinctive contributions, he was granted an honorary doctorate degree from ITU several years ago. You can read an interview with him made upon this award:\n",
    "\n",
    "http://www.musikidergisi.com/haber-4738-hasan_saltik_ituden_fahri_doktora_kalan_muzik_uzerine\n",
    "\n",
    "To commemorate his valuable and distinctive efforts to our culture, we can follow a data orinted approach:\n",
    "\n",
    "- www.discogs.com is a great website and data provider for millions of musical releases all over the worls\n",
    "- https://www.discogs.com/developers has information on the API that return data on search queries to easily collect data\n",
    "- https://www.discogs.com/developers/#page:database,header:database-label has information on label search\n",
    "- The code for Kalan Music label is 99790.\n",
    "- We collected the basic information on releases by Kalan Music label through the rest API. The return values are in json format and it can easily be converted to a data.frame format with jsonlite package.\n",
    "- With some further wrangling and a small selection of the releases by Kalan, we can understand how important a cultural mission he completed:"
   ]
  },
  {
   "cell_type": "code",
   "execution_count": null,
   "id": "3e0b06c3-06ec-4072-90ad-dae3900079a5",
   "metadata": {},
   "outputs": [],
   "source": [
    "kalan <- fread(sprintf(\"%s/csv/09_01_kalan.csv\", datapath))"
   ]
  },
  {
   "cell_type": "code",
   "execution_count": null,
   "id": "b6df0eec-f709-4b5f-a3e2-cbce55423e19",
   "metadata": {},
   "outputs": [],
   "source": [
    "kalan"
   ]
  },
  {
   "cell_type": "code",
   "execution_count": null,
   "id": "f880697f-92f3-49e4-8300-f4f36b68ecbb",
   "metadata": {},
   "outputs": [],
   "source": []
  }
 ],
 "metadata": {
  "kernelspec": {
   "display_name": "R",
   "language": "R",
   "name": "ir"
  },
  "language_info": {
   "codemirror_mode": "r",
   "file_extension": ".r",
   "mimetype": "text/x-r-source",
   "name": "R",
   "pygments_lexer": "r",
   "version": "4.1.0"
  },
  "toc-autonumbering": true,
  "widgets": {
   "application/vnd.jupyter.widget-state+json": {
    "state": {},
    "version_major": 2,
    "version_minor": 0
   }
  }
 },
 "nbformat": 4,
 "nbformat_minor": 5
}
