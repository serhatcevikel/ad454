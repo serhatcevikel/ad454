{
 "cells": [
  {
   "cell_type": "code",
   "execution_count": null,
   "id": "f2b34ce7-bc64-4635-86ad-f22e2362d439",
   "metadata": {},
   "outputs": [],
   "source": [
    "library(tidyverse)\n",
    "library(data.table)\n",
    "library(broom) # for tidy statistical summaries\n",
    "library(caret) # for regression performance measures and resampling\n",
    "library(nycflights13) # for data"
   ]
  },
  {
   "cell_type": "code",
   "execution_count": null,
   "id": "2b0a29ef-269a-4012-bc87-84f3c55c1ddd",
   "metadata": {},
   "outputs": [],
   "source": [
    "options(repr.matrix.max.rows=20, repr.matrix.max.cols=15) # for limiting the number of top and bottom rows of tables printed "
   ]
  },
  {
   "cell_type": "code",
   "execution_count": null,
   "id": "45ee3468-4730-4caf-bad5-a82f29cc0277",
   "metadata": {},
   "outputs": [],
   "source": [
    "datapath <- \"~/data_ad454\""
   ]
  },
  {
   "cell_type": "code",
   "execution_count": null,
   "id": "5086c061-e020-47a3-8fc0-708ebfdb6222",
   "metadata": {},
   "outputs": [],
   "source": [
    "flights"
   ]
  },
  {
   "cell_type": "code",
   "execution_count": null,
   "id": "411400e6-6a0d-4619-bdc0-100532a75fb2",
   "metadata": {},
   "outputs": [],
   "source": [
    "flights %>% str"
   ]
  },
  {
   "cell_type": "markdown",
   "id": "2295622c-e306-4df5-a29b-a6967f87a990",
   "metadata": {},
   "source": [
    "You can find more information at:\n",
    "\n",
    "https://nycflights13.tidyverse.org/"
   ]
  },
  {
   "cell_type": "markdown",
   "id": "6348466b-8082-41f1-9b54-ae13536cd5bf",
   "metadata": {},
   "source": [
    "Using the flights dataset:\n",
    "\n",
    "- Please select a random subset of 20k records (resampling on +300k records can take a long time).\n",
    "- Create two multiple linear regression models to predict the dep_delay (departure delay) column. At least one model should have more than 5 independent variables. You can do any kind of data transformation and wrangling to create new features or modify existing ones\n",
    "- Run the models with 10-fold cross validation using caret (using trainControl and train functions)\n",
    "- Compare the models predictive performance using the resampling results. Which model would you prefer and why? "
   ]
  },
  {
   "cell_type": "code",
   "execution_count": null,
   "id": "7576238f-eaf0-492f-839d-dac42eee4f69",
   "metadata": {},
   "outputs": [],
   "source": []
  }
 ],
 "metadata": {
  "kernelspec": {
   "display_name": "R",
   "language": "R",
   "name": "ir"
  },
  "language_info": {
   "codemirror_mode": "r",
   "file_extension": ".r",
   "mimetype": "text/x-r-source",
   "name": "R",
   "pygments_lexer": "r",
   "version": "4.1.0"
  }
 },
 "nbformat": 4,
 "nbformat_minor": 5
}
