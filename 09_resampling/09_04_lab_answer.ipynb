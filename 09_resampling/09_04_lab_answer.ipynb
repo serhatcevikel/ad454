{
 "cells": [
  {
   "cell_type": "code",
   "execution_count": null,
   "id": "f2b34ce7-bc64-4635-86ad-f22e2362d439",
   "metadata": {},
   "outputs": [],
   "source": [
    "library(tidyverse)\n",
    "library(data.table)\n",
    "library(broom) # for tidy statistical summaries\n",
    "library(caret) # for regression performance measures and resampling\n",
    "#library(nycflights13) # for data"
   ]
  },
  {
   "cell_type": "code",
   "execution_count": null,
   "id": "2b0a29ef-269a-4012-bc87-84f3c55c1ddd",
   "metadata": {},
   "outputs": [],
   "source": [
    "options(repr.matrix.max.rows=20, repr.matrix.max.cols=15) # for limiting the number of top and bottom rows of tables printed "
   ]
  },
  {
   "cell_type": "code",
   "execution_count": null,
   "id": "45ee3468-4730-4caf-bad5-a82f29cc0277",
   "metadata": {},
   "outputs": [],
   "source": [
    "datapath <- \"~/data_ad454\""
   ]
  },
  {
   "cell_type": "code",
   "execution_count": null,
   "id": "cfbe787f-c1c0-4696-bb8d-c20527dab335",
   "metadata": {},
   "outputs": [],
   "source": [
    "flights <- readRDS(sprintf(\"%s/rds/09_01_flights.rds\", datapath))"
   ]
  },
  {
   "cell_type": "code",
   "execution_count": null,
   "id": "5086c061-e020-47a3-8fc0-708ebfdb6222",
   "metadata": {},
   "outputs": [],
   "source": [
    "flights"
   ]
  },
  {
   "cell_type": "code",
   "execution_count": null,
   "id": "411400e6-6a0d-4619-bdc0-100532a75fb2",
   "metadata": {},
   "outputs": [],
   "source": [
    "flights %>% str"
   ]
  },
  {
   "cell_type": "markdown",
   "id": "2295622c-e306-4df5-a29b-a6967f87a990",
   "metadata": {},
   "source": [
    "You can find more information at:\n",
    "\n",
    "https://nycflights13.tidyverse.org/"
   ]
  },
  {
   "cell_type": "markdown",
   "id": "6348466b-8082-41f1-9b54-ae13536cd5bf",
   "metadata": {},
   "source": [
    "Using the flights dataset:\n",
    "\n",
    "- Please select a random subset of 20k records (resampling on +300k records can take a long time).\n",
    "- Create two multiple linear regression models to predict the dep_delay (departure delay) column. At least one model should have more than 5 independent variables. You can do any kind of data transformation and wrangling to create new features or modify existing ones\n",
    "- Run the models with 10-fold cross validation using caret (using trainControl and train functions)\n",
    "- Compare the models predictive performance using the resampling results. Which model would you prefer and why? "
   ]
  },
  {
   "cell_type": "markdown",
   "id": "a4efd3b1-66d3-4411-b9dc-ad40ea940216",
   "metadata": {},
   "source": [
    "# Answer"
   ]
  },
  {
   "cell_type": "code",
   "execution_count": null,
   "id": "a8c8ffd9-1292-4423-8597-7414fbc07161",
   "metadata": {},
   "outputs": [],
   "source": [
    "flights <- copy(flights)\n",
    "setDT(flights)"
   ]
  },
  {
   "cell_type": "code",
   "execution_count": null,
   "id": "77dfba8e-3c40-43c9-94cb-0bcdb8e00206",
   "metadata": {},
   "outputs": [],
   "source": [
    "flights %>% str"
   ]
  },
  {
   "cell_type": "code",
   "execution_count": null,
   "id": "88ca821f-c698-45ac-9f04-b17b57df5185",
   "metadata": {},
   "outputs": [],
   "source": [
    "# order by origin and date/time\n",
    "setorder(flights, origin, year, month, day, dep_time)"
   ]
  },
  {
   "cell_type": "code",
   "execution_count": null,
   "id": "f4fa968d-2938-4972-87ef-2e0019e570fe",
   "metadata": {},
   "outputs": [],
   "source": [
    "# calculate 10 flight moving average of dep delay (excluding the last one) for each origin\n",
    "flights[, dep_delay_ma := c(NA, RcppRoll::roll_meanr(dep_delay[-.N], 10)), by = origin]"
   ]
  },
  {
   "cell_type": "code",
   "execution_count": null,
   "id": "58c7976d-81d9-4246-875b-005ef19aed10",
   "metadata": {},
   "outputs": [],
   "source": [
    "# order by destination and date/time\n",
    "setorder(flights, dest, year, month, day, dep_time)"
   ]
  },
  {
   "cell_type": "code",
   "execution_count": null,
   "id": "a66b4158-8ef8-4d87-b95b-933187cde65c",
   "metadata": {},
   "outputs": [],
   "source": [
    "# calculate 10 flight moving average of arr delay (excluding the last one) for each destination\n",
    "flights[, arr_delay_ma := c(NA, RcppRoll::roll_meanr(arr_delay[-.N], 10)), by = dest]"
   ]
  },
  {
   "cell_type": "code",
   "execution_count": null,
   "id": "b81f34a6-f007-450e-89c3-a16fcb434cea",
   "metadata": {},
   "outputs": [],
   "source": [
    "# get the number of flights for each origin/dest and date\n",
    "flights[, origin_counts := .N, by = c(\"origin\", \"year\", \"month\", \"day\")]\n",
    "flights[, dest_counts := .N, by = c(\"dest\", \"year\", \"month\", \"day\")]"
   ]
  },
  {
   "cell_type": "code",
   "execution_count": null,
   "id": "a022be02-b1ed-4344-a01f-5b0bc61468bd",
   "metadata": {},
   "outputs": [],
   "source": [
    "flights <- na.omit(flights)"
   ]
  },
  {
   "cell_type": "code",
   "execution_count": null,
   "id": "aef93513-1cac-458f-96de-78ae64ba7030",
   "metadata": {},
   "outputs": [],
   "source": [
    "flights2 <- flights[sample(.N, 2e4)]"
   ]
  },
  {
   "cell_type": "code",
   "execution_count": null,
   "id": "4cbaefb8-13d9-42d4-99fa-d26e16bdb0b7",
   "metadata": {},
   "outputs": [],
   "source": [
    "ctrl3 <- trainControl(method = \"cv\", number = 10, returnResamp = \"all\", savePredictions = T)"
   ]
  },
  {
   "cell_type": "code",
   "execution_count": null,
   "id": "da423880-26da-4bbf-9af6-34e090eb0ccb",
   "metadata": {},
   "outputs": [],
   "source": [
    "modelf1 <- train(\n",
    "  dep_delay ~ arr_delay_ma + dep_delay_ma,\n",
    "  data = flights2,\n",
    "  method = \"lm\",\n",
    "  trControl = ctrl3\n",
    ")"
   ]
  },
  {
   "cell_type": "code",
   "execution_count": null,
   "id": "d798323e-a652-44a2-a890-69e390d4d1ff",
   "metadata": {},
   "outputs": [],
   "source": [
    "modelf2 <- train(\n",
    "  dep_delay ~ arr_delay_ma + dep_delay_ma + origin_counts + dest_counts + origin*hour + month + air_time,\n",
    "  data = flights2,\n",
    "  method = \"lm\",\n",
    "  trControl = ctrl3\n",
    ")"
   ]
  },
  {
   "cell_type": "code",
   "execution_count": null,
   "id": "685629ff-b07b-4977-9674-ee8a0749a048",
   "metadata": {},
   "outputs": [],
   "source": [
    "resamps <- resamples(list(modelf1, modelf2))"
   ]
  },
  {
   "cell_type": "code",
   "execution_count": null,
   "id": "6b64fc94-12b9-4012-9771-d9cadb54cbf1",
   "metadata": {},
   "outputs": [],
   "source": [
    "summary(resamps)"
   ]
  },
  {
   "cell_type": "markdown",
   "id": "51576ef9-e98f-425d-ad79-21b3a40f6ff6",
   "metadata": {},
   "source": [
    "- 3rd quartile RMSE is lower for Model2\n",
    "- 1st quartile R2 is higher for Model2\n",
    "\n",
    "Model 2 is preferred with these metrics (you may choose different metrics or create your own ones)"
   ]
  },
  {
   "cell_type": "code",
   "execution_count": null,
   "id": "67651113-f9ec-4206-9959-a17c63d05120",
   "metadata": {},
   "outputs": [],
   "source": []
  }
 ],
 "metadata": {
  "kernelspec": {
   "display_name": "R",
   "language": "R",
   "name": "ir"
  },
  "language_info": {
   "codemirror_mode": "r",
   "file_extension": ".r",
   "mimetype": "text/x-r-source",
   "name": "R",
   "pygments_lexer": "r",
   "version": "4.1.0"
  }
 },
 "nbformat": 4,
 "nbformat_minor": 5
}
