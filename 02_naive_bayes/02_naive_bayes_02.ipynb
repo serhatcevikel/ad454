{
 "cells": [
  {
   "cell_type": "markdown",
   "metadata": {},
   "source": [
    "# NAIVE BAYES WITH IONOSPHERE RADAR DATA"
   ]
  },
  {
   "cell_type": "markdown",
   "metadata": {},
   "source": [
    "The ionosphere is part of Earth’s upper atmosphere.\n",
    "\n",
    "It is a very active part of the atmosphere, ionized by solar radiation as a result of the Sun’s activity.\n",
    "\n",
    "In ionospheric research, radar returns from the ionosphere are classified as either “good” or “bad”.\n",
    "\n",
    "Good returns show evidence of some type of structure in the ionosphere, and are suitable for further analysis.\n",
    "\n",
    "This is not the case for bad returns. We build a Naive Bayes classifier (NBC) to identify good and bad radar returns."
   ]
  },
  {
   "cell_type": "markdown",
   "metadata": {},
   "source": [
    "If you want to continue from a previously saved session state:"
   ]
  },
  {
   "cell_type": "code",
   "execution_count": null,
   "metadata": {},
   "outputs": [],
   "source": [
    "sessionfile <- \"02_naive_bayes_02.RData\"\n",
    "\n",
    "if(file.exists(sessionfile)) load(sessionfile)"
   ]
  },
  {
   "cell_type": "markdown",
   "metadata": {},
   "source": [
    "Load the necessary libraries:"
   ]
  },
  {
   "cell_type": "code",
   "execution_count": null,
   "metadata": {},
   "outputs": [],
   "source": [
    "library(data.table) # to handle the data in a more convenient manner\n",
    "library(tidyverse) # for a better work flow and more tools to wrangle and visualize the data\n",
    "library(evclass) # for ionosphere data\n",
    "library(listviewer) # for navigating nested/list objects\n",
    "library(plotly) # for interactive visualizations\n",
    "library(magrittr) # handling data structures\n",
    "library(stringr) # regex\n",
    "library(e1071) # for naive bayes\n",
    "library(knitr) # for better table printing\n",
    "library(kableExtra) # for better table printing\n",
    "library(IRdisplay) # printing html tables from kable\n",
    "library(rlist) # for handling list structures\n",
    "library(stargazer) # beautiful tables from R statistical output\n",
    "library(caret) # for model performance evaluation\n",
    "library(corrplot) # for correlation plots\n",
    "library(scales) # for formatting numbers\n",
    "options(warn = -1) # for suppressing messages\n"
   ]
  },
  {
   "cell_type": "markdown",
   "metadata": {},
   "source": [
    "# Collect and explore data"
   ]
  },
  {
   "cell_type": "markdown",
   "metadata": {},
   "source": [
    "We load the data from evclass package:"
   ]
  },
  {
   "cell_type": "code",
   "execution_count": null,
   "metadata": {},
   "outputs": [],
   "source": [
    "data (\"ionosphere\" , package = \"evclass\")"
   ]
  },
  {
   "cell_type": "markdown",
   "metadata": {},
   "source": [
    "Some information on the dataset from \"?ionosphere\":"
   ]
  },
  {
   "cell_type": "markdown",
   "metadata": {},
   "source": [
    "Ionosphere dataset\n",
    "\n",
    "Description\n",
    "\n",
    "This dataset was collected by a radar system and consists of phased array of 16 high-frequency antennas with a total transmitted power of the order of 6.4 kilowatts. The targets were free electrons in the ionosphere. \"Good\" radar returns are those showing evidence of some type of structure in the ionosphere. \"Bad\" returns are those that do not. There are 351 instances and 34 numeric attributes. The first 175 instances are training data, the rest are test data. This version of dataset was used by Zouhal and Denoeux (1998).\n",
    "\n",
    "Format\n",
    "A list with two elements:\n",
    "\n",
    "x\n",
    "\n",
    "The 351 x 18 object-attribute matrix.\n",
    "\n",
    "y\n",
    "\n",
    "A 351-vector containing the class labels."
   ]
  },
  {
   "cell_type": "markdown",
   "metadata": {},
   "source": [
    "And view the structure:"
   ]
  },
  {
   "cell_type": "code",
   "execution_count": null,
   "metadata": {},
   "outputs": [],
   "source": [
    "str (ionosphere)"
   ]
  },
  {
   "cell_type": "markdown",
   "metadata": {},
   "source": [
    "We can navigate list or similar nested objects as such:"
   ]
  },
  {
   "cell_type": "code",
   "execution_count": null,
   "metadata": {
    "scrolled": true
   },
   "outputs": [],
   "source": [
    "listviewer::jsonedit(ionosphere, mode = \"form\")"
   ]
  },
  {
   "cell_type": "markdown",
   "metadata": {},
   "source": [
    "The object is a composed of 2 list objects. The first list object\n",
    "contains the attributes.\n",
    "\n",
    "There are 34 in total.\n",
    "\n",
    "The second list object, contains the target variable. The target variable is\n",
    "binary.\n",
    "\n",
    "1 denotes \"good\" while, 2 denotes \"bad\" labels:"
   ]
  },
  {
   "cell_type": "code",
   "execution_count": null,
   "metadata": {},
   "outputs": [],
   "source": [
    "str(ionosphere$y)"
   ]
  },
  {
   "cell_type": "markdown",
   "metadata": {},
   "source": [
    "## Target variable"
   ]
  },
  {
   "cell_type": "markdown",
   "metadata": {},
   "source": [
    "View the counts of unique values:"
   ]
  },
  {
   "cell_type": "code",
   "execution_count": null,
   "metadata": {},
   "outputs": [],
   "source": [
    "table(ionosphere$y)"
   ]
  },
  {
   "cell_type": "markdown",
   "metadata": {},
   "source": [
    "**EXERCISE 1:** Plot the histogram of ionosphere$y using plotly library (we used in 01_knn_02)\n",
    "\n",
    "Note that for better interpretation, you should convert the number into \"good\" and \"bad\" labels while plotting\n",
    "\n",
    "(3 minutes)"
   ]
  },
  {
   "cell_type": "markdown",
   "metadata": {
    "solution2": "shown",
    "solution2_first": true
   },
   "source": [
    "**SOLUTION 1:**"
   ]
  },
  {
   "cell_type": "code",
   "execution_count": null,
   "metadata": {
    "scrolled": false,
    "solution2": "shown"
   },
   "outputs": [],
   "source": [
    "plotly::plot_ly(x = factor(ionosphere$y, labels = c(\"good\", \"bad\")),\n",
    "        type = \"histogram\")"
   ]
  },
  {
   "cell_type": "markdown",
   "metadata": {},
   "source": [
    "## Attribute distribution"
   ]
  },
  {
   "cell_type": "markdown",
   "metadata": {},
   "source": [
    "Ideally, the attributes would be generated from a Normal distribution"
   ]
  },
  {
   "cell_type": "markdown",
   "metadata": {},
   "source": [
    "First, we'd better name the columns to handle attributes:\n",
    "sprintf is a versatile tool for printing formatted numbers and strings"
   ]
  },
  {
   "cell_type": "code",
   "execution_count": null,
   "metadata": {},
   "outputs": [],
   "source": [
    "# add leading zeros to fill 2 digits\n",
    "colnames(ionosphere$x) <- sprintf(\"V%02d\", 1:ncol(ionosphere$x))\n",
    "colnames(ionosphere$x)"
   ]
  },
  {
   "cell_type": "code",
   "execution_count": null,
   "metadata": {},
   "outputs": [],
   "source": [
    "attributes(ionosphere$x)"
   ]
  },
  {
   "cell_type": "markdown",
   "metadata": {},
   "source": [
    "Let's save the x item into a separate data.table:"
   ]
  },
  {
   "cell_type": "code",
   "execution_count": null,
   "metadata": {},
   "outputs": [],
   "source": [
    "ion_attr <- as.data.table(ionosphere$x)"
   ]
  },
  {
   "cell_type": "code",
   "execution_count": null,
   "metadata": {},
   "outputs": [],
   "source": [
    "str(ion_attr)"
   ]
  },
  {
   "cell_type": "markdown",
   "metadata": {},
   "source": [
    "Let's get some statistical summaries:"
   ]
  },
  {
   "cell_type": "code",
   "execution_count": null,
   "metadata": {
    "scrolled": false
   },
   "outputs": [],
   "source": [
    "summary(ion_attr)"
   ]
  },
  {
   "cell_type": "markdown",
   "metadata": {},
   "source": [
    "And pretty print those summaries:"
   ]
  },
  {
   "cell_type": "code",
   "execution_count": null,
   "metadata": {},
   "outputs": [],
   "source": [
    "summaries <- summary(ion_attr) %>% # get statistical summaries\n",
    "    apply(1, function(x) stringr::str_extract(x, \"(?<=:).+\") %>% as.numeric) %>%\n",
    "    magrittr::set_colnames(names(summary(1))) %>% # set column names\n",
    "    magrittr::set_rownames(names(ion_attr)) # set row names\n",
    "\n",
    "summaries"
   ]
  },
  {
   "cell_type": "markdown",
   "metadata": {},
   "source": [
    "Or similarly but more concisely:"
   ]
  },
  {
   "cell_type": "code",
   "execution_count": null,
   "metadata": {},
   "outputs": [],
   "source": [
    "ion_attr[,lapply(.SD, function(x) c(mean(x), quantile(x)))][c(2:4,1,5:6)] %>%\n",
    "    t() %>%\n",
    "    magrittr::set_colnames(names(summary(1)))"
   ]
  },
  {
   "cell_type": "markdown",
   "metadata": {},
   "source": [
    "Or using stargazer function:"
   ]
  },
  {
   "cell_type": "code",
   "execution_count": null,
   "metadata": {},
   "outputs": [],
   "source": [
    "capture.output(stargazer::stargazer(ion_attr, type = \"html\")) %>%\n",
    "    paste(collapse=\"\\n\") %>%\n",
    "    IRdisplay::display_html()"
   ]
  },
  {
   "cell_type": "markdown",
   "metadata": {},
   "source": [
    "And we get the density plots:"
   ]
  },
  {
   "cell_type": "code",
   "execution_count": null,
   "metadata": {
    "scrolled": true
   },
   "outputs": [],
   "source": [
    "ion_attr[,V03:V11] %>% # select columns\n",
    "    tidyr::gather() %>% # reshape into long format in columns \"key\" and \"value\"\n",
    "    ggplot(aes(value)) + # plot value\n",
    "        facet_wrap(~ key) + # divide into separate plots by key\n",
    "        geom_density(fill = \"green\") + # get density plots\n",
    "        xlim(c(-1.5,1.5)) # align to same axis limits"
   ]
  },
  {
   "cell_type": "markdown",
   "metadata": {},
   "source": [
    "Many attributes are highly skewed, and deviate quite considerably for the bell shaped Normal distribution.\n",
    "\n",
    "It seems, any hopes the data are Gaussian, are dashed!\n",
    "\n",
    "Lack of Normality is common place with real world data.\n",
    "\n",
    "NBC often performs well despite this type of violation. So, lets continue with building our model. "
   ]
  },
  {
   "cell_type": "markdown",
   "metadata": {},
   "source": [
    "# Preparing the data"
   ]
  },
  {
   "cell_type": "markdown",
   "metadata": {},
   "source": [
    "## Drop unnecessary variables"
   ]
  },
  {
   "cell_type": "markdown",
   "metadata": {},
   "source": [
    "As we saw from the statistical summaries, V02 has no variation at all and is constant at 0:"
   ]
  },
  {
   "cell_type": "code",
   "execution_count": null,
   "metadata": {},
   "outputs": [],
   "source": [
    "summaries"
   ]
  },
  {
   "cell_type": "code",
   "execution_count": null,
   "metadata": {},
   "outputs": [],
   "source": [
    "summaries[\"V02\",,drop = F]"
   ]
  },
  {
   "cell_type": "markdown",
   "metadata": {},
   "source": [
    "So we delete it from our attribute object:"
   ]
  },
  {
   "cell_type": "code",
   "execution_count": null,
   "metadata": {
    "scrolled": true
   },
   "outputs": [],
   "source": [
    "ion_attr[, V02 := NULL]\n",
    "names(ion_attr)"
   ]
  },
  {
   "cell_type": "markdown",
   "metadata": {},
   "source": [
    "V01 is also weird:"
   ]
  },
  {
   "cell_type": "code",
   "execution_count": null,
   "metadata": {},
   "outputs": [],
   "source": [
    "summaries[\"V01\",,drop = F]"
   ]
  },
  {
   "cell_type": "code",
   "execution_count": null,
   "metadata": {},
   "outputs": [],
   "source": [
    "ion_attr[,unique(V01)]"
   ]
  },
  {
   "cell_type": "markdown",
   "metadata": {},
   "source": [
    "It only takes one of (0,1). We drop it to leave only continous variables:"
   ]
  },
  {
   "cell_type": "code",
   "execution_count": null,
   "metadata": {},
   "outputs": [],
   "source": [
    "ion_attr[, V01 := NULL]\n",
    "names(ion_attr)"
   ]
  },
  {
   "cell_type": "markdown",
   "metadata": {},
   "source": [
    "## Factorize labels"
   ]
  },
  {
   "cell_type": "markdown",
   "metadata": {},
   "source": [
    "We save the labels vector as factor separately:"
   ]
  },
  {
   "cell_type": "code",
   "execution_count": null,
   "metadata": {},
   "outputs": [],
   "source": [
    "labels <- factor(ionosphere$y, labels = c(\"good\", \"bad\"))"
   ]
  },
  {
   "cell_type": "markdown",
   "metadata": {},
   "source": [
    "## Create train indices"
   ]
  },
  {
   "cell_type": "markdown",
   "metadata": {},
   "source": [
    "**EXERCISE 2:** select 251 indices arbitrarily and save into a vector named \"train\"\n",
    "\n",
    "Use the data.table placeholder .I\n",
    "\n",
    "(2 minutes)"
   ]
  },
  {
   "cell_type": "markdown",
   "metadata": {
    "solution2": "hidden",
    "solution2_first": true
   },
   "source": [
    "**SOLUTION 2:**"
   ]
  },
  {
   "cell_type": "code",
   "execution_count": null,
   "metadata": {
    "solution2": "hidden"
   },
   "outputs": [],
   "source": [
    "set.seed(2018)\n",
    "train <- ion_attr[,sample(.I, 251)]"
   ]
  },
  {
   "cell_type": "markdown",
   "metadata": {},
   "source": [
    "# Train model"
   ]
  },
  {
   "cell_type": "markdown",
   "metadata": {},
   "source": [
    "We can use the naive bayes function two ways:"
   ]
  },
  {
   "cell_type": "markdown",
   "metadata": {},
   "source": [
    "```\n",
    "Usage\n",
    "## S3 method for class 'formula'\n",
    "naiveBayes(formula, data, laplace = 0, ..., subset, na.action = na.pass)\n",
    "## Default S3 method:\n",
    "naiveBayes(x, y, laplace = 0, ...)\n",
    "\n",
    "\n",
    "## S3 method for class 'naiveBayes'\n",
    "predict(object, newdata,\n",
    "  type = c(\"class\", \"raw\"), threshold = 0.001, eps = 0, ...)\n",
    "\n",
    "Arguments\n",
    "x\t\n",
    "A numeric matrix, or a data frame of categorical and/or numeric variables.\n",
    "\n",
    "y\t\n",
    "Class vector.\n",
    "\n",
    "formula\t\n",
    "A formula of the form class ~ x1 + x2 +\n",
    "      .... Interactions are not allowed.\n",
    "\n",
    "data\t\n",
    "Either a data frame of predictors (categorical and/or numeric) or a contingency table.\n",
    "```"
   ]
  },
  {
   "cell_type": "markdown",
   "metadata": {},
   "source": [
    "With the first usage:"
   ]
  },
  {
   "cell_type": "code",
   "execution_count": null,
   "metadata": {},
   "outputs": [],
   "source": [
    "fit1 <- e1071::naiveBayes(formula = labels[train] ~ ., data = ion_attr[train])"
   ]
  },
  {
   "cell_type": "markdown",
   "metadata": {},
   "source": [
    "With the second usage:"
   ]
  },
  {
   "cell_type": "markdown",
   "metadata": {},
   "source": [
    "**EXERCISE 3:** Create the NBC model with the second usage (as in the 02_naive_bayes_01 example) and save into fit2 variable\n",
    "\n",
    "(2 minutes)"
   ]
  },
  {
   "cell_type": "markdown",
   "metadata": {
    "solution2": "hidden",
    "solution2_first": true
   },
   "source": [
    "**SOLUTION 3:**"
   ]
  },
  {
   "cell_type": "code",
   "execution_count": null,
   "metadata": {
    "solution2": "hidden"
   },
   "outputs": [],
   "source": [
    "fit2 <- e1071::naiveBayes(x = ion_attr[train], y = labels[train], laplace = laplace)"
   ]
  },
  {
   "cell_type": "markdown",
   "metadata": {},
   "source": [
    "Now we can side by side compare both and see that, results are the same:"
   ]
  },
  {
   "cell_type": "code",
   "execution_count": null,
   "metadata": {},
   "outputs": [],
   "source": [
    "mapply(function(x, y, fit_1, fit_2)\n",
    "    {\n",
    "        knitr::kable(list(data.frame(fit1 = fit_1),\n",
    "                            list(y),\n",
    "                            data.frame(fit2 = fit_2),\n",
    "                            list(y)\n",
    "                         ),\n",
    "                    ) %>%\n",
    "                    as.character() %>%\n",
    "                    IRdisplay::display_html()\n",
    "    },\n",
    "        flat1 <- rlist::list.flatten(fit1[-length(fit1)]),\n",
    "        flat2 <- rlist::list.flatten(fit2[-length(fit1)]),\n",
    "        names(flat1),\n",
    "        names(flat2)\n",
    "      )"
   ]
  },
  {
   "cell_type": "markdown",
   "metadata": {},
   "source": [
    "Let's see the structure of the fit output:"
   ]
  },
  {
   "cell_type": "code",
   "execution_count": null,
   "metadata": {},
   "outputs": [],
   "source": [
    "attributes(fit1)\n",
    "str(fit1)"
   ]
  },
  {
   "cell_type": "code",
   "execution_count": null,
   "metadata": {},
   "outputs": [],
   "source": [
    "fit1$tables$V03"
   ]
  },
  {
   "cell_type": "code",
   "execution_count": null,
   "metadata": {},
   "outputs": [],
   "source": [
    "listviewer::jsonedit(fit1)"
   ]
  },
  {
   "cell_type": "markdown",
   "metadata": {},
   "source": [
    "Let's see the label distribution for our train set:"
   ]
  },
  {
   "cell_type": "code",
   "execution_count": null,
   "metadata": {},
   "outputs": [],
   "source": [
    "table(labels[train])"
   ]
  },
  {
   "cell_type": "markdown",
   "metadata": {},
   "source": [
    "# Model prediction"
   ]
  },
  {
   "cell_type": "markdown",
   "metadata": {},
   "source": [
    "**EXERCISE 4:** Save the \"raw\" predictions (posterior probabilities) on test data (with the complement of train indices) into \"pred_probs\" object\n",
    "\n",
    "Reformat the pred_probs as 2 decimal digit percentages and save into \"pred_percent\" object\n",
    "\n",
    "(4 minutes)"
   ]
  },
  {
   "cell_type": "markdown",
   "metadata": {
    "solution2": "hidden",
    "solution2_first": true
   },
   "source": [
    "**SOLUTION 4:**"
   ]
  },
  {
   "cell_type": "markdown",
   "metadata": {
    "solution2": "hidden"
   },
   "source": [
    "First get the predictions as \"raw\": posterior probs. for good and bad:"
   ]
  },
  {
   "cell_type": "code",
   "execution_count": null,
   "metadata": {
    "solution2": "hidden"
   },
   "outputs": [],
   "source": [
    "pred_probs <- predict(fit1, ion_attr[-train], type = \"raw\")"
   ]
  },
  {
   "cell_type": "markdown",
   "metadata": {
    "solution2": "hidden"
   },
   "source": [
    "And see the probabilities in percent format:"
   ]
  },
  {
   "cell_type": "code",
   "execution_count": null,
   "metadata": {
    "solution2": "hidden"
   },
   "outputs": [],
   "source": [
    "pred_percent <- pred_probs %>% apply(2, scales::percent, accuracy = 0.01)\n",
    "pred_percent"
   ]
  },
  {
   "cell_type": "markdown",
   "metadata": {},
   "source": [
    "And let's add classification labels using colnames and max.col functions:"
   ]
  },
  {
   "cell_type": "code",
   "execution_count": null,
   "metadata": {},
   "outputs": [],
   "source": [
    "labs <- colnames(pred_percent)[max.col(pred_probs)]\n",
    "\n",
    "pred_percent %>%\n",
    "    magrittr::set_rownames(labs)"
   ]
  },
  {
   "cell_type": "markdown",
   "metadata": {},
   "source": [
    "We can directly get predicted class labels with \"class\" option to type argument in predict:"
   ]
  },
  {
   "cell_type": "markdown",
   "metadata": {},
   "source": [
    "**EXERCISE 5:** Directly get predicted class labels with \"class\" option to type argument in predict and save into \"pred\" object\n",
    "\n",
    "(1 minute)"
   ]
  },
  {
   "cell_type": "markdown",
   "metadata": {
    "solution2": "hidden",
    "solution2_first": true
   },
   "source": [
    "**SOLUTION 5:**"
   ]
  },
  {
   "cell_type": "code",
   "execution_count": null,
   "metadata": {
    "solution2": "hidden"
   },
   "outputs": [],
   "source": [
    "pred <- predict(fit1, ion_attr[-train], type = \"class\")\n",
    "pred"
   ]
  },
  {
   "cell_type": "markdown",
   "metadata": {},
   "source": [
    "Our calculation and automatic classification yield the same results:"
   ]
  },
  {
   "cell_type": "code",
   "execution_count": null,
   "metadata": {},
   "outputs": [],
   "source": [
    "identical(labs, as.character(pred))"
   ]
  },
  {
   "cell_type": "markdown",
   "metadata": {},
   "source": [
    "# Model evaluation"
   ]
  },
  {
   "cell_type": "markdown",
   "metadata": {},
   "source": [
    "We will create a confusion matrix using the predicted labels"
   ]
  },
  {
   "cell_type": "code",
   "execution_count": null,
   "metadata": {},
   "outputs": [],
   "source": [
    "result <- caret::confusionMatrix(pred, labels[-train])\n",
    "result"
   ]
  },
  {
   "cell_type": "code",
   "execution_count": null,
   "metadata": {},
   "outputs": [],
   "source": [
    "str(result)"
   ]
  },
  {
   "cell_type": "markdown",
   "metadata": {},
   "source": [
    "Overall accuracy is:"
   ]
  },
  {
   "cell_type": "code",
   "execution_count": null,
   "metadata": {},
   "outputs": [],
   "source": [
    "result$overall[1]"
   ]
  },
  {
   "cell_type": "markdown",
   "metadata": {},
   "source": [
    "To calculate it manually:"
   ]
  },
  {
   "cell_type": "code",
   "execution_count": null,
   "metadata": {},
   "outputs": [],
   "source": [
    "conf <- result$table\n",
    "\n",
    "sum(diag(conf)) / sum(conf)"
   ]
  },
  {
   "cell_type": "markdown",
   "metadata": {},
   "source": [
    "# Improve model performance"
   ]
  },
  {
   "cell_type": "markdown",
   "metadata": {},
   "source": [
    "## Cross correlations"
   ]
  },
  {
   "cell_type": "markdown",
   "metadata": {},
   "source": [
    "One way to improve performance, is to reexamine the optimal conditions for the NBC.\n",
    "\n",
    "One key assumption is the independence of the attributes.\n",
    "\n",
    "We can use the correlation coefficient as a crude proxy to assess how well this assumption is met.\n",
    "\n",
    "The idea is that if the features are independent they will have zero correlation."
   ]
  },
  {
   "cell_type": "markdown",
   "metadata": {},
   "source": [
    "**EXERCISE 6:** Create a correlation plot of all attribute values\n",
    "\n",
    "You can recycle the previous code we executed, or play with options to get different kind of visualizations (coloring, lower/upper type, size, etc)\n",
    "\n",
    "(4 minutes)"
   ]
  },
  {
   "cell_type": "markdown",
   "metadata": {
    "solution2": "hidden",
    "solution2_first": true
   },
   "source": [
    "**SOLUTION 6:**"
   ]
  },
  {
   "cell_type": "code",
   "execution_count": null,
   "metadata": {
    "solution2": "hidden"
   },
   "outputs": [],
   "source": [
    "cor(ion_attr) %>%\n",
    "corrplot::corrplot.mixed(upper = \"ellipse\",\n",
    "                         lower = \"number\",\n",
    "                         tl.pos = \"lt\",\n",
    "                         number.cex = .5,\n",
    "                         lower.col = \"black\",\n",
    "                         tl.cex = 0.7)"
   ]
  },
  {
   "cell_type": "markdown",
   "metadata": {},
   "source": [
    "Removing highly correlated items, might improve performance.\n",
    "\n",
    "We will drop variables that have a correlation in excess of 0.6"
   ]
  },
  {
   "cell_type": "markdown",
   "metadata": {},
   "source": [
    "Starting from the original dataset, we only drop constant valued V02 and keep binary valued V01:"
   ]
  },
  {
   "cell_type": "code",
   "execution_count": null,
   "metadata": {},
   "outputs": [],
   "source": [
    "ion_attr2 <- (as.data.table(ionosphere$x))\n",
    "ion_attr2[,V02 := NULL]\n",
    "ion_attr2"
   ]
  },
  {
   "cell_type": "markdown",
   "metadata": {},
   "source": [
    "And filter correlations:"
   ]
  },
  {
   "cell_type": "code",
   "execution_count": null,
   "metadata": {},
   "outputs": [],
   "source": [
    "vars <- caret::findCorrelation(cor(ion_attr2),\n",
    "                      cutoff = 0.6,\n",
    "                      exact = T,\n",
    "                      names = T)\n",
    "\n",
    "vars"
   ]
  },
  {
   "cell_type": "code",
   "execution_count": null,
   "metadata": {},
   "outputs": [],
   "source": [
    "sprintf(\"So variables %s have a correlation higher than the cutoff\", paste(vars, collapse = \",\"))"
   ]
  },
  {
   "cell_type": "markdown",
   "metadata": {},
   "source": [
    "We will drop them:"
   ]
  },
  {
   "cell_type": "code",
   "execution_count": null,
   "metadata": {},
   "outputs": [],
   "source": [
    "ion_attr2[,(vars) := NULL]\n",
    "names(ion_attr2)"
   ]
  },
  {
   "cell_type": "markdown",
   "metadata": {},
   "source": [
    "**EXERCISE 7:** Re-run the model inyo fit1b, predict classes into pred2, get confusion matrix using caret::confusionMatrix into result2:\n",
    "\n",
    "(6 minutes)"
   ]
  },
  {
   "cell_type": "markdown",
   "metadata": {
    "solution2": "hidden",
    "solution2_first": true
   },
   "source": [
    "**SOLUTION 7:**"
   ]
  },
  {
   "cell_type": "code",
   "execution_count": null,
   "metadata": {
    "solution2": "hidden"
   },
   "outputs": [],
   "source": [
    "fit1b <- e1071::naiveBayes(labels[train] ~ .,\n",
    "                          data = ion_attr2[train])"
   ]
  },
  {
   "cell_type": "code",
   "execution_count": null,
   "metadata": {
    "solution2": "hidden"
   },
   "outputs": [],
   "source": [
    "pred2 <- predict(fit1b,\n",
    "                ion_attr2[-train],\n",
    "                type = \"class\")"
   ]
  },
  {
   "cell_type": "code",
   "execution_count": null,
   "metadata": {
    "solution2": "hidden"
   },
   "outputs": [],
   "source": [
    "result2 <- caret::confusionMatrix(pred2, labels[-train])"
   ]
  },
  {
   "cell_type": "markdown",
   "metadata": {},
   "source": [
    "The confusion matrix is:"
   ]
  },
  {
   "cell_type": "code",
   "execution_count": null,
   "metadata": {},
   "outputs": [],
   "source": [
    "result2$table"
   ]
  },
  {
   "cell_type": "markdown",
   "metadata": {},
   "source": [
    "And side by side with the first model:"
   ]
  },
  {
   "cell_type": "code",
   "execution_count": null,
   "metadata": {},
   "outputs": [],
   "source": [
    "knitr::kable(list(data.frame(model = 1),\n",
    "                            list(result$table),\n",
    "                            data.frame(model = 2),\n",
    "                            list(result2$table)\n",
    "                         ),\n",
    "                    ) %>%\n",
    "                    as.character() %>%\n",
    "                    IRdisplay::display_html()\n"
   ]
  },
  {
   "cell_type": "markdown",
   "metadata": {},
   "source": [
    "And the overall accuracy is:"
   ]
  },
  {
   "cell_type": "code",
   "execution_count": null,
   "metadata": {},
   "outputs": [],
   "source": [
    "result2$overall[1]"
   ]
  },
  {
   "cell_type": "code",
   "execution_count": null,
   "metadata": {},
   "outputs": [],
   "source": [
    "progress <- c(\"worse\", \"better\")\n",
    "\n",
    "sprintf(\"With an accuracy of %s vs. %s, second model is %s than the first\",\n",
    "       (acc2 <- result2$overall[1]) %>% scales::percent(accuracy = 0.01),\n",
    "       (acc1 <- result$overall[1]) %>% scales::percent(accuracy = 0.01),\n",
    "       progress[(acc2 > acc1) + 1])"
   ]
  },
  {
   "cell_type": "code",
   "execution_count": null,
   "metadata": {},
   "outputs": [],
   "source": [
    "save.image(sessionfile)"
   ]
  },
  {
   "cell_type": "code",
   "execution_count": null,
   "metadata": {},
   "outputs": [],
   "source": []
  }
 ],
 "metadata": {
  "kernelspec": {
   "display_name": "R",
   "language": "R",
   "name": "ir"
  },
  "language_info": {
   "codemirror_mode": "r",
   "file_extension": ".r",
   "mimetype": "text/x-r-source",
   "name": "R",
   "pygments_lexer": "r",
   "version": "3.5.1"
  },
  "toc": {
   "base_numbering": 1,
   "nav_menu": {},
   "number_sections": true,
   "sideBar": true,
   "skip_h1_title": false,
   "title_cell": "Table of Contents",
   "title_sidebar": "Contents",
   "toc_cell": false,
   "toc_position": {},
   "toc_section_display": "block",
   "toc_window_display": true
  }
 },
 "nbformat": 4,
 "nbformat_minor": 2
}
