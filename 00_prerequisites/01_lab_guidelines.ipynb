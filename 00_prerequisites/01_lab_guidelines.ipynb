{
 "cells": [
  {
   "cell_type": "markdown",
   "metadata": {},
   "source": [
    "Below you can find the guidelines for lab submissions. Please read all of them carefully before the lab:"
   ]
  },
  {
   "cell_type": "markdown",
   "metadata": {},
   "source": [
    "# Binder system"
   ]
  },
  {
   "cell_type": "markdown",
   "metadata": {},
   "source": [
    "When you open a new binder session, you are using some portion of public resources. And Binder is very keen on fair usage of these free resources.\n",
    "\n",
    "So the kernel may die and/or session may expire after a few minutes of inactivity.\n",
    "\n",
    "In order not to lose your progress and to decrease the chances of such expirations, you may do the following:\n",
    "\n",
    "- Frequently save your notebook and download it to your local PC for backup\n",
    "- Avoid long (> few minutes) continuous intervals of inactivity on the notebook\n",
    "- When the system still responds but your the cells do not execute in your notebook, the kernel has died. Shutdown and restart the kernel from the menu\n",
    "- If the system does not respond (you cannot navigate the file system or open new notebooks), the session has expired. Follow the original link to start a new session and upload the last downloaded copy of your notebook"
   ]
  },
  {
   "cell_type": "markdown",
   "metadata": {},
   "source": [
    "# Notebooks"
   ]
  },
  {
   "cell_type": "markdown",
   "metadata": {},
   "source": [
    "- The notebook should start with a title and then the names of the members of the lab group for the week\n",
    "- The packages to be involved should be imported before the rest of the code with `library(...)` commands\n",
    "- It's better to include an option declaration to limit the default number of rows printed from a data.frame or data.table as such:\n",
    "\n",
    "`options(repr.matrix.max.rows=20, repr.matrix.max.cols=15) # for limiting the number of top and bottom rows of tables printed `\n",
    "\n",
    "- You may declare a variable for the datapath (this is optional) as such:\n",
    "\n",
    "`datapath <- \"../data\" # a relative path`\n",
    "or\n",
    "`datapath <- \"~/data\" # an absolute path`\n",
    "\n",
    "- Your notebook should be created under the directory of the week, and the calls to external file dependencies (especially imported datafiles) are supposed work without problem. When we upload your submitted notebook to the same path and the notebook is executed with \"run all cells\", all the cells should be executed and return the supposed values without encountering an error\n",
    "\n",
    "- Your notebook is supposed to have an outline and a logical flow, like a small report. It is better that you use multi-level numbered headings in markdown cells starting with \"#\" sign(s) for the heading level (check existing notebooks or markdown cheatsheets provided for the easy syntax:\n",
    "\n",
    "```\n",
    "# This is for level one heading\n",
    "## This is for level two heading and so on...\n",
    "```\n",
    "\n",
    "\n",
    "- Include markdown cells to convey your intentions for the analysis steps before code cells and to interpret the returned results after code cells\n",
    "- You may also include comments in your code cells to clarify what the lines of code intend to do"
   ]
  },
  {
   "cell_type": "markdown",
   "metadata": {},
   "source": [
    "# Submission"
   ]
  },
  {
   "cell_type": "markdown",
   "metadata": {},
   "source": [
    "- After your work is done, make sure the notebook is executed wholly and properly when opened in a new session without encountering an error. To check this, clear all cell outputs, shutdown the kernel, restart the kernel and run all cells.\n",
    "\n",
    "- You are supposed to submit two files:\n",
    "    - html rendered output, including all code outputs. You can navigate to the file menu and download/export. **The html file should include all cell outputs**\n",
    "    - Original ipynb notebook, without any code outputs. After you get an html copy with outputs, clear all outputs, and either navigate to the file>download/export menu or navigate to the directory from Jupyter(lab)'s file explorer and download the notebook file. **The ipynb file should have no cell outputs**\n",
    "    \n",
    "- You are supposed to submit the files through moodle before the deadline. Only one submission from each lab team should be made."
   ]
  },
  {
   "cell_type": "code",
   "execution_count": null,
   "metadata": {},
   "outputs": [],
   "source": []
  }
 ],
 "metadata": {
  "kernelspec": {
   "display_name": "R",
   "language": "R",
   "name": "ir"
  },
  "language_info": {
   "codemirror_mode": "r",
   "file_extension": ".r",
   "mimetype": "text/x-r-source",
   "name": "R",
   "pygments_lexer": "r",
   "version": "4.0.4"
  },
  "toc-autonumbering": true,
  "widgets": {
   "application/vnd.jupyter.widget-state+json": {
    "state": {},
    "version_major": 2,
    "version_minor": 0
   }
  }
 },
 "nbformat": 4,
 "nbformat_minor": 4
}
