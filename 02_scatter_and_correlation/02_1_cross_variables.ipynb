{
 "cells": [
  {
   "cell_type": "code",
   "execution_count": null,
   "metadata": {},
   "outputs": [],
   "source": [
    "library(tidyverse)\n",
    "library(data.table)\n",
    "library(plotly) # for interactive ploting\n",
    "library(DT) # for interactive tabulation"
   ]
  },
  {
   "cell_type": "code",
   "execution_count": null,
   "metadata": {},
   "outputs": [],
   "source": [
    "options(repr.matrix.max.rows=20, repr.matrix.max.cols=15) # for limiting the number of top and bottom rows of tables printed "
   ]
  },
  {
   "cell_type": "code",
   "execution_count": null,
   "metadata": {},
   "outputs": [],
   "source": [
    "datapath <- \"../data\""
   ]
  },
  {
   "cell_type": "markdown",
   "metadata": {},
   "source": [
    "# Visually Examining Cross Variable Relationships"
   ]
  },
  {
   "cell_type": "markdown",
   "metadata": {},
   "source": [
    "In this session, we will visually examine cross variable relationships"
   ]
  },
  {
   "cell_type": "markdown",
   "metadata": {},
   "source": [
    "Let's first import the objects for the WEO dataset: "
   ]
  },
  {
   "cell_type": "code",
   "execution_count": null,
   "metadata": {},
   "outputs": [],
   "source": [
    "# wide data with features in the columns and countries/years in the rows\n",
    "weo_wide2 <- readRDS(sprintf(\"%s/rds/01_01_weo_wide2.rds\", datapath))"
   ]
  },
  {
   "cell_type": "code",
   "execution_count": null,
   "metadata": {},
   "outputs": [],
   "source": [
    "weo_countries <- readRDS(sprintf(\"%s/rds/01_01_weo_countries.rds\", datapath))\n",
    "weo_subject <- readRDS(sprintf(\"%s/rds/01_01_weo_subject.rds\", datapath))"
   ]
  },
  {
   "cell_type": "markdown",
   "metadata": {},
   "source": [
    "Remember the nice widget to navigate through and search in tabular data:"
   ]
  },
  {
   "cell_type": "code",
   "execution_count": null,
   "metadata": {},
   "outputs": [],
   "source": [
    "weo_subject %>% datatable(\n",
    "  filter = \"top\",\n",
    "  options = list(pageLength = 20)\n",
    ")"
   ]
  },
  {
   "cell_type": "markdown",
   "metadata": {},
   "source": [
    "## Feature engineering"
   ]
  },
  {
   "cell_type": "markdown",
   "metadata": {},
   "source": [
    "First, I want to select a handful of the 45 variables:"
   ]
  },
  {
   "cell_type": "code",
   "execution_count": null,
   "metadata": {},
   "outputs": [],
   "source": [
    "features <- c(\"NGDP_RPCH\", \"NGDPRPPPPC\", \"NID_NGDP\", \"GGXONLB_NGDP\", \"BCA_NGDPD\")"
   ]
  },
  {
   "cell_type": "markdown",
   "metadata": {},
   "source": [
    "See what they are:"
   ]
  },
  {
   "cell_type": "code",
   "execution_count": null,
   "metadata": {},
   "outputs": [],
   "source": [
    "weo_subject[WEO_Subject_Code %in% features]"
   ]
  },
  {
   "cell_type": "markdown",
   "metadata": {},
   "source": [
    "The primary balance is the government balance before any interest payments, just like the earnings before interest, tax and depreciation (EBITDA) for a company"
   ]
  },
  {
   "cell_type": "markdown",
   "metadata": {},
   "source": [
    "We will keep the GDP growth (NGDP_RPCH) and investment/GDP (NID_NGDP) as is, while we will discretize other variables into factors."
   ]
  },
  {
   "cell_type": "markdown",
   "metadata": {},
   "source": [
    "Let's filter for 2019's data, extract necessary columns and keep those rows with no NA values:"
   ]
  },
  {
   "cell_type": "code",
   "execution_count": null,
   "metadata": {},
   "outputs": [],
   "source": [
    "weo_sub <- weo_wide2 %>%\n",
    "    filter(year == 2019) %>%\n",
    "    select(all_of(c(\"ISO\", \"year\", features))) %>%\n",
    "    na.omit # deletes rows with na's"
   ]
  },
  {
   "cell_type": "code",
   "execution_count": null,
   "metadata": {},
   "outputs": [],
   "source": [
    "weo_sub"
   ]
  },
  {
   "cell_type": "markdown",
   "metadata": {},
   "source": [
    "First, let's create the income level factor variable again:"
   ]
  },
  {
   "cell_type": "code",
   "execution_count": null,
   "metadata": {},
   "outputs": [],
   "source": [
    "weo_sub[, income_level := cut(NGDPRPPPPC,\n",
    "                              quantile(c(-Inf, NGDPRPPPPC, Inf),\n",
    "                                       c(0, 0.25, 0.75, 1), na.rm = T),\n",
    "                              label = c(\"low\", \"medium\", \"high\"),\n",
    "                              ordered_result = T)] # makes the factor an ordered one. this is better for using with comparison operators"
   ]
  },
  {
   "cell_type": "markdown",
   "metadata": {},
   "source": [
    "Now lets cut the current account balance in to \"deficit\" and \"surplus\" from 0 as break point:"
   ]
  },
  {
   "cell_type": "code",
   "execution_count": null,
   "metadata": {},
   "outputs": [],
   "source": [
    "weo_sub[, external_balance := cut(BCA_NGDPD,\n",
    "                                 c(-Inf, 0, Inf),\n",
    "                                 labels = c(\"deficit\", \"surplus\"),\n",
    "                                 ordered_result = T)]"
   ]
  },
  {
   "cell_type": "markdown",
   "metadata": {},
   "source": [
    "And cut the primary balance in to \"negative\" and \"positive\" from 0 as break point:"
   ]
  },
  {
   "cell_type": "code",
   "execution_count": null,
   "metadata": {},
   "outputs": [],
   "source": [
    "weo_sub[, primary_balance := cut(GGXONLB_NGDP,\n",
    "                                 c(-Inf, 0, Inf),\n",
    "                                 labels = c(\"negative\", \"positive\"),\n",
    "                                ordered_result = T)]"
   ]
  },
  {
   "cell_type": "markdown",
   "metadata": {},
   "source": [
    "Let's see:"
   ]
  },
  {
   "cell_type": "code",
   "execution_count": null,
   "metadata": {},
   "outputs": [],
   "source": [
    "weo_sub"
   ]
  },
  {
   "cell_type": "markdown",
   "metadata": {},
   "source": [
    "Let's get rid off year and the original fields that are converted to factors:"
   ]
  },
  {
   "cell_type": "code",
   "execution_count": null,
   "metadata": {},
   "outputs": [],
   "source": [
    "weo_sub[, c(\"year\", \"NGDPRPPPPC\", \"BCA_NGDPD\", \"GGXONLB_NGDP\") := NULL] # setting a column to NULL in data.table is equal to deleting the column"
   ]
  },
  {
   "cell_type": "code",
   "execution_count": null,
   "metadata": {},
   "outputs": [],
   "source": [
    "weo_sub"
   ]
  },
  {
   "cell_type": "markdown",
   "metadata": {},
   "source": [
    "And give other variables more meaningful names:"
   ]
  },
  {
   "cell_type": "code",
   "execution_count": null,
   "metadata": {},
   "outputs": [],
   "source": [
    "setnames(weo_sub, c(\"NGDP_RPCH\", \"NID_NGDP\"), c(\"growth\", \"investment\")) # old names, vs new names"
   ]
  },
  {
   "cell_type": "markdown",
   "metadata": {},
   "source": [
    "Now, our data is ready:"
   ]
  },
  {
   "cell_type": "code",
   "execution_count": null,
   "metadata": {},
   "outputs": [],
   "source": [
    "weo_sub"
   ]
  },
  {
   "cell_type": "markdown",
   "metadata": {},
   "source": [
    "## Frequencies"
   ]
  },
  {
   "cell_type": "markdown",
   "metadata": {},
   "source": [
    "We have three factor variables:"
   ]
  },
  {
   "cell_type": "code",
   "execution_count": null,
   "metadata": {},
   "outputs": [],
   "source": [
    "weo_sub %>% keep(is.factor) %>% lapply(levels) # select only factor variables and show the levels for each"
   ]
  },
  {
   "cell_type": "markdown",
   "metadata": {},
   "source": [
    "Let's calculate the three dimensional frequencies:"
   ]
  },
  {
   "cell_type": "code",
   "execution_count": null,
   "metadata": {},
   "outputs": [],
   "source": [
    "crosst <- xtabs(~ external_balance + primary_balance + income_level, data = weo_sub)"
   ]
  },
  {
   "cell_type": "code",
   "execution_count": null,
   "metadata": {},
   "outputs": [],
   "source": [
    "crosst"
   ]
  },
  {
   "cell_type": "markdown",
   "metadata": {},
   "source": [
    "See that low and medium income countries mostly have a current account deficit (import more than they export) and vice versa for high income countries\n",
    "\n",
    "For low and medium income countries primary balance (government budget balance before interest payments) is also mostly negatively while for high income countries only half of them run a primary balance deficit"
   ]
  },
  {
   "cell_type": "markdown",
   "metadata": {},
   "source": [
    "## Scatter plots and best fit lines"
   ]
  },
  {
   "cell_type": "markdown",
   "metadata": {},
   "source": [
    "Let's create a scatter plot across investment/GDP and GDP growth rates.\n",
    "\n",
    "We differentiate the points by income level:"
   ]
  },
  {
   "cell_type": "code",
   "execution_count": null,
   "metadata": {},
   "outputs": [],
   "source": [
    "plot1 <- weo_sub %>%\n",
    "ggplot(aes(x = investment, y = growth, color = income_level)) + # define the aesthetics: variables and their roles in the plot\n",
    "geom_point() # add the scatter plot"
   ]
  },
  {
   "cell_type": "code",
   "execution_count": null,
   "metadata": {},
   "outputs": [],
   "source": [
    "plot1 %>% ggplotly"
   ]
  },
  {
   "cell_type": "markdown",
   "metadata": {},
   "source": [
    "A positive relationship is visible but let's draw best fit lines across the points for each income level:"
   ]
  },
  {
   "cell_type": "code",
   "execution_count": null,
   "metadata": {},
   "outputs": [],
   "source": [
    "plot2 <- weo_sub %>%\n",
    "ggplot(aes(x = investment, y = growth, color = income_level)) + # define the aesthetics: variables and their roles in the plot\n",
    "geom_point() + # add the scatter plot\n",
    "geom_smooth(method = \"lm\", formula = y ~ x, se = F) # add best fit line"
   ]
  },
  {
   "cell_type": "code",
   "execution_count": null,
   "metadata": {},
   "outputs": [],
   "source": [
    "plot2 %>% ggplotly"
   ]
  },
  {
   "cell_type": "markdown",
   "metadata": {},
   "source": [
    "You can find more information on scatter plots and best fit lines:\n",
    "\n",
    "[ggplot2 scatter plots: Quick start guide](http://www.sthda.com/english/wiki/ggplot2-scatter-plots-quick-start-guide-r-software-and-data-visualization)"
   ]
  },
  {
   "cell_type": "markdown",
   "metadata": {},
   "source": [
    "See that, for medium income countries, effect of an increase in investment/GDP on growth is more accentuated compared to the case of low and high income countries - the best fit line has a higher slope"
   ]
  },
  {
   "cell_type": "markdown",
   "metadata": {},
   "source": [
    "So far, we could visualize three dimensions in a single plot.\n",
    "\n",
    "Now let's add a fourth one, and split the plot horizontally for current account deficit and surplus countries using facet_wrap:"
   ]
  },
  {
   "cell_type": "code",
   "execution_count": null,
   "metadata": {},
   "outputs": [],
   "source": [
    "plot3 <- weo_sub %>%\n",
    "ggplot(aes(x = investment, y = growth, color = income_level)) + # define the aesthetics: variables and their roles in the plot\n",
    "geom_point() + # add the scatter plot\n",
    "geom_smooth(method = \"lm\", formula = y ~ x, se = F) + # add best fit line\n",
    "facet_wrap(~ external_balance) # split plot across external balance"
   ]
  },
  {
   "cell_type": "code",
   "execution_count": null,
   "metadata": {},
   "outputs": [],
   "source": [
    "plot3 %>% ggplotly"
   ]
  },
  {
   "cell_type": "markdown",
   "metadata": {},
   "source": [
    "We see that, for countries running a current account deficit, the effect of investment/GDP on growth is higher, compared to current account surplus countries "
   ]
  },
  {
   "cell_type": "markdown",
   "metadata": {},
   "source": [
    "Now let's add a fifth dimension, and split the plot into a grid across external balance levels and primary balance levels:"
   ]
  },
  {
   "cell_type": "code",
   "execution_count": null,
   "metadata": {},
   "outputs": [],
   "source": [
    "plot5 <- weo_sub %>%\n",
    "ggplot(aes(x = investment, y = growth, color = income_level)) + # define the aesthetics: variables and their roles in the plot \n",
    "geom_point() + # add the scatter plot\n",
    "geom_smooth(method = \"lm\", formula = y ~ x, se = F) + # add best fit line\n",
    "facet_grid(primary_balance ~ external_balance) # split plot across primary balance and external balance"
   ]
  },
  {
   "cell_type": "code",
   "execution_count": null,
   "metadata": {},
   "outputs": [],
   "source": [
    "plot5 %>% ggplotly"
   ]
  },
  {
   "cell_type": "markdown",
   "metadata": {},
   "source": [
    "You can find more information on ggplot facets following the link:\n",
    "\n",
    "[ggplot2 facet : split a plot into a matrix of panels](http://www.sthda.com/english/wiki/ggplot2-facet-split-a-plot-into-a-matrix-of-panels)"
   ]
  },
  {
   "cell_type": "markdown",
   "metadata": {},
   "source": [
    "## Correlations"
   ]
  },
  {
   "cell_type": "markdown",
   "metadata": {},
   "source": [
    "Best fit lines shows the direction and slope of the relation between two variables but does not tell how strong the relationship is.\n",
    "\n",
    "For this, we calculate the correlation coefficient:"
   ]
  },
  {
   "cell_type": "code",
   "execution_count": null,
   "metadata": {},
   "outputs": [],
   "source": [
    "weo_sub[, cor(investment, growth)]"
   ]
  },
  {
   "cell_type": "markdown",
   "metadata": {},
   "source": [
    "This level is not very strong.\n",
    "\n",
    "See whether for each income level the correlation coefficient is similar:"
   ]
  },
  {
   "cell_type": "code",
   "execution_count": null,
   "metadata": {},
   "outputs": [],
   "source": [
    "weo_sub[, .(n = .N, cor = cor(investment, growth)), # get the counts and correlation\n",
    "        by = c(\"income_level\")][order(-cor)] # for each income level and order by decreasing correlations"
   ]
  },
  {
   "cell_type": "markdown",
   "metadata": {},
   "source": [
    "For low income level countries the relationship between investment and growth is much weaker"
   ]
  }
 ],
 "metadata": {
  "kernelspec": {
   "display_name": "R",
   "language": "R",
   "name": "ir"
  },
  "language_info": {
   "codemirror_mode": "r",
   "file_extension": ".r",
   "mimetype": "text/x-r-source",
   "name": "R",
   "pygments_lexer": "r",
   "version": "4.0.4"
  },
  "widgets": {
   "application/vnd.jupyter.widget-state+json": {
    "state": {},
    "version_major": 2,
    "version_minor": 0
   }
  }
 },
 "nbformat": 4,
 "nbformat_minor": 4
}
