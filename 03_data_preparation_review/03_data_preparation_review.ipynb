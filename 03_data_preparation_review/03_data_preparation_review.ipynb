{
 "cells": [
  {
   "cell_type": "markdown",
   "metadata": {},
   "source": [
    "# Working with data"
   ]
  },
  {
   "cell_type": "markdown",
   "metadata": {},
   "source": [
    "Today our focus will be on data preparation and exploration using flights14 data, mostly using data.table and tidyverse suite"
   ]
  },
  {
   "cell_type": "code",
   "execution_count": null,
   "metadata": {},
   "outputs": [],
   "source": [
    "library(data.table)\n",
    "library(tidyverse)\n",
    "library(lubridate)\n",
    "library(plotly)"
   ]
  },
  {
   "cell_type": "markdown",
   "metadata": {},
   "source": [
    "Let's load our data:"
   ]
  },
  {
   "cell_type": "code",
   "execution_count": null,
   "metadata": {},
   "outputs": [],
   "source": [
    "flights <- fread(\"../data/csv/flights14.csv\")"
   ]
  },
  {
   "cell_type": "markdown",
   "metadata": {},
   "source": [
    "And view our data:"
   ]
  },
  {
   "cell_type": "code",
   "execution_count": null,
   "metadata": {},
   "outputs": [],
   "source": [
    "flights"
   ]
  },
  {
   "cell_type": "markdown",
   "metadata": {},
   "source": [
    "**EXERCISE 1:**\n",
    "\n",
    "Now just looking at the data, what can you say?\n",
    "\n",
    "What will be the goal of our final model?\n",
    "\n",
    "What transformations can we make in existing fields in order to get more meaningful insight?\n",
    "\n",
    "What new fields can we calculate from existing fields?\n",
    "\n",
    "Are there any redundant fields?\n",
    "\n",
    "What interactions can we test for? Can we make some quick and dirty summarizations and visualizations for that\n",
    "\n",
    "Think about it for several minutes and list your findings"
   ]
  },
  {
   "cell_type": "markdown",
   "metadata": {},
   "source": [
    "**MY OWN FINDINGS:**"
   ]
  },
  {
   "cell_type": "code",
   "execution_count": null,
   "metadata": {},
   "outputs": [],
   "source": [
    "pass <- readline(prompt = \"Please enter the password for the solution: \")\n",
    "solution <- system(sprintf(\"cat findings | openssl enc -md sha256 -aes-128-cbc -a -d -salt -pass pass:%s 2> /dev/null\", pass), intern = T, ignore.stderr = T)\n",
    "cat(solution, sep = \"\\n\")\n",
    "#eval(parse(text = solution))"
   ]
  },
  {
   "cell_type": "markdown",
   "metadata": {},
   "source": [
    "# Handling data and time"
   ]
  },
  {
   "cell_type": "markdown",
   "metadata": {},
   "source": [
    "## Creating a new date variable"
   ]
  },
  {
   "cell_type": "markdown",
   "metadata": {},
   "source": [
    "For handling time and date data, we will be using the lubridate package from tidyverse.\n",
    "\n",
    "We have year, month and day. We can paste them into a date string and parse as a date object:"
   ]
  },
  {
   "cell_type": "code",
   "execution_count": null,
   "metadata": {},
   "outputs": [],
   "source": [
    "?lubridate::dmy"
   ]
  },
  {
   "cell_type": "code",
   "execution_count": null,
   "metadata": {},
   "outputs": [],
   "source": [
    "paste(1, 2, 2014, sep = \"-\") %>% lubridate::dmy()"
   ]
  },
  {
   "cell_type": "markdown",
   "metadata": {},
   "source": [
    "Or"
   ]
  },
  {
   "cell_type": "code",
   "execution_count": null,
   "metadata": {},
   "outputs": [],
   "source": [
    "paste(2014, 2, 1, sep = \"-\") %>% lubridate::ymd()"
   ]
  },
  {
   "cell_type": "code",
   "execution_count": null,
   "metadata": {},
   "outputs": [],
   "source": [
    "head(flights)"
   ]
  },
  {
   "cell_type": "markdown",
   "metadata": {},
   "source": [
    "The workflow be as follows:\n",
    "\n",
    "- Using \"unite\" function from tidyr, we will paste three columns (year, month, day) with \"-\" as separators. So 2014, 1 and 1 will be 2014-1-1\n",
    "- Using \"ymd\" function from lubridate we will parse the date strings as date objects.\n",
    "- The resulting date value is stored as a numeric value (the number of days since 1970-01-01) in data table. We will convert it to date class\n",
    "- The resulting date object is saved as a new column called \"date\" inside the data.table"
   ]
  },
  {
   "cell_type": "code",
   "execution_count": null,
   "metadata": {},
   "outputs": [],
   "source": [
    "flights[,date := tidyr::unite(.SD, sep = \"-\") %>%\n",
    "                    sapply(lubridate::ymd) %>%\n",
    "                    as.Date(origin = \"1970-01-01\"),\n",
    "        .SDcols = year:day]"
   ]
  },
  {
   "cell_type": "code",
   "execution_count": null,
   "metadata": {},
   "outputs": [],
   "source": [
    "flights"
   ]
  },
  {
   "cell_type": "markdown",
   "metadata": {},
   "source": [
    "## creating a new \"dep_minutes\" variable"
   ]
  },
  {
   "cell_type": "markdown",
   "metadata": {},
   "source": [
    "We will be using \"hm\" function from the lubridate package to create a \"period\" object:"
   ]
  },
  {
   "cell_type": "code",
   "execution_count": null,
   "metadata": {},
   "outputs": [],
   "source": [
    "hm(\"9:14\") %>% class()"
   ]
  },
  {
   "cell_type": "markdown",
   "metadata": {},
   "source": [
    "By taking modulo and floor divisio we can convert the numeric representation to minutes:"
   ]
  },
  {
   "cell_type": "code",
   "execution_count": null,
   "metadata": {},
   "outputs": [],
   "source": [
    "flights[, dep_minutes := .(dep_time %/% 100 * 60 + dep_time %% 100)]"
   ]
  },
  {
   "cell_type": "code",
   "execution_count": null,
   "metadata": {},
   "outputs": [],
   "source": [
    "flights"
   ]
  },
  {
   "cell_type": "markdown",
   "metadata": {},
   "source": [
    "## create datetime field"
   ]
  },
  {
   "cell_type": "markdown",
   "metadata": {},
   "source": [
    "In fact UNIX systems does not have separate data types for date or time. When we first create a date object, it is in fact a datetime object at midnight:"
   ]
  },
  {
   "cell_type": "code",
   "execution_count": null,
   "metadata": {},
   "outputs": [],
   "source": [
    "date1 <- as.Date(\"2014-01-01\") %>% as.character() %>% as.POSIXct()\n",
    "date1"
   ]
  },
  {
   "cell_type": "markdown",
   "metadata": {},
   "source": [
    "\"1\" means a second in POSIXct format and a day in Date format. Let's add 6 hours and 35 minutes to the POSIXct formatted datatime object"
   ]
  },
  {
   "cell_type": "code",
   "execution_count": null,
   "metadata": {},
   "outputs": [],
   "source": [
    "date1 + (6 * 3600 + 35 * 60)"
   ]
  },
  {
   "cell_type": "markdown",
   "metadata": {},
   "source": [
    "It would be useful to create a separate field for the departure date time"
   ]
  },
  {
   "cell_type": "code",
   "execution_count": null,
   "metadata": {},
   "outputs": [],
   "source": [
    "flights[, dep_datetime := date %>% as.character() %>% as.POSIXct() + dep_minutes * 60]"
   ]
  },
  {
   "cell_type": "code",
   "execution_count": null,
   "metadata": {},
   "outputs": [],
   "source": [
    "flights"
   ]
  },
  {
   "cell_type": "markdown",
   "metadata": {},
   "source": [
    "## Create datahour field"
   ]
  },
  {
   "cell_type": "markdown",
   "metadata": {},
   "source": [
    "And a separate field that combines the date and hour (w/o minutes) would also be be useful for grouping purposes:"
   ]
  },
  {
   "cell_type": "code",
   "execution_count": null,
   "metadata": {},
   "outputs": [],
   "source": [
    "flights[, dep_datehour := (as.numeric(dep_datetime) %/% 3600 * 3600) %>% as.POSIXct(origin = \"1970-01-01\")]"
   ]
  },
  {
   "cell_type": "code",
   "execution_count": null,
   "metadata": {},
   "outputs": [],
   "source": [
    "flights"
   ]
  },
  {
   "cell_type": "markdown",
   "metadata": {},
   "source": [
    "## Create weekday field"
   ]
  },
  {
   "cell_type": "markdown",
   "metadata": {},
   "source": [
    "We can code dates as the weekdays using lubridate package:"
   ]
  },
  {
   "cell_type": "code",
   "execution_count": null,
   "metadata": {},
   "outputs": [],
   "source": [
    "flights[, weekday := lubridate::wday(date, label = T, abbr = T, locale = \"en_US.UTF-8\")]"
   ]
  },
  {
   "cell_type": "code",
   "execution_count": null,
   "metadata": {},
   "outputs": [],
   "source": [
    "flights"
   ]
  },
  {
   "cell_type": "markdown",
   "metadata": {},
   "source": [
    "## Other variables to be created"
   ]
  },
  {
   "cell_type": "markdown",
   "metadata": {},
   "source": [
    "Now, we may need the air_speed in miles per hour: "
   ]
  },
  {
   "cell_type": "code",
   "execution_count": null,
   "metadata": {},
   "outputs": [],
   "source": [
    "flights[, air_speed := distance / air_time * 60]"
   ]
  },
  {
   "cell_type": "code",
   "execution_count": null,
   "metadata": {},
   "outputs": [],
   "source": [
    "flights"
   ]
  },
  {
   "cell_type": "markdown",
   "metadata": {},
   "source": [
    "And we can create a variable for \"gain\" as the difference between departure delay and arrival delay:"
   ]
  },
  {
   "cell_type": "code",
   "execution_count": null,
   "metadata": {},
   "outputs": [],
   "source": [
    "flights[, gain := dep_delay - arr_delay]"
   ]
  },
  {
   "cell_type": "code",
   "execution_count": null,
   "metadata": {},
   "outputs": [],
   "source": [
    "flights"
   ]
  },
  {
   "cell_type": "markdown",
   "metadata": {},
   "source": [
    "## Variables to be deleted"
   ]
  },
  {
   "cell_type": "markdown",
   "metadata": {},
   "source": [
    "We may not talk about delays in cancelled flights. Let's see the cancelled flights:"
   ]
  },
  {
   "cell_type": "code",
   "execution_count": null,
   "metadata": {},
   "outputs": [],
   "source": [
    "flights[cancelled != 0]"
   ]
  },
  {
   "cell_type": "code",
   "execution_count": null,
   "metadata": {},
   "outputs": [],
   "source": [
    "flights[,unique(cancelled)]"
   ]
  },
  {
   "cell_type": "markdown",
   "metadata": {},
   "source": [
    "No information inside cancelled variable, as also the case with year variable (all in 2014). Let's delete them:"
   ]
  },
  {
   "cell_type": "code",
   "execution_count": null,
   "metadata": {},
   "outputs": [],
   "source": [
    "flights[,c(\"year\", \"cancelled\") := NULL]"
   ]
  },
  {
   "cell_type": "code",
   "execution_count": null,
   "metadata": {},
   "outputs": [],
   "source": [
    "flights"
   ]
  },
  {
   "cell_type": "markdown",
   "metadata": {},
   "source": [
    "We can keep the hour variable and see the hour of the day effect but minute is too granular so we can also delete it:"
   ]
  },
  {
   "cell_type": "code",
   "execution_count": null,
   "metadata": {},
   "outputs": [],
   "source": [
    "flights[, minute := NULL]"
   ]
  },
  {
   "cell_type": "markdown",
   "metadata": {},
   "source": [
    "## Factors"
   ]
  },
  {
   "cell_type": "markdown",
   "metadata": {},
   "source": [
    "Now let's view the data again and the structure:"
   ]
  },
  {
   "cell_type": "code",
   "execution_count": null,
   "metadata": {},
   "outputs": [],
   "source": [
    "flights"
   ]
  },
  {
   "cell_type": "code",
   "execution_count": null,
   "metadata": {},
   "outputs": [],
   "source": [
    "str(flights)"
   ]
  },
  {
   "cell_type": "markdown",
   "metadata": {},
   "source": [
    "The weekday is created as an ordinal factor (with Sunday as the starting point).\n",
    "\n",
    "However we may convert character variables to factors:"
   ]
  },
  {
   "cell_type": "code",
   "execution_count": null,
   "metadata": {},
   "outputs": [],
   "source": [
    "factor_cols <- flights[,lapply(.SD, is.character) %>% unlist()]\n",
    "factor_cols\n",
    "\n",
    "for (col in names(flights)[factor_cols])\n",
    "set(flights, j = col, value = as.factor(flights[[col]]))"
   ]
  },
  {
   "cell_type": "code",
   "execution_count": null,
   "metadata": {},
   "outputs": [],
   "source": [
    "flights"
   ]
  },
  {
   "cell_type": "code",
   "execution_count": null,
   "metadata": {},
   "outputs": [],
   "source": [
    "str(flights)"
   ]
  },
  {
   "cell_type": "markdown",
   "metadata": {},
   "source": [
    "# Summarize and explore data"
   ]
  },
  {
   "cell_type": "markdown",
   "metadata": {},
   "source": [
    "## Delays by origin, day and weekday"
   ]
  },
  {
   "cell_type": "markdown",
   "metadata": {},
   "source": [
    "Let's summarize the dep_delay by origin and date:"
   ]
  },
  {
   "cell_type": "code",
   "execution_count": null,
   "metadata": {},
   "outputs": [],
   "source": [
    "flights_delay_date_origin <- flights[,.(dep_delay_mean = mean(dep_delay), weekday = weekday), by = c(\"origin\", \"date\")]"
   ]
  },
  {
   "cell_type": "code",
   "execution_count": null,
   "metadata": {},
   "outputs": [],
   "source": [
    "flights_delay_date_origin"
   ]
  },
  {
   "cell_type": "markdown",
   "metadata": {},
   "source": [
    "And let's create a line plot of mean dep_delay for each origin across dates\n",
    "\n",
    "Note that we first create the object with ggplot and then convert into plotly to get the benefits of plotly's interactivity (such as tooltip over hover):"
   ]
  },
  {
   "cell_type": "code",
   "execution_count": null,
   "metadata": {},
   "outputs": [],
   "source": [
    "g <- flights_delay_date_origin %>%\n",
    "    ggplot(aes(x = date,\n",
    "          y = dep_delay_mean,\n",
    "          color = origin)) +\n",
    "geom_line()\n",
    "\n",
    "plotly::ggplotly(g)"
   ]
  },
  {
   "cell_type": "markdown",
   "metadata": {},
   "source": [
    "There is an outlier period in the first week of January. We will try to understand the reason"
   ]
  },
  {
   "cell_type": "markdown",
   "metadata": {},
   "source": [
    "Now let's summarize the data in another way: Insted of average dep_delays, let's get daily flight counts for each origin and date and visualize the same way:"
   ]
  },
  {
   "cell_type": "code",
   "execution_count": null,
   "metadata": {},
   "outputs": [],
   "source": [
    "flights_count_date_origin <- flights[,.(flight_count = .N), by = c(\"origin\", \"date\", \"weekday\")]"
   ]
  },
  {
   "cell_type": "code",
   "execution_count": null,
   "metadata": {},
   "outputs": [],
   "source": [
    "flights_count_date_origin"
   ]
  },
  {
   "cell_type": "markdown",
   "metadata": {},
   "source": [
    "Let's plot the values on lines:"
   ]
  },
  {
   "cell_type": "code",
   "execution_count": null,
   "metadata": {},
   "outputs": [],
   "source": [
    "g <- flights_count_date_origin %>%\n",
    "    ggplot(aes(x = date,\n",
    "          y = flight_count,\n",
    "          color = origin)) +\n",
    "geom_line()\n",
    "\n",
    "plotly::ggplotly(g)"
   ]
  },
  {
   "cell_type": "markdown",
   "metadata": {},
   "source": [
    "The peak in delays is not related to flight counts. But we see a short term periodicity with the flight counts.\n",
    "\n",
    "Does it have anything to do with the weekday effect?"
   ]
  },
  {
   "cell_type": "code",
   "execution_count": null,
   "metadata": {},
   "outputs": [],
   "source": [
    "g <- flights_count_date_origin %>%\n",
    "    ggplot(aes(x = date,\n",
    "          y = flight_count,\n",
    "          color = weekday)) +\n",
    "geom_line() +\n",
    "facet_wrap(~ origin, ncol = 3)\n",
    "\n",
    "plotly::ggplotly(g)"
   ]
  },
  {
   "cell_type": "markdown",
   "metadata": {},
   "source": [
    "Saturdays have lower flight counts "
   ]
  },
  {
   "cell_type": "markdown",
   "metadata": {},
   "source": [
    "## Hourly counts vs. delays"
   ]
  },
  {
   "cell_type": "markdown",
   "metadata": {},
   "source": [
    "However, daily basis is to broad to depict the relationship between counts and delays: delays may not be persistent daylong\n",
    "\n",
    "Let's plot average delays and counts on a hourly basis:"
   ]
  },
  {
   "cell_type": "code",
   "execution_count": null,
   "metadata": {},
   "outputs": [],
   "source": [
    "flights"
   ]
  },
  {
   "cell_type": "code",
   "execution_count": null,
   "metadata": {},
   "outputs": [],
   "source": [
    "flights_count_delay_hourly <- flights[,.(flight_count = .N, mean_dep_delay = mean(dep_delay)), by = c(\"origin\", \"dep_datehour\")]"
   ]
  },
  {
   "cell_type": "code",
   "execution_count": null,
   "metadata": {},
   "outputs": [],
   "source": [
    "flights_count_delay_hourly"
   ]
  },
  {
   "cell_type": "code",
   "execution_count": null,
   "metadata": {},
   "outputs": [],
   "source": [
    "g <- flights_count_delay_hourly %>%\n",
    "    ggplot(aes(x = flight_count,\n",
    "              y = mean_dep_delay,\n",
    "              color = origin)) +\n",
    "geom_point()\n",
    "\n",
    "plotly::ggplotly(g)"
   ]
  },
  {
   "cell_type": "markdown",
   "metadata": {},
   "source": [
    "There is more variation in mean_dep_delay and the overall level of mean_dep_delay is higher with lower flight counts. A surprising finding!"
   ]
  },
  {
   "cell_type": "markdown",
   "metadata": {},
   "source": [
    "Maybe we should look for the answer in the destination not origin?"
   ]
  },
  {
   "cell_type": "markdown",
   "metadata": {},
   "source": [
    "**IN-CLASS CHALLANGE**"
   ]
  },
  {
   "cell_type": "code",
   "execution_count": null,
   "metadata": {},
   "outputs": [],
   "source": [
    "pass <- readline(prompt = \"Please enter the password for the solution: \")\n",
    "solution <- system(sprintf(\"cat encrypt | openssl enc -md sha256 -aes-128-cbc -a -d -salt -pass pass:%s 2> /dev/null\", pass), intern = T, ignore.stderr = T)\n",
    "cat(solution, sep = \"\\n\")\n",
    "#eval(parse(text = solution))"
   ]
  },
  {
   "cell_type": "code",
   "execution_count": null,
   "metadata": {},
   "outputs": [],
   "source": []
  }
 ],
 "metadata": {
  "kernelspec": {
   "display_name": "R",
   "language": "R",
   "name": "ir"
  },
  "language_info": {
   "codemirror_mode": "r",
   "file_extension": ".r",
   "mimetype": "text/x-r-source",
   "name": "R",
   "pygments_lexer": "r",
   "version": "3.5.1"
  },
  "toc": {
   "base_numbering": 1,
   "nav_menu": {},
   "number_sections": true,
   "sideBar": true,
   "skip_h1_title": false,
   "title_cell": "Table of Contents",
   "title_sidebar": "Contents",
   "toc_cell": false,
   "toc_position": {},
   "toc_section_display": "block",
   "toc_window_display": false
  }
 },
 "nbformat": 4,
 "nbformat_minor": 2
}
