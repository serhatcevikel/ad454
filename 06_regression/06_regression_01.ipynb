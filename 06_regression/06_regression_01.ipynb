{
 "cells": [
  {
   "cell_type": "markdown",
   "metadata": {},
   "source": [
    "# Regression modeling with insurance dataset "
   ]
  },
  {
   "cell_type": "markdown",
   "metadata": {},
   "source": [
    "Adapted from Lantz (2015), Chapter 6 \n",
    "\n",
    "- In order for a health insurance company to make money, it needs to collect more in yearly premiums than it spends on medical care to its beneficiaries.\n",
    "- As a result, insurers invest a great deal of time and money in developing models that accurately forecast medical expenses for the insured population.\n",
    "\n",
    "\n",
    "- Medical expenses are difficult to estimate because the most costly conditions are rare and seemingly random. Still, some conditions are more prevalent for certain segments of the population.\n",
    "- For instance, lung cancer is more likely among smokers than non-smokers, and heart disease may be more likely among the obese.\n",
    "\n",
    "\n",
    "We will try to estimate the expenses (claims) of clients given data on health conditions and family \n",
    "\n",
    "**SO EXPENSES WILL BE THE DEPENDENT VARIABLE**"
   ]
  },
  {
   "cell_type": "markdown",
   "metadata": {},
   "source": [
    "## Libraries and dataset"
   ]
  },
  {
   "cell_type": "code",
   "execution_count": null,
   "metadata": {},
   "outputs": [],
   "source": [
    "library(data.table) # to handle the data in a more convenient manner\n",
    "library(tidyverse) # for a better work flow and more tools to wrangle and visualize the data\n",
    "library(plotly) # for interactive visualizations\n",
    "library(psych) # for visualizing relationship among pairs of variables\n",
    "library(GGally) # for better visualizing relationship among pairs of variables\n",
    "library(corrplot) # for correlation plots\n",
    "library(listviewer) # for visualizing nested data structures\n",
    "library(broom) # for getting a glance of model fit\n",
    "library(TSrepr) # for evaluating predictive power\n",
    "options(warn = -1) # for suppressing messages"
   ]
  },
  {
   "cell_type": "code",
   "execution_count": null,
   "metadata": {},
   "outputs": [],
   "source": [
    "insurance <- fread(\"../data/csv/04_01_insurance.csv\", stringsAsFactors = T)"
   ]
  },
  {
   "cell_type": "markdown",
   "metadata": {},
   "source": [
    "## Explore data"
   ]
  },
  {
   "cell_type": "code",
   "execution_count": null,
   "metadata": {},
   "outputs": [],
   "source": [
    "str(insurance)"
   ]
  },
  {
   "cell_type": "markdown",
   "metadata": {},
   "source": [
    "### Factor variables"
   ]
  },
  {
   "cell_type": "markdown",
   "metadata": {},
   "source": [
    "See the levels of factor variables:"
   ]
  },
  {
   "cell_type": "code",
   "execution_count": null,
   "metadata": {},
   "outputs": [],
   "source": [
    "insurance %>% purrr::keep(is.factor) %>% purrr::map(levels)"
   ]
  },
  {
   "cell_type": "code",
   "execution_count": null,
   "metadata": {},
   "outputs": [],
   "source": [
    "insurance_factors <- insurance %>% purrr::keep(is.factor) %>% # select factor columns\n",
    "    tidyr::gather() %>% # convert into long format for faceting\n",
    "    ggplot(aes(x = value)) + # plot value\n",
    "    facet_wrap(~ key, scales = \"free\") + # divide into separate plots by key\n",
    "    geom_bar()\n",
    "\n",
    "plotly::ggplotly(insurance_factors)"
   ]
  },
  {
   "cell_type": "markdown",
   "metadata": {},
   "source": [
    "Note that, regression can only handle numeric variables, so factors must be converted into dummy variables that take binary values of 0 or 1. R handles this as we will see"
   ]
  },
  {
   "cell_type": "markdown",
   "metadata": {},
   "source": [
    "### Numeric variables"
   ]
  },
  {
   "cell_type": "markdown",
   "metadata": {},
   "source": [
    "And five point summaries for numeric variables:"
   ]
  },
  {
   "cell_type": "code",
   "execution_count": null,
   "metadata": {},
   "outputs": [],
   "source": [
    "insurance %>% purrr::keep(is.numeric) %>% sapply(quantile) %>% t()"
   ]
  },
  {
   "cell_type": "code",
   "execution_count": null,
   "metadata": {},
   "outputs": [],
   "source": [
    "insurance %>% purrr::keep(is.numeric) %>% # select columns\n",
    "    tidyr::gather() %>% # reshape into long format in columns \"key\" and \"value\"\n",
    "    ggplot(aes(value)) + # plot value\n",
    "        facet_wrap(~ key, scale = \"free\" ) + # divide into separate plots by key\n",
    "        geom_density(fill = \"green\")  # get density plots"
   ]
  },
  {
   "cell_type": "markdown",
   "metadata": {},
   "source": [
    "Numeric variables other than bmi are not normally distributed.\n",
    "\n",
    "- Although linear regression does not strictly require a normally distributed dependent variable, the model often fits better \n",
    "when this is true."
   ]
  },
  {
   "cell_type": "markdown",
   "metadata": {},
   "source": [
    "### Relationships among features"
   ]
  },
  {
   "cell_type": "markdown",
   "metadata": {},
   "source": [
    "First we create a correlation plot across numeric variables. It is important that dependent variables (age, bmi and children) are not highly correlated across each other - a condition known as multicollinearity which can distort the result of the regression model"
   ]
  },
  {
   "cell_type": "code",
   "execution_count": null,
   "metadata": {
    "scrolled": false
   },
   "outputs": [],
   "source": [
    "insurance %>% purrr::keep(is.numeric) %>% cor() %>%\n",
    "\n",
    "corrplot::corrplot.mixed(upper = \"ellipse\",\n",
    "                         lower = \"number\",\n",
    "                         tl.pos = \"lt\",\n",
    "                         number.cex = .5,\n",
    "                         lower.col = \"black\",\n",
    "                         tl.cex = 0.7)"
   ]
  },
  {
   "cell_type": "markdown",
   "metadata": {},
   "source": [
    "Here we see that dependent variables are not highly correlated across each other, while only age is mildly correlated with expenses"
   ]
  },
  {
   "cell_type": "markdown",
   "metadata": {},
   "source": [
    "### Scatterplots"
   ]
  },
  {
   "cell_type": "markdown",
   "metadata": {},
   "source": [
    "Scatterplots are another way to visualize pairwise relationships among variables. pairs() function creates a matrix of such scatterplots "
   ]
  },
  {
   "cell_type": "code",
   "execution_count": null,
   "metadata": {},
   "outputs": [],
   "source": [
    "insurance %>% purrr::keep(is.numeric) %>% pairs()"
   ]
  },
  {
   "cell_type": "markdown",
   "metadata": {},
   "source": [
    "- The relationship between age and expenses displays several relatively straight lines,\n",
    "- while the bmi versus expenses plot has two distinct groups of points."
   ]
  },
  {
   "cell_type": "markdown",
   "metadata": {},
   "source": [
    "pairs.panel() function from psych package provides even more visual information on pairs:"
   ]
  },
  {
   "cell_type": "code",
   "execution_count": null,
   "metadata": {},
   "outputs": [],
   "source": [
    "insurance %>% purrr::keep(is.numeric) %>% psych::pairs.panels()"
   ]
  },
  {
   "cell_type": "markdown",
   "metadata": {},
   "source": [
    "- The oval-shaped object on each scatterplot is a correlation ellipse. It provides a visualization of correlation strength.\n",
    "\n",
    "- The dot at the center of the ellipse indicates the point at the mean values for the x and y axis variables.\n",
    "\n",
    "- The correlation between the two variables is indicated by the shape of the ellipse; the more it is stretched, the stronger the correlation. An almost perfectly round oval, as with bmi and children, indicates a very weak correlation\n",
    "\n",
    "- The curve drawn on the scatterplot is called a loess curve. It indicates the general relationship between the x and y axis variables, and whether the relationship is linear."
   ]
  },
  {
   "cell_type": "markdown",
   "metadata": {},
   "source": [
    "And ggpairs function from GGally package is another neat and fancy way to visualize pairwise relationships:"
   ]
  },
  {
   "cell_type": "code",
   "execution_count": null,
   "metadata": {},
   "outputs": [],
   "source": [
    "insurance %>% purrr::keep(is.numeric) %>% GGally::ggpairs()"
   ]
  },
  {
   "cell_type": "code",
   "execution_count": null,
   "metadata": {},
   "outputs": [],
   "source": []
  },
  {
   "cell_type": "markdown",
   "metadata": {},
   "source": [
    "## Partition the dataset"
   ]
  },
  {
   "cell_type": "code",
   "execution_count": null,
   "metadata": {},
   "outputs": [],
   "source": [
    "set.seed(19231029)\n",
    "train_ind <- insurance[,sample(.I, 0.7 * .N)]"
   ]
  },
  {
   "cell_type": "code",
   "execution_count": null,
   "metadata": {},
   "outputs": [],
   "source": [
    "insurance_train <- insurance[train_ind]\n",
    "insurance_test <- insurance[-train_ind]"
   ]
  },
  {
   "cell_type": "markdown",
   "metadata": {},
   "source": [
    "## Build and train a model"
   ]
  },
  {
   "cell_type": "markdown",
   "metadata": {},
   "source": [
    "We will first create a formula for the model as such:\n",
    "\n",
    "dependent_variable ~ independent_var1 + independent_var2 ...\n",
    "\n",
    "Although we can write this formula manually with a handful of variables, it may be cumbersome when the number of independent variables is high.\n",
    "\n",
    "We have a shortcut for that: "
   ]
  },
  {
   "cell_type": "code",
   "execution_count": null,
   "metadata": {},
   "outputs": [],
   "source": [
    "indepvars <- names(insurance) %>% setdiff(\"expenses\")\n",
    "indepvars\n",
    "\n",
    "formula1 <- reformulate(indepvars, \"expenses\")\n",
    "formula1"
   ]
  },
  {
   "cell_type": "markdown",
   "metadata": {},
   "source": [
    "When we are using all variables we also have a better shortcut:"
   ]
  },
  {
   "cell_type": "code",
   "execution_count": null,
   "metadata": {},
   "outputs": [],
   "source": [
    "formula2 <- reformulate(\".\", \"expenses\")\n",
    "formula2"
   ]
  },
  {
   "cell_type": "code",
   "execution_count": null,
   "metadata": {},
   "outputs": [],
   "source": [
    "ins_model <- lm(formula2, data = insurance_train)"
   ]
  },
  {
   "cell_type": "code",
   "execution_count": null,
   "metadata": {},
   "outputs": [],
   "source": [
    "ins_model"
   ]
  },
  {
   "cell_type": "markdown",
   "metadata": {},
   "source": [
    "Note that factor variables are automatically converted into dummy variables of 1 or 0 values"
   ]
  },
  {
   "cell_type": "markdown",
   "metadata": {},
   "source": [
    "### Dummy variables"
   ]
  },
  {
   "cell_type": "markdown",
   "metadata": {},
   "source": [
    "- Dummy coding allows a nominal feature to be treated as numeric by creating a \n",
    "binary variable, often called a dummy variable, for each category of the feature. \n",
    "\n",
    "- The dummy variable is set to 1 if the observation falls into the specified category or 0 otherwise. For instance, the sex feature has two categories: male and female. \n",
    "\n",
    "- This will be split into two binary variables, which R names sexmale and sexfemale. \n",
    "\n",
    "- For observations where sex = male, then sexmale = 1 and sexfemale = 0; conversely, if sex = female, then sexmale = 0 and sexfemale = 1. The same coding applies to variables with three or more categories.\n",
    "\n",
    "- For example, R split the four-category feature region into four dummy variables: regionnorthwest, regionsoutheast, regionsouthwest, and regionnortheast.\n",
    "\n",
    "- When adding a dummy variable to a regression model, one category is always left out to serve as the reference category. The estimates are then interpreted relative to the reference.\n",
    "\n",
    "- In our model, R automatically held out the sexfemale, smokerno, and regionnortheast variables, making female non-smokers in the northeast region the reference group."
   ]
  },
  {
   "cell_type": "markdown",
   "metadata": {},
   "source": [
    "To see how R converts factors into dummy variables, we can call model.matrix() function - which is also called implicitly when lm() is run with factor variables:"
   ]
  },
  {
   "cell_type": "code",
   "execution_count": null,
   "metadata": {},
   "outputs": [],
   "source": [
    "model.matrix(formula2, data = insurance_train)"
   ]
  },
  {
   "cell_type": "markdown",
   "metadata": {},
   "source": [
    "We can also compare the original factor variables with the newly created dummy variables:"
   ]
  },
  {
   "cell_type": "code",
   "execution_count": null,
   "metadata": {},
   "outputs": [],
   "source": [
    "insurance_train %>% purrr::keep(is.factor) %>%\n",
    "    cbind(model.matrix(formula2, data = insurance_train))"
   ]
  },
  {
   "cell_type": "markdown",
   "metadata": {},
   "source": [
    "### Interpretation of the model"
   ]
  },
  {
   "cell_type": "markdown",
   "metadata": {},
   "source": [
    "Intercept is the level of expenses when all independent variables take the value of 0\n",
    "\n",
    "- The beta coefficients indicate the estimated increase in expenses for an increase of \n",
    "one in each of the features, assuming all other values are held constant.\n",
    "- For instance, for each additional year of age, we would expect $248.17 higher medical expenses on \n",
    "average, assuming everything else is equal.\n",
    "\n",
    "- The results of the linear regression model make logical sense: old age, smoking, and \n",
    "obesity tend to be linked to additional health issues,\n",
    "- while additional family member dependents may result in an increase in physician visits and preventive care such \n",
    "as vaccinations and yearly physical exams."
   ]
  },
  {
   "cell_type": "markdown",
   "metadata": {},
   "source": [
    "## Evaluate model performance"
   ]
  },
  {
   "cell_type": "markdown",
   "metadata": {},
   "source": [
    "The output of the model is as such:"
   ]
  },
  {
   "cell_type": "code",
   "execution_count": null,
   "metadata": {},
   "outputs": [],
   "source": [
    "listviewer::jsonedit(ins_model)"
   ]
  },
  {
   "cell_type": "markdown",
   "metadata": {},
   "source": [
    "### Scatterplot"
   ]
  },
  {
   "cell_type": "markdown",
   "metadata": {},
   "source": [
    "We can compare the actual and fitted values visually in a scatterplot:\n",
    "\n",
    "Let's differentiate the color of the points across smoker values:"
   ]
  },
  {
   "cell_type": "code",
   "execution_count": null,
   "metadata": {},
   "outputs": [],
   "source": [
    "p1 <- cbind(insurance_train, fitted.values = ins_model$fitted.values) %>%\n",
    "        ggplot(aes(x = expenses,\n",
    "                   y = fitted.values,\n",
    "                   color = smoker)) +\n",
    "            geom_point() +\n",
    "            xlab(\"actual values\") +\n",
    "            ylab(\"fitted values\")\n",
    "\n",
    "plotly::ggplotly(p1)"
   ]
  },
  {
   "cell_type": "markdown",
   "metadata": {},
   "source": [
    "The predicted and actual values do not fit well on a line. There is room for improvement"
   ]
  },
  {
   "cell_type": "markdown",
   "metadata": {},
   "source": [
    "Now, let's get a summary of the model:"
   ]
  },
  {
   "cell_type": "code",
   "execution_count": null,
   "metadata": {},
   "outputs": [],
   "source": [
    "ins_sum <- summary(ins_model)\n",
    "ins_sum"
   ]
  },
  {
   "cell_type": "markdown",
   "metadata": {},
   "source": [
    "We can have a pretty representation of the nested output of summary:"
   ]
  },
  {
   "cell_type": "code",
   "execution_count": null,
   "metadata": {},
   "outputs": [],
   "source": [
    "listviewer::jsonedit(ins_sum, mode = \"form\")"
   ]
  },
  {
   "cell_type": "markdown",
   "metadata": {},
   "source": [
    "### Coefficients"
   ]
  },
  {
   "cell_type": "markdown",
   "metadata": {},
   "source": [
    "To interpret the fit of the model, we will first look at the t-values of of the standard errors of variables:"
   ]
  },
  {
   "cell_type": "code",
   "execution_count": null,
   "metadata": {},
   "outputs": [],
   "source": [
    "ins_sum$coefficients"
   ]
  },
  {
   "cell_type": "markdown",
   "metadata": {},
   "source": [
    "Let's see the coefficients of which variables are significantly different from 0 at a significance level of 5%:"
   ]
  },
  {
   "cell_type": "code",
   "execution_count": null,
   "metadata": {},
   "outputs": [],
   "source": [
    "coefs1 <- as.data.table(ins_sum$coefficients, keep.rownames = T)\n",
    "split(coefs1, coefs1[,5] < 0.05)"
   ]
  },
  {
   "cell_type": "markdown",
   "metadata": {},
   "source": [
    "### R-squared"
   ]
  },
  {
   "cell_type": "markdown",
   "metadata": {},
   "source": [
    "Then let's view the r-squared and adjusted r-squared values:"
   ]
  },
  {
   "cell_type": "code",
   "execution_count": null,
   "metadata": {},
   "outputs": [],
   "source": [
    "ins_sum$r.squared;\n",
    "ins_sum$adj.r.squared"
   ]
  },
  {
   "cell_type": "markdown",
   "metadata": {},
   "source": [
    "So the model explains 76% of the variance in expenses variable. Note that adjusted r squared penalizes the model for number of predictors included"
   ]
  },
  {
   "cell_type": "markdown",
   "metadata": {},
   "source": [
    "### F-statistic"
   ]
  },
  {
   "cell_type": "markdown",
   "metadata": {},
   "source": [
    "Now let's view the f statistic. This criterion tells us about the overall significance of the predictor variables:"
   ]
  },
  {
   "cell_type": "code",
   "execution_count": null,
   "metadata": {},
   "outputs": [],
   "source": [
    "ins_sum$fstatistic"
   ]
  },
  {
   "cell_type": "markdown",
   "metadata": {},
   "source": [
    "These values do not mean much as is. We can get the p-value of the f-statistics:"
   ]
  },
  {
   "cell_type": "code",
   "execution_count": null,
   "metadata": {},
   "outputs": [],
   "source": [
    "fstat <- ins_sum$fstatistic\n",
    "pf(fstat[1], fstat[2], fstat[3], lower.tail = FALSE)"
   ]
  },
  {
   "cell_type": "markdown",
   "metadata": {},
   "source": [
    "Or in a more concise way:"
   ]
  },
  {
   "cell_type": "code",
   "execution_count": null,
   "metadata": {},
   "outputs": [],
   "source": [
    "do.call(pf, c(ins_sum$fstatistic %>% as.list() %>% unname(), lower.tail = FALSE))"
   ]
  },
  {
   "cell_type": "markdown",
   "metadata": {},
   "source": [
    "F-statistic is highly significant: So the predictors as a whole are significantly different than zero or to put it differently, the model is significantly better than a model which tries to predict expenses by just getting the average of expenses values (intercept only model).\n",
    "\n",
    "However, a significant F-statistic does not mean our model explains a good portion of the variance in the dependent variables (as measured by r-squared)"
   ]
  },
  {
   "cell_type": "markdown",
   "metadata": {},
   "source": [
    "A better way to get a glance of the fit of the model:"
   ]
  },
  {
   "cell_type": "code",
   "execution_count": null,
   "metadata": {},
   "outputs": [],
   "source": [
    "broom::glance(ins_model)"
   ]
  },
  {
   "cell_type": "markdown",
   "metadata": {},
   "source": [
    "### AIC and BIC"
   ]
  },
  {
   "cell_type": "markdown",
   "metadata": {},
   "source": [
    "Note that, AIC and BIC measures are useful to compare alternative models on the same dataset. We can also calculate them separately as such: "
   ]
  },
  {
   "cell_type": "code",
   "execution_count": null,
   "metadata": {},
   "outputs": [],
   "source": [
    "AIC(ins_model);\n",
    "BIC(ins_model)"
   ]
  },
  {
   "cell_type": "markdown",
   "metadata": {},
   "source": [
    "The lower these values are, the better the model fit"
   ]
  },
  {
   "cell_type": "markdown",
   "metadata": {},
   "source": [
    "## Predictive power of the model"
   ]
  },
  {
   "cell_type": "markdown",
   "metadata": {},
   "source": [
    "Now let's see whether the model predicts the test data accurately"
   ]
  },
  {
   "cell_type": "code",
   "execution_count": null,
   "metadata": {},
   "outputs": [],
   "source": [
    "expenses_test_predicted <- predict.lm(ins_model, insurance_test)"
   ]
  },
  {
   "cell_type": "markdown",
   "metadata": {},
   "source": [
    "We can create a scatterplot across predicted and actual values:"
   ]
  },
  {
   "cell_type": "code",
   "execution_count": null,
   "metadata": {},
   "outputs": [],
   "source": [
    "p2 <- cbind(insurance_test, fitted.values = expenses_test_predicted) %>%\n",
    "        ggplot(aes(x = expenses,\n",
    "                   y = fitted.values,\n",
    "                   color = smoker)) +\n",
    "            geom_point() +\n",
    "            xlab(\"actual values\") +\n",
    "            ylab(\"fitted values\")\n",
    "\n",
    "plotly::ggplotly(p2)"
   ]
  },
  {
   "cell_type": "markdown",
   "metadata": {},
   "source": [
    "A good way to measure the predictive power of a model on test data is to calculate two criteria:\n",
    "\n",
    "- Root Mean Squared Error (RMSE)\n",
    "- Mean Absolute Error (MAE)\n",
    "\n",
    "They are measures on how much the predictions deviate from actual values"
   ]
  },
  {
   "cell_type": "code",
   "execution_count": null,
   "metadata": {},
   "outputs": [],
   "source": [
    "TSrepr::mae(insurance_test$expenses, expenses_test_predicted)\n",
    "TSrepr::rmse(insurance_test$expenses, expenses_test_predicted)"
   ]
  },
  {
   "cell_type": "markdown",
   "metadata": {},
   "source": [
    "We can compare these values for test data with the same criteria calculated for the train data:"
   ]
  },
  {
   "cell_type": "code",
   "execution_count": null,
   "metadata": {},
   "outputs": [],
   "source": [
    "TSrepr::mae(insurance_train$expenses, ins_model$fitted.values)\n",
    "TSrepr::rmse(insurance_train$expenses, ins_model$fitted.values)"
   ]
  },
  {
   "cell_type": "markdown",
   "metadata": {},
   "source": [
    "Though the test data has slightly higher rmse and mae values than the train data do, the model fits rather similarly on test and train data"
   ]
  },
  {
   "cell_type": "markdown",
   "metadata": {},
   "source": [
    "## Improving model performance"
   ]
  },
  {
   "cell_type": "markdown",
   "metadata": {},
   "source": [
    "### Adding non-linear relationships"
   ]
  },
  {
   "cell_type": "markdown",
   "metadata": {},
   "source": [
    "Not all relationships are linear:"
   ]
  },
  {
   "cell_type": "code",
   "execution_count": null,
   "metadata": {
    "scrolled": false
   },
   "outputs": [],
   "source": [
    "p3 <- insurance %>%\n",
    "        ggplot(aes(x = expenses,\n",
    "                   y = age)) +\n",
    "            geom_point()\n",
    "\n",
    "plotly::ggplotly(p3)"
   ]
  },
  {
   "cell_type": "markdown",
   "metadata": {},
   "source": [
    "There is slight curved relationship between age and expenses, which may be represented with a quadratic function.\n",
    "\n",
    "We add the squared term of age as a new variable named age2:"
   ]
  },
  {
   "cell_type": "code",
   "execution_count": null,
   "metadata": {},
   "outputs": [],
   "source": [
    "insurance[,age2 := age^2]\n",
    "insurance"
   ]
  },
  {
   "cell_type": "markdown",
   "metadata": {},
   "source": [
    "### Converting a numeric variable to a binary indicator"
   ]
  },
  {
   "cell_type": "markdown",
   "metadata": {},
   "source": [
    "Suppose we have a hunch that the effect of a feature is not cumulative, rather it has \n",
    "an effect only after a specific threshold has been reached.\n",
    "\n",
    "- For instance, BMI may have zero impact on medical expenditures for individuals in the normal weight range,\n",
    "- but it may be strongly related to higher costs for the obese (that is, BMI of 30 or above)."
   ]
  },
  {
   "cell_type": "code",
   "execution_count": null,
   "metadata": {},
   "outputs": [],
   "source": [
    "insurance[,bmi30 := (bmi >= 30) + 0]\n",
    "\n",
    "insurance"
   ]
  },
  {
   "cell_type": "markdown",
   "metadata": {},
   "source": [
    "### Adding interaction effects"
   ]
  },
  {
   "cell_type": "markdown",
   "metadata": {},
   "source": [
    "- So far, we have only considered each feature's individual contribution to the \n",
    "outcome.\n",
    "\n",
    "- What if certain features have a combined impact on the dependent \n",
    "variable?\n",
    "\n",
    "- For instance, smoking and obesity may have harmful effects separately,  \n",
    "but it is reasonable to assume that their combined effect may be worse than the  \n",
    "sum of each one alone.\n",
    "\n",
    "- When two features have a combined effect, this is known as an interaction.\n",
    "\n",
    "- If we suspect that two variables interact, we can test this hypothesis by adding their interaction to the model. \n",
    "\n",
    "- Interaction effects are specified using the R formula syntax. \n",
    "\n",
    "- To have the obesity indicator (bmi30) and the smoking indicator (smoker) interact, we would write a formula in the form expenses ~ bmi30*smoker.\n",
    "\n",
    "- The * operator is shorthand that instructs R to model expenses ~ bmi30 + smokeryes + bmi30:smokeryes.\n",
    "\n",
    "- The : (colon) operator in the expanded form indicates that bmi30:smokeryes is the interaction between the two variables.\n",
    "\n",
    "- Note that the expanded form also automatically included the bmi30 and smoker variables as well as the interaction."
   ]
  },
  {
   "cell_type": "markdown",
   "metadata": {},
   "source": [
    "### Improved model"
   ]
  },
  {
   "cell_type": "code",
   "execution_count": null,
   "metadata": {},
   "outputs": [],
   "source": [
    "set.seed(19231029)\n",
    "train_ind <- insurance[,sample(.I, 0.7 * .N)]"
   ]
  },
  {
   "cell_type": "code",
   "execution_count": null,
   "metadata": {},
   "outputs": [],
   "source": [
    "insurance_train2 <- insurance[train_ind]\n",
    "insurance_test2 <- insurance[-train_ind]"
   ]
  },
  {
   "cell_type": "code",
   "execution_count": null,
   "metadata": {},
   "outputs": [],
   "source": [
    "names(insurance)"
   ]
  },
  {
   "cell_type": "code",
   "execution_count": null,
   "metadata": {},
   "outputs": [],
   "source": [
    "predictors <- names(insurance) %>% setdiff(c(\"smoker\", \"expenses\", \"bmi30\")) %>% c(paste(\"bmi30\", \"smoker\", sep = \"*\"))\n",
    "predictors"
   ]
  },
  {
   "cell_type": "code",
   "execution_count": null,
   "metadata": {},
   "outputs": [],
   "source": [
    "formula3 <- reformulate(predictors, \"expenses\")\n",
    "formula3"
   ]
  },
  {
   "cell_type": "code",
   "execution_count": null,
   "metadata": {},
   "outputs": [],
   "source": [
    "ins_model2 <- lm(formula3, data = insurance_train2)\n",
    "ins_sum2 <- summary(ins_model2)"
   ]
  },
  {
   "cell_type": "code",
   "execution_count": null,
   "metadata": {},
   "outputs": [],
   "source": [
    "ins_sum2 %>% listviewer::jsonedit(mode = \"form\")"
   ]
  },
  {
   "cell_type": "markdown",
   "metadata": {},
   "source": [
    "#### Evaluate improved model performance:"
   ]
  },
  {
   "cell_type": "markdown",
   "metadata": {},
   "source": [
    "First let's plot actual and fitted values:"
   ]
  },
  {
   "cell_type": "code",
   "execution_count": null,
   "metadata": {
    "scrolled": true
   },
   "outputs": [],
   "source": [
    "p4 <- cbind(insurance_train2, fitted.values = ins_model2$fitted.values) %>%\n",
    "        ggplot(aes(x = expenses,\n",
    "                   y = fitted.values,\n",
    "                   color = smoker)) +\n",
    "            geom_point() +\n",
    "            xlab(\"actual values\") +\n",
    "            ylab(\"fitted values\")\n",
    "\n",
    "plotly::ggplotly(p4)"
   ]
  },
  {
   "cell_type": "markdown",
   "metadata": {},
   "source": [
    "We can also create a side-by-side scatterplot of both models to better view the improvement: "
   ]
  },
  {
   "cell_type": "code",
   "execution_count": null,
   "metadata": {},
   "outputs": [],
   "source": [
    "pl.1 <- ggplotly(p1)\n",
    "pl.2 <- ggplotly(p4)\n",
    "\n",
    "subplot(list(pl.1,pl.2),nrows=1,shareX=F,shareY=F,titleX=T,titleY=T)"
   ]
  },
  {
   "cell_type": "markdown",
   "metadata": {},
   "source": [
    "Visual inspection reveals that we now have a better fit"
   ]
  },
  {
   "cell_type": "markdown",
   "metadata": {},
   "source": [
    "Let's compare the significance of coefficients:"
   ]
  },
  {
   "cell_type": "code",
   "execution_count": null,
   "metadata": {},
   "outputs": [],
   "source": [
    "ins_sum$coefficients[ins_sum$coefficients[,4] < 0.05,]"
   ]
  },
  {
   "cell_type": "markdown",
   "metadata": {},
   "source": [
    "See which predictors are significant in both models:"
   ]
  },
  {
   "cell_type": "code",
   "execution_count": null,
   "metadata": {},
   "outputs": [],
   "source": [
    "coefs1 <- as.data.table(ins_sum$coefficients, keep.rownames = T)\n",
    "split(coefs1, coefs1[,5] < 0.05)"
   ]
  },
  {
   "cell_type": "code",
   "execution_count": null,
   "metadata": {},
   "outputs": [],
   "source": [
    "coefs2 <- as.data.table(ins_sum2$coefficients, keep.rownames = T)\n",
    "split(coefs2, coefs2[,5] < 0.05)"
   ]
  },
  {
   "cell_type": "markdown",
   "metadata": {},
   "source": [
    "We have 7 significant variables as compared to 5 (+ intercept) in the initial model.\n",
    "\n",
    "The newly added age2 and bmi30:smokeryes variables are significant while bmi30 separately is not"
   ]
  },
  {
   "cell_type": "markdown",
   "metadata": {},
   "source": [
    "Let's compare the r squared and adjusted r squared values"
   ]
  },
  {
   "cell_type": "code",
   "execution_count": null,
   "metadata": {},
   "outputs": [],
   "source": [
    "summary_list <- list(model1 = ins_sum, model2 = ins_sum2)\n",
    "\n",
    "sapply(summary_list, \"[\", c(\"r.squared\", \"adj.r.squared\"))"
   ]
  },
  {
   "cell_type": "markdown",
   "metadata": {},
   "source": [
    "Both values are much improved\n",
    "\n",
    "We can compare the output of glance function for fstatistics, AIC and BIC as well as r squared comparison:"
   ]
  },
  {
   "cell_type": "code",
   "execution_count": null,
   "metadata": {},
   "outputs": [],
   "source": [
    "models_list <- list(model1 = ins_model, model2 = ins_model2)\n",
    "\n",
    "sapply(models_list, broom::glance)"
   ]
  },
  {
   "cell_type": "markdown",
   "metadata": {},
   "source": [
    "The p-value of F statistics is much lower - hence model is more significant\n",
    "\n",
    "Both AIC and BIC values are lower, again indicator of a better fit"
   ]
  },
  {
   "cell_type": "markdown",
   "metadata": {},
   "source": [
    "#### Predictive power of the improved model"
   ]
  },
  {
   "cell_type": "code",
   "execution_count": null,
   "metadata": {},
   "outputs": [],
   "source": [
    "expenses_test_predicted2 <- predict.lm(ins_model2, insurance_test2)"
   ]
  },
  {
   "cell_type": "markdown",
   "metadata": {},
   "source": [
    "We can create a scatterplot across predicted and actual values:"
   ]
  },
  {
   "cell_type": "code",
   "execution_count": null,
   "metadata": {},
   "outputs": [],
   "source": [
    "p5 <- cbind(insurance_test2, fitted.values = expenses_test_predicted2) %>%\n",
    "        ggplot(aes(x = expenses,\n",
    "                   y = fitted.values,\n",
    "                   color = smoker)) +\n",
    "            geom_point() +\n",
    "            xlab(\"actual values\") +\n",
    "            ylab(\"fitted values\")\n",
    "\n",
    "plotly::ggplotly(p5)"
   ]
  },
  {
   "cell_type": "markdown",
   "metadata": {},
   "source": [
    "We can also create a side-by-side scatterplot of both models to better view the improvement: "
   ]
  },
  {
   "cell_type": "code",
   "execution_count": null,
   "metadata": {},
   "outputs": [],
   "source": [
    "pl.3 <- ggplotly(p2)\n",
    "pl.4 <- ggplotly(p5)\n",
    "\n",
    "subplot(list(pl.3,pl.4),nrows=1,shareX=F,shareY=F,titleX=T,titleY=T)"
   ]
  },
  {
   "cell_type": "markdown",
   "metadata": {},
   "source": [
    "The fit of predicted values are also better"
   ]
  },
  {
   "cell_type": "markdown",
   "metadata": {},
   "source": [
    "Now let's compare the mae and rmse values of fitted and predicted values with those of the original model.\n",
    "\n",
    "We first write a wrapper function so that we do not repeat all steps:"
   ]
  },
  {
   "cell_type": "code",
   "execution_count": null,
   "metadata": {},
   "outputs": [],
   "source": [
    "mae_rmse <- function(data_train, data_test, fitted, predicted)\n",
    "{\n",
    "    c(\n",
    "        rmse_fitted = TSrepr::rmse(data_train$expenses, fitted),\n",
    "        rmse_predicted = TSrepr::rmse(data_test$expenses, predicted),\n",
    "        mae_fitted = TSrepr::mae(data_train$expenses, fitted),\n",
    "        mae_predicted = TSrepr::mae(data_test$expenses, predicted)\n",
    "    ) %>% round(2)\n",
    "        \n",
    "}"
   ]
  },
  {
   "cell_type": "code",
   "execution_count": null,
   "metadata": {},
   "outputs": [],
   "source": [
    "cbind(model1 = mae_rmse(insurance_train, insurance_test, ins_model$fitted.values, expenses_test_predicted),\n",
    "      model2 = mae_rmse(insurance_train2, insurance_test2, ins_model2$fitted.values, expenses_test_predicted2)\n",
    "      )"
   ]
  },
  {
   "cell_type": "markdown",
   "metadata": {},
   "source": [
    "We see that all rmse and mae values are lower (lower the error, better the fit and predictive power) in the second model as compared to those of the first model\n",
    "\n",
    "And rmse and mae values of predicted values are slightly higher but not so different than those of the fitted values. So the model works well on test data as it does on the train data"
   ]
  }
 ],
 "metadata": {
  "kernelspec": {
   "display_name": "R",
   "language": "R",
   "name": "ir"
  },
  "language_info": {
   "codemirror_mode": "r",
   "file_extension": ".r",
   "mimetype": "text/x-r-source",
   "name": "R",
   "pygments_lexer": "r",
   "version": "3.5.1"
  },
  "toc": {
   "base_numbering": 1,
   "nav_menu": {},
   "number_sections": true,
   "sideBar": true,
   "skip_h1_title": false,
   "title_cell": "Table of Contents",
   "title_sidebar": "Contents",
   "toc_cell": false,
   "toc_position": {},
   "toc_section_display": "block",
   "toc_window_display": false
  }
 },
 "nbformat": 4,
 "nbformat_minor": 2
}
