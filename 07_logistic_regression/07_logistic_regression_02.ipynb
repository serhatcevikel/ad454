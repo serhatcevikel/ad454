{
 "cells": [
  {
   "cell_type": "markdown",
   "metadata": {},
   "source": [
    "# LOGISTIC REGRESSION WITH FLIGHT DELAY DATASET"
   ]
  },
  {
   "cell_type": "markdown",
   "metadata": {},
   "source": [
    "Adapted from Shmueli (2017) Chapter 10"
   ]
  },
  {
   "cell_type": "markdown",
   "metadata": {},
   "source": [
    "Dataset is about acceptance of a personal loan by Universal Bank. The bank’s dataset includes data on 5000 customers.\n",
    "\n",
    "The data include the customer’s response to the last personal loan campaign (Personal Loan), as well as customer demographic information (Age, Income, etc.) and the customer’s relationship with the bank (mortgage, securities account, etc.).\n",
    "\n",
    "Among these 5000 customers, only 480 (= 9.6%) accepted the personal loan offered to them in a previous campaign.\n",
    "\n",
    "The goal is to build a model that identifies customers who are most likely to accept the loan offer in future mailings."
   ]
  },
  {
   "cell_type": "markdown",
   "metadata": {},
   "source": [
    "## Libraries and dataset"
   ]
  },
  {
   "cell_type": "code",
   "execution_count": null,
   "metadata": {},
   "outputs": [],
   "source": [
    "library(data.table) # to handle the data in a more convenient manner\n",
    "library(tidyverse) # for a better work flow and more tools to wrangle and visualize the data\n",
    "library(plotly) # for interactive visualizations\n",
    "library(pROC) # for ROC curve\n",
    "library(plotROC) # for pretty plot ROC curve\n",
    "library(IRdisplay) # for displaying interactive ROC curves\n",
    "library(lift) # for lift chart\n",
    "library(caret) # for lift chart and confusion matrix\n",
    "library(gains) # for lift chart"
   ]
  },
  {
   "cell_type": "code",
   "execution_count": null,
   "metadata": {},
   "outputs": [],
   "source": [
    "bank_dt <- fread(\"../data/csv/05_03_universalbank.csv\", stringsAsFactors = T)"
   ]
  },
  {
   "cell_type": "markdown",
   "metadata": {},
   "source": [
    "## Explore data"
   ]
  },
  {
   "cell_type": "markdown",
   "metadata": {},
   "source": [
    "Delete unnecessary variables:"
   ]
  },
  {
   "cell_type": "code",
   "execution_count": null,
   "metadata": {},
   "outputs": [],
   "source": [
    "bank_dt[, c(\"ID\", \"ZIP Code\") := NULL] #to drop ID and ZIP code columns"
   ]
  },
  {
   "cell_type": "markdown",
   "metadata": {},
   "source": [
    "Convert education to factor:"
   ]
  },
  {
   "cell_type": "code",
   "execution_count": null,
   "metadata": {},
   "outputs": [],
   "source": [
    "bank_dt[, Education := factor(Education,\n",
    "                              levels = 1:3,\n",
    "                              labels = c(\"Undergrad\",\n",
    "                                        \"Graduate\",\n",
    "                                        \"Advanced/Professional\"))]"
   ]
  },
  {
   "cell_type": "markdown",
   "metadata": {},
   "source": [
    "Get the structure of the data:"
   ]
  },
  {
   "cell_type": "code",
   "execution_count": null,
   "metadata": {},
   "outputs": [],
   "source": [
    "str(bank_dt)"
   ]
  },
  {
   "cell_type": "markdown",
   "metadata": {},
   "source": [
    "\"Personal Loan\" will be our dependent variable "
   ]
  },
  {
   "cell_type": "markdown",
   "metadata": {},
   "source": [
    "View data:"
   ]
  },
  {
   "cell_type": "code",
   "execution_count": null,
   "metadata": {},
   "outputs": [],
   "source": [
    "bank_dt"
   ]
  },
  {
   "cell_type": "markdown",
   "metadata": {},
   "source": [
    "Summarize numeric variables:"
   ]
  },
  {
   "cell_type": "code",
   "execution_count": null,
   "metadata": {},
   "outputs": [],
   "source": [
    "bank_dt %>% purrr::keep(is.numeric) %>% sapply(quantile) %>% t()"
   ]
  },
  {
   "cell_type": "code",
   "execution_count": null,
   "metadata": {},
   "outputs": [],
   "source": [
    "bank_dt[,Age:Mortgage][,!\"Education\"]"
   ]
  },
  {
   "cell_type": "markdown",
   "metadata": {},
   "source": [
    "We see that the last five variables are actually categoric ones that take values of 0 or 1 only\n",
    "\n",
    "But we will keep them as is, since they will be treated as dummy variables in the model"
   ]
  },
  {
   "cell_type": "code",
   "execution_count": null,
   "metadata": {},
   "outputs": [],
   "source": [
    "bank_dt[,Age:Mortgage][,!\"Education\"] %>% # select columns\n",
    "    tidyr::gather() %>% # reshape into long format in columns \"key\" and \"value\"\n",
    "    ggplot(aes(value)) + # plot value\n",
    "        facet_wrap(~ key, scale = \"free\" ) + # divide into separate plots by key\n",
    "        geom_density(fill = \"green\")  # get density plots"
   ]
  },
  {
   "cell_type": "markdown",
   "metadata": {},
   "source": [
    "Summarize factor variables:"
   ]
  },
  {
   "cell_type": "code",
   "execution_count": null,
   "metadata": {},
   "outputs": [],
   "source": [
    "bank_factors <- bank_dt[,Education:CreditCard][,!\"Mortgage\"] %>% # select columns\n",
    "\n",
    "    tidyr::gather() %>% # convert into long format for faceting\n",
    "    ggplot(aes(x = value)) + # plot value\n",
    "    facet_wrap(~ key, scales = \"free\") + # divide into separate plots by key\n",
    "    geom_bar()\n",
    "\n",
    "plotly::ggplotly(bank_factors)"
   ]
  },
  {
   "cell_type": "markdown",
   "metadata": {},
   "source": [
    "## Partition the dataset"
   ]
  },
  {
   "cell_type": "markdown",
   "metadata": {},
   "source": [
    "We will take 60% as train and 40% as test set: "
   ]
  },
  {
   "cell_type": "code",
   "execution_count": null,
   "metadata": {},
   "outputs": [],
   "source": [
    "#partition data\n",
    "set.seed(2)\n",
    "train <- bank_dt[,sample(.I, .N * 0.6)]"
   ]
  },
  {
   "cell_type": "code",
   "execution_count": null,
   "metadata": {},
   "outputs": [],
   "source": [
    "bank_train <- bank_dt[train]\n",
    "bank_test <- bank_dt[-train]"
   ]
  },
  {
   "cell_type": "markdown",
   "metadata": {},
   "source": [
    "## Build and train a model"
   ]
  },
  {
   "cell_type": "markdown",
   "metadata": {},
   "source": [
    "Build a logistic regression model: "
   ]
  },
  {
   "cell_type": "code",
   "execution_count": null,
   "metadata": {},
   "outputs": [],
   "source": [
    "logit_reg <- glm(`Personal Loan` ~ ., data = bank_train, family = \"binomial\")"
   ]
  },
  {
   "cell_type": "markdown",
   "metadata": {},
   "source": [
    "Summarize the model:"
   ]
  },
  {
   "cell_type": "code",
   "execution_count": null,
   "metadata": {},
   "outputs": [],
   "source": [
    "summary(logit_reg)"
   ]
  },
  {
   "cell_type": "markdown",
   "metadata": {},
   "source": [
    "All variables except Age, Experience and Mortgage are significant at 5%\n",
    "\n",
    "Residual deviance is highly below null deviance, hence the model could explain o good portion of the total variation"
   ]
  },
  {
   "cell_type": "markdown",
   "metadata": {},
   "source": [
    "## Evaluate classification performance"
   ]
  },
  {
   "cell_type": "markdown",
   "metadata": {},
   "source": [
    "Get the fitted values for train set:"
   ]
  },
  {
   "cell_type": "code",
   "execution_count": null,
   "metadata": {},
   "outputs": [],
   "source": [
    "pred_train <- predict(logit_reg, bank_train[,!\"Personal Loan\"], type = \"response\")"
   ]
  },
  {
   "cell_type": "markdown",
   "metadata": {},
   "source": [
    "Convert them to discrete values for labels:"
   ]
  },
  {
   "cell_type": "code",
   "execution_count": null,
   "metadata": {},
   "outputs": [],
   "source": [
    "train_class <- ifelse(pred_train > 0.5, 1, 0)"
   ]
  },
  {
   "cell_type": "markdown",
   "metadata": {},
   "source": [
    "### A detailed look at the confusion matrix:"
   ]
  },
  {
   "cell_type": "markdown",
   "metadata": {},
   "source": [
    "Create a confusion matrix:"
   ]
  },
  {
   "cell_type": "code",
   "execution_count": null,
   "metadata": {},
   "outputs": [],
   "source": [
    "table(bank_train[,`Personal Loan`], train_class) %>% caret::confusionMatrix()"
   ]
  },
  {
   "cell_type": "markdown",
   "metadata": {},
   "source": [
    "Now let's go into the details of a confusion matrix:\n",
    "\n",
    "![confusion matrix](https://3.bp.blogspot.com/--jLXutUe5Ss/VvPIO6ZH2tI/AAAAAAAACkU/pvVL4L-a70gnFEURcfBbL_R-GnhBR6f1Q/s1600/ConfusionMatrix.png)"
   ]
  },
  {
   "cell_type": "markdown",
   "metadata": {},
   "source": [
    "According to Lantz (2015) Chapter 10:\n",
    "\n",
    "- True Positive (TP): Correctly classified as the class of interest\n",
    "- True Negative (TN): Correctly classified as not the class of interest\n",
    "- False Positive (FP): Incorrectly classified as the class of interest\n",
    "- False Negative (FN): Incorrectly classified as not the class of interest\n",
    "\n"
   ]
  },
  {
   "cell_type": "markdown",
   "metadata": {},
   "source": [
    "- So accuracy is the sum of true negatives/positives over all cases\n",
    "- Error rate is \"1 - accuracy\"\n",
    "- The sensitivity of a model (also called the true positive rate) measures the proportion of positive examples that were correctly classified. Therefore, it is calculated as the number of true positives divided by the total number of positives, both correctly classified (the true positives) as well as incorrectly classified (the false negatives)\n",
    "- The specificity of a model (also called the true negative rate) measures the proportion of negative examples that were correctly classified. As with sensitivity, this is computed as the number of true negatives, divided by the total number of negatives—the true negatives plus the false positives\n",
    "- The precision (also known as the positive predictive value) is defined as the proportion of positive examples that are truly positive; in other words, when a model predicts the positive class, how often is it correct? A precise model will only predict the positive class in cases that are very likely to be positive. It will be very trustworthy.\n",
    "- On the other hand, recall is a measure of how complete the results are. This is defined as the number of true positives over the total number of positives. You may have already recognized this as the same as sensitivity. However, in this case, the interpretation differs slightly. A model with a high recall captures a large portion of the positive examples, meaning that it has wide breadth. For example, a search engine with a high recall returns a large number of documents pertinent to the search query. Similarly, the SMS spam filter has a high recall if the majority of spam messages are correctly identified."
   ]
  },
  {
   "cell_type": "markdown",
   "metadata": {},
   "source": [
    "Now another important metric is the kappa statistic:\n",
    "\n",
    "The kappa statistic (labeled Kappa in the previous output) adjusts accuracy by accounting for the possibility of a correct prediction by chance alone.\n",
    "\n",
    "This is especially important for datasets with a severe class imbalance, because a classifier can obtain high accuracy simply by always guessing the most frequent class.\n",
    "\n",
    "The kappa statistic will only reward the classifier if it is correct more often than this simplistic strategy.\n",
    "\n",
    "Kappa values range from 0 to a maximum of 1, which indicates perfect agreement between the model's predictions and the true values. Values less than one indicate imperfect agreement. Depending on how a model is to be used, the interpretation of the kappa statistic might vary. One common interpretation is shown as follows:\n",
    "- Poor agreement = less than 0.20\n",
    "- Fair agreement = 0.20 to 0.40\n",
    "- Moderate agreement = 0.40 to 0.60\n",
    "- Good agreement = 0.60 to 0.80\n",
    "- Very good agreement = 0.80 to 1.00"
   ]
  },
  {
   "cell_type": "markdown",
   "metadata": {},
   "source": [
    "### ROC curve"
   ]
  },
  {
   "cell_type": "markdown",
   "metadata": {},
   "source": [
    "Now let's draw the ROC curve:"
   ]
  },
  {
   "cell_type": "code",
   "execution_count": null,
   "metadata": {},
   "outputs": [],
   "source": [
    "p1 <- data.table(D = bank_train[,`Personal Loan`], M = pred_train) %>%\n",
    "ggplot(aes(m = M, d = D)) +\n",
    "    plotROC::geom_roc() +\n",
    "    plotROC::style_roc(theme = theme_grey)\n",
    "\n",
    "plotROC::export_interactive_roc(p1) %>% IRdisplay::display_html()"
   ]
  },
  {
   "cell_type": "markdown",
   "metadata": {},
   "source": [
    "Curve is quite close the a perfect classifier"
   ]
  },
  {
   "cell_type": "markdown",
   "metadata": {},
   "source": [
    "And let's calculate the area under curve (AUC)"
   ]
  },
  {
   "cell_type": "code",
   "execution_count": null,
   "metadata": {},
   "outputs": [],
   "source": [
    "pROC::auc(bank_train[,`Personal Loan`], pred_train)"
   ]
  },
  {
   "cell_type": "markdown",
   "metadata": {},
   "source": [
    "AUC near 1 also confirms the accuracy"
   ]
  },
  {
   "cell_type": "markdown",
   "metadata": {},
   "source": [
    "## Evaluate prediction performance"
   ]
  },
  {
   "cell_type": "markdown",
   "metadata": {},
   "source": [
    "Let's predict the probabilities of test set:"
   ]
  },
  {
   "cell_type": "code",
   "execution_count": null,
   "metadata": {},
   "outputs": [],
   "source": [
    "pred_test <- predict(logit_reg, bank_test[,!\"Personal Loan\"], type = \"response\")"
   ]
  },
  {
   "cell_type": "markdown",
   "metadata": {},
   "source": [
    "Convert probabilities to classes:"
   ]
  },
  {
   "cell_type": "code",
   "execution_count": null,
   "metadata": {},
   "outputs": [],
   "source": [
    "test_class <- ifelse(pred_test > 0.5, 1, 0)"
   ]
  },
  {
   "cell_type": "markdown",
   "metadata": {},
   "source": [
    "And create a confusion matrix:"
   ]
  },
  {
   "cell_type": "code",
   "execution_count": null,
   "metadata": {},
   "outputs": [],
   "source": [
    "table(bank_test[,`Personal Loan`], test_class) %>% caret::confusionMatrix()"
   ]
  },
  {
   "cell_type": "markdown",
   "metadata": {},
   "source": [
    "While kappa and accuracy on the test set is slightly lower than the values for the train set, the model still performs good"
   ]
  },
  {
   "cell_type": "markdown",
   "metadata": {},
   "source": [
    "### Lift chart and decile-wise lift chart"
   ]
  },
  {
   "cell_type": "markdown",
   "metadata": {},
   "source": [
    "Next we will use the lift chart using the caret and ggplot packages:"
   ]
  },
  {
   "cell_type": "markdown",
   "metadata": {},
   "source": [
    "First create classes:"
   ]
  },
  {
   "cell_type": "code",
   "execution_count": null,
   "metadata": {},
   "outputs": [],
   "source": [
    "test_class2 <- as.factor(bank_test[,`Personal Loan`]) %>% forcats::fct_relevel(\"1\")"
   ]
  },
  {
   "cell_type": "markdown",
   "metadata": {},
   "source": [
    "And the lift object:"
   ]
  },
  {
   "cell_type": "code",
   "execution_count": null,
   "metadata": {},
   "outputs": [],
   "source": [
    "lift1 <- caret::lift(test_class2 ~ pred_test)\n",
    "lift1"
   ]
  },
  {
   "cell_type": "markdown",
   "metadata": {},
   "source": [
    "See the percent of classes:"
   ]
  },
  {
   "cell_type": "code",
   "execution_count": null,
   "metadata": {},
   "outputs": [],
   "source": [
    "bank_test[,`Personal Loan` %>% table()] %>% prop.table()"
   ]
  },
  {
   "cell_type": "markdown",
   "metadata": {},
   "source": [
    "And create the lift chart:"
   ]
  },
  {
   "cell_type": "code",
   "execution_count": null,
   "metadata": {},
   "outputs": [],
   "source": [
    "lift1 %>%\n",
    "ggplot(plot = \"gain\") %>% plotly::ggplotly()"
   ]
  },
  {
   "cell_type": "markdown",
   "metadata": {},
   "source": [
    "And next draw the decile-wise lift chart:"
   ]
  },
  {
   "cell_type": "code",
   "execution_count": null,
   "metadata": {},
   "outputs": [],
   "source": [
    "lift::plotLift(pred_test, bank_test[,`Personal Loan` %>% as.numeric()],\n",
    "               n.buckets = 10,\n",
    "               cumulative = F)"
   ]
  },
  {
   "cell_type": "code",
   "execution_count": null,
   "metadata": {},
   "outputs": [],
   "source": [
    "lift::TopDecileLift(pred_test, bank_test[,`Personal Loan` %>% as.numeric()])"
   ]
  },
  {
   "cell_type": "markdown",
   "metadata": {},
   "source": [
    "When 10% of all cases are tested, 79.06% of all positive cases are found"
   ]
  }
 ],
 "metadata": {
  "kernelspec": {
   "display_name": "R",
   "language": "R",
   "name": "ir"
  },
  "language_info": {
   "codemirror_mode": "r",
   "file_extension": ".r",
   "mimetype": "text/x-r-source",
   "name": "R",
   "pygments_lexer": "r",
   "version": "3.5.1"
  },
  "toc": {
   "base_numbering": 1,
   "nav_menu": {},
   "number_sections": true,
   "sideBar": true,
   "skip_h1_title": false,
   "title_cell": "Table of Contents",
   "title_sidebar": "Contents",
   "toc_cell": false,
   "toc_position": {},
   "toc_section_display": "block",
   "toc_window_display": false
  }
 },
 "nbformat": 4,
 "nbformat_minor": 2
}
