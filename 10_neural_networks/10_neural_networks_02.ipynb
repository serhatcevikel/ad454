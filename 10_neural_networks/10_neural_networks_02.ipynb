{
 "cells": [
  {
   "cell_type": "markdown",
   "metadata": {},
   "source": [
    "# TRAINING A NEURAL NETWORK WITH BOSTON HOUSING DATA"
   ]
  },
  {
   "cell_type": "markdown",
   "metadata": {},
   "source": [
    "Adapter from Lewis (2016), Chapter 2\n",
    "\n",
    "\n",
    "Info on dataset:\n",
    "\n",
    "The Boston housing dataset has to do with a study carried out in 1978 concerning the median prices of housing in 506 residential areas of Boston, MA, USA.\n",
    "\n",
    "Originally one of the motivations of the study was to check if the pollution levels were having an impact on these prices. The dataset contains a series of descriptive socio-economic variables on each residential area and also the measurements of a pollutant (nitrogen oxides concentration), as well as characteristics of the houses in each area.\n",
    "\n",
    "There is also a “target”variable, the median price of the houses in each region (variable medv), whose values are supposed to somehow depend on the values of the other descriptor variables.\n",
    "\n",
    "The dataset contains both numeric and nominal variables.\n",
    "\n",
    "More details on their meaning can be obtained on the help page associated with the dataset available in package MASS (Venables and Ripley, 2002).\n",
    "\n",
    "(Torgo 2017)"
   ]
  },
  {
   "cell_type": "markdown",
   "metadata": {},
   "source": [
    "## Load libraries and data"
   ]
  },
  {
   "cell_type": "code",
   "execution_count": null,
   "metadata": {},
   "outputs": [],
   "source": [
    "library(data.table) # to handle the data in a more convenient manner\n",
    "library(tidyverse) # for a better work flow and more tools to wrangle and visualize the data\n",
    "library(plotly) # for interactive visualizations\n",
    "library(neuralnet) # for neural network model\n",
    "library(deepnet) # for neural network model\n",
    "library(NeuralNetTools) # for visualizing neural nets\n",
    "library(MASS) # for data\n",
    "library(mice) # for imputation\n",
    "library(VIM) # for imputation\n",
    "library(listviewer) # for viewing list objects\n",
    "library(BBmisc) # for standardization/normalization\n",
    "library(Metrics) # for model fit criteria"
   ]
  },
  {
   "cell_type": "code",
   "execution_count": null,
   "metadata": {},
   "outputs": [],
   "source": [
    "data(\"Boston\", package = \"MASS\")"
   ]
  },
  {
   "cell_type": "code",
   "execution_count": null,
   "metadata": {},
   "outputs": [],
   "source": [
    "Boston_dt <- as.data.table(Boston)"
   ]
  },
  {
   "cell_type": "code",
   "execution_count": null,
   "metadata": {},
   "outputs": [],
   "source": [
    "Boston_dt"
   ]
  },
  {
   "cell_type": "markdown",
   "metadata": {},
   "source": [
    "## Explore data"
   ]
  },
  {
   "cell_type": "code",
   "execution_count": null,
   "metadata": {},
   "outputs": [],
   "source": [
    "str(Boston_dt)"
   ]
  },
  {
   "cell_type": "code",
   "execution_count": null,
   "metadata": {},
   "outputs": [],
   "source": [
    "glimpse(Boston_dt)"
   ]
  },
  {
   "cell_type": "markdown",
   "metadata": {},
   "source": [
    "Boston contains 506 rows and 14 columns."
   ]
  },
  {
   "cell_type": "markdown",
   "metadata": {},
   "source": [
    "```\n",
    "crim\n",
    "per capita crime rate by town.\n",
    "\n",
    "zn\n",
    "proportion of residential land zoned for lots over 25,000 sq.ft.\n",
    "\n",
    "indus\n",
    "proportion of non-retail business acres per town.\n",
    "\n",
    "chas\n",
    "Charles River dummy variable (= 1 if tract bounds river; 0 otherwise).\n",
    "\n",
    "nox\n",
    "nitrogen oxides concentration (parts per 10 million).\n",
    "\n",
    "rm\n",
    "average number of rooms per dwelling.\n",
    "\n",
    "age\n",
    "proportion of owner-occupied units built prior to 1940.\n",
    "\n",
    "dis\n",
    "weighted mean of distances to five Boston employment centres.\n",
    "\n",
    "rad\n",
    "index of accessibility to radial highways.\n",
    "\n",
    "tax\n",
    "full-value property-tax rate per $10,000.\n",
    "\n",
    "ptratio\n",
    "pupil-teacher ratio by town.\n",
    "\n",
    "black\n",
    "1000(𝐵𝑘−0.63)2 where 𝐵𝑘 is the proportion of blacks by town.\n",
    "\n",
    "lstat\n",
    "lower status of the population (percent).\n",
    "\n",
    "medv\n",
    "median value of owner-occupied homes in $1000s.\n",
    "```"
   ]
  },
  {
   "cell_type": "markdown",
   "metadata": {},
   "source": [
    "We select the ones we want to use:\n",
    "\n",
    "- crim: per capita crime rate by town.\n",
    "- indus: proportion of non-retail business acres per town.\n",
    "- nox: nitrogen oxides concentration (parts per 10 million).\n",
    "- rm: average number of rooms per dwelling.\n",
    "- age: proportion of owner-occupied units built prior to 1940.\n",
    "- dis: average distances to five Boston employment centres.\n",
    "- tax: full-value property-tax rate.\n",
    "- ptratio: pupil-teacher ratio by town.\n",
    "- lstat: lower status of the population (percent).\n",
    "- medv: median value of owner-occupied homes."
   ]
  },
  {
   "cell_type": "code",
   "execution_count": null,
   "metadata": {},
   "outputs": [],
   "source": [
    "Boston_dt[, c(\"zn\", \"chas\", \"rad\", \"black\") := NULL]"
   ]
  },
  {
   "cell_type": "code",
   "execution_count": null,
   "metadata": {},
   "outputs": [],
   "source": [
    "Boston_dt"
   ]
  },
  {
   "cell_type": "markdown",
   "metadata": {},
   "source": [
    "Check for missing values:"
   ]
  },
  {
   "cell_type": "code",
   "execution_count": null,
   "metadata": {},
   "outputs": [],
   "source": [
    "mdpat <- mice::md.pattern(Boston_dt)\n",
    "mdpat"
   ]
  },
  {
   "cell_type": "markdown",
   "metadata": {},
   "source": [
    "No missing values (506 cases where all columns are complete) \n",
    "\n",
    "We can also confirm that with VIM package (blue corresponds to complete values and it is 100% of all cases)"
   ]
  },
  {
   "cell_type": "code",
   "execution_count": null,
   "metadata": {
    "scrolled": false
   },
   "outputs": [],
   "source": [
    "VIM::aggr(Boston_dt, numbers = T)"
   ]
  },
  {
   "cell_type": "markdown",
   "metadata": {},
   "source": [
    "## Normalization"
   ]
  },
  {
   "cell_type": "code",
   "execution_count": null,
   "metadata": {},
   "outputs": [],
   "source": [
    "Boston_z <- Boston_dt[,BBmisc::normalize(.SD)]"
   ]
  },
  {
   "cell_type": "markdown",
   "metadata": {},
   "source": [
    "## Split data"
   ]
  },
  {
   "cell_type": "code",
   "execution_count": null,
   "metadata": {},
   "outputs": [],
   "source": [
    "set.seed(2016)\n",
    "train <- Boston_z[,sample(.I, 400)]"
   ]
  },
  {
   "cell_type": "code",
   "execution_count": null,
   "metadata": {},
   "outputs": [],
   "source": [
    "data_train <- Boston_z[train]\n",
    "data_test <- Boston_z[-train]"
   ]
  },
  {
   "cell_type": "markdown",
   "metadata": {},
   "source": [
    "## Modelling with neuralnet package"
   ]
  },
  {
   "cell_type": "markdown",
   "metadata": {},
   "source": [
    "### Train a model"
   ]
  },
  {
   "cell_type": "code",
   "execution_count": null,
   "metadata": {},
   "outputs": [],
   "source": [
    "formula1 <- reformulate(names(Boston_dt) %>% setdiff(\"medv\"), \"medv\")\n",
    "formula1"
   ]
  },
  {
   "cell_type": "markdown",
   "metadata": {},
   "source": [
    "The weight update algorithm is selected as \"resilient backpropagation\" (rprop)\n",
    "\n",
    "Error function is sum of squared errors \"sse\"\n",
    "\n",
    "Activation function is logistic\n",
    "\n",
    "For the output neuron a linear activation function is selected"
   ]
  },
  {
   "cell_type": "code",
   "execution_count": null,
   "metadata": {},
   "outputs": [],
   "source": [
    "fit <- neuralnet::neuralnet(formula1,\n",
    "                           data = data_train,\n",
    "                           hidden = c(10, 12, 20),\n",
    "                           algorithm = \"rprop+\",\n",
    "                           err.fct = \"sse\",\n",
    "                           act.fct = \"logistic\",\n",
    "                           threshold = 0.1,\n",
    "                           linear.output = T,\n",
    "                            lifesign = \"full\",\n",
    "                            lifesign.step = 2000,\n",
    "                           stepmax = 200000)"
   ]
  },
  {
   "cell_type": "code",
   "execution_count": null,
   "metadata": {},
   "outputs": [],
   "source": [
    "fit"
   ]
  },
  {
   "cell_type": "code",
   "execution_count": null,
   "metadata": {},
   "outputs": [],
   "source": [
    "NeuralNetTools::plotnet(fit, cex_val = 0.4, line_stag = 0)"
   ]
  },
  {
   "cell_type": "markdown",
   "metadata": {},
   "source": [
    "We can sort the variables by attribute importance using garson or olden methods. However garson can only be used in models with a single hidden layer. For this model, we can use olden:"
   ]
  },
  {
   "cell_type": "code",
   "execution_count": null,
   "metadata": {},
   "outputs": [],
   "source": [
    "NeuralNetTools::olden(fit)"
   ]
  },
  {
   "cell_type": "markdown",
   "metadata": {},
   "source": [
    "Most important features are dis and age"
   ]
  },
  {
   "cell_type": "markdown",
   "metadata": {},
   "source": [
    "The weights are:"
   ]
  },
  {
   "cell_type": "code",
   "execution_count": null,
   "metadata": {},
   "outputs": [],
   "source": [
    "NeuralNetTools::neuralweights(fit)"
   ]
  },
  {
   "cell_type": "markdown",
   "metadata": {},
   "source": [
    "### Predictive power"
   ]
  },
  {
   "cell_type": "code",
   "execution_count": null,
   "metadata": {},
   "outputs": [],
   "source": [
    "pred <- neuralnet::compute(fit, data_test[,!\"medv\"])"
   ]
  },
  {
   "cell_type": "code",
   "execution_count": null,
   "metadata": {},
   "outputs": [],
   "source": [
    "pred %>% listviewer::jsonedit(mode = \"form\")"
   ]
  },
  {
   "cell_type": "markdown",
   "metadata": {},
   "source": [
    "Squared correlation is as such:"
   ]
  },
  {
   "cell_type": "code",
   "execution_count": null,
   "metadata": {},
   "outputs": [],
   "source": [
    "cor(pred$net.result, data_test$medv)^2"
   ]
  },
  {
   "cell_type": "markdown",
   "metadata": {},
   "source": [
    "Mean squared error:"
   ]
  },
  {
   "cell_type": "code",
   "execution_count": null,
   "metadata": {},
   "outputs": [],
   "source": [
    "Metrics::mse(pred$net.result, data_test$medv)"
   ]
  },
  {
   "cell_type": "markdown",
   "metadata": {},
   "source": [
    "Mean squared error is the metric that is minimized in training. In the presence of outliers, the resulting model can struggle to capture the mechanism that generates the data"
   ]
  },
  {
   "cell_type": "markdown",
   "metadata": {},
   "source": [
    "And root mean squared error:"
   ]
  },
  {
   "cell_type": "code",
   "execution_count": null,
   "metadata": {},
   "outputs": [],
   "source": [
    "Metrics::rmse(pred$net.result, data_test$medv)"
   ]
  },
  {
   "cell_type": "markdown",
   "metadata": {},
   "source": [
    "## Modelling with deepnet package"
   ]
  },
  {
   "cell_type": "markdown",
   "metadata": {},
   "source": [
    "### Train a model"
   ]
  },
  {
   "cell_type": "code",
   "execution_count": null,
   "metadata": {},
   "outputs": [],
   "source": [
    "library(deepnet)"
   ]
  },
  {
   "cell_type": "code",
   "execution_count": null,
   "metadata": {},
   "outputs": [],
   "source": [
    "X <- as.matrix(data_train[,!\"medv\"])\n",
    "Y <- data_train[,medv]"
   ]
  },
  {
   "cell_type": "code",
   "execution_count": null,
   "metadata": {},
   "outputs": [],
   "source": [
    "set.seed(2016)\n",
    "fitB <- deepnet::nn.train(x = X,\n",
    "                         y = Y,\n",
    "                         initW = NULL,\n",
    "                         initB = NULL,\n",
    "                         hidden = c(10, 12, 20),\n",
    "                            learningrate = 0.58,\n",
    "                            momentum = 0.74,\n",
    "                            learningrate_scale = 1,\n",
    "                            activationfun = \"sigm\",\n",
    "                            output = \"linear\",\n",
    "                            numepochs = 970,\n",
    "                            batchsize = 60,\n",
    "                            hidden_dropout = 0,\n",
    "                            visible_dropout = 0)"
   ]
  },
  {
   "cell_type": "markdown",
   "metadata": {},
   "source": [
    "The deepnet package gives you the ability to specify the starting values of the neuron weights (initW) and biases (initB).\n",
    "\n",
    "We set both values to NULL so that the algorithm will select their values at random. The DNN has the same topology as that estimated before i.e. three hidden layers, with 10,12 and 20 neurons in the first, second and third hidden layers respectively.\n",
    "\n",
    "To use the backpropagation algorithm, you have to specify a learning rate, momentum and learning rate scale. \n",
    "\n",
    "The learning rate controls how quickly or slowly the neural network converges.\n",
    "\n",
    "Briefly, momentum involves adding a weighted average of past gradients in the gradient descent updates.\n",
    "\n",
    "It tends to dampen noise, especially in areas of high curvature of the error function.\n",
    "\n",
    "Momentum can therefore help the network avoid becoming trapped in local minima.\n",
    "\n",
    "All three parameters are generally set by trial and error, we choose values of 0.58, 0.74 and 1 for the learning rate, momentum and learning rate scale respectively.\n",
    "\n",
    "The next two lines specify the activation function for the hidden and output neurons. For the hidden neurons we use a logistic function (\"sigm\"); other options include \"linear\" or \"tanh\".\n",
    "\n",
    "For the output neuron we use a linear activation function, other options include \"sigm\" and \"softmax\".\n",
    "\n",
    "The model is run over 970 epochs each with a batch size of 60. No neurons are dropped out in the input layer or hidden layer."
   ]
  },
  {
   "cell_type": "code",
   "execution_count": null,
   "metadata": {},
   "outputs": [],
   "source": [
    "fitB"
   ]
  },
  {
   "cell_type": "markdown",
   "metadata": {},
   "source": [
    "### Predictive power"
   ]
  },
  {
   "cell_type": "code",
   "execution_count": null,
   "metadata": {},
   "outputs": [],
   "source": [
    "Xtest <- data_test[,!\"medv\"]"
   ]
  },
  {
   "cell_type": "code",
   "execution_count": null,
   "metadata": {},
   "outputs": [],
   "source": [
    "predB <- deepnet::nn.predict(fitB, Xtest)"
   ]
  },
  {
   "cell_type": "markdown",
   "metadata": {},
   "source": [
    "Squared correlation coefficient:"
   ]
  },
  {
   "cell_type": "code",
   "execution_count": null,
   "metadata": {},
   "outputs": [],
   "source": [
    "cor(predB, data_test$medv)^2"
   ]
  },
  {
   "cell_type": "markdown",
   "metadata": {},
   "source": [
    "Mean squared error:"
   ]
  },
  {
   "cell_type": "code",
   "execution_count": null,
   "metadata": {},
   "outputs": [],
   "source": [
    "Metrics::mse(predB, data_test$medv)"
   ]
  },
  {
   "cell_type": "markdown",
   "metadata": {},
   "source": [
    "Root mean squared error:"
   ]
  },
  {
   "cell_type": "code",
   "execution_count": null,
   "metadata": {},
   "outputs": [],
   "source": [
    "Metrics::rmse(predB, data_test$medv)"
   ]
  },
  {
   "cell_type": "markdown",
   "metadata": {},
   "source": [
    "Squared correlation higher and mse/rmse measures are much lower with the second model's tuned parameters"
   ]
  },
  {
   "cell_type": "markdown",
   "metadata": {},
   "source": [
    "## lm versus nn"
   ]
  },
  {
   "cell_type": "markdown",
   "metadata": {},
   "source": [
    "Adapted from Ciaburro Venkateswaran (2017), Chapter 2"
   ]
  },
  {
   "cell_type": "markdown",
   "metadata": {},
   "source": [
    "How would a linear regression model on the same data perform?"
   ]
  },
  {
   "cell_type": "code",
   "execution_count": null,
   "metadata": {},
   "outputs": [],
   "source": [
    "Regression_Model <- lm(medv ~ ., data = data_train)"
   ]
  },
  {
   "cell_type": "code",
   "execution_count": null,
   "metadata": {},
   "outputs": [],
   "source": [
    "predict_lm <- predict(Regression_Model, data_test)"
   ]
  },
  {
   "cell_type": "code",
   "execution_count": null,
   "metadata": {},
   "outputs": [],
   "source": [
    "Metrics::mse(predict_lm, data_test$medv)"
   ]
  },
  {
   "cell_type": "markdown",
   "metadata": {},
   "source": [
    "The MSE is much higher for lm than it is for the both neural network models we trained above"
   ]
  },
  {
   "cell_type": "markdown",
   "metadata": {},
   "source": [
    "## Neural Network packages in cran"
   ]
  },
  {
   "cell_type": "markdown",
   "metadata": {},
   "source": [
    "We can get information on all packages:"
   ]
  },
  {
   "cell_type": "code",
   "execution_count": null,
   "metadata": {},
   "outputs": [],
   "source": [
    "pdb <- tools:::CRAN_package_db() "
   ]
  },
  {
   "cell_type": "code",
   "execution_count": null,
   "metadata": {},
   "outputs": [],
   "source": [
    "pdb_dt <- as.data.table(pdb)"
   ]
  },
  {
   "cell_type": "markdown",
   "metadata": {},
   "source": [
    "Filter for neural networks and sort by last update date:"
   ]
  },
  {
   "cell_type": "code",
   "execution_count": null,
   "metadata": {},
   "outputs": [],
   "source": [
    "pdb_dt[grepl(\"(N|n)eural.*(N|n)et\", Description), .(Package, Published, Description)][order(-Published)]"
   ]
  },
  {
   "cell_type": "markdown",
   "metadata": {},
   "source": [
    "Most popular, recent and actively developed packages for neural networks in CRAN are:\n",
    "\n",
    "- keras\n",
    "- tensorflow\n",
    "- h2o\n",
    "- RSNNS\n",
    "\n",
    "\n",
    "The last release dates for the packages we (or popular and recent books on ML with R) used for modelling are:"
   ]
  },
  {
   "cell_type": "code",
   "execution_count": null,
   "metadata": {},
   "outputs": [],
   "source": [
    "pdb_dt[Package %in% c(\"neuralnet\", \"nnet\", \"deepnet\"), .(Package, Published, Description)][order(-Published)]"
   ]
  },
  {
   "cell_type": "markdown",
   "metadata": {},
   "source": [
    "So they are not actively developed anymore"
   ]
  }
 ],
 "metadata": {
  "kernelspec": {
   "display_name": "R",
   "language": "R",
   "name": "ir"
  },
  "language_info": {
   "codemirror_mode": "r",
   "file_extension": ".r",
   "mimetype": "text/x-r-source",
   "name": "R",
   "pygments_lexer": "r",
   "version": "3.6.2"
  },
  "toc": {
   "base_numbering": 1,
   "nav_menu": {},
   "number_sections": true,
   "sideBar": true,
   "skip_h1_title": false,
   "title_cell": "Table of Contents",
   "title_sidebar": "Contents",
   "toc_cell": false,
   "toc_position": {
    "height": "778.693px",
    "left": "0px",
    "right": "1533.47px",
    "top": "110.284px",
    "width": "211.989px"
   },
   "toc_section_display": "block",
   "toc_window_display": false
  }
 },
 "nbformat": 4,
 "nbformat_minor": 2
}
