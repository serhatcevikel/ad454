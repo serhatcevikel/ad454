{
 "cells": [
  {
   "cell_type": "markdown",
   "metadata": {},
   "source": [
    "# K-NEAREST NEIGHBOURS (KNN) WITH WINE DATASET"
   ]
  },
  {
   "cell_type": "markdown",
   "metadata": {},
   "source": [
    "This exercise is adapted from Chapter 3 of \"Machine Learning Made Easy With R\" by N.D. Lewis\n",
    "\n",
    "We will now use Wine Data Set from UCIML:\n",
    "https://archive.ics.uci.edu/ml/datasets/wine\n",
    "\n",
    "* These data are the results of a chemical analysis of wines grown in the same region in Italy but derived from three different cultivars\n",
    "* The analysis determined the quantities of 13 constituents found in each of the three types of wines. \n",
    "* The attributes are:\n",
    "    - Alcohol\n",
    "    - Malic acid\n",
    "    - Ash\n",
    "    - Alcalinity of ash\n",
    "    - Magnesium\n",
    "    - Total phenols\n",
    "    - Flavanoids\n",
    "    - Nonflavanoid phenols\n",
    "    - Proanthocyanins\n",
    "    - Color intensity\n",
    "    - Hue\n",
    "    - OD280/OD315 of diluted wines\n",
    "    - Proline "
   ]
  },
  {
   "cell_type": "markdown",
   "metadata": {},
   "source": [
    "We will be trying to identify the cultivars of unlabeled wines"
   ]
  },
  {
   "cell_type": "code",
   "execution_count": null,
   "metadata": {},
   "outputs": [],
   "source": [
    "sessionfile <- \"01_knn_02.RData\"\n",
    "\n",
    "if(file.exists(sessionfile)) load(sessionfile)"
   ]
  },
  {
   "cell_type": "markdown",
   "metadata": {},
   "source": [
    "First load necessary libraries for the exercise"
   ]
  },
  {
   "cell_type": "code",
   "execution_count": null,
   "metadata": {},
   "outputs": [],
   "source": [
    "library(data.table) # to handle the data in a more convenient manner\n",
    "library(tidyverse) # for a better work flow and more tools to wrangle and visualize the data\n",
    "library(BBmisc) # for easy normalization of data\n",
    "library(class) # for kNN classification algorithm \n",
    "#library(knnGarden) # knn classification algorithm\n",
    "library(gmodels) # for model evaluation\n",
    "library(plotly) # for interactive visualization\n",
    "library(rebmix) # to load necessary data\n",
    "library(corrplot) # for correlation plots\n",
    "library(reshape2) # to melt data for boxplots\n",
    "options(warn=-1) # for suppressing messages"
   ]
  },
  {
   "cell_type": "markdown",
   "metadata": {},
   "source": [
    "And now load the data into a data.table:"
   ]
  },
  {
   "cell_type": "code",
   "execution_count": null,
   "metadata": {},
   "outputs": [],
   "source": [
    "data(\"wine\", package = \"rebmix\")\n",
    "wine <- as.data.table(wine)"
   ]
  },
  {
   "cell_type": "code",
   "execution_count": null,
   "metadata": {},
   "outputs": [],
   "source": [
    "str(wine)"
   ]
  },
  {
   "cell_type": "markdown",
   "metadata": {},
   "source": [
    "Since Cultivar is the categorical variable that we want to label, let's look at the unique values (we can't query the levels since it is not a factor variable yet):"
   ]
  },
  {
   "cell_type": "code",
   "execution_count": null,
   "metadata": {},
   "outputs": [],
   "source": [
    "wine[,unique(Cultivar)]"
   ]
  },
  {
   "cell_type": "markdown",
   "metadata": {},
   "source": [
    "Clearly there are 3 categories."
   ]
  },
  {
   "cell_type": "markdown",
   "metadata": {},
   "source": [
    "**EXERCISE 1:** Our first exercise task is to replace the integer Cultivar variable with factor levels \"Cultivar 1\", \"Cultivar 2\", \"Cultivar 3\" (3 minutes).\n",
    "\n",
    "You can recycle the code from previous WBCD example.\n",
    "\n",
    "Take advantage of data.table syntax"
   ]
  },
  {
   "cell_type": "markdown",
   "metadata": {
    "solution2": "hidden",
    "solution2_first": true
   },
   "source": [
    "**SOLUTION 1:**"
   ]
  },
  {
   "cell_type": "markdown",
   "metadata": {
    "solution2": "hidden"
   },
   "source": [
    "Replace integer with factors:"
   ]
  },
  {
   "cell_type": "code",
   "execution_count": null,
   "metadata": {
    "solution2": "hidden"
   },
   "outputs": [],
   "source": [
    "wine[,Cultivar:=factor(Cultivar,\n",
    "                       levels = c(1, 2, 3),\n",
    "                       labels = c(\"Cultivar 1\", \"Cultivar 2\", \"Cultivar 3\"))]"
   ]
  },
  {
   "cell_type": "markdown",
   "metadata": {},
   "source": [
    "Get factor levels for Cultivar:"
   ]
  },
  {
   "cell_type": "code",
   "execution_count": null,
   "metadata": {},
   "outputs": [],
   "source": [
    "wine[,levels(Cultivar)]"
   ]
  },
  {
   "cell_type": "markdown",
   "metadata": {},
   "source": [
    "## Visualize the Data"
   ]
  },
  {
   "cell_type": "markdown",
   "metadata": {},
   "source": [
    "Now we want to visualize the breakdown of the count of Cultivar categories, whether data is distributed equally across categories.\n",
    "\n",
    "We will create a bar plot using plotly library. In the previous example we first created a ggplot object and converted to plotly. Here we will directly create a plotly object.\n",
    "\n",
    "Advantage of plotly over ggplot is its interactive and 3D features \n",
    "\n"
   ]
  },
  {
   "cell_type": "code",
   "execution_count": null,
   "metadata": {
    "scrolled": false
   },
   "outputs": [],
   "source": [
    "plot_ly(wine, \n",
    "        x = ~Cultivar,\n",
    "        type = \"histogram\")"
   ]
  },
  {
   "cell_type": "markdown",
   "metadata": {},
   "source": [
    "Hovering over bars, you can view the counts. You can also zoom and pan in plotly charts from the top right menu.\n",
    "\n",
    "Although not equally distributed, the counts across categories are not too dispersed either"
   ]
  },
  {
   "cell_type": "markdown",
   "metadata": {},
   "source": [
    "Now we will create a correlation plot of all numeric variables in two steps:\n",
    "- First get the correlation matrix of all columns except Cultivar\n",
    "- Pipe into corrplot::corrplot function with ellipses"
   ]
  },
  {
   "cell_type": "code",
   "execution_count": null,
   "metadata": {
    "scrolled": false
   },
   "outputs": [],
   "source": [
    "cor(wine[,!\"Cultivar\"]) %>%\n",
    "corrplot::corrplot.mixed(upper = \"ellipse\",\n",
    "                         lower = \"number\",\n",
    "                         tl.pos = \"lt\",\n",
    "                         number.cex = .5,\n",
    "                         lower.col = \"black\",\n",
    "                         tl.cex = 0.7)"
   ]
  },
  {
   "cell_type": "markdown",
   "metadata": {},
   "source": [
    "- The thinner the ellipses and darker the colour, stronger the relationship (negative or positive). Rounder and lighter colored ellipses denotes correlations closer to zero\n",
    "- Blue colored and top right oriented ellipses denotes positive relationship. Red colored and top left oriented ellipses denotes negative relationship "
   ]
  },
  {
   "cell_type": "markdown",
   "metadata": {},
   "source": [
    "For example:\n",
    "- Flavonoids and Total.Phenols have a strong positive relationship\n",
    "- Hue and Malic.Acid have a mildly strong negative relationship\n",
    "- Ash and Proanthocyanins nearly have zero correlation - no relationship at all"
   ]
  },
  {
   "cell_type": "markdown",
   "metadata": {},
   "source": [
    "Now, are the scales of variables close to each other or too different?\n",
    "\n",
    "We can create boxplot of all numeric variables and lay them side by side to see scale differences.\n",
    "\n",
    "In order to do this, first we have convert the wine data.table from wide to long format or \"melt\" it.\n",
    "\n",
    "Original data.table and its dimensions is:"
   ]
  },
  {
   "cell_type": "code",
   "execution_count": null,
   "metadata": {},
   "outputs": [],
   "source": [
    "dim(wine)\n",
    "wine"
   ]
  },
  {
   "cell_type": "markdown",
   "metadata": {},
   "source": [
    "Now we melt the data into long format:"
   ]
  },
  {
   "cell_type": "code",
   "execution_count": null,
   "metadata": {},
   "outputs": [],
   "source": [
    "wine_molten <- data.table::melt(wine,\n",
    "                      id.vars = \"Cultivar\",\n",
    "                      measure.vars = names(wine[,!\"Cultivar\"]))"
   ]
  },
  {
   "cell_type": "markdown",
   "metadata": {},
   "source": [
    "And the new format and its dimensions:"
   ]
  },
  {
   "cell_type": "code",
   "execution_count": null,
   "metadata": {},
   "outputs": [],
   "source": [
    "dim(wine_molten)\n",
    "wine_molten"
   ]
  },
  {
   "cell_type": "markdown",
   "metadata": {},
   "source": [
    "Now we can plot multiple boxplots in one frame with a common scale:"
   ]
  },
  {
   "cell_type": "code",
   "execution_count": null,
   "metadata": {
    "scrolled": false
   },
   "outputs": [],
   "source": [
    "# create ggplot, add boxplot and flip coordinates\n",
    "ggplot(wine_molten) +\n",
    "geom_boxplot(aes(x = variable, y = value)) +\n",
    "coord_flip()"
   ]
  },
  {
   "cell_type": "markdown",
   "metadata": {},
   "source": [
    "We see that Magnesium, and especially Proline variables has larger ranges.\n",
    "\n",
    "So we have to transform - rescale, normalize - the variables, so that no variable dominates the distance measure "
   ]
  },
  {
   "cell_type": "markdown",
   "metadata": {},
   "source": [
    "## Normalize the Data"
   ]
  },
  {
   "cell_type": "markdown",
   "metadata": {},
   "source": [
    "**EXERCISE 2:** Exclude Cultivar variable, normalize numeric variables with z-score and save the result into a data.table object named \"data_sample\" (3 minutes) "
   ]
  },
  {
   "cell_type": "markdown",
   "metadata": {
    "solution2": "hidden",
    "solution2_first": true
   },
   "source": [
    "**SOLUTION 2:**"
   ]
  },
  {
   "cell_type": "code",
   "execution_count": null,
   "metadata": {
    "solution2": "hidden"
   },
   "outputs": [],
   "source": [
    "data_sample <- wine[,BBmisc::normalize(.SD), .SDcols = !\"Cultivar\"]\n",
    "data_sample"
   ]
  },
  {
   "cell_type": "markdown",
   "metadata": {},
   "source": [
    "Is our data really normalized now?\n",
    "\n",
    "Data summary says so, all means are 0, min-max is mostly within -/+ 3."
   ]
  },
  {
   "cell_type": "code",
   "execution_count": null,
   "metadata": {},
   "outputs": [],
   "source": [
    "summary(data_sample)"
   ]
  },
  {
   "cell_type": "markdown",
   "metadata": {},
   "source": [
    "However it is better that we show the normalization visually with boxplots as we did above"
   ]
  },
  {
   "cell_type": "markdown",
   "metadata": {},
   "source": [
    "**EXERCISE 3:** Melt the data_sample, create box plots as above. You don't need to save the molten data.table in an interim object, you can just pipe into ggplot!\n",
    "\n",
    "Note that when you pipe an object into a function, the object becomes the first argument of that function!\n",
    "\n",
    "And we don't have Cultivar in the data_sample anymore, and we don't need the declare \"id.vars\" argument\n",
    "\n",
    "(5 minutes)"
   ]
  },
  {
   "cell_type": "markdown",
   "metadata": {
    "solution2": "hidden",
    "solution2_first": true
   },
   "source": [
    "**SOLUTION 3:**"
   ]
  },
  {
   "cell_type": "code",
   "execution_count": null,
   "metadata": {
    "scrolled": true,
    "solution2": "hidden"
   },
   "outputs": [],
   "source": [
    "# melt the data_sample, pipe into ggplot, add boxplot and flip coordinates\n",
    "data.table::melt(data_sample,\n",
    "                      measure.vars = names(data_sample)) %>%\n",
    "\n",
    "ggplot() +\n",
    "geom_boxplot(aes(x = variable, y = value)) +\n",
    "coord_flip()"
   ]
  },
  {
   "cell_type": "markdown",
   "metadata": {},
   "source": [
    "Now the scales are similar and the data is suitable for distance calculation and kNN"
   ]
  },
  {
   "cell_type": "markdown",
   "metadata": {},
   "source": [
    "## SPLIT THE DATA INTO TRAIN AND TEST SAMPLES"
   ]
  },
  {
   "cell_type": "markdown",
   "metadata": {},
   "source": [
    "Now we will split the data in two equal length pieces: train data, and test data to explore whether prediction model is accurate"
   ]
  },
  {
   "cell_type": "markdown",
   "metadata": {},
   "source": [
    "But we will do this in pure data.table way.\n",
    "\n",
    "First we will extract \"random\" row indices half the total row count of data_sample.\n",
    "\n",
    "For reproducibility we define a \"seed\" or starting point for randomness so that same numbers are extracted each time the code is run\n",
    "\n",
    "Remember that inside a data.table .N is a shorthand for total row count or nrow(DT). To extract random numbers from row indices, we need to have a vector of numbers 1:.N. Hopefully, \".I\" is a shorthand for that vector!"
   ]
  },
  {
   "cell_type": "code",
   "execution_count": null,
   "metadata": {},
   "outputs": [],
   "source": [
    "set.seed(2016)\n",
    "train <- data_sample[,sample(.I, .N / 2, replace = F)]\n",
    "train"
   ]
  },
  {
   "cell_type": "markdown",
   "metadata": {},
   "source": [
    "## RUN AND EVALUATE THE MODEL"
   ]
  },
  {
   "cell_type": "markdown",
   "metadata": {},
   "source": [
    "**EXERCISE 4:**\n",
    "- Create \"wine_train\" and \"wine_test\" data.tables from data_sample and train vector\n",
    "- Create \"wine_train_labels\" and \"wine_test_labels\" vectors from Cultivar column and train vector\n",
    "- Run the knn model with k = 2 and save the results into wine_test_pred vector\n",
    "- You can recycle any code from this or previous example\n",
    "- Evaluate the model with a CrossTable and save the CrossTable into an object named ct1\n",
    "\n",
    "(8 minutes)"
   ]
  },
  {
   "cell_type": "markdown",
   "metadata": {
    "solution2": "hidden",
    "solution2_first": true
   },
   "source": [
    "**SOLUTION 4:**"
   ]
  },
  {
   "cell_type": "code",
   "execution_count": null,
   "metadata": {
    "solution2": "hidden"
   },
   "outputs": [],
   "source": [
    "wine_train <- data_sample[train]\n",
    "wine_test <- data_sample[-train]\n",
    "wine_train_labels <- wine[train,Cultivar]\n",
    "wine_test_labels <- wine[-train,Cultivar]"
   ]
  },
  {
   "cell_type": "code",
   "execution_count": null,
   "metadata": {
    "solution2": "hidden"
   },
   "outputs": [],
   "source": [
    "wine_test_pred <- class::knn(train = wine_train,\n",
    "                            test = wine_test,\n",
    "                            cl = wine_train_labels,\n",
    "                            k = 2)"
   ]
  },
  {
   "cell_type": "code",
   "execution_count": null,
   "metadata": {
    "scrolled": false,
    "solution2": "hidden"
   },
   "outputs": [],
   "source": [
    "ct1 <- gmodels::CrossTable(x = wine_test_labels,\n",
    "                   y = wine_test_pred,\n",
    "                   prop.chisq = F)\n",
    "ct1"
   ]
  },
  {
   "cell_type": "markdown",
   "metadata": {},
   "source": [
    "Now it is time to interpret the results. The most important performance measure of a kNN model is \"error rate\" or its companion \"accuracy rate\""
   ]
  },
  {
   "cell_type": "markdown",
   "metadata": {},
   "source": [
    "We know that, the diagonal cells on the confusion matrix denote accurate predictions (row and column titles are the same), and off-diagonal cells denote errors.\n",
    "\n",
    "So if we sum the table proportions of diagonal cells, we have the accuracy rate. And if we subtract it from 1, we get the error rate "
   ]
  },
  {
   "cell_type": "markdown",
   "metadata": {},
   "source": [
    "**EXERCISE 5:**\n",
    "- Using the ct1 \"list\", calculate the accuracy rate\n",
    "- You may use \"diag\" function\n",
    "\n",
    "(2 minutes)"
   ]
  },
  {
   "cell_type": "markdown",
   "metadata": {
    "solution2": "hidden",
    "solution2_first": true
   },
   "source": [
    "**SOLUTION 5:**"
   ]
  },
  {
   "cell_type": "code",
   "execution_count": null,
   "metadata": {
    "solution2": "hidden"
   },
   "outputs": [],
   "source": [
    "# using base-r notation. to interpret, read from inside out (much harder)\n",
    "sum(diag(ct1$prop.tbl))\n",
    "\n",
    "# using the tidyverse piped notation. to interpret read from left to right (much easier)\n",
    "ct1$prop.tbl %>% diag() %>% sum()\n",
    "\n",
    "# we can further split the first column subset step using the functional syntax for operators:\n",
    "ct1 %>% \"[[\"(\"prop.tbl\") %>% diag() %>% sum()\n"
   ]
  },
  {
   "cell_type": "markdown",
   "metadata": {},
   "source": [
    "## SIMULATE THE MODEL AND VISUALIZE"
   ]
  },
  {
   "cell_type": "markdown",
   "metadata": {},
   "source": [
    "Is k = 2 the optimal level? What if we run the model with different k values?"
   ]
  },
  {
   "cell_type": "markdown",
   "metadata": {},
   "source": [
    "**EXERCISE 6:**\n",
    "- Recycling the code from the previous example, get error rates of all models with k = 1:88\n",
    "- We have two vectors: actual and predicted test labels. Error rate is the count of **\"unequal\"** pairs divided by total test size. Change the boolean formulation to get a concise solution\n",
    "- Report a matrix of k-values and error rates (just two columns)\n",
    "- You have to play with the code copied from the previous example, since the object dimensions may not be the same in two examples\n",
    "\n",
    "(8 minutes)"
   ]
  },
  {
   "cell_type": "markdown",
   "metadata": {
    "solution2": "hidden",
    "solution2_first": true
   },
   "source": [
    "**SOLUTION 6:**"
   ]
  },
  {
   "cell_type": "code",
   "execution_count": null,
   "metadata": {
    "solution2": "hidden"
   },
   "outputs": [],
   "source": [
    "k_batch <- function(kval = 2)\n",
    "{\n",
    "    # run prediction model\n",
    "    wine_test_pred1 <- class::knn(train = wine_train,\n",
    "                            test = wine_test,\n",
    "                            cl = wine_train_labels,\n",
    "                            k = kval)\n",
    "    \n",
    "    # count unequal pairs and divide by test size\n",
    "    error_rate <- sum(wine_test_labels != wine_test_pred1) / length(train)\n",
    "\n",
    "    # report findings\n",
    "    c(kval, error_rate)\n",
    "\n",
    "}\n",
    "\n",
    "# run the model for all k = 1 to 88\n",
    "report <- t(sapply(1:88, k_batch))\n",
    "\n",
    "# change column names\n",
    "colnames(report)  <- c(\"k value\", \"Error rate\")\n",
    "\n",
    "# return the matrix object\n",
    "report"
   ]
  },
  {
   "cell_type": "markdown",
   "metadata": {},
   "source": [
    "**EXERCISE 7:**\n",
    "- Recycling code from previous example, create a similar plot of error rates vs. k values, highlighting the first minimum error rate value.\n",
    "- Automatically report the k value for minimum error rate with sprintf\n",
    "- You may have to change some parts of the codes since the dimensions and other attributes of the output objects of two examples may differ\n",
    "\n",
    "(6 minutes)"
   ]
  },
  {
   "cell_type": "markdown",
   "metadata": {
    "solution2": "hidden",
    "solution2_first": true
   },
   "source": [
    "**SOLUTION 7:**"
   ]
  },
  {
   "cell_type": "code",
   "execution_count": null,
   "metadata": {
    "scrolled": false,
    "solution2": "hidden"
   },
   "outputs": [],
   "source": [
    "# object should a data frame, not a matrix\n",
    "df1 <- as.data.frame(report)\n",
    "\n",
    "# create ggplot object with line and point geoms, point color and sizes and tooltip text\n",
    "# note the vectorized \"ifelse\" function to create vectors of colors and sizes\n",
    "gp <- ggplot2::ggplot(df1, aes(x = `k value`, y = `Error rate` )) +\n",
    "geom_line(linetype = \"dashed\") +\n",
    "geom_point(color = ifelse(df1[[2]] == min(df1[[2]]), \"red\", \"blue\"),\n",
    "        size = ifelse(df1[[2]] == min(df1[[2]]), 6, 2),\n",
    "        mapping = aes(text = paste(\"k value: \", df1[[1]], \"\\n\", \"incorrect: \", df1[[2]]))) +\n",
    "        labs(x = \"k value\", y = \"total incorrect\")\n",
    "\n",
    "# Convert to plotly object for interactive tooltip\n",
    "plotly::ggplotly(gp, tooltip = c(\"text\"))"
   ]
  },
  {
   "cell_type": "code",
   "execution_count": null,
   "metadata": {
    "solution2": "hidden"
   },
   "outputs": [],
   "source": [
    "sprintf(\"So, when the k value is %s, count of incorrect is at a minimum of %s\",\n",
    "        which.min(report[,2]),\n",
    "        min(report[,2]))"
   ]
  },
  {
   "cell_type": "code",
   "execution_count": null,
   "metadata": {},
   "outputs": [],
   "source": [
    "save.image(sessionfile)"
   ]
  }
 ],
 "metadata": {
  "kernelspec": {
   "display_name": "R",
   "language": "R",
   "name": "ir"
  },
  "language_info": {
   "codemirror_mode": "r",
   "file_extension": ".r",
   "mimetype": "text/x-r-source",
   "name": "R",
   "pygments_lexer": "r",
   "version": "3.5.1"
  },
  "toc": {
   "base_numbering": 1,
   "nav_menu": {},
   "number_sections": true,
   "sideBar": true,
   "skip_h1_title": false,
   "title_cell": "Table of Contents",
   "title_sidebar": "Contents",
   "toc_cell": false,
   "toc_position": {},
   "toc_section_display": "block",
   "toc_window_display": true
  }
 },
 "nbformat": 4,
 "nbformat_minor": 2
}
